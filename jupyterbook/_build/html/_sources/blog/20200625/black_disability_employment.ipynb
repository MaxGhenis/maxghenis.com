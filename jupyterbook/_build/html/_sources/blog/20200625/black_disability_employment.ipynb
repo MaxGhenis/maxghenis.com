{
 "cells": [
  {
   "cell_type": "markdown",
   "metadata": {},
   "source": [
    "Employment trends by race and disability\n",
    "==================================\n",
    "\n",
    "How does *prime-age employment* (the employment rate of civilians aged 25 to 54)\n",
    "vary with race and disability status? How does disability status vary by race?\n",
    "How do race and disability status compare in predicting employment?\n",
    "\n",
    "In this post, I use the Current Population Survey to find out.\n",
    "Overall, I find that the disability employment gap is large--41 percentage points on average in May 2020.\n",
    "The racial employment gap (non-Black minus Black) is 7 points, but since Black people are about 30 percent more likely\n",
    "to have a disability, this gap shrinks to 6.3 points when controlling for disability status.\n",
    "Among people with disabilities, black people have employment rates 11 points lower than\n",
    "non-black people (a 32 percent difference).\n",
    "I also find that the coronavirus recession widened the racial employment gap, primarily\n",
    "among the population without disabilities.\n",
    "\n",
    "## Background\n",
    "\n",
    "The prime-age employment rate (often abbreviated as *PAEPOP*, for Prime Age Employment POPulation ratio)\n",
    "is used as a consistent measure of employment trends by economists who\n",
    "want to avoid relying on whether survey respondents say they're still looking for work.\n",
    "The calculation is simply the share of civilians aged 25 to 54 that reported working in the survey week.\n",
    "\n",
    "[Federal Reserve Economic Data](http://fred.stlouisfed.org/) publishes some related trends,\n",
    "e.g. [PAEPOP by disability and gender](https://fred.stlouisfed.org/series/LNU02376960)\n",
    "and [black employment rate among the aged 16+ population](https://fred.stlouisfed.org/series/LNS12300006),\n",
    "but we need to limit by ages to avoid effects of college education and early retirement,\n",
    "both of which may reflect lower employment without worse labor market outcomes.\n",
    "For the right statistics, we need to go to the CPS microdata instead (I used [IPUMS](http://ipums.org) to extract it).\n",
    "\n",
    "For simplicity, I focus on two binary features identified in the CPS:\n",
    "being Black only (compared to all other races), and\n",
    "reporting [any physical or cognitive difficulty](https://cps.ipums.org/cps-action/variables/DIFFANY#description_section) (which I describe here as having a disability).\n",
    "\n",
    "## Results\n",
    "\n",
    "From 2017 until the coronavirus hit, the employment gap between Black people and non-Black people had been roughly steady at around 4 percentage points.\n",
    "But the pandemic hurt Black people disproportionately: in April, the gap grew to 6 points, \n",
    "and even as both groups recovered in May, it grew further to 7 points."
   ]
  },
  {
   "cell_type": "code",
   "execution_count": 8,
   "metadata": {
    "tags": [
     "hide-input"
    ]
   },
   "outputs": [
    {
     "data": {
      "application/vnd.plotly.v1+json": {
       "config": {
        "plotlyServerURL": "https://plot.ly"
       },
       "data": [
        {
         "hovertemplate": "race=Not Black<br>date=%{x}<br>emp_rate=%{y}<extra></extra>",
         "legendgroup": "Not Black",
         "line": {
          "color": "#636efa",
          "dash": "solid"
         },
         "mode": "lines",
         "name": "Not Black",
         "orientation": "v",
         "showlegend": true,
         "type": "scatter",
         "x": [
          "2017-01-12T00:00:00",
          "2017-02-12T00:00:00",
          "2017-03-12T00:00:00",
          "2017-04-12T00:00:00",
          "2017-05-12T00:00:00",
          "2017-06-12T00:00:00",
          "2017-07-12T00:00:00",
          "2017-08-12T00:00:00",
          "2017-09-12T00:00:00",
          "2017-10-12T00:00:00",
          "2017-11-12T00:00:00",
          "2017-12-12T00:00:00",
          "2018-01-12T00:00:00",
          "2018-02-12T00:00:00",
          "2018-03-12T00:00:00",
          "2018-04-12T00:00:00",
          "2018-05-12T00:00:00",
          "2018-06-12T00:00:00",
          "2018-07-12T00:00:00",
          "2018-08-12T00:00:00",
          "2018-09-12T00:00:00",
          "2018-10-12T00:00:00",
          "2018-11-12T00:00:00",
          "2018-12-12T00:00:00",
          "2019-01-12T00:00:00",
          "2019-02-12T00:00:00",
          "2019-03-12T00:00:00",
          "2019-04-12T00:00:00",
          "2019-05-12T00:00:00",
          "2019-06-12T00:00:00",
          "2019-07-12T00:00:00",
          "2019-08-12T00:00:00",
          "2019-09-12T00:00:00",
          "2019-10-12T00:00:00",
          "2019-11-12T00:00:00",
          "2019-12-12T00:00:00",
          "2020-01-12T00:00:00",
          "2020-02-12T00:00:00",
          "2020-03-12T00:00:00",
          "2020-04-12T00:00:00",
          "2020-05-12T00:00:00"
         ],
         "xaxis": "x",
         "y": [
          78.36530556362098,
          78.85026679494948,
          79.23517152336042,
          79.63855410463093,
          79.54351861631022,
          79.12535259454606,
          79.11512321077224,
          78.79261896318164,
          79.803717246069,
          79.79985046037879,
          79.99879627558764,
          79.65877872119141,
          79.26620486049235,
          79.84378796957414,
          79.84216712485988,
          80.25784733951559,
          80.37496843824027,
          79.9268132735788,
          79.9940702727103,
          79.7230046452274,
          80.33637805741178,
          80.69095379840294,
          80.96621121311212,
          80.68877906934203,
          80.20014247461745,
          80.54320166791926,
          80.29920192462805,
          80.42268265608631,
          80.58471550104242,
          80.19950512010364,
          79.72952689703246,
          80.40736630822897,
          81.17206123300818,
          81.37706222454457,
          81.63993102372271,
          81.5536414473904,
          81.10479950386193,
          80.99703005386746,
          80.04985108366635,
          70.38689090324752,
          72.42040099707488
         ],
         "yaxis": "y"
        },
        {
         "hovertemplate": "race=Black<br>date=%{x}<br>emp_rate=%{y}<extra></extra>",
         "legendgroup": "Black",
         "line": {
          "color": "#EF553B",
          "dash": "solid"
         },
         "mode": "lines",
         "name": "Black",
         "orientation": "v",
         "showlegend": true,
         "type": "scatter",
         "x": [
          "2017-01-12T00:00:00",
          "2017-02-12T00:00:00",
          "2017-03-12T00:00:00",
          "2017-04-12T00:00:00",
          "2017-05-12T00:00:00",
          "2017-06-12T00:00:00",
          "2017-07-12T00:00:00",
          "2017-08-12T00:00:00",
          "2017-09-12T00:00:00",
          "2017-10-12T00:00:00",
          "2017-11-12T00:00:00",
          "2017-12-12T00:00:00",
          "2018-01-12T00:00:00",
          "2018-02-12T00:00:00",
          "2018-03-12T00:00:00",
          "2018-04-12T00:00:00",
          "2018-05-12T00:00:00",
          "2018-06-12T00:00:00",
          "2018-07-12T00:00:00",
          "2018-08-12T00:00:00",
          "2018-09-12T00:00:00",
          "2018-10-12T00:00:00",
          "2018-11-12T00:00:00",
          "2018-12-12T00:00:00",
          "2019-01-12T00:00:00",
          "2019-02-12T00:00:00",
          "2019-03-12T00:00:00",
          "2019-04-12T00:00:00",
          "2019-05-12T00:00:00",
          "2019-06-12T00:00:00",
          "2019-07-12T00:00:00",
          "2019-08-12T00:00:00",
          "2019-09-12T00:00:00",
          "2019-10-12T00:00:00",
          "2019-11-12T00:00:00",
          "2019-12-12T00:00:00",
          "2020-01-12T00:00:00",
          "2020-02-12T00:00:00",
          "2020-03-12T00:00:00",
          "2020-04-12T00:00:00",
          "2020-05-12T00:00:00"
         ],
         "xaxis": "x",
         "y": [
          73.636867109416,
          73.38120422810597,
          73.03619910365529,
          74.60411477224784,
          74.27982220549939,
          74.98972741178484,
          75.20985435678254,
          73.98140304841985,
          75.67458009004802,
          74.40960768437547,
          74.8834133693048,
          75.5709707586906,
          73.35214211353313,
          75.1356400184503,
          75.29876831158978,
          75.4870781473176,
          76.40075236239944,
          75.83629405935169,
          75.61289164640918,
          75.82853404362497,
          76.83458004135105,
          77.35118581863588,
          76.56746066290545,
          75.7111744078451,
          75.62902307541627,
          75.02380209702947,
          75.79750753993201,
          76.69392399481984,
          76.91998551358624,
          75.95366271148161,
          75.90998261418879,
          76.25265379077307,
          77.54982847422266,
          78.11460643083949,
          77.51855368072668,
          77.17031268299557,
          75.4818412197907,
          75.3660296110595,
          74.94076804874315,
          64.38629125304963,
          65.26563112571085
         ],
         "yaxis": "y"
        }
       ],
       "layout": {
        "font": {
         "family": "Roboto"
        },
        "legend": {
         "title": {
          "text": ""
         },
         "tracegroupgap": 0
        },
        "margin": {
         "t": 60
        },
        "template": {
         "data": {
          "bar": [
           {
            "error_x": {
             "color": "#2a3f5f"
            },
            "error_y": {
             "color": "#2a3f5f"
            },
            "marker": {
             "line": {
              "color": "#E5ECF6",
              "width": 0.5
             }
            },
            "type": "bar"
           }
          ],
          "barpolar": [
           {
            "marker": {
             "line": {
              "color": "#E5ECF6",
              "width": 0.5
             }
            },
            "type": "barpolar"
           }
          ],
          "carpet": [
           {
            "aaxis": {
             "endlinecolor": "#2a3f5f",
             "gridcolor": "white",
             "linecolor": "white",
             "minorgridcolor": "white",
             "startlinecolor": "#2a3f5f"
            },
            "baxis": {
             "endlinecolor": "#2a3f5f",
             "gridcolor": "white",
             "linecolor": "white",
             "minorgridcolor": "white",
             "startlinecolor": "#2a3f5f"
            },
            "type": "carpet"
           }
          ],
          "choropleth": [
           {
            "colorbar": {
             "outlinewidth": 0,
             "ticks": ""
            },
            "type": "choropleth"
           }
          ],
          "contour": [
           {
            "colorbar": {
             "outlinewidth": 0,
             "ticks": ""
            },
            "colorscale": [
             [
              0,
              "#0d0887"
             ],
             [
              0.1111111111111111,
              "#46039f"
             ],
             [
              0.2222222222222222,
              "#7201a8"
             ],
             [
              0.3333333333333333,
              "#9c179e"
             ],
             [
              0.4444444444444444,
              "#bd3786"
             ],
             [
              0.5555555555555556,
              "#d8576b"
             ],
             [
              0.6666666666666666,
              "#ed7953"
             ],
             [
              0.7777777777777778,
              "#fb9f3a"
             ],
             [
              0.8888888888888888,
              "#fdca26"
             ],
             [
              1,
              "#f0f921"
             ]
            ],
            "type": "contour"
           }
          ],
          "contourcarpet": [
           {
            "colorbar": {
             "outlinewidth": 0,
             "ticks": ""
            },
            "type": "contourcarpet"
           }
          ],
          "heatmap": [
           {
            "colorbar": {
             "outlinewidth": 0,
             "ticks": ""
            },
            "colorscale": [
             [
              0,
              "#0d0887"
             ],
             [
              0.1111111111111111,
              "#46039f"
             ],
             [
              0.2222222222222222,
              "#7201a8"
             ],
             [
              0.3333333333333333,
              "#9c179e"
             ],
             [
              0.4444444444444444,
              "#bd3786"
             ],
             [
              0.5555555555555556,
              "#d8576b"
             ],
             [
              0.6666666666666666,
              "#ed7953"
             ],
             [
              0.7777777777777778,
              "#fb9f3a"
             ],
             [
              0.8888888888888888,
              "#fdca26"
             ],
             [
              1,
              "#f0f921"
             ]
            ],
            "type": "heatmap"
           }
          ],
          "heatmapgl": [
           {
            "colorbar": {
             "outlinewidth": 0,
             "ticks": ""
            },
            "colorscale": [
             [
              0,
              "#0d0887"
             ],
             [
              0.1111111111111111,
              "#46039f"
             ],
             [
              0.2222222222222222,
              "#7201a8"
             ],
             [
              0.3333333333333333,
              "#9c179e"
             ],
             [
              0.4444444444444444,
              "#bd3786"
             ],
             [
              0.5555555555555556,
              "#d8576b"
             ],
             [
              0.6666666666666666,
              "#ed7953"
             ],
             [
              0.7777777777777778,
              "#fb9f3a"
             ],
             [
              0.8888888888888888,
              "#fdca26"
             ],
             [
              1,
              "#f0f921"
             ]
            ],
            "type": "heatmapgl"
           }
          ],
          "histogram": [
           {
            "marker": {
             "colorbar": {
              "outlinewidth": 0,
              "ticks": ""
             }
            },
            "type": "histogram"
           }
          ],
          "histogram2d": [
           {
            "colorbar": {
             "outlinewidth": 0,
             "ticks": ""
            },
            "colorscale": [
             [
              0,
              "#0d0887"
             ],
             [
              0.1111111111111111,
              "#46039f"
             ],
             [
              0.2222222222222222,
              "#7201a8"
             ],
             [
              0.3333333333333333,
              "#9c179e"
             ],
             [
              0.4444444444444444,
              "#bd3786"
             ],
             [
              0.5555555555555556,
              "#d8576b"
             ],
             [
              0.6666666666666666,
              "#ed7953"
             ],
             [
              0.7777777777777778,
              "#fb9f3a"
             ],
             [
              0.8888888888888888,
              "#fdca26"
             ],
             [
              1,
              "#f0f921"
             ]
            ],
            "type": "histogram2d"
           }
          ],
          "histogram2dcontour": [
           {
            "colorbar": {
             "outlinewidth": 0,
             "ticks": ""
            },
            "colorscale": [
             [
              0,
              "#0d0887"
             ],
             [
              0.1111111111111111,
              "#46039f"
             ],
             [
              0.2222222222222222,
              "#7201a8"
             ],
             [
              0.3333333333333333,
              "#9c179e"
             ],
             [
              0.4444444444444444,
              "#bd3786"
             ],
             [
              0.5555555555555556,
              "#d8576b"
             ],
             [
              0.6666666666666666,
              "#ed7953"
             ],
             [
              0.7777777777777778,
              "#fb9f3a"
             ],
             [
              0.8888888888888888,
              "#fdca26"
             ],
             [
              1,
              "#f0f921"
             ]
            ],
            "type": "histogram2dcontour"
           }
          ],
          "mesh3d": [
           {
            "colorbar": {
             "outlinewidth": 0,
             "ticks": ""
            },
            "type": "mesh3d"
           }
          ],
          "parcoords": [
           {
            "line": {
             "colorbar": {
              "outlinewidth": 0,
              "ticks": ""
             }
            },
            "type": "parcoords"
           }
          ],
          "pie": [
           {
            "automargin": true,
            "type": "pie"
           }
          ],
          "scatter": [
           {
            "marker": {
             "colorbar": {
              "outlinewidth": 0,
              "ticks": ""
             }
            },
            "type": "scatter"
           }
          ],
          "scatter3d": [
           {
            "line": {
             "colorbar": {
              "outlinewidth": 0,
              "ticks": ""
             }
            },
            "marker": {
             "colorbar": {
              "outlinewidth": 0,
              "ticks": ""
             }
            },
            "type": "scatter3d"
           }
          ],
          "scattercarpet": [
           {
            "marker": {
             "colorbar": {
              "outlinewidth": 0,
              "ticks": ""
             }
            },
            "type": "scattercarpet"
           }
          ],
          "scattergeo": [
           {
            "marker": {
             "colorbar": {
              "outlinewidth": 0,
              "ticks": ""
             }
            },
            "type": "scattergeo"
           }
          ],
          "scattergl": [
           {
            "marker": {
             "colorbar": {
              "outlinewidth": 0,
              "ticks": ""
             }
            },
            "type": "scattergl"
           }
          ],
          "scattermapbox": [
           {
            "marker": {
             "colorbar": {
              "outlinewidth": 0,
              "ticks": ""
             }
            },
            "type": "scattermapbox"
           }
          ],
          "scatterpolar": [
           {
            "marker": {
             "colorbar": {
              "outlinewidth": 0,
              "ticks": ""
             }
            },
            "type": "scatterpolar"
           }
          ],
          "scatterpolargl": [
           {
            "marker": {
             "colorbar": {
              "outlinewidth": 0,
              "ticks": ""
             }
            },
            "type": "scatterpolargl"
           }
          ],
          "scatterternary": [
           {
            "marker": {
             "colorbar": {
              "outlinewidth": 0,
              "ticks": ""
             }
            },
            "type": "scatterternary"
           }
          ],
          "surface": [
           {
            "colorbar": {
             "outlinewidth": 0,
             "ticks": ""
            },
            "colorscale": [
             [
              0,
              "#0d0887"
             ],
             [
              0.1111111111111111,
              "#46039f"
             ],
             [
              0.2222222222222222,
              "#7201a8"
             ],
             [
              0.3333333333333333,
              "#9c179e"
             ],
             [
              0.4444444444444444,
              "#bd3786"
             ],
             [
              0.5555555555555556,
              "#d8576b"
             ],
             [
              0.6666666666666666,
              "#ed7953"
             ],
             [
              0.7777777777777778,
              "#fb9f3a"
             ],
             [
              0.8888888888888888,
              "#fdca26"
             ],
             [
              1,
              "#f0f921"
             ]
            ],
            "type": "surface"
           }
          ],
          "table": [
           {
            "cells": {
             "fill": {
              "color": "#EBF0F8"
             },
             "line": {
              "color": "white"
             }
            },
            "header": {
             "fill": {
              "color": "#C8D4E3"
             },
             "line": {
              "color": "white"
             }
            },
            "type": "table"
           }
          ]
         },
         "layout": {
          "annotationdefaults": {
           "arrowcolor": "#2a3f5f",
           "arrowhead": 0,
           "arrowwidth": 1
          },
          "coloraxis": {
           "colorbar": {
            "outlinewidth": 0,
            "ticks": ""
           }
          },
          "colorscale": {
           "diverging": [
            [
             0,
             "#8e0152"
            ],
            [
             0.1,
             "#c51b7d"
            ],
            [
             0.2,
             "#de77ae"
            ],
            [
             0.3,
             "#f1b6da"
            ],
            [
             0.4,
             "#fde0ef"
            ],
            [
             0.5,
             "#f7f7f7"
            ],
            [
             0.6,
             "#e6f5d0"
            ],
            [
             0.7,
             "#b8e186"
            ],
            [
             0.8,
             "#7fbc41"
            ],
            [
             0.9,
             "#4d9221"
            ],
            [
             1,
             "#276419"
            ]
           ],
           "sequential": [
            [
             0,
             "#0d0887"
            ],
            [
             0.1111111111111111,
             "#46039f"
            ],
            [
             0.2222222222222222,
             "#7201a8"
            ],
            [
             0.3333333333333333,
             "#9c179e"
            ],
            [
             0.4444444444444444,
             "#bd3786"
            ],
            [
             0.5555555555555556,
             "#d8576b"
            ],
            [
             0.6666666666666666,
             "#ed7953"
            ],
            [
             0.7777777777777778,
             "#fb9f3a"
            ],
            [
             0.8888888888888888,
             "#fdca26"
            ],
            [
             1,
             "#f0f921"
            ]
           ],
           "sequentialminus": [
            [
             0,
             "#0d0887"
            ],
            [
             0.1111111111111111,
             "#46039f"
            ],
            [
             0.2222222222222222,
             "#7201a8"
            ],
            [
             0.3333333333333333,
             "#9c179e"
            ],
            [
             0.4444444444444444,
             "#bd3786"
            ],
            [
             0.5555555555555556,
             "#d8576b"
            ],
            [
             0.6666666666666666,
             "#ed7953"
            ],
            [
             0.7777777777777778,
             "#fb9f3a"
            ],
            [
             0.8888888888888888,
             "#fdca26"
            ],
            [
             1,
             "#f0f921"
            ]
           ]
          },
          "colorway": [
           "#636efa",
           "#EF553B",
           "#00cc96",
           "#ab63fa",
           "#FFA15A",
           "#19d3f3",
           "#FF6692",
           "#B6E880",
           "#FF97FF",
           "#FECB52"
          ],
          "font": {
           "color": "#2a3f5f"
          },
          "geo": {
           "bgcolor": "white",
           "lakecolor": "white",
           "landcolor": "#E5ECF6",
           "showlakes": true,
           "showland": true,
           "subunitcolor": "white"
          },
          "hoverlabel": {
           "align": "left"
          },
          "hovermode": "closest",
          "mapbox": {
           "style": "light"
          },
          "paper_bgcolor": "white",
          "plot_bgcolor": "#E5ECF6",
          "polar": {
           "angularaxis": {
            "gridcolor": "white",
            "linecolor": "white",
            "ticks": ""
           },
           "bgcolor": "#E5ECF6",
           "radialaxis": {
            "gridcolor": "white",
            "linecolor": "white",
            "ticks": ""
           }
          },
          "scene": {
           "xaxis": {
            "backgroundcolor": "#E5ECF6",
            "gridcolor": "white",
            "gridwidth": 2,
            "linecolor": "white",
            "showbackground": true,
            "ticks": "",
            "zerolinecolor": "white"
           },
           "yaxis": {
            "backgroundcolor": "#E5ECF6",
            "gridcolor": "white",
            "gridwidth": 2,
            "linecolor": "white",
            "showbackground": true,
            "ticks": "",
            "zerolinecolor": "white"
           },
           "zaxis": {
            "backgroundcolor": "#E5ECF6",
            "gridcolor": "white",
            "gridwidth": 2,
            "linecolor": "white",
            "showbackground": true,
            "ticks": "",
            "zerolinecolor": "white"
           }
          },
          "shapedefaults": {
           "line": {
            "color": "#2a3f5f"
           }
          },
          "ternary": {
           "aaxis": {
            "gridcolor": "white",
            "linecolor": "white",
            "ticks": ""
           },
           "baxis": {
            "gridcolor": "white",
            "linecolor": "white",
            "ticks": ""
           },
           "bgcolor": "#E5ECF6",
           "caxis": {
            "gridcolor": "white",
            "linecolor": "white",
            "ticks": ""
           }
          },
          "title": {
           "x": 0.05
          },
          "xaxis": {
           "automargin": true,
           "gridcolor": "white",
           "linecolor": "white",
           "ticks": "",
           "title": {
            "standoff": 15
           },
           "zerolinecolor": "white",
           "zerolinewidth": 2
          },
          "yaxis": {
           "automargin": true,
           "gridcolor": "white",
           "linecolor": "white",
           "ticks": "",
           "title": {
            "standoff": 15
           },
           "zerolinecolor": "white",
           "zerolinewidth": 2
          }
         }
        },
        "title": {
         "text": "Prime-age employment rate by race"
        },
        "xaxis": {
         "anchor": "y",
         "domain": [
          0,
          1
         ],
         "title": {
          "text": ""
         }
        },
        "yaxis": {
         "anchor": "x",
         "domain": [
          0,
          1
         ],
         "ticksuffix": "%",
         "title": {
          "text": "Employment rate of civilians aged 25 to 54"
         }
        }
       }
      },
      "text/html": [
       "<div>\n",
       "        \n",
       "        \n",
       "            <div id=\"64668542-6895-470e-9c6a-4ed54004e98e\" class=\"plotly-graph-div\" style=\"height:525px; width:100%;\"></div>\n",
       "            <script type=\"text/javascript\">\n",
       "                require([\"plotly\"], function(Plotly) {\n",
       "                    window.PLOTLYENV=window.PLOTLYENV || {};\n",
       "                    \n",
       "                if (document.getElementById(\"64668542-6895-470e-9c6a-4ed54004e98e\")) {\n",
       "                    Plotly.newPlot(\n",
       "                        '64668542-6895-470e-9c6a-4ed54004e98e',\n",
       "                        [{\"hovertemplate\": \"race=Not Black<br>date=%{x}<br>emp_rate=%{y}<extra></extra>\", \"legendgroup\": \"Not Black\", \"line\": {\"color\": \"#636efa\", \"dash\": \"solid\"}, \"mode\": \"lines\", \"name\": \"Not Black\", \"orientation\": \"v\", \"showlegend\": true, \"type\": \"scatter\", \"x\": [\"2017-01-12T00:00:00\", \"2017-02-12T00:00:00\", \"2017-03-12T00:00:00\", \"2017-04-12T00:00:00\", \"2017-05-12T00:00:00\", \"2017-06-12T00:00:00\", \"2017-07-12T00:00:00\", \"2017-08-12T00:00:00\", \"2017-09-12T00:00:00\", \"2017-10-12T00:00:00\", \"2017-11-12T00:00:00\", \"2017-12-12T00:00:00\", \"2018-01-12T00:00:00\", \"2018-02-12T00:00:00\", \"2018-03-12T00:00:00\", \"2018-04-12T00:00:00\", \"2018-05-12T00:00:00\", \"2018-06-12T00:00:00\", \"2018-07-12T00:00:00\", \"2018-08-12T00:00:00\", \"2018-09-12T00:00:00\", \"2018-10-12T00:00:00\", \"2018-11-12T00:00:00\", \"2018-12-12T00:00:00\", \"2019-01-12T00:00:00\", \"2019-02-12T00:00:00\", \"2019-03-12T00:00:00\", \"2019-04-12T00:00:00\", \"2019-05-12T00:00:00\", \"2019-06-12T00:00:00\", \"2019-07-12T00:00:00\", \"2019-08-12T00:00:00\", \"2019-09-12T00:00:00\", \"2019-10-12T00:00:00\", \"2019-11-12T00:00:00\", \"2019-12-12T00:00:00\", \"2020-01-12T00:00:00\", \"2020-02-12T00:00:00\", \"2020-03-12T00:00:00\", \"2020-04-12T00:00:00\", \"2020-05-12T00:00:00\"], \"xaxis\": \"x\", \"y\": [78.36530556362098, 78.85026679494948, 79.23517152336042, 79.63855410463093, 79.54351861631022, 79.12535259454606, 79.11512321077224, 78.79261896318164, 79.803717246069, 79.79985046037879, 79.99879627558764, 79.65877872119141, 79.26620486049235, 79.84378796957414, 79.84216712485988, 80.25784733951559, 80.37496843824027, 79.9268132735788, 79.9940702727103, 79.7230046452274, 80.33637805741178, 80.69095379840294, 80.96621121311212, 80.68877906934203, 80.20014247461745, 80.54320166791926, 80.29920192462805, 80.42268265608631, 80.58471550104242, 80.19950512010364, 79.72952689703246, 80.40736630822897, 81.17206123300818, 81.37706222454457, 81.63993102372271, 81.5536414473904, 81.10479950386193, 80.99703005386746, 80.04985108366635, 70.38689090324752, 72.42040099707488], \"yaxis\": \"y\"}, {\"hovertemplate\": \"race=Black<br>date=%{x}<br>emp_rate=%{y}<extra></extra>\", \"legendgroup\": \"Black\", \"line\": {\"color\": \"#EF553B\", \"dash\": \"solid\"}, \"mode\": \"lines\", \"name\": \"Black\", \"orientation\": \"v\", \"showlegend\": true, \"type\": \"scatter\", \"x\": [\"2017-01-12T00:00:00\", \"2017-02-12T00:00:00\", \"2017-03-12T00:00:00\", \"2017-04-12T00:00:00\", \"2017-05-12T00:00:00\", \"2017-06-12T00:00:00\", \"2017-07-12T00:00:00\", \"2017-08-12T00:00:00\", \"2017-09-12T00:00:00\", \"2017-10-12T00:00:00\", \"2017-11-12T00:00:00\", \"2017-12-12T00:00:00\", \"2018-01-12T00:00:00\", \"2018-02-12T00:00:00\", \"2018-03-12T00:00:00\", \"2018-04-12T00:00:00\", \"2018-05-12T00:00:00\", \"2018-06-12T00:00:00\", \"2018-07-12T00:00:00\", \"2018-08-12T00:00:00\", \"2018-09-12T00:00:00\", \"2018-10-12T00:00:00\", \"2018-11-12T00:00:00\", \"2018-12-12T00:00:00\", \"2019-01-12T00:00:00\", \"2019-02-12T00:00:00\", \"2019-03-12T00:00:00\", \"2019-04-12T00:00:00\", \"2019-05-12T00:00:00\", \"2019-06-12T00:00:00\", \"2019-07-12T00:00:00\", \"2019-08-12T00:00:00\", \"2019-09-12T00:00:00\", \"2019-10-12T00:00:00\", \"2019-11-12T00:00:00\", \"2019-12-12T00:00:00\", \"2020-01-12T00:00:00\", \"2020-02-12T00:00:00\", \"2020-03-12T00:00:00\", \"2020-04-12T00:00:00\", \"2020-05-12T00:00:00\"], \"xaxis\": \"x\", \"y\": [73.636867109416, 73.38120422810597, 73.03619910365529, 74.60411477224784, 74.27982220549939, 74.98972741178484, 75.20985435678254, 73.98140304841985, 75.67458009004802, 74.40960768437547, 74.8834133693048, 75.5709707586906, 73.35214211353313, 75.1356400184503, 75.29876831158978, 75.4870781473176, 76.40075236239944, 75.83629405935169, 75.61289164640918, 75.82853404362497, 76.83458004135105, 77.35118581863588, 76.56746066290545, 75.7111744078451, 75.62902307541627, 75.02380209702947, 75.79750753993201, 76.69392399481984, 76.91998551358624, 75.95366271148161, 75.90998261418879, 76.25265379077307, 77.54982847422266, 78.11460643083949, 77.51855368072668, 77.17031268299557, 75.4818412197907, 75.3660296110595, 74.94076804874315, 64.38629125304963, 65.26563112571085], \"yaxis\": \"y\"}],\n",
       "                        {\"font\": {\"family\": \"Roboto\"}, \"legend\": {\"title\": {\"text\": \"\"}, \"tracegroupgap\": 0}, \"margin\": {\"t\": 60}, \"template\": {\"data\": {\"bar\": [{\"error_x\": {\"color\": \"#2a3f5f\"}, \"error_y\": {\"color\": \"#2a3f5f\"}, \"marker\": {\"line\": {\"color\": \"#E5ECF6\", \"width\": 0.5}}, \"type\": \"bar\"}], \"barpolar\": [{\"marker\": {\"line\": {\"color\": \"#E5ECF6\", \"width\": 0.5}}, \"type\": \"barpolar\"}], \"carpet\": [{\"aaxis\": {\"endlinecolor\": \"#2a3f5f\", \"gridcolor\": \"white\", \"linecolor\": \"white\", \"minorgridcolor\": \"white\", \"startlinecolor\": \"#2a3f5f\"}, \"baxis\": {\"endlinecolor\": \"#2a3f5f\", \"gridcolor\": \"white\", \"linecolor\": \"white\", \"minorgridcolor\": \"white\", \"startlinecolor\": \"#2a3f5f\"}, \"type\": \"carpet\"}], \"choropleth\": [{\"colorbar\": {\"outlinewidth\": 0, \"ticks\": \"\"}, \"type\": \"choropleth\"}], \"contour\": [{\"colorbar\": {\"outlinewidth\": 0, \"ticks\": \"\"}, \"colorscale\": [[0.0, \"#0d0887\"], [0.1111111111111111, \"#46039f\"], [0.2222222222222222, \"#7201a8\"], [0.3333333333333333, \"#9c179e\"], [0.4444444444444444, \"#bd3786\"], [0.5555555555555556, \"#d8576b\"], [0.6666666666666666, \"#ed7953\"], [0.7777777777777778, \"#fb9f3a\"], [0.8888888888888888, \"#fdca26\"], [1.0, \"#f0f921\"]], \"type\": \"contour\"}], \"contourcarpet\": [{\"colorbar\": {\"outlinewidth\": 0, \"ticks\": \"\"}, \"type\": \"contourcarpet\"}], \"heatmap\": [{\"colorbar\": {\"outlinewidth\": 0, \"ticks\": \"\"}, \"colorscale\": [[0.0, \"#0d0887\"], [0.1111111111111111, \"#46039f\"], [0.2222222222222222, \"#7201a8\"], [0.3333333333333333, \"#9c179e\"], [0.4444444444444444, \"#bd3786\"], [0.5555555555555556, \"#d8576b\"], [0.6666666666666666, \"#ed7953\"], [0.7777777777777778, \"#fb9f3a\"], [0.8888888888888888, \"#fdca26\"], [1.0, \"#f0f921\"]], \"type\": \"heatmap\"}], \"heatmapgl\": [{\"colorbar\": {\"outlinewidth\": 0, \"ticks\": \"\"}, \"colorscale\": [[0.0, \"#0d0887\"], [0.1111111111111111, \"#46039f\"], [0.2222222222222222, \"#7201a8\"], [0.3333333333333333, \"#9c179e\"], [0.4444444444444444, \"#bd3786\"], [0.5555555555555556, \"#d8576b\"], [0.6666666666666666, \"#ed7953\"], [0.7777777777777778, \"#fb9f3a\"], [0.8888888888888888, \"#fdca26\"], [1.0, \"#f0f921\"]], \"type\": \"heatmapgl\"}], \"histogram\": [{\"marker\": {\"colorbar\": {\"outlinewidth\": 0, \"ticks\": \"\"}}, \"type\": \"histogram\"}], \"histogram2d\": [{\"colorbar\": {\"outlinewidth\": 0, \"ticks\": \"\"}, \"colorscale\": [[0.0, \"#0d0887\"], [0.1111111111111111, \"#46039f\"], [0.2222222222222222, \"#7201a8\"], [0.3333333333333333, \"#9c179e\"], [0.4444444444444444, \"#bd3786\"], [0.5555555555555556, \"#d8576b\"], [0.6666666666666666, \"#ed7953\"], [0.7777777777777778, \"#fb9f3a\"], [0.8888888888888888, \"#fdca26\"], [1.0, \"#f0f921\"]], \"type\": \"histogram2d\"}], \"histogram2dcontour\": [{\"colorbar\": {\"outlinewidth\": 0, \"ticks\": \"\"}, \"colorscale\": [[0.0, \"#0d0887\"], [0.1111111111111111, \"#46039f\"], [0.2222222222222222, \"#7201a8\"], [0.3333333333333333, \"#9c179e\"], [0.4444444444444444, \"#bd3786\"], [0.5555555555555556, \"#d8576b\"], [0.6666666666666666, \"#ed7953\"], [0.7777777777777778, \"#fb9f3a\"], [0.8888888888888888, \"#fdca26\"], [1.0, \"#f0f921\"]], \"type\": \"histogram2dcontour\"}], \"mesh3d\": [{\"colorbar\": {\"outlinewidth\": 0, \"ticks\": \"\"}, \"type\": \"mesh3d\"}], \"parcoords\": [{\"line\": {\"colorbar\": {\"outlinewidth\": 0, \"ticks\": \"\"}}, \"type\": \"parcoords\"}], \"pie\": [{\"automargin\": true, \"type\": \"pie\"}], \"scatter\": [{\"marker\": {\"colorbar\": {\"outlinewidth\": 0, \"ticks\": \"\"}}, \"type\": \"scatter\"}], \"scatter3d\": [{\"line\": {\"colorbar\": {\"outlinewidth\": 0, \"ticks\": \"\"}}, \"marker\": {\"colorbar\": {\"outlinewidth\": 0, \"ticks\": \"\"}}, \"type\": \"scatter3d\"}], \"scattercarpet\": [{\"marker\": {\"colorbar\": {\"outlinewidth\": 0, \"ticks\": \"\"}}, \"type\": \"scattercarpet\"}], \"scattergeo\": [{\"marker\": {\"colorbar\": {\"outlinewidth\": 0, \"ticks\": \"\"}}, \"type\": \"scattergeo\"}], \"scattergl\": [{\"marker\": {\"colorbar\": {\"outlinewidth\": 0, \"ticks\": \"\"}}, \"type\": \"scattergl\"}], \"scattermapbox\": [{\"marker\": {\"colorbar\": {\"outlinewidth\": 0, \"ticks\": \"\"}}, \"type\": \"scattermapbox\"}], \"scatterpolar\": [{\"marker\": {\"colorbar\": {\"outlinewidth\": 0, \"ticks\": \"\"}}, \"type\": \"scatterpolar\"}], \"scatterpolargl\": [{\"marker\": {\"colorbar\": {\"outlinewidth\": 0, \"ticks\": \"\"}}, \"type\": \"scatterpolargl\"}], \"scatterternary\": [{\"marker\": {\"colorbar\": {\"outlinewidth\": 0, \"ticks\": \"\"}}, \"type\": \"scatterternary\"}], \"surface\": [{\"colorbar\": {\"outlinewidth\": 0, \"ticks\": \"\"}, \"colorscale\": [[0.0, \"#0d0887\"], [0.1111111111111111, \"#46039f\"], [0.2222222222222222, \"#7201a8\"], [0.3333333333333333, \"#9c179e\"], [0.4444444444444444, \"#bd3786\"], [0.5555555555555556, \"#d8576b\"], [0.6666666666666666, \"#ed7953\"], [0.7777777777777778, \"#fb9f3a\"], [0.8888888888888888, \"#fdca26\"], [1.0, \"#f0f921\"]], \"type\": \"surface\"}], \"table\": [{\"cells\": {\"fill\": {\"color\": \"#EBF0F8\"}, \"line\": {\"color\": \"white\"}}, \"header\": {\"fill\": {\"color\": \"#C8D4E3\"}, \"line\": {\"color\": \"white\"}}, \"type\": \"table\"}]}, \"layout\": {\"annotationdefaults\": {\"arrowcolor\": \"#2a3f5f\", \"arrowhead\": 0, \"arrowwidth\": 1}, \"coloraxis\": {\"colorbar\": {\"outlinewidth\": 0, \"ticks\": \"\"}}, \"colorscale\": {\"diverging\": [[0, \"#8e0152\"], [0.1, \"#c51b7d\"], [0.2, \"#de77ae\"], [0.3, \"#f1b6da\"], [0.4, \"#fde0ef\"], [0.5, \"#f7f7f7\"], [0.6, \"#e6f5d0\"], [0.7, \"#b8e186\"], [0.8, \"#7fbc41\"], [0.9, \"#4d9221\"], [1, \"#276419\"]], \"sequential\": [[0.0, \"#0d0887\"], [0.1111111111111111, \"#46039f\"], [0.2222222222222222, \"#7201a8\"], [0.3333333333333333, \"#9c179e\"], [0.4444444444444444, \"#bd3786\"], [0.5555555555555556, \"#d8576b\"], [0.6666666666666666, \"#ed7953\"], [0.7777777777777778, \"#fb9f3a\"], [0.8888888888888888, \"#fdca26\"], [1.0, \"#f0f921\"]], \"sequentialminus\": [[0.0, \"#0d0887\"], [0.1111111111111111, \"#46039f\"], [0.2222222222222222, \"#7201a8\"], [0.3333333333333333, \"#9c179e\"], [0.4444444444444444, \"#bd3786\"], [0.5555555555555556, \"#d8576b\"], [0.6666666666666666, \"#ed7953\"], [0.7777777777777778, \"#fb9f3a\"], [0.8888888888888888, \"#fdca26\"], [1.0, \"#f0f921\"]]}, \"colorway\": [\"#636efa\", \"#EF553B\", \"#00cc96\", \"#ab63fa\", \"#FFA15A\", \"#19d3f3\", \"#FF6692\", \"#B6E880\", \"#FF97FF\", \"#FECB52\"], \"font\": {\"color\": \"#2a3f5f\"}, \"geo\": {\"bgcolor\": \"white\", \"lakecolor\": \"white\", \"landcolor\": \"#E5ECF6\", \"showlakes\": true, \"showland\": true, \"subunitcolor\": \"white\"}, \"hoverlabel\": {\"align\": \"left\"}, \"hovermode\": \"closest\", \"mapbox\": {\"style\": \"light\"}, \"paper_bgcolor\": \"white\", \"plot_bgcolor\": \"#E5ECF6\", \"polar\": {\"angularaxis\": {\"gridcolor\": \"white\", \"linecolor\": \"white\", \"ticks\": \"\"}, \"bgcolor\": \"#E5ECF6\", \"radialaxis\": {\"gridcolor\": \"white\", \"linecolor\": \"white\", \"ticks\": \"\"}}, \"scene\": {\"xaxis\": {\"backgroundcolor\": \"#E5ECF6\", \"gridcolor\": \"white\", \"gridwidth\": 2, \"linecolor\": \"white\", \"showbackground\": true, \"ticks\": \"\", \"zerolinecolor\": \"white\"}, \"yaxis\": {\"backgroundcolor\": \"#E5ECF6\", \"gridcolor\": \"white\", \"gridwidth\": 2, \"linecolor\": \"white\", \"showbackground\": true, \"ticks\": \"\", \"zerolinecolor\": \"white\"}, \"zaxis\": {\"backgroundcolor\": \"#E5ECF6\", \"gridcolor\": \"white\", \"gridwidth\": 2, \"linecolor\": \"white\", \"showbackground\": true, \"ticks\": \"\", \"zerolinecolor\": \"white\"}}, \"shapedefaults\": {\"line\": {\"color\": \"#2a3f5f\"}}, \"ternary\": {\"aaxis\": {\"gridcolor\": \"white\", \"linecolor\": \"white\", \"ticks\": \"\"}, \"baxis\": {\"gridcolor\": \"white\", \"linecolor\": \"white\", \"ticks\": \"\"}, \"bgcolor\": \"#E5ECF6\", \"caxis\": {\"gridcolor\": \"white\", \"linecolor\": \"white\", \"ticks\": \"\"}}, \"title\": {\"x\": 0.05}, \"xaxis\": {\"automargin\": true, \"gridcolor\": \"white\", \"linecolor\": \"white\", \"ticks\": \"\", \"title\": {\"standoff\": 15}, \"zerolinecolor\": \"white\", \"zerolinewidth\": 2}, \"yaxis\": {\"automargin\": true, \"gridcolor\": \"white\", \"linecolor\": \"white\", \"ticks\": \"\", \"title\": {\"standoff\": 15}, \"zerolinecolor\": \"white\", \"zerolinewidth\": 2}}}, \"title\": {\"text\": \"Prime-age employment rate by race\"}, \"xaxis\": {\"anchor\": \"y\", \"domain\": [0.0, 1.0], \"title\": {\"text\": \"\"}}, \"yaxis\": {\"anchor\": \"x\", \"domain\": [0.0, 1.0], \"ticksuffix\": \"%\", \"title\": {\"text\": \"Employment rate of civilians aged 25 to 54\"}}},\n",
       "                        {\"responsive\": true}\n",
       "                    ).then(function(){\n",
       "                            \n",
       "var gd = document.getElementById('64668542-6895-470e-9c6a-4ed54004e98e');\n",
       "var x = new MutationObserver(function (mutations, observer) {{\n",
       "        var display = window.getComputedStyle(gd).display;\n",
       "        if (!display || display === 'none') {{\n",
       "            console.log([gd, 'removed!']);\n",
       "            Plotly.purge(gd);\n",
       "            observer.disconnect();\n",
       "        }}\n",
       "}});\n",
       "\n",
       "// Listen for the removal of the full notebook cells\n",
       "var notebookContainer = gd.closest('#notebook-container');\n",
       "if (notebookContainer) {{\n",
       "    x.observe(notebookContainer, {childList: true});\n",
       "}}\n",
       "\n",
       "// Listen for the clearing of the current output cell\n",
       "var outputEl = gd.closest('.output');\n",
       "if (outputEl) {{\n",
       "    x.observe(outputEl, {childList: true});\n",
       "}}\n",
       "\n",
       "                        })\n",
       "                };\n",
       "                });\n",
       "            </script>\n",
       "        </div>"
      ]
     },
     "metadata": {},
     "output_type": "display_data"
    }
   ],
   "source": [
    "### LOAD PACKAGES ###\n",
    "\n",
    "import pandas as pd\n",
    "import numpy as np\n",
    "import microdf as mdf\n",
    "import plotly.express as px\n",
    "import statsmodels.api as sm\n",
    "import stargazer.stargazer as sg\n",
    "\n",
    "### LOAD DATA ###\n",
    "\n",
    "# CPS data extracted from IPUMS.\n",
    "cps_raw = pd.read_csv('cps.csv.gz')\n",
    "\n",
    "### PREPROCESS ###\n",
    "\n",
    "cps = cps_raw.copy(deep=True)\n",
    "cps.columns = cps.columns.str.lower()\n",
    "cps.rename({'wtfinl': 'w'}, axis=1, inplace=True)\n",
    "cps['day'] = 12  # CPS asks about week including 12th of the month.\n",
    "cps['date'] = pd.to_datetime(cps[['year', 'month', 'day']])\n",
    "# Create descriptive bools from codes.\n",
    "cps['female'] = cps.sex == 2\n",
    "cps['emp'] = cps.empstat.isin([10, 12])\n",
    "cps['black'] = cps.race == 200\n",
    "# Recode disability into True/False/None.\n",
    "for i in ['diffhear', 'diffeye', 'diffrem', 'diffphys', 'diffmob', 'diffcare',\n",
    "          'diffany']:\n",
    "    cps[i] = np.where(cps[i] == 0, np.nan, cps[i] == 2)\n",
    "    \n",
    "# Limit to prime-age civilians and relevant columns.\n",
    "COLS = ['emp', 'date', 'w', 'black', 'diffany']\n",
    "cps = cps[(cps.empstat != 1)  # Not in armed forces.\n",
    "          & cps.age.between(25, 54)][COLS]\n",
    "assert cps.diffany.isna().sum() == 0\n",
    "cps.diffany = cps.diffany.astype(bool)\n",
    "\n",
    "### ANALYSIS ###\n",
    "\n",
    "# Create grouped dataframe.\n",
    "grouped = cps.groupby(['date', 'black', 'diffany', 'emp'])[['w']].sum()\n",
    "grouped.reset_index(inplace=True)\n",
    "# Add conditional columns for creating rates.\n",
    "mdf.add_weighted_metrics(grouped, ['diffany', 'emp'], 'w')\n",
    "\n",
    "def add_emp_rate(df):\n",
    "    df['emp_rate'] = 100 * df.emp_m / df.w_m\n",
    "    df.drop(['emp_m', 'w_m'], axis=1, inplace=True)\n",
    "    df.reset_index(inplace=True)\n",
    "    \n",
    "def add_disability_rate(df):\n",
    "    df['disability_rate'] = 100 * df.diffany_m / df.w_m\n",
    "    df.drop(['diffany_m', 'w_m'], axis=1, inplace=True)\n",
    "    df.reset_index(inplace=True)\n",
    "    \n",
    "race_emp = grouped.groupby(['date', 'black'])[['emp_m', 'w_m']].sum()\n",
    "add_emp_rate(race_emp)\n",
    "race_emp['race'] = np.where(race_emp.black, 'Black', 'Not Black')\n",
    "\n",
    "diffany_emp = grouped.groupby(['date', 'diffany'])[['emp_m', 'w_m']].sum()\n",
    "add_emp_rate(diffany_emp)\n",
    "diffany_emp['disability'] = np.where(diffany_emp.diffany, 'Has disability',\n",
    "                                     'No disability')\n",
    "\n",
    "race_diffany = grouped.groupby(['date', 'black'])[['diffany_m', 'w_m']].sum()\n",
    "add_disability_rate(race_diffany)\n",
    "race_diffany['race'] = np.where(race_diffany.black, 'Black', 'Not Black')\n",
    "\n",
    "race_diffany_emp = grouped.groupby(['date', 'black', 'diffany'])[\n",
    "    ['emp_m', 'w_m']].sum()\n",
    "add_emp_rate(race_diffany_emp)\n",
    "race_diffany_emp['race'] = np.where(race_diffany_emp.black, 'Black', 'Not Black')\n",
    "race_diffany_emp['disability'] = np.where(race_diffany_emp.diffany,\n",
    "                                          'Has disability', 'No disability')\n",
    "race_diffany_emp['label'] = (race_diffany_emp.race + ', ' +\n",
    "                             race_diffany_emp.disability)\n",
    "\n",
    "fig = px.line(race_emp, x='date', y='emp_rate', color='race')\n",
    "fig.update_layout(\n",
    "    title='Prime-age employment rate by race',\n",
    "    xaxis_title='',\n",
    "    yaxis_title='Employment rate of civilians aged 25 to 54',\n",
    "    yaxis_ticksuffix='%',\n",
    "    legend_title_text='',\n",
    "    font=dict(family='Roboto')\n",
    ")\n",
    "\n",
    "fig.show()"
   ]
  },
  {
   "cell_type": "markdown",
   "metadata": {},
   "source": [
    "Black people are also about 30 percent more likely to have a disability than non-Black people:\n",
    "while small samples make the signal noisy on a month-to-month basis, the rates are about 7.5 percent and 5.7 percent, respectively."
   ]
  },
  {
   "cell_type": "code",
   "execution_count": 3,
   "metadata": {
    "tags": [
     "hide-input"
    ]
   },
   "outputs": [
    {
     "data": {
      "application/vnd.plotly.v1+json": {
       "config": {
        "plotlyServerURL": "https://plot.ly"
       },
       "data": [
        {
         "hovertemplate": "race=Not Black<br>date=%{x}<br>disability_rate=%{y}<extra></extra>",
         "legendgroup": "Not Black",
         "line": {
          "color": "#636efa",
          "dash": "solid"
         },
         "mode": "lines",
         "name": "Not Black",
         "orientation": "v",
         "showlegend": true,
         "type": "scatter",
         "x": [
          "2016-12-12T00:00:00",
          "2017-01-12T00:00:00",
          "2017-02-12T00:00:00",
          "2017-03-12T00:00:00",
          "2017-04-12T00:00:00",
          "2017-05-12T00:00:00",
          "2017-06-12T00:00:00",
          "2017-07-12T00:00:00",
          "2017-08-12T00:00:00",
          "2017-09-12T00:00:00",
          "2017-10-12T00:00:00",
          "2017-11-12T00:00:00",
          "2017-12-12T00:00:00",
          "2018-01-12T00:00:00",
          "2018-02-12T00:00:00",
          "2018-03-12T00:00:00",
          "2018-04-12T00:00:00",
          "2018-05-12T00:00:00",
          "2018-06-12T00:00:00",
          "2018-07-12T00:00:00",
          "2018-08-12T00:00:00",
          "2018-09-12T00:00:00",
          "2018-10-12T00:00:00",
          "2018-11-12T00:00:00",
          "2018-12-12T00:00:00",
          "2019-01-12T00:00:00",
          "2019-02-12T00:00:00",
          "2019-03-12T00:00:00",
          "2019-04-12T00:00:00",
          "2019-05-12T00:00:00",
          "2019-06-12T00:00:00",
          "2019-07-12T00:00:00",
          "2019-08-12T00:00:00",
          "2019-09-12T00:00:00",
          "2019-10-12T00:00:00",
          "2019-11-12T00:00:00",
          "2019-12-12T00:00:00",
          "2020-01-12T00:00:00",
          "2020-02-12T00:00:00",
          "2020-03-12T00:00:00",
          "2020-04-12T00:00:00"
         ],
         "xaxis": "x",
         "y": [
          5.792153384962203,
          5.924352574894987,
          6.054059689122423,
          6.027217827341477,
          6.137303842679592,
          6.0160444244654645,
          6.018045006035898,
          6.062117172931191,
          5.949650610312868,
          5.829635878203322,
          5.742359506836614,
          5.728146406460595,
          5.582596211659017,
          5.707158215949334,
          5.897070786522894,
          5.714705861870787,
          5.696935078561608,
          5.639928399272778,
          5.656007290092613,
          5.672481177257547,
          5.73426899755447,
          5.7180544646060385,
          5.631972205209596,
          5.657106580399912,
          5.602701474355634,
          5.667138534820809,
          5.800944835942555,
          5.764908811632141,
          5.8897585727936175,
          5.927851840066597,
          5.655200164208411,
          5.718608959713228,
          5.571868512441337,
          5.51107407988739,
          5.737951931416406,
          5.678773095604012,
          5.72977262887566,
          5.846052425682255,
          5.61339021573219,
          5.590227769121531,
          5.399649299685399
         ],
         "yaxis": "y"
        },
        {
         "hovertemplate": "race=Black<br>date=%{x}<br>disability_rate=%{y}<extra></extra>",
         "legendgroup": "Black",
         "line": {
          "color": "#EF553B",
          "dash": "solid"
         },
         "mode": "lines",
         "name": "Black",
         "orientation": "v",
         "showlegend": true,
         "type": "scatter",
         "x": [
          "2016-12-12T00:00:00",
          "2017-01-12T00:00:00",
          "2017-02-12T00:00:00",
          "2017-03-12T00:00:00",
          "2017-04-12T00:00:00",
          "2017-05-12T00:00:00",
          "2017-06-12T00:00:00",
          "2017-07-12T00:00:00",
          "2017-08-12T00:00:00",
          "2017-09-12T00:00:00",
          "2017-10-12T00:00:00",
          "2017-11-12T00:00:00",
          "2017-12-12T00:00:00",
          "2018-01-12T00:00:00",
          "2018-02-12T00:00:00",
          "2018-03-12T00:00:00",
          "2018-04-12T00:00:00",
          "2018-05-12T00:00:00",
          "2018-06-12T00:00:00",
          "2018-07-12T00:00:00",
          "2018-08-12T00:00:00",
          "2018-09-12T00:00:00",
          "2018-10-12T00:00:00",
          "2018-11-12T00:00:00",
          "2018-12-12T00:00:00",
          "2019-01-12T00:00:00",
          "2019-02-12T00:00:00",
          "2019-03-12T00:00:00",
          "2019-04-12T00:00:00",
          "2019-05-12T00:00:00",
          "2019-06-12T00:00:00",
          "2019-07-12T00:00:00",
          "2019-08-12T00:00:00",
          "2019-09-12T00:00:00",
          "2019-10-12T00:00:00",
          "2019-11-12T00:00:00",
          "2019-12-12T00:00:00",
          "2020-01-12T00:00:00",
          "2020-02-12T00:00:00",
          "2020-03-12T00:00:00",
          "2020-04-12T00:00:00"
         ],
         "xaxis": "x",
         "y": [
          8.252005568303463,
          8.091116411841245,
          8.410943345882895,
          8.521073567219522,
          8.677598852756416,
          8.372870515890298,
          8.01325724869452,
          7.973855512902094,
          7.935191550651378,
          8.221911094982035,
          8.221253447915565,
          8.0582040487884,
          8.29329924048851,
          7.4693635540317835,
          7.872035629722364,
          7.698108947740283,
          7.524004923373113,
          8.210275191977965,
          7.800183196599575,
          8.066408401766935,
          7.6843969990392464,
          6.924081130621293,
          7.497451158395637,
          7.383544935058521,
          7.021564605123108,
          8.150472764976328,
          7.217012476736562,
          7.10643717681133,
          7.668331438153618,
          7.585802837429916,
          7.391815926190983,
          7.6397278824381045,
          7.538021769732874,
          6.988797943470397,
          7.106870302829674,
          7.381368716311397,
          6.883048704376398,
          7.604528324654324,
          7.477375679718727,
          6.811342522824361,
          7.589154303523073
         ],
         "yaxis": "y"
        }
       ],
       "layout": {
        "font": {
         "family": "Roboto"
        },
        "legend": {
         "title": {
          "text": ""
         },
         "tracegroupgap": 0
        },
        "margin": {
         "t": 60
        },
        "template": {
         "data": {
          "bar": [
           {
            "error_x": {
             "color": "#2a3f5f"
            },
            "error_y": {
             "color": "#2a3f5f"
            },
            "marker": {
             "line": {
              "color": "#E5ECF6",
              "width": 0.5
             }
            },
            "type": "bar"
           }
          ],
          "barpolar": [
           {
            "marker": {
             "line": {
              "color": "#E5ECF6",
              "width": 0.5
             }
            },
            "type": "barpolar"
           }
          ],
          "carpet": [
           {
            "aaxis": {
             "endlinecolor": "#2a3f5f",
             "gridcolor": "white",
             "linecolor": "white",
             "minorgridcolor": "white",
             "startlinecolor": "#2a3f5f"
            },
            "baxis": {
             "endlinecolor": "#2a3f5f",
             "gridcolor": "white",
             "linecolor": "white",
             "minorgridcolor": "white",
             "startlinecolor": "#2a3f5f"
            },
            "type": "carpet"
           }
          ],
          "choropleth": [
           {
            "colorbar": {
             "outlinewidth": 0,
             "ticks": ""
            },
            "type": "choropleth"
           }
          ],
          "contour": [
           {
            "colorbar": {
             "outlinewidth": 0,
             "ticks": ""
            },
            "colorscale": [
             [
              0,
              "#0d0887"
             ],
             [
              0.1111111111111111,
              "#46039f"
             ],
             [
              0.2222222222222222,
              "#7201a8"
             ],
             [
              0.3333333333333333,
              "#9c179e"
             ],
             [
              0.4444444444444444,
              "#bd3786"
             ],
             [
              0.5555555555555556,
              "#d8576b"
             ],
             [
              0.6666666666666666,
              "#ed7953"
             ],
             [
              0.7777777777777778,
              "#fb9f3a"
             ],
             [
              0.8888888888888888,
              "#fdca26"
             ],
             [
              1,
              "#f0f921"
             ]
            ],
            "type": "contour"
           }
          ],
          "contourcarpet": [
           {
            "colorbar": {
             "outlinewidth": 0,
             "ticks": ""
            },
            "type": "contourcarpet"
           }
          ],
          "heatmap": [
           {
            "colorbar": {
             "outlinewidth": 0,
             "ticks": ""
            },
            "colorscale": [
             [
              0,
              "#0d0887"
             ],
             [
              0.1111111111111111,
              "#46039f"
             ],
             [
              0.2222222222222222,
              "#7201a8"
             ],
             [
              0.3333333333333333,
              "#9c179e"
             ],
             [
              0.4444444444444444,
              "#bd3786"
             ],
             [
              0.5555555555555556,
              "#d8576b"
             ],
             [
              0.6666666666666666,
              "#ed7953"
             ],
             [
              0.7777777777777778,
              "#fb9f3a"
             ],
             [
              0.8888888888888888,
              "#fdca26"
             ],
             [
              1,
              "#f0f921"
             ]
            ],
            "type": "heatmap"
           }
          ],
          "heatmapgl": [
           {
            "colorbar": {
             "outlinewidth": 0,
             "ticks": ""
            },
            "colorscale": [
             [
              0,
              "#0d0887"
             ],
             [
              0.1111111111111111,
              "#46039f"
             ],
             [
              0.2222222222222222,
              "#7201a8"
             ],
             [
              0.3333333333333333,
              "#9c179e"
             ],
             [
              0.4444444444444444,
              "#bd3786"
             ],
             [
              0.5555555555555556,
              "#d8576b"
             ],
             [
              0.6666666666666666,
              "#ed7953"
             ],
             [
              0.7777777777777778,
              "#fb9f3a"
             ],
             [
              0.8888888888888888,
              "#fdca26"
             ],
             [
              1,
              "#f0f921"
             ]
            ],
            "type": "heatmapgl"
           }
          ],
          "histogram": [
           {
            "marker": {
             "colorbar": {
              "outlinewidth": 0,
              "ticks": ""
             }
            },
            "type": "histogram"
           }
          ],
          "histogram2d": [
           {
            "colorbar": {
             "outlinewidth": 0,
             "ticks": ""
            },
            "colorscale": [
             [
              0,
              "#0d0887"
             ],
             [
              0.1111111111111111,
              "#46039f"
             ],
             [
              0.2222222222222222,
              "#7201a8"
             ],
             [
              0.3333333333333333,
              "#9c179e"
             ],
             [
              0.4444444444444444,
              "#bd3786"
             ],
             [
              0.5555555555555556,
              "#d8576b"
             ],
             [
              0.6666666666666666,
              "#ed7953"
             ],
             [
              0.7777777777777778,
              "#fb9f3a"
             ],
             [
              0.8888888888888888,
              "#fdca26"
             ],
             [
              1,
              "#f0f921"
             ]
            ],
            "type": "histogram2d"
           }
          ],
          "histogram2dcontour": [
           {
            "colorbar": {
             "outlinewidth": 0,
             "ticks": ""
            },
            "colorscale": [
             [
              0,
              "#0d0887"
             ],
             [
              0.1111111111111111,
              "#46039f"
             ],
             [
              0.2222222222222222,
              "#7201a8"
             ],
             [
              0.3333333333333333,
              "#9c179e"
             ],
             [
              0.4444444444444444,
              "#bd3786"
             ],
             [
              0.5555555555555556,
              "#d8576b"
             ],
             [
              0.6666666666666666,
              "#ed7953"
             ],
             [
              0.7777777777777778,
              "#fb9f3a"
             ],
             [
              0.8888888888888888,
              "#fdca26"
             ],
             [
              1,
              "#f0f921"
             ]
            ],
            "type": "histogram2dcontour"
           }
          ],
          "mesh3d": [
           {
            "colorbar": {
             "outlinewidth": 0,
             "ticks": ""
            },
            "type": "mesh3d"
           }
          ],
          "parcoords": [
           {
            "line": {
             "colorbar": {
              "outlinewidth": 0,
              "ticks": ""
             }
            },
            "type": "parcoords"
           }
          ],
          "pie": [
           {
            "automargin": true,
            "type": "pie"
           }
          ],
          "scatter": [
           {
            "marker": {
             "colorbar": {
              "outlinewidth": 0,
              "ticks": ""
             }
            },
            "type": "scatter"
           }
          ],
          "scatter3d": [
           {
            "line": {
             "colorbar": {
              "outlinewidth": 0,
              "ticks": ""
             }
            },
            "marker": {
             "colorbar": {
              "outlinewidth": 0,
              "ticks": ""
             }
            },
            "type": "scatter3d"
           }
          ],
          "scattercarpet": [
           {
            "marker": {
             "colorbar": {
              "outlinewidth": 0,
              "ticks": ""
             }
            },
            "type": "scattercarpet"
           }
          ],
          "scattergeo": [
           {
            "marker": {
             "colorbar": {
              "outlinewidth": 0,
              "ticks": ""
             }
            },
            "type": "scattergeo"
           }
          ],
          "scattergl": [
           {
            "marker": {
             "colorbar": {
              "outlinewidth": 0,
              "ticks": ""
             }
            },
            "type": "scattergl"
           }
          ],
          "scattermapbox": [
           {
            "marker": {
             "colorbar": {
              "outlinewidth": 0,
              "ticks": ""
             }
            },
            "type": "scattermapbox"
           }
          ],
          "scatterpolar": [
           {
            "marker": {
             "colorbar": {
              "outlinewidth": 0,
              "ticks": ""
             }
            },
            "type": "scatterpolar"
           }
          ],
          "scatterpolargl": [
           {
            "marker": {
             "colorbar": {
              "outlinewidth": 0,
              "ticks": ""
             }
            },
            "type": "scatterpolargl"
           }
          ],
          "scatterternary": [
           {
            "marker": {
             "colorbar": {
              "outlinewidth": 0,
              "ticks": ""
             }
            },
            "type": "scatterternary"
           }
          ],
          "surface": [
           {
            "colorbar": {
             "outlinewidth": 0,
             "ticks": ""
            },
            "colorscale": [
             [
              0,
              "#0d0887"
             ],
             [
              0.1111111111111111,
              "#46039f"
             ],
             [
              0.2222222222222222,
              "#7201a8"
             ],
             [
              0.3333333333333333,
              "#9c179e"
             ],
             [
              0.4444444444444444,
              "#bd3786"
             ],
             [
              0.5555555555555556,
              "#d8576b"
             ],
             [
              0.6666666666666666,
              "#ed7953"
             ],
             [
              0.7777777777777778,
              "#fb9f3a"
             ],
             [
              0.8888888888888888,
              "#fdca26"
             ],
             [
              1,
              "#f0f921"
             ]
            ],
            "type": "surface"
           }
          ],
          "table": [
           {
            "cells": {
             "fill": {
              "color": "#EBF0F8"
             },
             "line": {
              "color": "white"
             }
            },
            "header": {
             "fill": {
              "color": "#C8D4E3"
             },
             "line": {
              "color": "white"
             }
            },
            "type": "table"
           }
          ]
         },
         "layout": {
          "annotationdefaults": {
           "arrowcolor": "#2a3f5f",
           "arrowhead": 0,
           "arrowwidth": 1
          },
          "coloraxis": {
           "colorbar": {
            "outlinewidth": 0,
            "ticks": ""
           }
          },
          "colorscale": {
           "diverging": [
            [
             0,
             "#8e0152"
            ],
            [
             0.1,
             "#c51b7d"
            ],
            [
             0.2,
             "#de77ae"
            ],
            [
             0.3,
             "#f1b6da"
            ],
            [
             0.4,
             "#fde0ef"
            ],
            [
             0.5,
             "#f7f7f7"
            ],
            [
             0.6,
             "#e6f5d0"
            ],
            [
             0.7,
             "#b8e186"
            ],
            [
             0.8,
             "#7fbc41"
            ],
            [
             0.9,
             "#4d9221"
            ],
            [
             1,
             "#276419"
            ]
           ],
           "sequential": [
            [
             0,
             "#0d0887"
            ],
            [
             0.1111111111111111,
             "#46039f"
            ],
            [
             0.2222222222222222,
             "#7201a8"
            ],
            [
             0.3333333333333333,
             "#9c179e"
            ],
            [
             0.4444444444444444,
             "#bd3786"
            ],
            [
             0.5555555555555556,
             "#d8576b"
            ],
            [
             0.6666666666666666,
             "#ed7953"
            ],
            [
             0.7777777777777778,
             "#fb9f3a"
            ],
            [
             0.8888888888888888,
             "#fdca26"
            ],
            [
             1,
             "#f0f921"
            ]
           ],
           "sequentialminus": [
            [
             0,
             "#0d0887"
            ],
            [
             0.1111111111111111,
             "#46039f"
            ],
            [
             0.2222222222222222,
             "#7201a8"
            ],
            [
             0.3333333333333333,
             "#9c179e"
            ],
            [
             0.4444444444444444,
             "#bd3786"
            ],
            [
             0.5555555555555556,
             "#d8576b"
            ],
            [
             0.6666666666666666,
             "#ed7953"
            ],
            [
             0.7777777777777778,
             "#fb9f3a"
            ],
            [
             0.8888888888888888,
             "#fdca26"
            ],
            [
             1,
             "#f0f921"
            ]
           ]
          },
          "colorway": [
           "#636efa",
           "#EF553B",
           "#00cc96",
           "#ab63fa",
           "#FFA15A",
           "#19d3f3",
           "#FF6692",
           "#B6E880",
           "#FF97FF",
           "#FECB52"
          ],
          "font": {
           "color": "#2a3f5f"
          },
          "geo": {
           "bgcolor": "white",
           "lakecolor": "white",
           "landcolor": "#E5ECF6",
           "showlakes": true,
           "showland": true,
           "subunitcolor": "white"
          },
          "hoverlabel": {
           "align": "left"
          },
          "hovermode": "closest",
          "mapbox": {
           "style": "light"
          },
          "paper_bgcolor": "white",
          "plot_bgcolor": "#E5ECF6",
          "polar": {
           "angularaxis": {
            "gridcolor": "white",
            "linecolor": "white",
            "ticks": ""
           },
           "bgcolor": "#E5ECF6",
           "radialaxis": {
            "gridcolor": "white",
            "linecolor": "white",
            "ticks": ""
           }
          },
          "scene": {
           "xaxis": {
            "backgroundcolor": "#E5ECF6",
            "gridcolor": "white",
            "gridwidth": 2,
            "linecolor": "white",
            "showbackground": true,
            "ticks": "",
            "zerolinecolor": "white"
           },
           "yaxis": {
            "backgroundcolor": "#E5ECF6",
            "gridcolor": "white",
            "gridwidth": 2,
            "linecolor": "white",
            "showbackground": true,
            "ticks": "",
            "zerolinecolor": "white"
           },
           "zaxis": {
            "backgroundcolor": "#E5ECF6",
            "gridcolor": "white",
            "gridwidth": 2,
            "linecolor": "white",
            "showbackground": true,
            "ticks": "",
            "zerolinecolor": "white"
           }
          },
          "shapedefaults": {
           "line": {
            "color": "#2a3f5f"
           }
          },
          "ternary": {
           "aaxis": {
            "gridcolor": "white",
            "linecolor": "white",
            "ticks": ""
           },
           "baxis": {
            "gridcolor": "white",
            "linecolor": "white",
            "ticks": ""
           },
           "bgcolor": "#E5ECF6",
           "caxis": {
            "gridcolor": "white",
            "linecolor": "white",
            "ticks": ""
           }
          },
          "title": {
           "x": 0.05
          },
          "xaxis": {
           "automargin": true,
           "gridcolor": "white",
           "linecolor": "white",
           "ticks": "",
           "title": {
            "standoff": 15
           },
           "zerolinecolor": "white",
           "zerolinewidth": 2
          },
          "yaxis": {
           "automargin": true,
           "gridcolor": "white",
           "linecolor": "white",
           "ticks": "",
           "title": {
            "standoff": 15
           },
           "zerolinecolor": "white",
           "zerolinewidth": 2
          }
         }
        },
        "title": {
         "text": "Disability rate by race, civilians aged 25 to 54"
        },
        "xaxis": {
         "anchor": "y",
         "domain": [
          0,
          1
         ],
         "title": {
          "text": ""
         }
        },
        "yaxis": {
         "anchor": "x",
         "domain": [
          0,
          1
         ],
         "ticksuffix": "%",
         "title": {
          "text": "Share of civilians aged 25 to 54 who report any difficulty"
         }
        }
       }
      },
      "text/html": [
       "<div>\n",
       "        \n",
       "        \n",
       "            <div id=\"d98a1f01-c760-44e1-b548-21a60f6495da\" class=\"plotly-graph-div\" style=\"height:525px; width:100%;\"></div>\n",
       "            <script type=\"text/javascript\">\n",
       "                require([\"plotly\"], function(Plotly) {\n",
       "                    window.PLOTLYENV=window.PLOTLYENV || {};\n",
       "                    \n",
       "                if (document.getElementById(\"d98a1f01-c760-44e1-b548-21a60f6495da\")) {\n",
       "                    Plotly.newPlot(\n",
       "                        'd98a1f01-c760-44e1-b548-21a60f6495da',\n",
       "                        [{\"hovertemplate\": \"race=Not Black<br>date=%{x}<br>disability_rate=%{y}<extra></extra>\", \"legendgroup\": \"Not Black\", \"line\": {\"color\": \"#636efa\", \"dash\": \"solid\"}, \"mode\": \"lines\", \"name\": \"Not Black\", \"orientation\": \"v\", \"showlegend\": true, \"type\": \"scatter\", \"x\": [\"2016-12-12T00:00:00\", \"2017-01-12T00:00:00\", \"2017-02-12T00:00:00\", \"2017-03-12T00:00:00\", \"2017-04-12T00:00:00\", \"2017-05-12T00:00:00\", \"2017-06-12T00:00:00\", \"2017-07-12T00:00:00\", \"2017-08-12T00:00:00\", \"2017-09-12T00:00:00\", \"2017-10-12T00:00:00\", \"2017-11-12T00:00:00\", \"2017-12-12T00:00:00\", \"2018-01-12T00:00:00\", \"2018-02-12T00:00:00\", \"2018-03-12T00:00:00\", \"2018-04-12T00:00:00\", \"2018-05-12T00:00:00\", \"2018-06-12T00:00:00\", \"2018-07-12T00:00:00\", \"2018-08-12T00:00:00\", \"2018-09-12T00:00:00\", \"2018-10-12T00:00:00\", \"2018-11-12T00:00:00\", \"2018-12-12T00:00:00\", \"2019-01-12T00:00:00\", \"2019-02-12T00:00:00\", \"2019-03-12T00:00:00\", \"2019-04-12T00:00:00\", \"2019-05-12T00:00:00\", \"2019-06-12T00:00:00\", \"2019-07-12T00:00:00\", \"2019-08-12T00:00:00\", \"2019-09-12T00:00:00\", \"2019-10-12T00:00:00\", \"2019-11-12T00:00:00\", \"2019-12-12T00:00:00\", \"2020-01-12T00:00:00\", \"2020-02-12T00:00:00\", \"2020-03-12T00:00:00\", \"2020-04-12T00:00:00\"], \"xaxis\": \"x\", \"y\": [5.792153384962203, 5.924352574894987, 6.054059689122423, 6.027217827341477, 6.137303842679592, 6.0160444244654645, 6.018045006035898, 6.062117172931191, 5.949650610312868, 5.829635878203322, 5.742359506836614, 5.728146406460595, 5.582596211659017, 5.707158215949334, 5.897070786522894, 5.714705861870787, 5.696935078561608, 5.639928399272778, 5.656007290092613, 5.672481177257547, 5.73426899755447, 5.7180544646060385, 5.631972205209596, 5.657106580399912, 5.602701474355634, 5.667138534820809, 5.800944835942555, 5.764908811632141, 5.8897585727936175, 5.927851840066597, 5.655200164208411, 5.718608959713228, 5.571868512441337, 5.51107407988739, 5.737951931416406, 5.678773095604012, 5.72977262887566, 5.846052425682255, 5.61339021573219, 5.590227769121531, 5.399649299685399], \"yaxis\": \"y\"}, {\"hovertemplate\": \"race=Black<br>date=%{x}<br>disability_rate=%{y}<extra></extra>\", \"legendgroup\": \"Black\", \"line\": {\"color\": \"#EF553B\", \"dash\": \"solid\"}, \"mode\": \"lines\", \"name\": \"Black\", \"orientation\": \"v\", \"showlegend\": true, \"type\": \"scatter\", \"x\": [\"2016-12-12T00:00:00\", \"2017-01-12T00:00:00\", \"2017-02-12T00:00:00\", \"2017-03-12T00:00:00\", \"2017-04-12T00:00:00\", \"2017-05-12T00:00:00\", \"2017-06-12T00:00:00\", \"2017-07-12T00:00:00\", \"2017-08-12T00:00:00\", \"2017-09-12T00:00:00\", \"2017-10-12T00:00:00\", \"2017-11-12T00:00:00\", \"2017-12-12T00:00:00\", \"2018-01-12T00:00:00\", \"2018-02-12T00:00:00\", \"2018-03-12T00:00:00\", \"2018-04-12T00:00:00\", \"2018-05-12T00:00:00\", \"2018-06-12T00:00:00\", \"2018-07-12T00:00:00\", \"2018-08-12T00:00:00\", \"2018-09-12T00:00:00\", \"2018-10-12T00:00:00\", \"2018-11-12T00:00:00\", \"2018-12-12T00:00:00\", \"2019-01-12T00:00:00\", \"2019-02-12T00:00:00\", \"2019-03-12T00:00:00\", \"2019-04-12T00:00:00\", \"2019-05-12T00:00:00\", \"2019-06-12T00:00:00\", \"2019-07-12T00:00:00\", \"2019-08-12T00:00:00\", \"2019-09-12T00:00:00\", \"2019-10-12T00:00:00\", \"2019-11-12T00:00:00\", \"2019-12-12T00:00:00\", \"2020-01-12T00:00:00\", \"2020-02-12T00:00:00\", \"2020-03-12T00:00:00\", \"2020-04-12T00:00:00\"], \"xaxis\": \"x\", \"y\": [8.252005568303463, 8.091116411841245, 8.410943345882895, 8.521073567219522, 8.677598852756416, 8.372870515890298, 8.01325724869452, 7.973855512902094, 7.935191550651378, 8.221911094982035, 8.221253447915565, 8.0582040487884, 8.29329924048851, 7.4693635540317835, 7.872035629722364, 7.698108947740283, 7.524004923373113, 8.210275191977965, 7.800183196599575, 8.066408401766935, 7.6843969990392464, 6.924081130621293, 7.497451158395637, 7.383544935058521, 7.021564605123108, 8.150472764976328, 7.217012476736562, 7.10643717681133, 7.668331438153618, 7.585802837429916, 7.391815926190983, 7.6397278824381045, 7.538021769732874, 6.988797943470397, 7.106870302829674, 7.381368716311397, 6.883048704376398, 7.604528324654324, 7.477375679718727, 6.811342522824361, 7.589154303523073], \"yaxis\": \"y\"}],\n",
       "                        {\"font\": {\"family\": \"Roboto\"}, \"legend\": {\"title\": {\"text\": \"\"}, \"tracegroupgap\": 0}, \"margin\": {\"t\": 60}, \"template\": {\"data\": {\"bar\": [{\"error_x\": {\"color\": \"#2a3f5f\"}, \"error_y\": {\"color\": \"#2a3f5f\"}, \"marker\": {\"line\": {\"color\": \"#E5ECF6\", \"width\": 0.5}}, \"type\": \"bar\"}], \"barpolar\": [{\"marker\": {\"line\": {\"color\": \"#E5ECF6\", \"width\": 0.5}}, \"type\": \"barpolar\"}], \"carpet\": [{\"aaxis\": {\"endlinecolor\": \"#2a3f5f\", \"gridcolor\": \"white\", \"linecolor\": \"white\", \"minorgridcolor\": \"white\", \"startlinecolor\": \"#2a3f5f\"}, \"baxis\": {\"endlinecolor\": \"#2a3f5f\", \"gridcolor\": \"white\", \"linecolor\": \"white\", \"minorgridcolor\": \"white\", \"startlinecolor\": \"#2a3f5f\"}, \"type\": \"carpet\"}], \"choropleth\": [{\"colorbar\": {\"outlinewidth\": 0, \"ticks\": \"\"}, \"type\": \"choropleth\"}], \"contour\": [{\"colorbar\": {\"outlinewidth\": 0, \"ticks\": \"\"}, \"colorscale\": [[0.0, \"#0d0887\"], [0.1111111111111111, \"#46039f\"], [0.2222222222222222, \"#7201a8\"], [0.3333333333333333, \"#9c179e\"], [0.4444444444444444, \"#bd3786\"], [0.5555555555555556, \"#d8576b\"], [0.6666666666666666, \"#ed7953\"], [0.7777777777777778, \"#fb9f3a\"], [0.8888888888888888, \"#fdca26\"], [1.0, \"#f0f921\"]], \"type\": \"contour\"}], \"contourcarpet\": [{\"colorbar\": {\"outlinewidth\": 0, \"ticks\": \"\"}, \"type\": \"contourcarpet\"}], \"heatmap\": [{\"colorbar\": {\"outlinewidth\": 0, \"ticks\": \"\"}, \"colorscale\": [[0.0, \"#0d0887\"], [0.1111111111111111, \"#46039f\"], [0.2222222222222222, \"#7201a8\"], [0.3333333333333333, \"#9c179e\"], [0.4444444444444444, \"#bd3786\"], [0.5555555555555556, \"#d8576b\"], [0.6666666666666666, \"#ed7953\"], [0.7777777777777778, \"#fb9f3a\"], [0.8888888888888888, \"#fdca26\"], [1.0, \"#f0f921\"]], \"type\": \"heatmap\"}], \"heatmapgl\": [{\"colorbar\": {\"outlinewidth\": 0, \"ticks\": \"\"}, \"colorscale\": [[0.0, \"#0d0887\"], [0.1111111111111111, \"#46039f\"], [0.2222222222222222, \"#7201a8\"], [0.3333333333333333, \"#9c179e\"], [0.4444444444444444, \"#bd3786\"], [0.5555555555555556, \"#d8576b\"], [0.6666666666666666, \"#ed7953\"], [0.7777777777777778, \"#fb9f3a\"], [0.8888888888888888, \"#fdca26\"], [1.0, \"#f0f921\"]], \"type\": \"heatmapgl\"}], \"histogram\": [{\"marker\": {\"colorbar\": {\"outlinewidth\": 0, \"ticks\": \"\"}}, \"type\": \"histogram\"}], \"histogram2d\": [{\"colorbar\": {\"outlinewidth\": 0, \"ticks\": \"\"}, \"colorscale\": [[0.0, \"#0d0887\"], [0.1111111111111111, \"#46039f\"], [0.2222222222222222, \"#7201a8\"], [0.3333333333333333, \"#9c179e\"], [0.4444444444444444, \"#bd3786\"], [0.5555555555555556, \"#d8576b\"], [0.6666666666666666, \"#ed7953\"], [0.7777777777777778, \"#fb9f3a\"], [0.8888888888888888, \"#fdca26\"], [1.0, \"#f0f921\"]], \"type\": \"histogram2d\"}], \"histogram2dcontour\": [{\"colorbar\": {\"outlinewidth\": 0, \"ticks\": \"\"}, \"colorscale\": [[0.0, \"#0d0887\"], [0.1111111111111111, \"#46039f\"], [0.2222222222222222, \"#7201a8\"], [0.3333333333333333, \"#9c179e\"], [0.4444444444444444, \"#bd3786\"], [0.5555555555555556, \"#d8576b\"], [0.6666666666666666, \"#ed7953\"], [0.7777777777777778, \"#fb9f3a\"], [0.8888888888888888, \"#fdca26\"], [1.0, \"#f0f921\"]], \"type\": \"histogram2dcontour\"}], \"mesh3d\": [{\"colorbar\": {\"outlinewidth\": 0, \"ticks\": \"\"}, \"type\": \"mesh3d\"}], \"parcoords\": [{\"line\": {\"colorbar\": {\"outlinewidth\": 0, \"ticks\": \"\"}}, \"type\": \"parcoords\"}], \"pie\": [{\"automargin\": true, \"type\": \"pie\"}], \"scatter\": [{\"marker\": {\"colorbar\": {\"outlinewidth\": 0, \"ticks\": \"\"}}, \"type\": \"scatter\"}], \"scatter3d\": [{\"line\": {\"colorbar\": {\"outlinewidth\": 0, \"ticks\": \"\"}}, \"marker\": {\"colorbar\": {\"outlinewidth\": 0, \"ticks\": \"\"}}, \"type\": \"scatter3d\"}], \"scattercarpet\": [{\"marker\": {\"colorbar\": {\"outlinewidth\": 0, \"ticks\": \"\"}}, \"type\": \"scattercarpet\"}], \"scattergeo\": [{\"marker\": {\"colorbar\": {\"outlinewidth\": 0, \"ticks\": \"\"}}, \"type\": \"scattergeo\"}], \"scattergl\": [{\"marker\": {\"colorbar\": {\"outlinewidth\": 0, \"ticks\": \"\"}}, \"type\": \"scattergl\"}], \"scattermapbox\": [{\"marker\": {\"colorbar\": {\"outlinewidth\": 0, \"ticks\": \"\"}}, \"type\": \"scattermapbox\"}], \"scatterpolar\": [{\"marker\": {\"colorbar\": {\"outlinewidth\": 0, \"ticks\": \"\"}}, \"type\": \"scatterpolar\"}], \"scatterpolargl\": [{\"marker\": {\"colorbar\": {\"outlinewidth\": 0, \"ticks\": \"\"}}, \"type\": \"scatterpolargl\"}], \"scatterternary\": [{\"marker\": {\"colorbar\": {\"outlinewidth\": 0, \"ticks\": \"\"}}, \"type\": \"scatterternary\"}], \"surface\": [{\"colorbar\": {\"outlinewidth\": 0, \"ticks\": \"\"}, \"colorscale\": [[0.0, \"#0d0887\"], [0.1111111111111111, \"#46039f\"], [0.2222222222222222, \"#7201a8\"], [0.3333333333333333, \"#9c179e\"], [0.4444444444444444, \"#bd3786\"], [0.5555555555555556, \"#d8576b\"], [0.6666666666666666, \"#ed7953\"], [0.7777777777777778, \"#fb9f3a\"], [0.8888888888888888, \"#fdca26\"], [1.0, \"#f0f921\"]], \"type\": \"surface\"}], \"table\": [{\"cells\": {\"fill\": {\"color\": \"#EBF0F8\"}, \"line\": {\"color\": \"white\"}}, \"header\": {\"fill\": {\"color\": \"#C8D4E3\"}, \"line\": {\"color\": \"white\"}}, \"type\": \"table\"}]}, \"layout\": {\"annotationdefaults\": {\"arrowcolor\": \"#2a3f5f\", \"arrowhead\": 0, \"arrowwidth\": 1}, \"coloraxis\": {\"colorbar\": {\"outlinewidth\": 0, \"ticks\": \"\"}}, \"colorscale\": {\"diverging\": [[0, \"#8e0152\"], [0.1, \"#c51b7d\"], [0.2, \"#de77ae\"], [0.3, \"#f1b6da\"], [0.4, \"#fde0ef\"], [0.5, \"#f7f7f7\"], [0.6, \"#e6f5d0\"], [0.7, \"#b8e186\"], [0.8, \"#7fbc41\"], [0.9, \"#4d9221\"], [1, \"#276419\"]], \"sequential\": [[0.0, \"#0d0887\"], [0.1111111111111111, \"#46039f\"], [0.2222222222222222, \"#7201a8\"], [0.3333333333333333, \"#9c179e\"], [0.4444444444444444, \"#bd3786\"], [0.5555555555555556, \"#d8576b\"], [0.6666666666666666, \"#ed7953\"], [0.7777777777777778, \"#fb9f3a\"], [0.8888888888888888, \"#fdca26\"], [1.0, \"#f0f921\"]], \"sequentialminus\": [[0.0, \"#0d0887\"], [0.1111111111111111, \"#46039f\"], [0.2222222222222222, \"#7201a8\"], [0.3333333333333333, \"#9c179e\"], [0.4444444444444444, \"#bd3786\"], [0.5555555555555556, \"#d8576b\"], [0.6666666666666666, \"#ed7953\"], [0.7777777777777778, \"#fb9f3a\"], [0.8888888888888888, \"#fdca26\"], [1.0, \"#f0f921\"]]}, \"colorway\": [\"#636efa\", \"#EF553B\", \"#00cc96\", \"#ab63fa\", \"#FFA15A\", \"#19d3f3\", \"#FF6692\", \"#B6E880\", \"#FF97FF\", \"#FECB52\"], \"font\": {\"color\": \"#2a3f5f\"}, \"geo\": {\"bgcolor\": \"white\", \"lakecolor\": \"white\", \"landcolor\": \"#E5ECF6\", \"showlakes\": true, \"showland\": true, \"subunitcolor\": \"white\"}, \"hoverlabel\": {\"align\": \"left\"}, \"hovermode\": \"closest\", \"mapbox\": {\"style\": \"light\"}, \"paper_bgcolor\": \"white\", \"plot_bgcolor\": \"#E5ECF6\", \"polar\": {\"angularaxis\": {\"gridcolor\": \"white\", \"linecolor\": \"white\", \"ticks\": \"\"}, \"bgcolor\": \"#E5ECF6\", \"radialaxis\": {\"gridcolor\": \"white\", \"linecolor\": \"white\", \"ticks\": \"\"}}, \"scene\": {\"xaxis\": {\"backgroundcolor\": \"#E5ECF6\", \"gridcolor\": \"white\", \"gridwidth\": 2, \"linecolor\": \"white\", \"showbackground\": true, \"ticks\": \"\", \"zerolinecolor\": \"white\"}, \"yaxis\": {\"backgroundcolor\": \"#E5ECF6\", \"gridcolor\": \"white\", \"gridwidth\": 2, \"linecolor\": \"white\", \"showbackground\": true, \"ticks\": \"\", \"zerolinecolor\": \"white\"}, \"zaxis\": {\"backgroundcolor\": \"#E5ECF6\", \"gridcolor\": \"white\", \"gridwidth\": 2, \"linecolor\": \"white\", \"showbackground\": true, \"ticks\": \"\", \"zerolinecolor\": \"white\"}}, \"shapedefaults\": {\"line\": {\"color\": \"#2a3f5f\"}}, \"ternary\": {\"aaxis\": {\"gridcolor\": \"white\", \"linecolor\": \"white\", \"ticks\": \"\"}, \"baxis\": {\"gridcolor\": \"white\", \"linecolor\": \"white\", \"ticks\": \"\"}, \"bgcolor\": \"#E5ECF6\", \"caxis\": {\"gridcolor\": \"white\", \"linecolor\": \"white\", \"ticks\": \"\"}}, \"title\": {\"x\": 0.05}, \"xaxis\": {\"automargin\": true, \"gridcolor\": \"white\", \"linecolor\": \"white\", \"ticks\": \"\", \"title\": {\"standoff\": 15}, \"zerolinecolor\": \"white\", \"zerolinewidth\": 2}, \"yaxis\": {\"automargin\": true, \"gridcolor\": \"white\", \"linecolor\": \"white\", \"ticks\": \"\", \"title\": {\"standoff\": 15}, \"zerolinecolor\": \"white\", \"zerolinewidth\": 2}}}, \"title\": {\"text\": \"Disability rate by race, civilians aged 25 to 54\"}, \"xaxis\": {\"anchor\": \"y\", \"domain\": [0.0, 1.0], \"title\": {\"text\": \"\"}}, \"yaxis\": {\"anchor\": \"x\", \"domain\": [0.0, 1.0], \"ticksuffix\": \"%\", \"title\": {\"text\": \"Share of civilians aged 25 to 54 who report any difficulty\"}}},\n",
       "                        {\"responsive\": true}\n",
       "                    ).then(function(){\n",
       "                            \n",
       "var gd = document.getElementById('d98a1f01-c760-44e1-b548-21a60f6495da');\n",
       "var x = new MutationObserver(function (mutations, observer) {{\n",
       "        var display = window.getComputedStyle(gd).display;\n",
       "        if (!display || display === 'none') {{\n",
       "            console.log([gd, 'removed!']);\n",
       "            Plotly.purge(gd);\n",
       "            observer.disconnect();\n",
       "        }}\n",
       "}});\n",
       "\n",
       "// Listen for the removal of the full notebook cells\n",
       "var notebookContainer = gd.closest('#notebook-container');\n",
       "if (notebookContainer) {{\n",
       "    x.observe(notebookContainer, {childList: true});\n",
       "}}\n",
       "\n",
       "// Listen for the clearing of the current output cell\n",
       "var outputEl = gd.closest('.output');\n",
       "if (outputEl) {{\n",
       "    x.observe(outputEl, {childList: true});\n",
       "}}\n",
       "\n",
       "                        })\n",
       "                };\n",
       "                });\n",
       "            </script>\n",
       "        </div>"
      ]
     },
     "metadata": {},
     "output_type": "display_data"
    }
   ],
   "source": [
    "fig = px.line(race_diffany, x='date', y='disability_rate', color='race')\n",
    "fig.update_layout(\n",
    "    title='Disability rate by race, civilians aged 25 to 54',\n",
    "    xaxis_title='',\n",
    "    yaxis_title='Share of civilians aged 25 to 54 who report any difficulty',\n",
    "    yaxis_ticksuffix='%',\n",
    "    legend_title_text='',\n",
    "    font=dict(family='Roboto')\n",
    ")\n",
    "\n",
    "fig.show()"
   ]
  },
  {
   "cell_type": "markdown",
   "metadata": {},
   "source": [
    "The disability employment gap is very large, but it has shrunk over time.\n",
    "From January 2017 to January 2020, it fell from 50 percentage points\n",
    "(30 percent among people with disabilities and 80 percent among people without disabilities)\n",
    "to 46 points (37 percent and 83 percent).\n",
    "Coronavirus has actually shrunk the gap further: since January, employment of people with disabilities\n",
    "has fallen 5 points, compared to 9 points among people without disabilities."
   ]
  },
  {
   "cell_type": "code",
   "execution_count": 4,
   "metadata": {
    "tags": [
     "hide-input"
    ]
   },
   "outputs": [
    {
     "data": {
      "application/vnd.plotly.v1+json": {
       "config": {
        "plotlyServerURL": "https://plot.ly"
       },
       "data": [
        {
         "hovertemplate": "disability=No disability<br>date=%{x}<br>emp_rate=%{y}<extra></extra>",
         "legendgroup": "No disability",
         "line": {
          "color": "#636efa",
          "dash": "solid"
         },
         "mode": "lines",
         "name": "No disability",
         "orientation": "v",
         "showlegend": true,
         "type": "scatter",
         "x": [
          "2016-12-12T00:00:00",
          "2017-01-12T00:00:00",
          "2017-02-12T00:00:00",
          "2017-03-12T00:00:00",
          "2017-04-12T00:00:00",
          "2017-05-12T00:00:00",
          "2017-06-12T00:00:00",
          "2017-07-12T00:00:00",
          "2017-08-12T00:00:00",
          "2017-09-12T00:00:00",
          "2017-10-12T00:00:00",
          "2017-11-12T00:00:00",
          "2017-12-12T00:00:00",
          "2018-01-12T00:00:00",
          "2018-02-12T00:00:00",
          "2018-03-12T00:00:00",
          "2018-04-12T00:00:00",
          "2018-05-12T00:00:00",
          "2018-06-12T00:00:00",
          "2018-07-12T00:00:00",
          "2018-08-12T00:00:00",
          "2018-09-12T00:00:00",
          "2018-10-12T00:00:00",
          "2018-11-12T00:00:00",
          "2018-12-12T00:00:00",
          "2019-01-12T00:00:00",
          "2019-02-12T00:00:00",
          "2019-03-12T00:00:00",
          "2019-04-12T00:00:00",
          "2019-05-12T00:00:00",
          "2019-06-12T00:00:00",
          "2019-07-12T00:00:00",
          "2019-08-12T00:00:00",
          "2019-09-12T00:00:00",
          "2019-10-12T00:00:00",
          "2019-11-12T00:00:00",
          "2019-12-12T00:00:00",
          "2020-01-12T00:00:00",
          "2020-02-12T00:00:00",
          "2020-03-12T00:00:00",
          "2020-04-12T00:00:00"
         ],
         "xaxis": "x",
         "y": [
          80.81320675572773,
          81.19858520235643,
          81.52399663831923,
          82.14671552712714,
          81.89706035464023,
          81.53241491267339,
          81.52450625746651,
          81.13598823305885,
          82.17297106543053,
          81.96508509622672,
          82.2031954615091,
          81.89483345743376,
          81.26400121372785,
          81.90940702085692,
          81.98427215301582,
          82.30298117259738,
          82.56286074468031,
          82.16263398162177,
          82.2102766435962,
          81.96554294739644,
          82.6047808307715,
          82.88659529927031,
          83.03243101319812,
          82.68723883051112,
          82.25647116659822,
          82.58123641515685,
          82.37551806192678,
          82.64964915621285,
          82.89900669241842,
          82.4816516851745,
          81.9044675899367,
          82.46093474726148,
          83.33364902245049,
          83.60728753093096,
          83.77105830852226,
          83.69709565612513,
          82.95615289198533,
          82.9961579674617,
          81.94729534750807,
          71.88041356159025,
          73.78529042274482
         ],
         "yaxis": "y"
        },
        {
         "hovertemplate": "disability=Has disability<br>date=%{x}<br>emp_rate=%{y}<extra></extra>",
         "legendgroup": "Has disability",
         "line": {
          "color": "#EF553B",
          "dash": "solid"
         },
         "mode": "lines",
         "name": "Has disability",
         "orientation": "v",
         "showlegend": true,
         "type": "scatter",
         "x": [
          "2016-12-12T00:00:00",
          "2017-01-12T00:00:00",
          "2017-02-12T00:00:00",
          "2017-03-12T00:00:00",
          "2017-04-12T00:00:00",
          "2017-05-12T00:00:00",
          "2017-06-12T00:00:00",
          "2017-07-12T00:00:00",
          "2017-08-12T00:00:00",
          "2017-09-12T00:00:00",
          "2017-10-12T00:00:00",
          "2017-11-12T00:00:00",
          "2017-12-12T00:00:00",
          "2018-01-12T00:00:00",
          "2018-02-12T00:00:00",
          "2018-03-12T00:00:00",
          "2018-04-12T00:00:00",
          "2018-05-12T00:00:00",
          "2018-06-12T00:00:00",
          "2018-07-12T00:00:00",
          "2018-08-12T00:00:00",
          "2018-09-12T00:00:00",
          "2018-10-12T00:00:00",
          "2018-11-12T00:00:00",
          "2018-12-12T00:00:00",
          "2019-01-12T00:00:00",
          "2019-02-12T00:00:00",
          "2019-03-12T00:00:00",
          "2019-04-12T00:00:00",
          "2019-05-12T00:00:00",
          "2019-06-12T00:00:00",
          "2019-07-12T00:00:00",
          "2019-08-12T00:00:00",
          "2019-09-12T00:00:00",
          "2019-10-12T00:00:00",
          "2019-11-12T00:00:00",
          "2019-12-12T00:00:00",
          "2020-01-12T00:00:00",
          "2020-02-12T00:00:00",
          "2020-03-12T00:00:00",
          "2020-04-12T00:00:00"
         ],
         "xaxis": "x",
         "y": [
          30.452405177396695,
          31.583478281026007,
          32.50363650769306,
          32.07244384401645,
          34.625879996040744,
          34.72291446179755,
          34.819728382841035,
          33.77728182354357,
          35.09392616749314,
          34.92697110362331,
          34.540535496492055,
          35.73382074216014,
          34.19819182907877,
          36.41662781672707,
          37.22302268876392,
          37.28394462608235,
          36.66506879158253,
          35.53453251936134,
          34.912081539359285,
          35.72848337709306,
          36.83503938340197,
          37.808996260743314,
          37.72088930204739,
          37.22319422682483,
          35.99005564578203,
          36.07068737319192,
          37.45006468976072,
          36.61859850598856,
          36.97088304225184,
          35.93704928172622,
          36.10025852301558,
          38.59167196653031,
          37.80932154484608,
          36.72504349998425,
          38.23943314266658,
          37.240983716738256,
          38.344108842383434,
          37.39715629462725,
          37.60865174718909,
          31.549158573750617,
          32.50569293695049
         ],
         "yaxis": "y"
        }
       ],
       "layout": {
        "font": {
         "family": "Roboto"
        },
        "legend": {
         "title": {
          "text": ""
         },
         "tracegroupgap": 0
        },
        "margin": {
         "t": 60
        },
        "template": {
         "data": {
          "bar": [
           {
            "error_x": {
             "color": "#2a3f5f"
            },
            "error_y": {
             "color": "#2a3f5f"
            },
            "marker": {
             "line": {
              "color": "#E5ECF6",
              "width": 0.5
             }
            },
            "type": "bar"
           }
          ],
          "barpolar": [
           {
            "marker": {
             "line": {
              "color": "#E5ECF6",
              "width": 0.5
             }
            },
            "type": "barpolar"
           }
          ],
          "carpet": [
           {
            "aaxis": {
             "endlinecolor": "#2a3f5f",
             "gridcolor": "white",
             "linecolor": "white",
             "minorgridcolor": "white",
             "startlinecolor": "#2a3f5f"
            },
            "baxis": {
             "endlinecolor": "#2a3f5f",
             "gridcolor": "white",
             "linecolor": "white",
             "minorgridcolor": "white",
             "startlinecolor": "#2a3f5f"
            },
            "type": "carpet"
           }
          ],
          "choropleth": [
           {
            "colorbar": {
             "outlinewidth": 0,
             "ticks": ""
            },
            "type": "choropleth"
           }
          ],
          "contour": [
           {
            "colorbar": {
             "outlinewidth": 0,
             "ticks": ""
            },
            "colorscale": [
             [
              0,
              "#0d0887"
             ],
             [
              0.1111111111111111,
              "#46039f"
             ],
             [
              0.2222222222222222,
              "#7201a8"
             ],
             [
              0.3333333333333333,
              "#9c179e"
             ],
             [
              0.4444444444444444,
              "#bd3786"
             ],
             [
              0.5555555555555556,
              "#d8576b"
             ],
             [
              0.6666666666666666,
              "#ed7953"
             ],
             [
              0.7777777777777778,
              "#fb9f3a"
             ],
             [
              0.8888888888888888,
              "#fdca26"
             ],
             [
              1,
              "#f0f921"
             ]
            ],
            "type": "contour"
           }
          ],
          "contourcarpet": [
           {
            "colorbar": {
             "outlinewidth": 0,
             "ticks": ""
            },
            "type": "contourcarpet"
           }
          ],
          "heatmap": [
           {
            "colorbar": {
             "outlinewidth": 0,
             "ticks": ""
            },
            "colorscale": [
             [
              0,
              "#0d0887"
             ],
             [
              0.1111111111111111,
              "#46039f"
             ],
             [
              0.2222222222222222,
              "#7201a8"
             ],
             [
              0.3333333333333333,
              "#9c179e"
             ],
             [
              0.4444444444444444,
              "#bd3786"
             ],
             [
              0.5555555555555556,
              "#d8576b"
             ],
             [
              0.6666666666666666,
              "#ed7953"
             ],
             [
              0.7777777777777778,
              "#fb9f3a"
             ],
             [
              0.8888888888888888,
              "#fdca26"
             ],
             [
              1,
              "#f0f921"
             ]
            ],
            "type": "heatmap"
           }
          ],
          "heatmapgl": [
           {
            "colorbar": {
             "outlinewidth": 0,
             "ticks": ""
            },
            "colorscale": [
             [
              0,
              "#0d0887"
             ],
             [
              0.1111111111111111,
              "#46039f"
             ],
             [
              0.2222222222222222,
              "#7201a8"
             ],
             [
              0.3333333333333333,
              "#9c179e"
             ],
             [
              0.4444444444444444,
              "#bd3786"
             ],
             [
              0.5555555555555556,
              "#d8576b"
             ],
             [
              0.6666666666666666,
              "#ed7953"
             ],
             [
              0.7777777777777778,
              "#fb9f3a"
             ],
             [
              0.8888888888888888,
              "#fdca26"
             ],
             [
              1,
              "#f0f921"
             ]
            ],
            "type": "heatmapgl"
           }
          ],
          "histogram": [
           {
            "marker": {
             "colorbar": {
              "outlinewidth": 0,
              "ticks": ""
             }
            },
            "type": "histogram"
           }
          ],
          "histogram2d": [
           {
            "colorbar": {
             "outlinewidth": 0,
             "ticks": ""
            },
            "colorscale": [
             [
              0,
              "#0d0887"
             ],
             [
              0.1111111111111111,
              "#46039f"
             ],
             [
              0.2222222222222222,
              "#7201a8"
             ],
             [
              0.3333333333333333,
              "#9c179e"
             ],
             [
              0.4444444444444444,
              "#bd3786"
             ],
             [
              0.5555555555555556,
              "#d8576b"
             ],
             [
              0.6666666666666666,
              "#ed7953"
             ],
             [
              0.7777777777777778,
              "#fb9f3a"
             ],
             [
              0.8888888888888888,
              "#fdca26"
             ],
             [
              1,
              "#f0f921"
             ]
            ],
            "type": "histogram2d"
           }
          ],
          "histogram2dcontour": [
           {
            "colorbar": {
             "outlinewidth": 0,
             "ticks": ""
            },
            "colorscale": [
             [
              0,
              "#0d0887"
             ],
             [
              0.1111111111111111,
              "#46039f"
             ],
             [
              0.2222222222222222,
              "#7201a8"
             ],
             [
              0.3333333333333333,
              "#9c179e"
             ],
             [
              0.4444444444444444,
              "#bd3786"
             ],
             [
              0.5555555555555556,
              "#d8576b"
             ],
             [
              0.6666666666666666,
              "#ed7953"
             ],
             [
              0.7777777777777778,
              "#fb9f3a"
             ],
             [
              0.8888888888888888,
              "#fdca26"
             ],
             [
              1,
              "#f0f921"
             ]
            ],
            "type": "histogram2dcontour"
           }
          ],
          "mesh3d": [
           {
            "colorbar": {
             "outlinewidth": 0,
             "ticks": ""
            },
            "type": "mesh3d"
           }
          ],
          "parcoords": [
           {
            "line": {
             "colorbar": {
              "outlinewidth": 0,
              "ticks": ""
             }
            },
            "type": "parcoords"
           }
          ],
          "pie": [
           {
            "automargin": true,
            "type": "pie"
           }
          ],
          "scatter": [
           {
            "marker": {
             "colorbar": {
              "outlinewidth": 0,
              "ticks": ""
             }
            },
            "type": "scatter"
           }
          ],
          "scatter3d": [
           {
            "line": {
             "colorbar": {
              "outlinewidth": 0,
              "ticks": ""
             }
            },
            "marker": {
             "colorbar": {
              "outlinewidth": 0,
              "ticks": ""
             }
            },
            "type": "scatter3d"
           }
          ],
          "scattercarpet": [
           {
            "marker": {
             "colorbar": {
              "outlinewidth": 0,
              "ticks": ""
             }
            },
            "type": "scattercarpet"
           }
          ],
          "scattergeo": [
           {
            "marker": {
             "colorbar": {
              "outlinewidth": 0,
              "ticks": ""
             }
            },
            "type": "scattergeo"
           }
          ],
          "scattergl": [
           {
            "marker": {
             "colorbar": {
              "outlinewidth": 0,
              "ticks": ""
             }
            },
            "type": "scattergl"
           }
          ],
          "scattermapbox": [
           {
            "marker": {
             "colorbar": {
              "outlinewidth": 0,
              "ticks": ""
             }
            },
            "type": "scattermapbox"
           }
          ],
          "scatterpolar": [
           {
            "marker": {
             "colorbar": {
              "outlinewidth": 0,
              "ticks": ""
             }
            },
            "type": "scatterpolar"
           }
          ],
          "scatterpolargl": [
           {
            "marker": {
             "colorbar": {
              "outlinewidth": 0,
              "ticks": ""
             }
            },
            "type": "scatterpolargl"
           }
          ],
          "scatterternary": [
           {
            "marker": {
             "colorbar": {
              "outlinewidth": 0,
              "ticks": ""
             }
            },
            "type": "scatterternary"
           }
          ],
          "surface": [
           {
            "colorbar": {
             "outlinewidth": 0,
             "ticks": ""
            },
            "colorscale": [
             [
              0,
              "#0d0887"
             ],
             [
              0.1111111111111111,
              "#46039f"
             ],
             [
              0.2222222222222222,
              "#7201a8"
             ],
             [
              0.3333333333333333,
              "#9c179e"
             ],
             [
              0.4444444444444444,
              "#bd3786"
             ],
             [
              0.5555555555555556,
              "#d8576b"
             ],
             [
              0.6666666666666666,
              "#ed7953"
             ],
             [
              0.7777777777777778,
              "#fb9f3a"
             ],
             [
              0.8888888888888888,
              "#fdca26"
             ],
             [
              1,
              "#f0f921"
             ]
            ],
            "type": "surface"
           }
          ],
          "table": [
           {
            "cells": {
             "fill": {
              "color": "#EBF0F8"
             },
             "line": {
              "color": "white"
             }
            },
            "header": {
             "fill": {
              "color": "#C8D4E3"
             },
             "line": {
              "color": "white"
             }
            },
            "type": "table"
           }
          ]
         },
         "layout": {
          "annotationdefaults": {
           "arrowcolor": "#2a3f5f",
           "arrowhead": 0,
           "arrowwidth": 1
          },
          "coloraxis": {
           "colorbar": {
            "outlinewidth": 0,
            "ticks": ""
           }
          },
          "colorscale": {
           "diverging": [
            [
             0,
             "#8e0152"
            ],
            [
             0.1,
             "#c51b7d"
            ],
            [
             0.2,
             "#de77ae"
            ],
            [
             0.3,
             "#f1b6da"
            ],
            [
             0.4,
             "#fde0ef"
            ],
            [
             0.5,
             "#f7f7f7"
            ],
            [
             0.6,
             "#e6f5d0"
            ],
            [
             0.7,
             "#b8e186"
            ],
            [
             0.8,
             "#7fbc41"
            ],
            [
             0.9,
             "#4d9221"
            ],
            [
             1,
             "#276419"
            ]
           ],
           "sequential": [
            [
             0,
             "#0d0887"
            ],
            [
             0.1111111111111111,
             "#46039f"
            ],
            [
             0.2222222222222222,
             "#7201a8"
            ],
            [
             0.3333333333333333,
             "#9c179e"
            ],
            [
             0.4444444444444444,
             "#bd3786"
            ],
            [
             0.5555555555555556,
             "#d8576b"
            ],
            [
             0.6666666666666666,
             "#ed7953"
            ],
            [
             0.7777777777777778,
             "#fb9f3a"
            ],
            [
             0.8888888888888888,
             "#fdca26"
            ],
            [
             1,
             "#f0f921"
            ]
           ],
           "sequentialminus": [
            [
             0,
             "#0d0887"
            ],
            [
             0.1111111111111111,
             "#46039f"
            ],
            [
             0.2222222222222222,
             "#7201a8"
            ],
            [
             0.3333333333333333,
             "#9c179e"
            ],
            [
             0.4444444444444444,
             "#bd3786"
            ],
            [
             0.5555555555555556,
             "#d8576b"
            ],
            [
             0.6666666666666666,
             "#ed7953"
            ],
            [
             0.7777777777777778,
             "#fb9f3a"
            ],
            [
             0.8888888888888888,
             "#fdca26"
            ],
            [
             1,
             "#f0f921"
            ]
           ]
          },
          "colorway": [
           "#636efa",
           "#EF553B",
           "#00cc96",
           "#ab63fa",
           "#FFA15A",
           "#19d3f3",
           "#FF6692",
           "#B6E880",
           "#FF97FF",
           "#FECB52"
          ],
          "font": {
           "color": "#2a3f5f"
          },
          "geo": {
           "bgcolor": "white",
           "lakecolor": "white",
           "landcolor": "#E5ECF6",
           "showlakes": true,
           "showland": true,
           "subunitcolor": "white"
          },
          "hoverlabel": {
           "align": "left"
          },
          "hovermode": "closest",
          "mapbox": {
           "style": "light"
          },
          "paper_bgcolor": "white",
          "plot_bgcolor": "#E5ECF6",
          "polar": {
           "angularaxis": {
            "gridcolor": "white",
            "linecolor": "white",
            "ticks": ""
           },
           "bgcolor": "#E5ECF6",
           "radialaxis": {
            "gridcolor": "white",
            "linecolor": "white",
            "ticks": ""
           }
          },
          "scene": {
           "xaxis": {
            "backgroundcolor": "#E5ECF6",
            "gridcolor": "white",
            "gridwidth": 2,
            "linecolor": "white",
            "showbackground": true,
            "ticks": "",
            "zerolinecolor": "white"
           },
           "yaxis": {
            "backgroundcolor": "#E5ECF6",
            "gridcolor": "white",
            "gridwidth": 2,
            "linecolor": "white",
            "showbackground": true,
            "ticks": "",
            "zerolinecolor": "white"
           },
           "zaxis": {
            "backgroundcolor": "#E5ECF6",
            "gridcolor": "white",
            "gridwidth": 2,
            "linecolor": "white",
            "showbackground": true,
            "ticks": "",
            "zerolinecolor": "white"
           }
          },
          "shapedefaults": {
           "line": {
            "color": "#2a3f5f"
           }
          },
          "ternary": {
           "aaxis": {
            "gridcolor": "white",
            "linecolor": "white",
            "ticks": ""
           },
           "baxis": {
            "gridcolor": "white",
            "linecolor": "white",
            "ticks": ""
           },
           "bgcolor": "#E5ECF6",
           "caxis": {
            "gridcolor": "white",
            "linecolor": "white",
            "ticks": ""
           }
          },
          "title": {
           "x": 0.05
          },
          "xaxis": {
           "automargin": true,
           "gridcolor": "white",
           "linecolor": "white",
           "ticks": "",
           "title": {
            "standoff": 15
           },
           "zerolinecolor": "white",
           "zerolinewidth": 2
          },
          "yaxis": {
           "automargin": true,
           "gridcolor": "white",
           "linecolor": "white",
           "ticks": "",
           "title": {
            "standoff": 15
           },
           "zerolinecolor": "white",
           "zerolinewidth": 2
          }
         }
        },
        "title": {
         "text": "Prime-age employment rate by disability status"
        },
        "xaxis": {
         "anchor": "y",
         "domain": [
          0,
          1
         ],
         "title": {
          "text": ""
         }
        },
        "yaxis": {
         "anchor": "x",
         "domain": [
          0,
          1
         ],
         "ticksuffix": "%",
         "title": {
          "text": "Employment rate of civilians aged 25 to 54"
         }
        }
       }
      },
      "text/html": [
       "<div>\n",
       "        \n",
       "        \n",
       "            <div id=\"8e1fe79e-d1de-45dd-abf1-b00face74319\" class=\"plotly-graph-div\" style=\"height:525px; width:100%;\"></div>\n",
       "            <script type=\"text/javascript\">\n",
       "                require([\"plotly\"], function(Plotly) {\n",
       "                    window.PLOTLYENV=window.PLOTLYENV || {};\n",
       "                    \n",
       "                if (document.getElementById(\"8e1fe79e-d1de-45dd-abf1-b00face74319\")) {\n",
       "                    Plotly.newPlot(\n",
       "                        '8e1fe79e-d1de-45dd-abf1-b00face74319',\n",
       "                        [{\"hovertemplate\": \"disability=No disability<br>date=%{x}<br>emp_rate=%{y}<extra></extra>\", \"legendgroup\": \"No disability\", \"line\": {\"color\": \"#636efa\", \"dash\": \"solid\"}, \"mode\": \"lines\", \"name\": \"No disability\", \"orientation\": \"v\", \"showlegend\": true, \"type\": \"scatter\", \"x\": [\"2016-12-12T00:00:00\", \"2017-01-12T00:00:00\", \"2017-02-12T00:00:00\", \"2017-03-12T00:00:00\", \"2017-04-12T00:00:00\", \"2017-05-12T00:00:00\", \"2017-06-12T00:00:00\", \"2017-07-12T00:00:00\", \"2017-08-12T00:00:00\", \"2017-09-12T00:00:00\", \"2017-10-12T00:00:00\", \"2017-11-12T00:00:00\", \"2017-12-12T00:00:00\", \"2018-01-12T00:00:00\", \"2018-02-12T00:00:00\", \"2018-03-12T00:00:00\", \"2018-04-12T00:00:00\", \"2018-05-12T00:00:00\", \"2018-06-12T00:00:00\", \"2018-07-12T00:00:00\", \"2018-08-12T00:00:00\", \"2018-09-12T00:00:00\", \"2018-10-12T00:00:00\", \"2018-11-12T00:00:00\", \"2018-12-12T00:00:00\", \"2019-01-12T00:00:00\", \"2019-02-12T00:00:00\", \"2019-03-12T00:00:00\", \"2019-04-12T00:00:00\", \"2019-05-12T00:00:00\", \"2019-06-12T00:00:00\", \"2019-07-12T00:00:00\", \"2019-08-12T00:00:00\", \"2019-09-12T00:00:00\", \"2019-10-12T00:00:00\", \"2019-11-12T00:00:00\", \"2019-12-12T00:00:00\", \"2020-01-12T00:00:00\", \"2020-02-12T00:00:00\", \"2020-03-12T00:00:00\", \"2020-04-12T00:00:00\"], \"xaxis\": \"x\", \"y\": [80.81320675572773, 81.19858520235643, 81.52399663831923, 82.14671552712714, 81.89706035464023, 81.53241491267339, 81.52450625746651, 81.13598823305885, 82.17297106543053, 81.96508509622672, 82.2031954615091, 81.89483345743376, 81.26400121372785, 81.90940702085692, 81.98427215301582, 82.30298117259738, 82.56286074468031, 82.16263398162177, 82.2102766435962, 81.96554294739644, 82.6047808307715, 82.88659529927031, 83.03243101319812, 82.68723883051112, 82.25647116659822, 82.58123641515685, 82.37551806192678, 82.64964915621285, 82.89900669241842, 82.4816516851745, 81.9044675899367, 82.46093474726148, 83.33364902245049, 83.60728753093096, 83.77105830852226, 83.69709565612513, 82.95615289198533, 82.9961579674617, 81.94729534750807, 71.88041356159025, 73.78529042274482], \"yaxis\": \"y\"}, {\"hovertemplate\": \"disability=Has disability<br>date=%{x}<br>emp_rate=%{y}<extra></extra>\", \"legendgroup\": \"Has disability\", \"line\": {\"color\": \"#EF553B\", \"dash\": \"solid\"}, \"mode\": \"lines\", \"name\": \"Has disability\", \"orientation\": \"v\", \"showlegend\": true, \"type\": \"scatter\", \"x\": [\"2016-12-12T00:00:00\", \"2017-01-12T00:00:00\", \"2017-02-12T00:00:00\", \"2017-03-12T00:00:00\", \"2017-04-12T00:00:00\", \"2017-05-12T00:00:00\", \"2017-06-12T00:00:00\", \"2017-07-12T00:00:00\", \"2017-08-12T00:00:00\", \"2017-09-12T00:00:00\", \"2017-10-12T00:00:00\", \"2017-11-12T00:00:00\", \"2017-12-12T00:00:00\", \"2018-01-12T00:00:00\", \"2018-02-12T00:00:00\", \"2018-03-12T00:00:00\", \"2018-04-12T00:00:00\", \"2018-05-12T00:00:00\", \"2018-06-12T00:00:00\", \"2018-07-12T00:00:00\", \"2018-08-12T00:00:00\", \"2018-09-12T00:00:00\", \"2018-10-12T00:00:00\", \"2018-11-12T00:00:00\", \"2018-12-12T00:00:00\", \"2019-01-12T00:00:00\", \"2019-02-12T00:00:00\", \"2019-03-12T00:00:00\", \"2019-04-12T00:00:00\", \"2019-05-12T00:00:00\", \"2019-06-12T00:00:00\", \"2019-07-12T00:00:00\", \"2019-08-12T00:00:00\", \"2019-09-12T00:00:00\", \"2019-10-12T00:00:00\", \"2019-11-12T00:00:00\", \"2019-12-12T00:00:00\", \"2020-01-12T00:00:00\", \"2020-02-12T00:00:00\", \"2020-03-12T00:00:00\", \"2020-04-12T00:00:00\"], \"xaxis\": \"x\", \"y\": [30.452405177396695, 31.583478281026007, 32.50363650769306, 32.07244384401645, 34.625879996040744, 34.72291446179755, 34.819728382841035, 33.77728182354357, 35.09392616749314, 34.92697110362331, 34.540535496492055, 35.73382074216014, 34.19819182907877, 36.41662781672707, 37.22302268876392, 37.28394462608235, 36.66506879158253, 35.53453251936134, 34.912081539359285, 35.72848337709306, 36.83503938340197, 37.808996260743314, 37.72088930204739, 37.22319422682483, 35.99005564578203, 36.07068737319192, 37.45006468976072, 36.61859850598856, 36.97088304225184, 35.93704928172622, 36.10025852301558, 38.59167196653031, 37.80932154484608, 36.72504349998425, 38.23943314266658, 37.240983716738256, 38.344108842383434, 37.39715629462725, 37.60865174718909, 31.549158573750617, 32.50569293695049], \"yaxis\": \"y\"}],\n",
       "                        {\"font\": {\"family\": \"Roboto\"}, \"legend\": {\"title\": {\"text\": \"\"}, \"tracegroupgap\": 0}, \"margin\": {\"t\": 60}, \"template\": {\"data\": {\"bar\": [{\"error_x\": {\"color\": \"#2a3f5f\"}, \"error_y\": {\"color\": \"#2a3f5f\"}, \"marker\": {\"line\": {\"color\": \"#E5ECF6\", \"width\": 0.5}}, \"type\": \"bar\"}], \"barpolar\": [{\"marker\": {\"line\": {\"color\": \"#E5ECF6\", \"width\": 0.5}}, \"type\": \"barpolar\"}], \"carpet\": [{\"aaxis\": {\"endlinecolor\": \"#2a3f5f\", \"gridcolor\": \"white\", \"linecolor\": \"white\", \"minorgridcolor\": \"white\", \"startlinecolor\": \"#2a3f5f\"}, \"baxis\": {\"endlinecolor\": \"#2a3f5f\", \"gridcolor\": \"white\", \"linecolor\": \"white\", \"minorgridcolor\": \"white\", \"startlinecolor\": \"#2a3f5f\"}, \"type\": \"carpet\"}], \"choropleth\": [{\"colorbar\": {\"outlinewidth\": 0, \"ticks\": \"\"}, \"type\": \"choropleth\"}], \"contour\": [{\"colorbar\": {\"outlinewidth\": 0, \"ticks\": \"\"}, \"colorscale\": [[0.0, \"#0d0887\"], [0.1111111111111111, \"#46039f\"], [0.2222222222222222, \"#7201a8\"], [0.3333333333333333, \"#9c179e\"], [0.4444444444444444, \"#bd3786\"], [0.5555555555555556, \"#d8576b\"], [0.6666666666666666, \"#ed7953\"], [0.7777777777777778, \"#fb9f3a\"], [0.8888888888888888, \"#fdca26\"], [1.0, \"#f0f921\"]], \"type\": \"contour\"}], \"contourcarpet\": [{\"colorbar\": {\"outlinewidth\": 0, \"ticks\": \"\"}, \"type\": \"contourcarpet\"}], \"heatmap\": [{\"colorbar\": {\"outlinewidth\": 0, \"ticks\": \"\"}, \"colorscale\": [[0.0, \"#0d0887\"], [0.1111111111111111, \"#46039f\"], [0.2222222222222222, \"#7201a8\"], [0.3333333333333333, \"#9c179e\"], [0.4444444444444444, \"#bd3786\"], [0.5555555555555556, \"#d8576b\"], [0.6666666666666666, \"#ed7953\"], [0.7777777777777778, \"#fb9f3a\"], [0.8888888888888888, \"#fdca26\"], [1.0, \"#f0f921\"]], \"type\": \"heatmap\"}], \"heatmapgl\": [{\"colorbar\": {\"outlinewidth\": 0, \"ticks\": \"\"}, \"colorscale\": [[0.0, \"#0d0887\"], [0.1111111111111111, \"#46039f\"], [0.2222222222222222, \"#7201a8\"], [0.3333333333333333, \"#9c179e\"], [0.4444444444444444, \"#bd3786\"], [0.5555555555555556, \"#d8576b\"], [0.6666666666666666, \"#ed7953\"], [0.7777777777777778, \"#fb9f3a\"], [0.8888888888888888, \"#fdca26\"], [1.0, \"#f0f921\"]], \"type\": \"heatmapgl\"}], \"histogram\": [{\"marker\": {\"colorbar\": {\"outlinewidth\": 0, \"ticks\": \"\"}}, \"type\": \"histogram\"}], \"histogram2d\": [{\"colorbar\": {\"outlinewidth\": 0, \"ticks\": \"\"}, \"colorscale\": [[0.0, \"#0d0887\"], [0.1111111111111111, \"#46039f\"], [0.2222222222222222, \"#7201a8\"], [0.3333333333333333, \"#9c179e\"], [0.4444444444444444, \"#bd3786\"], [0.5555555555555556, \"#d8576b\"], [0.6666666666666666, \"#ed7953\"], [0.7777777777777778, \"#fb9f3a\"], [0.8888888888888888, \"#fdca26\"], [1.0, \"#f0f921\"]], \"type\": \"histogram2d\"}], \"histogram2dcontour\": [{\"colorbar\": {\"outlinewidth\": 0, \"ticks\": \"\"}, \"colorscale\": [[0.0, \"#0d0887\"], [0.1111111111111111, \"#46039f\"], [0.2222222222222222, \"#7201a8\"], [0.3333333333333333, \"#9c179e\"], [0.4444444444444444, \"#bd3786\"], [0.5555555555555556, \"#d8576b\"], [0.6666666666666666, \"#ed7953\"], [0.7777777777777778, \"#fb9f3a\"], [0.8888888888888888, \"#fdca26\"], [1.0, \"#f0f921\"]], \"type\": \"histogram2dcontour\"}], \"mesh3d\": [{\"colorbar\": {\"outlinewidth\": 0, \"ticks\": \"\"}, \"type\": \"mesh3d\"}], \"parcoords\": [{\"line\": {\"colorbar\": {\"outlinewidth\": 0, \"ticks\": \"\"}}, \"type\": \"parcoords\"}], \"pie\": [{\"automargin\": true, \"type\": \"pie\"}], \"scatter\": [{\"marker\": {\"colorbar\": {\"outlinewidth\": 0, \"ticks\": \"\"}}, \"type\": \"scatter\"}], \"scatter3d\": [{\"line\": {\"colorbar\": {\"outlinewidth\": 0, \"ticks\": \"\"}}, \"marker\": {\"colorbar\": {\"outlinewidth\": 0, \"ticks\": \"\"}}, \"type\": \"scatter3d\"}], \"scattercarpet\": [{\"marker\": {\"colorbar\": {\"outlinewidth\": 0, \"ticks\": \"\"}}, \"type\": \"scattercarpet\"}], \"scattergeo\": [{\"marker\": {\"colorbar\": {\"outlinewidth\": 0, \"ticks\": \"\"}}, \"type\": \"scattergeo\"}], \"scattergl\": [{\"marker\": {\"colorbar\": {\"outlinewidth\": 0, \"ticks\": \"\"}}, \"type\": \"scattergl\"}], \"scattermapbox\": [{\"marker\": {\"colorbar\": {\"outlinewidth\": 0, \"ticks\": \"\"}}, \"type\": \"scattermapbox\"}], \"scatterpolar\": [{\"marker\": {\"colorbar\": {\"outlinewidth\": 0, \"ticks\": \"\"}}, \"type\": \"scatterpolar\"}], \"scatterpolargl\": [{\"marker\": {\"colorbar\": {\"outlinewidth\": 0, \"ticks\": \"\"}}, \"type\": \"scatterpolargl\"}], \"scatterternary\": [{\"marker\": {\"colorbar\": {\"outlinewidth\": 0, \"ticks\": \"\"}}, \"type\": \"scatterternary\"}], \"surface\": [{\"colorbar\": {\"outlinewidth\": 0, \"ticks\": \"\"}, \"colorscale\": [[0.0, \"#0d0887\"], [0.1111111111111111, \"#46039f\"], [0.2222222222222222, \"#7201a8\"], [0.3333333333333333, \"#9c179e\"], [0.4444444444444444, \"#bd3786\"], [0.5555555555555556, \"#d8576b\"], [0.6666666666666666, \"#ed7953\"], [0.7777777777777778, \"#fb9f3a\"], [0.8888888888888888, \"#fdca26\"], [1.0, \"#f0f921\"]], \"type\": \"surface\"}], \"table\": [{\"cells\": {\"fill\": {\"color\": \"#EBF0F8\"}, \"line\": {\"color\": \"white\"}}, \"header\": {\"fill\": {\"color\": \"#C8D4E3\"}, \"line\": {\"color\": \"white\"}}, \"type\": \"table\"}]}, \"layout\": {\"annotationdefaults\": {\"arrowcolor\": \"#2a3f5f\", \"arrowhead\": 0, \"arrowwidth\": 1}, \"coloraxis\": {\"colorbar\": {\"outlinewidth\": 0, \"ticks\": \"\"}}, \"colorscale\": {\"diverging\": [[0, \"#8e0152\"], [0.1, \"#c51b7d\"], [0.2, \"#de77ae\"], [0.3, \"#f1b6da\"], [0.4, \"#fde0ef\"], [0.5, \"#f7f7f7\"], [0.6, \"#e6f5d0\"], [0.7, \"#b8e186\"], [0.8, \"#7fbc41\"], [0.9, \"#4d9221\"], [1, \"#276419\"]], \"sequential\": [[0.0, \"#0d0887\"], [0.1111111111111111, \"#46039f\"], [0.2222222222222222, \"#7201a8\"], [0.3333333333333333, \"#9c179e\"], [0.4444444444444444, \"#bd3786\"], [0.5555555555555556, \"#d8576b\"], [0.6666666666666666, \"#ed7953\"], [0.7777777777777778, \"#fb9f3a\"], [0.8888888888888888, \"#fdca26\"], [1.0, \"#f0f921\"]], \"sequentialminus\": [[0.0, \"#0d0887\"], [0.1111111111111111, \"#46039f\"], [0.2222222222222222, \"#7201a8\"], [0.3333333333333333, \"#9c179e\"], [0.4444444444444444, \"#bd3786\"], [0.5555555555555556, \"#d8576b\"], [0.6666666666666666, \"#ed7953\"], [0.7777777777777778, \"#fb9f3a\"], [0.8888888888888888, \"#fdca26\"], [1.0, \"#f0f921\"]]}, \"colorway\": [\"#636efa\", \"#EF553B\", \"#00cc96\", \"#ab63fa\", \"#FFA15A\", \"#19d3f3\", \"#FF6692\", \"#B6E880\", \"#FF97FF\", \"#FECB52\"], \"font\": {\"color\": \"#2a3f5f\"}, \"geo\": {\"bgcolor\": \"white\", \"lakecolor\": \"white\", \"landcolor\": \"#E5ECF6\", \"showlakes\": true, \"showland\": true, \"subunitcolor\": \"white\"}, \"hoverlabel\": {\"align\": \"left\"}, \"hovermode\": \"closest\", \"mapbox\": {\"style\": \"light\"}, \"paper_bgcolor\": \"white\", \"plot_bgcolor\": \"#E5ECF6\", \"polar\": {\"angularaxis\": {\"gridcolor\": \"white\", \"linecolor\": \"white\", \"ticks\": \"\"}, \"bgcolor\": \"#E5ECF6\", \"radialaxis\": {\"gridcolor\": \"white\", \"linecolor\": \"white\", \"ticks\": \"\"}}, \"scene\": {\"xaxis\": {\"backgroundcolor\": \"#E5ECF6\", \"gridcolor\": \"white\", \"gridwidth\": 2, \"linecolor\": \"white\", \"showbackground\": true, \"ticks\": \"\", \"zerolinecolor\": \"white\"}, \"yaxis\": {\"backgroundcolor\": \"#E5ECF6\", \"gridcolor\": \"white\", \"gridwidth\": 2, \"linecolor\": \"white\", \"showbackground\": true, \"ticks\": \"\", \"zerolinecolor\": \"white\"}, \"zaxis\": {\"backgroundcolor\": \"#E5ECF6\", \"gridcolor\": \"white\", \"gridwidth\": 2, \"linecolor\": \"white\", \"showbackground\": true, \"ticks\": \"\", \"zerolinecolor\": \"white\"}}, \"shapedefaults\": {\"line\": {\"color\": \"#2a3f5f\"}}, \"ternary\": {\"aaxis\": {\"gridcolor\": \"white\", \"linecolor\": \"white\", \"ticks\": \"\"}, \"baxis\": {\"gridcolor\": \"white\", \"linecolor\": \"white\", \"ticks\": \"\"}, \"bgcolor\": \"#E5ECF6\", \"caxis\": {\"gridcolor\": \"white\", \"linecolor\": \"white\", \"ticks\": \"\"}}, \"title\": {\"x\": 0.05}, \"xaxis\": {\"automargin\": true, \"gridcolor\": \"white\", \"linecolor\": \"white\", \"ticks\": \"\", \"title\": {\"standoff\": 15}, \"zerolinecolor\": \"white\", \"zerolinewidth\": 2}, \"yaxis\": {\"automargin\": true, \"gridcolor\": \"white\", \"linecolor\": \"white\", \"ticks\": \"\", \"title\": {\"standoff\": 15}, \"zerolinecolor\": \"white\", \"zerolinewidth\": 2}}}, \"title\": {\"text\": \"Prime-age employment rate by disability status\"}, \"xaxis\": {\"anchor\": \"y\", \"domain\": [0.0, 1.0], \"title\": {\"text\": \"\"}}, \"yaxis\": {\"anchor\": \"x\", \"domain\": [0.0, 1.0], \"ticksuffix\": \"%\", \"title\": {\"text\": \"Employment rate of civilians aged 25 to 54\"}}},\n",
       "                        {\"responsive\": true}\n",
       "                    ).then(function(){\n",
       "                            \n",
       "var gd = document.getElementById('8e1fe79e-d1de-45dd-abf1-b00face74319');\n",
       "var x = new MutationObserver(function (mutations, observer) {{\n",
       "        var display = window.getComputedStyle(gd).display;\n",
       "        if (!display || display === 'none') {{\n",
       "            console.log([gd, 'removed!']);\n",
       "            Plotly.purge(gd);\n",
       "            observer.disconnect();\n",
       "        }}\n",
       "}});\n",
       "\n",
       "// Listen for the removal of the full notebook cells\n",
       "var notebookContainer = gd.closest('#notebook-container');\n",
       "if (notebookContainer) {{\n",
       "    x.observe(notebookContainer, {childList: true});\n",
       "}}\n",
       "\n",
       "// Listen for the clearing of the current output cell\n",
       "var outputEl = gd.closest('.output');\n",
       "if (outputEl) {{\n",
       "    x.observe(outputEl, {childList: true});\n",
       "}}\n",
       "\n",
       "                        })\n",
       "                };\n",
       "                });\n",
       "            </script>\n",
       "        </div>"
      ]
     },
     "metadata": {},
     "output_type": "display_data"
    }
   ],
   "source": [
    "fig = px.line(diffany_emp, x='date', y='emp_rate', color='disability')\n",
    "fig.update_layout(\n",
    "    title='Prime-age employment rate by disability status',\n",
    "    xaxis_title='',\n",
    "    yaxis_title='Employment rate of civilians aged 25 to 54',\n",
    "    yaxis_ticksuffix='%',\n",
    "    legend_title_text='',\n",
    "    font=dict(family='Roboto')\n",
    ")\n",
    "\n",
    "fig.show()"
   ]
  },
  {
   "cell_type": "markdown",
   "metadata": {},
   "source": [
    "Breaking out the trends by both race and disability status reveals that\n",
    "the racial employment gap among people without disabilities has been steady around 3 percentage points since 2017, but\n",
    "has roughly doubled since coronavirus.\n",
    "The racial employment gap among people with disabilities has been noisy at around 10 points,\n",
    "and does not appear to have changed significantly as a result of coronavirus."
   ]
  },
  {
   "cell_type": "code",
   "execution_count": 5,
   "metadata": {
    "tags": [
     "hide-input"
    ]
   },
   "outputs": [
    {
     "data": {
      "application/vnd.plotly.v1+json": {
       "config": {
        "plotlyServerURL": "https://plot.ly"
       },
       "data": [
        {
         "hovertemplate": "label=Not Black, No disability<br>date=%{x}<br>emp_rate=%{y}<extra></extra>",
         "legendgroup": "Not Black, No disability",
         "line": {
          "color": "#636efa",
          "dash": "solid"
         },
         "mode": "lines",
         "name": "Not Black, No disability",
         "orientation": "v",
         "showlegend": true,
         "type": "scatter",
         "x": [
          "2016-12-12T00:00:00",
          "2017-01-12T00:00:00",
          "2017-02-12T00:00:00",
          "2017-03-12T00:00:00",
          "2017-04-12T00:00:00",
          "2017-05-12T00:00:00",
          "2017-06-12T00:00:00",
          "2017-07-12T00:00:00",
          "2017-08-12T00:00:00",
          "2017-09-12T00:00:00",
          "2017-10-12T00:00:00",
          "2017-11-12T00:00:00",
          "2017-12-12T00:00:00",
          "2018-01-12T00:00:00",
          "2018-02-12T00:00:00",
          "2018-03-12T00:00:00",
          "2018-04-12T00:00:00",
          "2018-05-12T00:00:00",
          "2018-06-12T00:00:00",
          "2018-07-12T00:00:00",
          "2018-08-12T00:00:00",
          "2018-09-12T00:00:00",
          "2018-10-12T00:00:00",
          "2018-11-12T00:00:00",
          "2018-12-12T00:00:00",
          "2019-01-12T00:00:00",
          "2019-02-12T00:00:00",
          "2019-03-12T00:00:00",
          "2019-04-12T00:00:00",
          "2019-05-12T00:00:00",
          "2019-06-12T00:00:00",
          "2019-07-12T00:00:00",
          "2019-08-12T00:00:00",
          "2019-09-12T00:00:00",
          "2019-10-12T00:00:00",
          "2019-11-12T00:00:00",
          "2019-12-12T00:00:00",
          "2020-01-12T00:00:00",
          "2020-02-12T00:00:00",
          "2020-03-12T00:00:00",
          "2020-04-12T00:00:00"
         ],
         "xaxis": "x",
         "y": [
          81.22062158169625,
          81.71736436958253,
          82.1213081109738,
          82.56638972527318,
          82.36975985486534,
          81.85143454621581,
          81.8756823734006,
          81.62449609430855,
          82.53206037093992,
          82.4598451727173,
          82.5936064795295,
          82.14395447325222,
          81.76676861592016,
          82.31518294224487,
          82.39467889626387,
          82.76135829734378,
          82.92451515697823,
          82.5113980275158,
          82.63864120149964,
          82.34269484537819,
          82.99662244294828,
          83.26642396494839,
          83.4794991879767,
          83.19266236674756,
          82.71076382891138,
          83.06155896285956,
          82.81955244543403,
          82.98097804677347,
          83.15093051730594,
          82.84649412870749,
          82.25337604662785,
          82.86519387583996,
          83.66590976259447,
          83.90198481383814,
          84.19919001653527,
          84.07861471744245,
          83.57413742681649,
          83.5715718125845,
          82.46291244924811,
          72.57625235071806,
          74.58412847498052
         ],
         "yaxis": "y"
        },
        {
         "hovertemplate": "label=Not Black, Has disability<br>date=%{x}<br>emp_rate=%{y}<extra></extra>",
         "legendgroup": "Not Black, Has disability",
         "line": {
          "color": "#EF553B",
          "dash": "solid"
         },
         "mode": "lines",
         "name": "Not Black, Has disability",
         "orientation": "v",
         "showlegend": true,
         "type": "scatter",
         "x": [
          "2016-12-12T00:00:00",
          "2017-01-12T00:00:00",
          "2017-02-12T00:00:00",
          "2017-03-12T00:00:00",
          "2017-04-12T00:00:00",
          "2017-05-12T00:00:00",
          "2017-06-12T00:00:00",
          "2017-07-12T00:00:00",
          "2017-08-12T00:00:00",
          "2017-09-12T00:00:00",
          "2017-10-12T00:00:00",
          "2017-11-12T00:00:00",
          "2017-12-12T00:00:00",
          "2018-01-12T00:00:00",
          "2018-02-12T00:00:00",
          "2018-03-12T00:00:00",
          "2018-04-12T00:00:00",
          "2018-05-12T00:00:00",
          "2018-06-12T00:00:00",
          "2018-07-12T00:00:00",
          "2018-08-12T00:00:00",
          "2018-09-12T00:00:00",
          "2018-10-12T00:00:00",
          "2018-11-12T00:00:00",
          "2018-12-12T00:00:00",
          "2019-01-12T00:00:00",
          "2019-02-12T00:00:00",
          "2019-03-12T00:00:00",
          "2019-04-12T00:00:00",
          "2019-05-12T00:00:00",
          "2019-06-12T00:00:00",
          "2019-07-12T00:00:00",
          "2019-08-12T00:00:00",
          "2019-09-12T00:00:00",
          "2019-10-12T00:00:00",
          "2019-11-12T00:00:00",
          "2019-12-12T00:00:00",
          "2020-01-12T00:00:00",
          "2020-02-12T00:00:00",
          "2020-03-12T00:00:00",
          "2020-04-12T00:00:00"
         ],
         "xaxis": "x",
         "y": [
          31.92434387108976,
          33.32224374859415,
          34.44856063544079,
          33.98948899736813,
          36.31955098462689,
          36.537906930236254,
          36.004321161252655,
          34.91017087849243,
          36.674861292026854,
          36.83101400876626,
          37.406428615576594,
          38.75861520786862,
          36.97463856349943,
          39.01175802992805,
          39.11027781297573,
          38.95313757102571,
          38.17156144451146,
          36.68484543741071,
          35.88178971331805,
          36.16025512827857,
          36.60458212061539,
          38.2254020144364,
          38.854137355761324,
          38.9318152036291,
          37.89985670160157,
          38.62366002203319,
          39.37231079628169,
          38.603946695901605,
          39.580129022699175,
          38.193066883567035,
          37.62455520366696,
          39.88572832878054,
          38.90806014683624,
          38.08654933442305,
          39.59688202576739,
          39.615255686481156,
          40.47752464832449,
          39.53259352003927,
          39.475318983558616,
          33.41216927768466,
          34.51249867428785
         ],
         "yaxis": "y"
        },
        {
         "hovertemplate": "label=Black, No disability<br>date=%{x}<br>emp_rate=%{y}<extra></extra>",
         "legendgroup": "Black, No disability",
         "line": {
          "color": "#00cc96",
          "dash": "solid"
         },
         "mode": "lines",
         "name": "Black, No disability",
         "orientation": "v",
         "showlegend": true,
         "type": "scatter",
         "x": [
          "2016-12-12T00:00:00",
          "2017-01-12T00:00:00",
          "2017-02-12T00:00:00",
          "2017-03-12T00:00:00",
          "2017-04-12T00:00:00",
          "2017-05-12T00:00:00",
          "2017-06-12T00:00:00",
          "2017-07-12T00:00:00",
          "2017-08-12T00:00:00",
          "2017-09-12T00:00:00",
          "2017-10-12T00:00:00",
          "2017-11-12T00:00:00",
          "2017-12-12T00:00:00",
          "2018-01-12T00:00:00",
          "2018-02-12T00:00:00",
          "2018-03-12T00:00:00",
          "2018-04-12T00:00:00",
          "2018-05-12T00:00:00",
          "2018-06-12T00:00:00",
          "2018-07-12T00:00:00",
          "2018-08-12T00:00:00",
          "2018-09-12T00:00:00",
          "2018-10-12T00:00:00",
          "2018-11-12T00:00:00",
          "2018-12-12T00:00:00",
          "2019-01-12T00:00:00",
          "2019-02-12T00:00:00",
          "2019-03-12T00:00:00",
          "2019-04-12T00:00:00",
          "2019-05-12T00:00:00",
          "2019-06-12T00:00:00",
          "2019-07-12T00:00:00",
          "2019-08-12T00:00:00",
          "2019-09-12T00:00:00",
          "2019-10-12T00:00:00",
          "2019-11-12T00:00:00",
          "2019-12-12T00:00:00",
          "2020-01-12T00:00:00",
          "2020-02-12T00:00:00",
          "2020-03-12T00:00:00",
          "2020-04-12T00:00:00"
         ],
         "xaxis": "x",
         "y": [
          78.11935166801702,
          77.78196786698429,
          77.58497624611057,
          79.37724577068255,
          78.77842504219234,
          79.4336333634451,
          79.22505044194673,
          77.94287306833411,
          79.82595286242986,
          78.71979538244369,
          79.64241127020797,
          80.26495137632419,
          77.96886522387616,
          79.27926637921946,
          79.3199856566937,
          79.32955589416908,
          80.22262470295708,
          79.88930650131049,
          79.43311359680682,
          79.51564352446178,
          80.07360387773012,
          80.4545055880293,
          80.1518110314135,
          79.43813033884459,
          79.34814675073278,
          79.4729151298283,
          79.53703063089482,
          80.53491813315281,
          81.28441262281997,
          80.1478013721062,
          79.67211201680477,
          79.87075017536088,
          81.20504444467142,
          81.73035356562293,
          81.04900430986484,
          81.26412002620718,
          79.04720223445776,
          79.33471463027487,
          78.66460719953736,
          67.48348031884066,
          68.68704826076437
         ],
         "yaxis": "y"
        },
        {
         "hovertemplate": "label=Black, Has disability<br>date=%{x}<br>emp_rate=%{y}<extra></extra>",
         "legendgroup": "Black, Has disability",
         "line": {
          "color": "#ab63fa",
          "dash": "solid"
         },
         "mode": "lines",
         "name": "Black, Has disability",
         "orientation": "v",
         "showlegend": true,
         "type": "scatter",
         "x": [
          "2016-12-12T00:00:00",
          "2017-01-12T00:00:00",
          "2017-02-12T00:00:00",
          "2017-03-12T00:00:00",
          "2017-04-12T00:00:00",
          "2017-05-12T00:00:00",
          "2017-06-12T00:00:00",
          "2017-07-12T00:00:00",
          "2017-08-12T00:00:00",
          "2017-09-12T00:00:00",
          "2017-10-12T00:00:00",
          "2017-11-12T00:00:00",
          "2017-12-12T00:00:00",
          "2018-01-12T00:00:00",
          "2018-02-12T00:00:00",
          "2018-03-12T00:00:00",
          "2018-04-12T00:00:00",
          "2018-05-12T00:00:00",
          "2018-06-12T00:00:00",
          "2018-07-12T00:00:00",
          "2018-08-12T00:00:00",
          "2018-09-12T00:00:00",
          "2018-10-12T00:00:00",
          "2018-11-12T00:00:00",
          "2018-12-12T00:00:00",
          "2019-01-12T00:00:00",
          "2019-02-12T00:00:00",
          "2019-03-12T00:00:00",
          "2019-04-12T00:00:00",
          "2019-05-12T00:00:00",
          "2019-06-12T00:00:00",
          "2019-07-12T00:00:00",
          "2019-08-12T00:00:00",
          "2019-09-12T00:00:00",
          "2019-10-12T00:00:00",
          "2019-11-12T00:00:00",
          "2019-12-12T00:00:00",
          "2020-01-12T00:00:00",
          "2020-02-12T00:00:00",
          "2020-03-12T00:00:00",
          "2020-04-12T00:00:00"
         ],
         "xaxis": "x",
         "y": [
          23.799410636729366,
          23.391900849311984,
          23.503323863064985,
          23.361639746614276,
          26.936862496765418,
          26.358574538320912,
          29.1181343583741,
          28.26213815277909,
          27.509978561329834,
          26.296609966356986,
          21.755886653821467,
          22.01399881649958,
          22.300753216005592,
          23.804307491556912,
          28.2376794496304,
          29.414988914970838,
          29.426906472030677,
          30.524183564640847,
          30.457059392553987,
          33.80621130641089,
          37.922946685187526,
          35.635276713468826,
          32.34422558960233,
          28.961618530767737,
          26.380982244363825,
          24.885737660599077,
          27.721641603692063,
          26.485412835810106,
          24.369461248670646,
          24.858483280027116,
          28.776236900571682,
          32.511780847343736,
          32.714656885359844,
          29.994029751001506,
          31.37241702597299,
          25.802761834398236,
          27.248047996305438,
          27.146270458810907,
          28.863188756773063,
          22.012428827705705,
          23.60406538525181
         ],
         "yaxis": "y"
        }
       ],
       "layout": {
        "font": {
         "family": "Roboto"
        },
        "legend": {
         "title": {
          "text": ""
         },
         "tracegroupgap": 0
        },
        "margin": {
         "t": 60
        },
        "template": {
         "data": {
          "bar": [
           {
            "error_x": {
             "color": "#2a3f5f"
            },
            "error_y": {
             "color": "#2a3f5f"
            },
            "marker": {
             "line": {
              "color": "#E5ECF6",
              "width": 0.5
             }
            },
            "type": "bar"
           }
          ],
          "barpolar": [
           {
            "marker": {
             "line": {
              "color": "#E5ECF6",
              "width": 0.5
             }
            },
            "type": "barpolar"
           }
          ],
          "carpet": [
           {
            "aaxis": {
             "endlinecolor": "#2a3f5f",
             "gridcolor": "white",
             "linecolor": "white",
             "minorgridcolor": "white",
             "startlinecolor": "#2a3f5f"
            },
            "baxis": {
             "endlinecolor": "#2a3f5f",
             "gridcolor": "white",
             "linecolor": "white",
             "minorgridcolor": "white",
             "startlinecolor": "#2a3f5f"
            },
            "type": "carpet"
           }
          ],
          "choropleth": [
           {
            "colorbar": {
             "outlinewidth": 0,
             "ticks": ""
            },
            "type": "choropleth"
           }
          ],
          "contour": [
           {
            "colorbar": {
             "outlinewidth": 0,
             "ticks": ""
            },
            "colorscale": [
             [
              0,
              "#0d0887"
             ],
             [
              0.1111111111111111,
              "#46039f"
             ],
             [
              0.2222222222222222,
              "#7201a8"
             ],
             [
              0.3333333333333333,
              "#9c179e"
             ],
             [
              0.4444444444444444,
              "#bd3786"
             ],
             [
              0.5555555555555556,
              "#d8576b"
             ],
             [
              0.6666666666666666,
              "#ed7953"
             ],
             [
              0.7777777777777778,
              "#fb9f3a"
             ],
             [
              0.8888888888888888,
              "#fdca26"
             ],
             [
              1,
              "#f0f921"
             ]
            ],
            "type": "contour"
           }
          ],
          "contourcarpet": [
           {
            "colorbar": {
             "outlinewidth": 0,
             "ticks": ""
            },
            "type": "contourcarpet"
           }
          ],
          "heatmap": [
           {
            "colorbar": {
             "outlinewidth": 0,
             "ticks": ""
            },
            "colorscale": [
             [
              0,
              "#0d0887"
             ],
             [
              0.1111111111111111,
              "#46039f"
             ],
             [
              0.2222222222222222,
              "#7201a8"
             ],
             [
              0.3333333333333333,
              "#9c179e"
             ],
             [
              0.4444444444444444,
              "#bd3786"
             ],
             [
              0.5555555555555556,
              "#d8576b"
             ],
             [
              0.6666666666666666,
              "#ed7953"
             ],
             [
              0.7777777777777778,
              "#fb9f3a"
             ],
             [
              0.8888888888888888,
              "#fdca26"
             ],
             [
              1,
              "#f0f921"
             ]
            ],
            "type": "heatmap"
           }
          ],
          "heatmapgl": [
           {
            "colorbar": {
             "outlinewidth": 0,
             "ticks": ""
            },
            "colorscale": [
             [
              0,
              "#0d0887"
             ],
             [
              0.1111111111111111,
              "#46039f"
             ],
             [
              0.2222222222222222,
              "#7201a8"
             ],
             [
              0.3333333333333333,
              "#9c179e"
             ],
             [
              0.4444444444444444,
              "#bd3786"
             ],
             [
              0.5555555555555556,
              "#d8576b"
             ],
             [
              0.6666666666666666,
              "#ed7953"
             ],
             [
              0.7777777777777778,
              "#fb9f3a"
             ],
             [
              0.8888888888888888,
              "#fdca26"
             ],
             [
              1,
              "#f0f921"
             ]
            ],
            "type": "heatmapgl"
           }
          ],
          "histogram": [
           {
            "marker": {
             "colorbar": {
              "outlinewidth": 0,
              "ticks": ""
             }
            },
            "type": "histogram"
           }
          ],
          "histogram2d": [
           {
            "colorbar": {
             "outlinewidth": 0,
             "ticks": ""
            },
            "colorscale": [
             [
              0,
              "#0d0887"
             ],
             [
              0.1111111111111111,
              "#46039f"
             ],
             [
              0.2222222222222222,
              "#7201a8"
             ],
             [
              0.3333333333333333,
              "#9c179e"
             ],
             [
              0.4444444444444444,
              "#bd3786"
             ],
             [
              0.5555555555555556,
              "#d8576b"
             ],
             [
              0.6666666666666666,
              "#ed7953"
             ],
             [
              0.7777777777777778,
              "#fb9f3a"
             ],
             [
              0.8888888888888888,
              "#fdca26"
             ],
             [
              1,
              "#f0f921"
             ]
            ],
            "type": "histogram2d"
           }
          ],
          "histogram2dcontour": [
           {
            "colorbar": {
             "outlinewidth": 0,
             "ticks": ""
            },
            "colorscale": [
             [
              0,
              "#0d0887"
             ],
             [
              0.1111111111111111,
              "#46039f"
             ],
             [
              0.2222222222222222,
              "#7201a8"
             ],
             [
              0.3333333333333333,
              "#9c179e"
             ],
             [
              0.4444444444444444,
              "#bd3786"
             ],
             [
              0.5555555555555556,
              "#d8576b"
             ],
             [
              0.6666666666666666,
              "#ed7953"
             ],
             [
              0.7777777777777778,
              "#fb9f3a"
             ],
             [
              0.8888888888888888,
              "#fdca26"
             ],
             [
              1,
              "#f0f921"
             ]
            ],
            "type": "histogram2dcontour"
           }
          ],
          "mesh3d": [
           {
            "colorbar": {
             "outlinewidth": 0,
             "ticks": ""
            },
            "type": "mesh3d"
           }
          ],
          "parcoords": [
           {
            "line": {
             "colorbar": {
              "outlinewidth": 0,
              "ticks": ""
             }
            },
            "type": "parcoords"
           }
          ],
          "pie": [
           {
            "automargin": true,
            "type": "pie"
           }
          ],
          "scatter": [
           {
            "marker": {
             "colorbar": {
              "outlinewidth": 0,
              "ticks": ""
             }
            },
            "type": "scatter"
           }
          ],
          "scatter3d": [
           {
            "line": {
             "colorbar": {
              "outlinewidth": 0,
              "ticks": ""
             }
            },
            "marker": {
             "colorbar": {
              "outlinewidth": 0,
              "ticks": ""
             }
            },
            "type": "scatter3d"
           }
          ],
          "scattercarpet": [
           {
            "marker": {
             "colorbar": {
              "outlinewidth": 0,
              "ticks": ""
             }
            },
            "type": "scattercarpet"
           }
          ],
          "scattergeo": [
           {
            "marker": {
             "colorbar": {
              "outlinewidth": 0,
              "ticks": ""
             }
            },
            "type": "scattergeo"
           }
          ],
          "scattergl": [
           {
            "marker": {
             "colorbar": {
              "outlinewidth": 0,
              "ticks": ""
             }
            },
            "type": "scattergl"
           }
          ],
          "scattermapbox": [
           {
            "marker": {
             "colorbar": {
              "outlinewidth": 0,
              "ticks": ""
             }
            },
            "type": "scattermapbox"
           }
          ],
          "scatterpolar": [
           {
            "marker": {
             "colorbar": {
              "outlinewidth": 0,
              "ticks": ""
             }
            },
            "type": "scatterpolar"
           }
          ],
          "scatterpolargl": [
           {
            "marker": {
             "colorbar": {
              "outlinewidth": 0,
              "ticks": ""
             }
            },
            "type": "scatterpolargl"
           }
          ],
          "scatterternary": [
           {
            "marker": {
             "colorbar": {
              "outlinewidth": 0,
              "ticks": ""
             }
            },
            "type": "scatterternary"
           }
          ],
          "surface": [
           {
            "colorbar": {
             "outlinewidth": 0,
             "ticks": ""
            },
            "colorscale": [
             [
              0,
              "#0d0887"
             ],
             [
              0.1111111111111111,
              "#46039f"
             ],
             [
              0.2222222222222222,
              "#7201a8"
             ],
             [
              0.3333333333333333,
              "#9c179e"
             ],
             [
              0.4444444444444444,
              "#bd3786"
             ],
             [
              0.5555555555555556,
              "#d8576b"
             ],
             [
              0.6666666666666666,
              "#ed7953"
             ],
             [
              0.7777777777777778,
              "#fb9f3a"
             ],
             [
              0.8888888888888888,
              "#fdca26"
             ],
             [
              1,
              "#f0f921"
             ]
            ],
            "type": "surface"
           }
          ],
          "table": [
           {
            "cells": {
             "fill": {
              "color": "#EBF0F8"
             },
             "line": {
              "color": "white"
             }
            },
            "header": {
             "fill": {
              "color": "#C8D4E3"
             },
             "line": {
              "color": "white"
             }
            },
            "type": "table"
           }
          ]
         },
         "layout": {
          "annotationdefaults": {
           "arrowcolor": "#2a3f5f",
           "arrowhead": 0,
           "arrowwidth": 1
          },
          "coloraxis": {
           "colorbar": {
            "outlinewidth": 0,
            "ticks": ""
           }
          },
          "colorscale": {
           "diverging": [
            [
             0,
             "#8e0152"
            ],
            [
             0.1,
             "#c51b7d"
            ],
            [
             0.2,
             "#de77ae"
            ],
            [
             0.3,
             "#f1b6da"
            ],
            [
             0.4,
             "#fde0ef"
            ],
            [
             0.5,
             "#f7f7f7"
            ],
            [
             0.6,
             "#e6f5d0"
            ],
            [
             0.7,
             "#b8e186"
            ],
            [
             0.8,
             "#7fbc41"
            ],
            [
             0.9,
             "#4d9221"
            ],
            [
             1,
             "#276419"
            ]
           ],
           "sequential": [
            [
             0,
             "#0d0887"
            ],
            [
             0.1111111111111111,
             "#46039f"
            ],
            [
             0.2222222222222222,
             "#7201a8"
            ],
            [
             0.3333333333333333,
             "#9c179e"
            ],
            [
             0.4444444444444444,
             "#bd3786"
            ],
            [
             0.5555555555555556,
             "#d8576b"
            ],
            [
             0.6666666666666666,
             "#ed7953"
            ],
            [
             0.7777777777777778,
             "#fb9f3a"
            ],
            [
             0.8888888888888888,
             "#fdca26"
            ],
            [
             1,
             "#f0f921"
            ]
           ],
           "sequentialminus": [
            [
             0,
             "#0d0887"
            ],
            [
             0.1111111111111111,
             "#46039f"
            ],
            [
             0.2222222222222222,
             "#7201a8"
            ],
            [
             0.3333333333333333,
             "#9c179e"
            ],
            [
             0.4444444444444444,
             "#bd3786"
            ],
            [
             0.5555555555555556,
             "#d8576b"
            ],
            [
             0.6666666666666666,
             "#ed7953"
            ],
            [
             0.7777777777777778,
             "#fb9f3a"
            ],
            [
             0.8888888888888888,
             "#fdca26"
            ],
            [
             1,
             "#f0f921"
            ]
           ]
          },
          "colorway": [
           "#636efa",
           "#EF553B",
           "#00cc96",
           "#ab63fa",
           "#FFA15A",
           "#19d3f3",
           "#FF6692",
           "#B6E880",
           "#FF97FF",
           "#FECB52"
          ],
          "font": {
           "color": "#2a3f5f"
          },
          "geo": {
           "bgcolor": "white",
           "lakecolor": "white",
           "landcolor": "#E5ECF6",
           "showlakes": true,
           "showland": true,
           "subunitcolor": "white"
          },
          "hoverlabel": {
           "align": "left"
          },
          "hovermode": "closest",
          "mapbox": {
           "style": "light"
          },
          "paper_bgcolor": "white",
          "plot_bgcolor": "#E5ECF6",
          "polar": {
           "angularaxis": {
            "gridcolor": "white",
            "linecolor": "white",
            "ticks": ""
           },
           "bgcolor": "#E5ECF6",
           "radialaxis": {
            "gridcolor": "white",
            "linecolor": "white",
            "ticks": ""
           }
          },
          "scene": {
           "xaxis": {
            "backgroundcolor": "#E5ECF6",
            "gridcolor": "white",
            "gridwidth": 2,
            "linecolor": "white",
            "showbackground": true,
            "ticks": "",
            "zerolinecolor": "white"
           },
           "yaxis": {
            "backgroundcolor": "#E5ECF6",
            "gridcolor": "white",
            "gridwidth": 2,
            "linecolor": "white",
            "showbackground": true,
            "ticks": "",
            "zerolinecolor": "white"
           },
           "zaxis": {
            "backgroundcolor": "#E5ECF6",
            "gridcolor": "white",
            "gridwidth": 2,
            "linecolor": "white",
            "showbackground": true,
            "ticks": "",
            "zerolinecolor": "white"
           }
          },
          "shapedefaults": {
           "line": {
            "color": "#2a3f5f"
           }
          },
          "ternary": {
           "aaxis": {
            "gridcolor": "white",
            "linecolor": "white",
            "ticks": ""
           },
           "baxis": {
            "gridcolor": "white",
            "linecolor": "white",
            "ticks": ""
           },
           "bgcolor": "#E5ECF6",
           "caxis": {
            "gridcolor": "white",
            "linecolor": "white",
            "ticks": ""
           }
          },
          "title": {
           "x": 0.05
          },
          "xaxis": {
           "automargin": true,
           "gridcolor": "white",
           "linecolor": "white",
           "ticks": "",
           "title": {
            "standoff": 15
           },
           "zerolinecolor": "white",
           "zerolinewidth": 2
          },
          "yaxis": {
           "automargin": true,
           "gridcolor": "white",
           "linecolor": "white",
           "ticks": "",
           "title": {
            "standoff": 15
           },
           "zerolinecolor": "white",
           "zerolinewidth": 2
          }
         }
        },
        "title": {
         "text": "Prime-age employment rate by race and disability status"
        },
        "xaxis": {
         "anchor": "y",
         "domain": [
          0,
          1
         ],
         "title": {
          "text": ""
         }
        },
        "yaxis": {
         "anchor": "x",
         "domain": [
          0,
          1
         ],
         "ticksuffix": "%",
         "title": {
          "text": "Employment rate of civilians aged 25 to 54"
         }
        }
       }
      },
      "text/html": [
       "<div>\n",
       "        \n",
       "        \n",
       "            <div id=\"82521e98-9f44-427e-87fc-ee7ebaa05759\" class=\"plotly-graph-div\" style=\"height:525px; width:100%;\"></div>\n",
       "            <script type=\"text/javascript\">\n",
       "                require([\"plotly\"], function(Plotly) {\n",
       "                    window.PLOTLYENV=window.PLOTLYENV || {};\n",
       "                    \n",
       "                if (document.getElementById(\"82521e98-9f44-427e-87fc-ee7ebaa05759\")) {\n",
       "                    Plotly.newPlot(\n",
       "                        '82521e98-9f44-427e-87fc-ee7ebaa05759',\n",
       "                        [{\"hovertemplate\": \"label=Not Black, No disability<br>date=%{x}<br>emp_rate=%{y}<extra></extra>\", \"legendgroup\": \"Not Black, No disability\", \"line\": {\"color\": \"#636efa\", \"dash\": \"solid\"}, \"mode\": \"lines\", \"name\": \"Not Black, No disability\", \"orientation\": \"v\", \"showlegend\": true, \"type\": \"scatter\", \"x\": [\"2016-12-12T00:00:00\", \"2017-01-12T00:00:00\", \"2017-02-12T00:00:00\", \"2017-03-12T00:00:00\", \"2017-04-12T00:00:00\", \"2017-05-12T00:00:00\", \"2017-06-12T00:00:00\", \"2017-07-12T00:00:00\", \"2017-08-12T00:00:00\", \"2017-09-12T00:00:00\", \"2017-10-12T00:00:00\", \"2017-11-12T00:00:00\", \"2017-12-12T00:00:00\", \"2018-01-12T00:00:00\", \"2018-02-12T00:00:00\", \"2018-03-12T00:00:00\", \"2018-04-12T00:00:00\", \"2018-05-12T00:00:00\", \"2018-06-12T00:00:00\", \"2018-07-12T00:00:00\", \"2018-08-12T00:00:00\", \"2018-09-12T00:00:00\", \"2018-10-12T00:00:00\", \"2018-11-12T00:00:00\", \"2018-12-12T00:00:00\", \"2019-01-12T00:00:00\", \"2019-02-12T00:00:00\", \"2019-03-12T00:00:00\", \"2019-04-12T00:00:00\", \"2019-05-12T00:00:00\", \"2019-06-12T00:00:00\", \"2019-07-12T00:00:00\", \"2019-08-12T00:00:00\", \"2019-09-12T00:00:00\", \"2019-10-12T00:00:00\", \"2019-11-12T00:00:00\", \"2019-12-12T00:00:00\", \"2020-01-12T00:00:00\", \"2020-02-12T00:00:00\", \"2020-03-12T00:00:00\", \"2020-04-12T00:00:00\"], \"xaxis\": \"x\", \"y\": [81.22062158169625, 81.71736436958253, 82.1213081109738, 82.56638972527318, 82.36975985486534, 81.85143454621581, 81.8756823734006, 81.62449609430855, 82.53206037093992, 82.4598451727173, 82.5936064795295, 82.14395447325222, 81.76676861592016, 82.31518294224487, 82.39467889626387, 82.76135829734378, 82.92451515697823, 82.5113980275158, 82.63864120149964, 82.34269484537819, 82.99662244294828, 83.26642396494839, 83.4794991879767, 83.19266236674756, 82.71076382891138, 83.06155896285956, 82.81955244543403, 82.98097804677347, 83.15093051730594, 82.84649412870749, 82.25337604662785, 82.86519387583996, 83.66590976259447, 83.90198481383814, 84.19919001653527, 84.07861471744245, 83.57413742681649, 83.5715718125845, 82.46291244924811, 72.57625235071806, 74.58412847498052], \"yaxis\": \"y\"}, {\"hovertemplate\": \"label=Not Black, Has disability<br>date=%{x}<br>emp_rate=%{y}<extra></extra>\", \"legendgroup\": \"Not Black, Has disability\", \"line\": {\"color\": \"#EF553B\", \"dash\": \"solid\"}, \"mode\": \"lines\", \"name\": \"Not Black, Has disability\", \"orientation\": \"v\", \"showlegend\": true, \"type\": \"scatter\", \"x\": [\"2016-12-12T00:00:00\", \"2017-01-12T00:00:00\", \"2017-02-12T00:00:00\", \"2017-03-12T00:00:00\", \"2017-04-12T00:00:00\", \"2017-05-12T00:00:00\", \"2017-06-12T00:00:00\", \"2017-07-12T00:00:00\", \"2017-08-12T00:00:00\", \"2017-09-12T00:00:00\", \"2017-10-12T00:00:00\", \"2017-11-12T00:00:00\", \"2017-12-12T00:00:00\", \"2018-01-12T00:00:00\", \"2018-02-12T00:00:00\", \"2018-03-12T00:00:00\", \"2018-04-12T00:00:00\", \"2018-05-12T00:00:00\", \"2018-06-12T00:00:00\", \"2018-07-12T00:00:00\", \"2018-08-12T00:00:00\", \"2018-09-12T00:00:00\", \"2018-10-12T00:00:00\", \"2018-11-12T00:00:00\", \"2018-12-12T00:00:00\", \"2019-01-12T00:00:00\", \"2019-02-12T00:00:00\", \"2019-03-12T00:00:00\", \"2019-04-12T00:00:00\", \"2019-05-12T00:00:00\", \"2019-06-12T00:00:00\", \"2019-07-12T00:00:00\", \"2019-08-12T00:00:00\", \"2019-09-12T00:00:00\", \"2019-10-12T00:00:00\", \"2019-11-12T00:00:00\", \"2019-12-12T00:00:00\", \"2020-01-12T00:00:00\", \"2020-02-12T00:00:00\", \"2020-03-12T00:00:00\", \"2020-04-12T00:00:00\"], \"xaxis\": \"x\", \"y\": [31.92434387108976, 33.32224374859415, 34.44856063544079, 33.98948899736813, 36.31955098462689, 36.537906930236254, 36.004321161252655, 34.91017087849243, 36.674861292026854, 36.83101400876626, 37.406428615576594, 38.75861520786862, 36.97463856349943, 39.01175802992805, 39.11027781297573, 38.95313757102571, 38.17156144451146, 36.68484543741071, 35.88178971331805, 36.16025512827857, 36.60458212061539, 38.2254020144364, 38.854137355761324, 38.9318152036291, 37.89985670160157, 38.62366002203319, 39.37231079628169, 38.603946695901605, 39.580129022699175, 38.193066883567035, 37.62455520366696, 39.88572832878054, 38.90806014683624, 38.08654933442305, 39.59688202576739, 39.615255686481156, 40.47752464832449, 39.53259352003927, 39.475318983558616, 33.41216927768466, 34.51249867428785], \"yaxis\": \"y\"}, {\"hovertemplate\": \"label=Black, No disability<br>date=%{x}<br>emp_rate=%{y}<extra></extra>\", \"legendgroup\": \"Black, No disability\", \"line\": {\"color\": \"#00cc96\", \"dash\": \"solid\"}, \"mode\": \"lines\", \"name\": \"Black, No disability\", \"orientation\": \"v\", \"showlegend\": true, \"type\": \"scatter\", \"x\": [\"2016-12-12T00:00:00\", \"2017-01-12T00:00:00\", \"2017-02-12T00:00:00\", \"2017-03-12T00:00:00\", \"2017-04-12T00:00:00\", \"2017-05-12T00:00:00\", \"2017-06-12T00:00:00\", \"2017-07-12T00:00:00\", \"2017-08-12T00:00:00\", \"2017-09-12T00:00:00\", \"2017-10-12T00:00:00\", \"2017-11-12T00:00:00\", \"2017-12-12T00:00:00\", \"2018-01-12T00:00:00\", \"2018-02-12T00:00:00\", \"2018-03-12T00:00:00\", \"2018-04-12T00:00:00\", \"2018-05-12T00:00:00\", \"2018-06-12T00:00:00\", \"2018-07-12T00:00:00\", \"2018-08-12T00:00:00\", \"2018-09-12T00:00:00\", \"2018-10-12T00:00:00\", \"2018-11-12T00:00:00\", \"2018-12-12T00:00:00\", \"2019-01-12T00:00:00\", \"2019-02-12T00:00:00\", \"2019-03-12T00:00:00\", \"2019-04-12T00:00:00\", \"2019-05-12T00:00:00\", \"2019-06-12T00:00:00\", \"2019-07-12T00:00:00\", \"2019-08-12T00:00:00\", \"2019-09-12T00:00:00\", \"2019-10-12T00:00:00\", \"2019-11-12T00:00:00\", \"2019-12-12T00:00:00\", \"2020-01-12T00:00:00\", \"2020-02-12T00:00:00\", \"2020-03-12T00:00:00\", \"2020-04-12T00:00:00\"], \"xaxis\": \"x\", \"y\": [78.11935166801702, 77.78196786698429, 77.58497624611057, 79.37724577068255, 78.77842504219234, 79.4336333634451, 79.22505044194673, 77.94287306833411, 79.82595286242986, 78.71979538244369, 79.64241127020797, 80.26495137632419, 77.96886522387616, 79.27926637921946, 79.3199856566937, 79.32955589416908, 80.22262470295708, 79.88930650131049, 79.43311359680682, 79.51564352446178, 80.07360387773012, 80.4545055880293, 80.1518110314135, 79.43813033884459, 79.34814675073278, 79.4729151298283, 79.53703063089482, 80.53491813315281, 81.28441262281997, 80.1478013721062, 79.67211201680477, 79.87075017536088, 81.20504444467142, 81.73035356562293, 81.04900430986484, 81.26412002620718, 79.04720223445776, 79.33471463027487, 78.66460719953736, 67.48348031884066, 68.68704826076437], \"yaxis\": \"y\"}, {\"hovertemplate\": \"label=Black, Has disability<br>date=%{x}<br>emp_rate=%{y}<extra></extra>\", \"legendgroup\": \"Black, Has disability\", \"line\": {\"color\": \"#ab63fa\", \"dash\": \"solid\"}, \"mode\": \"lines\", \"name\": \"Black, Has disability\", \"orientation\": \"v\", \"showlegend\": true, \"type\": \"scatter\", \"x\": [\"2016-12-12T00:00:00\", \"2017-01-12T00:00:00\", \"2017-02-12T00:00:00\", \"2017-03-12T00:00:00\", \"2017-04-12T00:00:00\", \"2017-05-12T00:00:00\", \"2017-06-12T00:00:00\", \"2017-07-12T00:00:00\", \"2017-08-12T00:00:00\", \"2017-09-12T00:00:00\", \"2017-10-12T00:00:00\", \"2017-11-12T00:00:00\", \"2017-12-12T00:00:00\", \"2018-01-12T00:00:00\", \"2018-02-12T00:00:00\", \"2018-03-12T00:00:00\", \"2018-04-12T00:00:00\", \"2018-05-12T00:00:00\", \"2018-06-12T00:00:00\", \"2018-07-12T00:00:00\", \"2018-08-12T00:00:00\", \"2018-09-12T00:00:00\", \"2018-10-12T00:00:00\", \"2018-11-12T00:00:00\", \"2018-12-12T00:00:00\", \"2019-01-12T00:00:00\", \"2019-02-12T00:00:00\", \"2019-03-12T00:00:00\", \"2019-04-12T00:00:00\", \"2019-05-12T00:00:00\", \"2019-06-12T00:00:00\", \"2019-07-12T00:00:00\", \"2019-08-12T00:00:00\", \"2019-09-12T00:00:00\", \"2019-10-12T00:00:00\", \"2019-11-12T00:00:00\", \"2019-12-12T00:00:00\", \"2020-01-12T00:00:00\", \"2020-02-12T00:00:00\", \"2020-03-12T00:00:00\", \"2020-04-12T00:00:00\"], \"xaxis\": \"x\", \"y\": [23.799410636729366, 23.391900849311984, 23.503323863064985, 23.361639746614276, 26.936862496765418, 26.358574538320912, 29.1181343583741, 28.26213815277909, 27.509978561329834, 26.296609966356986, 21.755886653821467, 22.01399881649958, 22.300753216005592, 23.804307491556912, 28.2376794496304, 29.414988914970838, 29.426906472030677, 30.524183564640847, 30.457059392553987, 33.80621130641089, 37.922946685187526, 35.635276713468826, 32.34422558960233, 28.961618530767737, 26.380982244363825, 24.885737660599077, 27.721641603692063, 26.485412835810106, 24.369461248670646, 24.858483280027116, 28.776236900571682, 32.511780847343736, 32.714656885359844, 29.994029751001506, 31.37241702597299, 25.802761834398236, 27.248047996305438, 27.146270458810907, 28.863188756773063, 22.012428827705705, 23.60406538525181], \"yaxis\": \"y\"}],\n",
       "                        {\"font\": {\"family\": \"Roboto\"}, \"legend\": {\"title\": {\"text\": \"\"}, \"tracegroupgap\": 0}, \"margin\": {\"t\": 60}, \"template\": {\"data\": {\"bar\": [{\"error_x\": {\"color\": \"#2a3f5f\"}, \"error_y\": {\"color\": \"#2a3f5f\"}, \"marker\": {\"line\": {\"color\": \"#E5ECF6\", \"width\": 0.5}}, \"type\": \"bar\"}], \"barpolar\": [{\"marker\": {\"line\": {\"color\": \"#E5ECF6\", \"width\": 0.5}}, \"type\": \"barpolar\"}], \"carpet\": [{\"aaxis\": {\"endlinecolor\": \"#2a3f5f\", \"gridcolor\": \"white\", \"linecolor\": \"white\", \"minorgridcolor\": \"white\", \"startlinecolor\": \"#2a3f5f\"}, \"baxis\": {\"endlinecolor\": \"#2a3f5f\", \"gridcolor\": \"white\", \"linecolor\": \"white\", \"minorgridcolor\": \"white\", \"startlinecolor\": \"#2a3f5f\"}, \"type\": \"carpet\"}], \"choropleth\": [{\"colorbar\": {\"outlinewidth\": 0, \"ticks\": \"\"}, \"type\": \"choropleth\"}], \"contour\": [{\"colorbar\": {\"outlinewidth\": 0, \"ticks\": \"\"}, \"colorscale\": [[0.0, \"#0d0887\"], [0.1111111111111111, \"#46039f\"], [0.2222222222222222, \"#7201a8\"], [0.3333333333333333, \"#9c179e\"], [0.4444444444444444, \"#bd3786\"], [0.5555555555555556, \"#d8576b\"], [0.6666666666666666, \"#ed7953\"], [0.7777777777777778, \"#fb9f3a\"], [0.8888888888888888, \"#fdca26\"], [1.0, \"#f0f921\"]], \"type\": \"contour\"}], \"contourcarpet\": [{\"colorbar\": {\"outlinewidth\": 0, \"ticks\": \"\"}, \"type\": \"contourcarpet\"}], \"heatmap\": [{\"colorbar\": {\"outlinewidth\": 0, \"ticks\": \"\"}, \"colorscale\": [[0.0, \"#0d0887\"], [0.1111111111111111, \"#46039f\"], [0.2222222222222222, \"#7201a8\"], [0.3333333333333333, \"#9c179e\"], [0.4444444444444444, \"#bd3786\"], [0.5555555555555556, \"#d8576b\"], [0.6666666666666666, \"#ed7953\"], [0.7777777777777778, \"#fb9f3a\"], [0.8888888888888888, \"#fdca26\"], [1.0, \"#f0f921\"]], \"type\": \"heatmap\"}], \"heatmapgl\": [{\"colorbar\": {\"outlinewidth\": 0, \"ticks\": \"\"}, \"colorscale\": [[0.0, \"#0d0887\"], [0.1111111111111111, \"#46039f\"], [0.2222222222222222, \"#7201a8\"], [0.3333333333333333, \"#9c179e\"], [0.4444444444444444, \"#bd3786\"], [0.5555555555555556, \"#d8576b\"], [0.6666666666666666, \"#ed7953\"], [0.7777777777777778, \"#fb9f3a\"], [0.8888888888888888, \"#fdca26\"], [1.0, \"#f0f921\"]], \"type\": \"heatmapgl\"}], \"histogram\": [{\"marker\": {\"colorbar\": {\"outlinewidth\": 0, \"ticks\": \"\"}}, \"type\": \"histogram\"}], \"histogram2d\": [{\"colorbar\": {\"outlinewidth\": 0, \"ticks\": \"\"}, \"colorscale\": [[0.0, \"#0d0887\"], [0.1111111111111111, \"#46039f\"], [0.2222222222222222, \"#7201a8\"], [0.3333333333333333, \"#9c179e\"], [0.4444444444444444, \"#bd3786\"], [0.5555555555555556, \"#d8576b\"], [0.6666666666666666, \"#ed7953\"], [0.7777777777777778, \"#fb9f3a\"], [0.8888888888888888, \"#fdca26\"], [1.0, \"#f0f921\"]], \"type\": \"histogram2d\"}], \"histogram2dcontour\": [{\"colorbar\": {\"outlinewidth\": 0, \"ticks\": \"\"}, \"colorscale\": [[0.0, \"#0d0887\"], [0.1111111111111111, \"#46039f\"], [0.2222222222222222, \"#7201a8\"], [0.3333333333333333, \"#9c179e\"], [0.4444444444444444, \"#bd3786\"], [0.5555555555555556, \"#d8576b\"], [0.6666666666666666, \"#ed7953\"], [0.7777777777777778, \"#fb9f3a\"], [0.8888888888888888, \"#fdca26\"], [1.0, \"#f0f921\"]], \"type\": \"histogram2dcontour\"}], \"mesh3d\": [{\"colorbar\": {\"outlinewidth\": 0, \"ticks\": \"\"}, \"type\": \"mesh3d\"}], \"parcoords\": [{\"line\": {\"colorbar\": {\"outlinewidth\": 0, \"ticks\": \"\"}}, \"type\": \"parcoords\"}], \"pie\": [{\"automargin\": true, \"type\": \"pie\"}], \"scatter\": [{\"marker\": {\"colorbar\": {\"outlinewidth\": 0, \"ticks\": \"\"}}, \"type\": \"scatter\"}], \"scatter3d\": [{\"line\": {\"colorbar\": {\"outlinewidth\": 0, \"ticks\": \"\"}}, \"marker\": {\"colorbar\": {\"outlinewidth\": 0, \"ticks\": \"\"}}, \"type\": \"scatter3d\"}], \"scattercarpet\": [{\"marker\": {\"colorbar\": {\"outlinewidth\": 0, \"ticks\": \"\"}}, \"type\": \"scattercarpet\"}], \"scattergeo\": [{\"marker\": {\"colorbar\": {\"outlinewidth\": 0, \"ticks\": \"\"}}, \"type\": \"scattergeo\"}], \"scattergl\": [{\"marker\": {\"colorbar\": {\"outlinewidth\": 0, \"ticks\": \"\"}}, \"type\": \"scattergl\"}], \"scattermapbox\": [{\"marker\": {\"colorbar\": {\"outlinewidth\": 0, \"ticks\": \"\"}}, \"type\": \"scattermapbox\"}], \"scatterpolar\": [{\"marker\": {\"colorbar\": {\"outlinewidth\": 0, \"ticks\": \"\"}}, \"type\": \"scatterpolar\"}], \"scatterpolargl\": [{\"marker\": {\"colorbar\": {\"outlinewidth\": 0, \"ticks\": \"\"}}, \"type\": \"scatterpolargl\"}], \"scatterternary\": [{\"marker\": {\"colorbar\": {\"outlinewidth\": 0, \"ticks\": \"\"}}, \"type\": \"scatterternary\"}], \"surface\": [{\"colorbar\": {\"outlinewidth\": 0, \"ticks\": \"\"}, \"colorscale\": [[0.0, \"#0d0887\"], [0.1111111111111111, \"#46039f\"], [0.2222222222222222, \"#7201a8\"], [0.3333333333333333, \"#9c179e\"], [0.4444444444444444, \"#bd3786\"], [0.5555555555555556, \"#d8576b\"], [0.6666666666666666, \"#ed7953\"], [0.7777777777777778, \"#fb9f3a\"], [0.8888888888888888, \"#fdca26\"], [1.0, \"#f0f921\"]], \"type\": \"surface\"}], \"table\": [{\"cells\": {\"fill\": {\"color\": \"#EBF0F8\"}, \"line\": {\"color\": \"white\"}}, \"header\": {\"fill\": {\"color\": \"#C8D4E3\"}, \"line\": {\"color\": \"white\"}}, \"type\": \"table\"}]}, \"layout\": {\"annotationdefaults\": {\"arrowcolor\": \"#2a3f5f\", \"arrowhead\": 0, \"arrowwidth\": 1}, \"coloraxis\": {\"colorbar\": {\"outlinewidth\": 0, \"ticks\": \"\"}}, \"colorscale\": {\"diverging\": [[0, \"#8e0152\"], [0.1, \"#c51b7d\"], [0.2, \"#de77ae\"], [0.3, \"#f1b6da\"], [0.4, \"#fde0ef\"], [0.5, \"#f7f7f7\"], [0.6, \"#e6f5d0\"], [0.7, \"#b8e186\"], [0.8, \"#7fbc41\"], [0.9, \"#4d9221\"], [1, \"#276419\"]], \"sequential\": [[0.0, \"#0d0887\"], [0.1111111111111111, \"#46039f\"], [0.2222222222222222, \"#7201a8\"], [0.3333333333333333, \"#9c179e\"], [0.4444444444444444, \"#bd3786\"], [0.5555555555555556, \"#d8576b\"], [0.6666666666666666, \"#ed7953\"], [0.7777777777777778, \"#fb9f3a\"], [0.8888888888888888, \"#fdca26\"], [1.0, \"#f0f921\"]], \"sequentialminus\": [[0.0, \"#0d0887\"], [0.1111111111111111, \"#46039f\"], [0.2222222222222222, \"#7201a8\"], [0.3333333333333333, \"#9c179e\"], [0.4444444444444444, \"#bd3786\"], [0.5555555555555556, \"#d8576b\"], [0.6666666666666666, \"#ed7953\"], [0.7777777777777778, \"#fb9f3a\"], [0.8888888888888888, \"#fdca26\"], [1.0, \"#f0f921\"]]}, \"colorway\": [\"#636efa\", \"#EF553B\", \"#00cc96\", \"#ab63fa\", \"#FFA15A\", \"#19d3f3\", \"#FF6692\", \"#B6E880\", \"#FF97FF\", \"#FECB52\"], \"font\": {\"color\": \"#2a3f5f\"}, \"geo\": {\"bgcolor\": \"white\", \"lakecolor\": \"white\", \"landcolor\": \"#E5ECF6\", \"showlakes\": true, \"showland\": true, \"subunitcolor\": \"white\"}, \"hoverlabel\": {\"align\": \"left\"}, \"hovermode\": \"closest\", \"mapbox\": {\"style\": \"light\"}, \"paper_bgcolor\": \"white\", \"plot_bgcolor\": \"#E5ECF6\", \"polar\": {\"angularaxis\": {\"gridcolor\": \"white\", \"linecolor\": \"white\", \"ticks\": \"\"}, \"bgcolor\": \"#E5ECF6\", \"radialaxis\": {\"gridcolor\": \"white\", \"linecolor\": \"white\", \"ticks\": \"\"}}, \"scene\": {\"xaxis\": {\"backgroundcolor\": \"#E5ECF6\", \"gridcolor\": \"white\", \"gridwidth\": 2, \"linecolor\": \"white\", \"showbackground\": true, \"ticks\": \"\", \"zerolinecolor\": \"white\"}, \"yaxis\": {\"backgroundcolor\": \"#E5ECF6\", \"gridcolor\": \"white\", \"gridwidth\": 2, \"linecolor\": \"white\", \"showbackground\": true, \"ticks\": \"\", \"zerolinecolor\": \"white\"}, \"zaxis\": {\"backgroundcolor\": \"#E5ECF6\", \"gridcolor\": \"white\", \"gridwidth\": 2, \"linecolor\": \"white\", \"showbackground\": true, \"ticks\": \"\", \"zerolinecolor\": \"white\"}}, \"shapedefaults\": {\"line\": {\"color\": \"#2a3f5f\"}}, \"ternary\": {\"aaxis\": {\"gridcolor\": \"white\", \"linecolor\": \"white\", \"ticks\": \"\"}, \"baxis\": {\"gridcolor\": \"white\", \"linecolor\": \"white\", \"ticks\": \"\"}, \"bgcolor\": \"#E5ECF6\", \"caxis\": {\"gridcolor\": \"white\", \"linecolor\": \"white\", \"ticks\": \"\"}}, \"title\": {\"x\": 0.05}, \"xaxis\": {\"automargin\": true, \"gridcolor\": \"white\", \"linecolor\": \"white\", \"ticks\": \"\", \"title\": {\"standoff\": 15}, \"zerolinecolor\": \"white\", \"zerolinewidth\": 2}, \"yaxis\": {\"automargin\": true, \"gridcolor\": \"white\", \"linecolor\": \"white\", \"ticks\": \"\", \"title\": {\"standoff\": 15}, \"zerolinecolor\": \"white\", \"zerolinewidth\": 2}}}, \"title\": {\"text\": \"Prime-age employment rate by race and disability status\"}, \"xaxis\": {\"anchor\": \"y\", \"domain\": [0.0, 1.0], \"title\": {\"text\": \"\"}}, \"yaxis\": {\"anchor\": \"x\", \"domain\": [0.0, 1.0], \"ticksuffix\": \"%\", \"title\": {\"text\": \"Employment rate of civilians aged 25 to 54\"}}},\n",
       "                        {\"responsive\": true}\n",
       "                    ).then(function(){\n",
       "                            \n",
       "var gd = document.getElementById('82521e98-9f44-427e-87fc-ee7ebaa05759');\n",
       "var x = new MutationObserver(function (mutations, observer) {{\n",
       "        var display = window.getComputedStyle(gd).display;\n",
       "        if (!display || display === 'none') {{\n",
       "            console.log([gd, 'removed!']);\n",
       "            Plotly.purge(gd);\n",
       "            observer.disconnect();\n",
       "        }}\n",
       "}});\n",
       "\n",
       "// Listen for the removal of the full notebook cells\n",
       "var notebookContainer = gd.closest('#notebook-container');\n",
       "if (notebookContainer) {{\n",
       "    x.observe(notebookContainer, {childList: true});\n",
       "}}\n",
       "\n",
       "// Listen for the clearing of the current output cell\n",
       "var outputEl = gd.closest('.output');\n",
       "if (outputEl) {{\n",
       "    x.observe(outputEl, {childList: true});\n",
       "}}\n",
       "\n",
       "                        })\n",
       "                };\n",
       "                });\n",
       "            </script>\n",
       "        </div>"
      ]
     },
     "metadata": {},
     "output_type": "display_data"
    }
   ],
   "source": [
    "fig = px.line(race_diffany_emp, x='date', y='emp_rate', color='label')\n",
    "fig.update_layout(\n",
    "    title='Prime-age employment rate by race and disability status',\n",
    "    xaxis_title='',\n",
    "    yaxis_title='Employment rate of civilians aged 25 to 54',\n",
    "    yaxis_ticksuffix='%',\n",
    "    legend_title_text='',\n",
    "    font=dict(family='Roboto')\n",
    ")\n",
    "\n",
    "fig.show()"
   ]
  },
  {
   "cell_type": "markdown",
   "metadata": {},
   "source": [
    "Honing in on the latest month of data (May 2020) emphasizes the 50-percent-larger racial employment gap\n",
    "among people with disabilities.\n",
    "Put another way: among people without disabilities, Black people are 8 percent less likely to be\n",
    "employed than non-Black people, while they're 32 percent less likely to be employed among people *with* disabilities."
   ]
  },
  {
   "cell_type": "code",
   "execution_count": 6,
   "metadata": {
    "tags": [
     "hide-input"
    ]
   },
   "outputs": [
    {
     "data": {
      "application/vnd.plotly.v1+json": {
       "config": {
        "plotlyServerURL": "https://plot.ly"
       },
       "data": [
        {
         "alignmentgroup": "True",
         "hovertemplate": "label=%{x}<br>emp_rate=%{y}<extra></extra>",
         "legendgroup": "",
         "marker": {
          "color": "#636efa"
         },
         "name": "",
         "offsetgroup": "",
         "orientation": "v",
         "showlegend": false,
         "textposition": "auto",
         "type": "bar",
         "x": [
          "Not Black, No disability",
          "Not Black, Has disability",
          "Black, No disability",
          "Black, Has disability"
         ],
         "xaxis": "x",
         "y": [
          74.58412847498052,
          34.51249867428785,
          68.68704826076437,
          23.60406538525181
         ],
         "yaxis": "y"
        }
       ],
       "layout": {
        "barmode": "relative",
        "font": {
         "family": "Roboto"
        },
        "legend": {
         "title": {
          "text": ""
         },
         "tracegroupgap": 0
        },
        "margin": {
         "t": 60
        },
        "template": {
         "data": {
          "bar": [
           {
            "error_x": {
             "color": "#2a3f5f"
            },
            "error_y": {
             "color": "#2a3f5f"
            },
            "marker": {
             "line": {
              "color": "#E5ECF6",
              "width": 0.5
             }
            },
            "type": "bar"
           }
          ],
          "barpolar": [
           {
            "marker": {
             "line": {
              "color": "#E5ECF6",
              "width": 0.5
             }
            },
            "type": "barpolar"
           }
          ],
          "carpet": [
           {
            "aaxis": {
             "endlinecolor": "#2a3f5f",
             "gridcolor": "white",
             "linecolor": "white",
             "minorgridcolor": "white",
             "startlinecolor": "#2a3f5f"
            },
            "baxis": {
             "endlinecolor": "#2a3f5f",
             "gridcolor": "white",
             "linecolor": "white",
             "minorgridcolor": "white",
             "startlinecolor": "#2a3f5f"
            },
            "type": "carpet"
           }
          ],
          "choropleth": [
           {
            "colorbar": {
             "outlinewidth": 0,
             "ticks": ""
            },
            "type": "choropleth"
           }
          ],
          "contour": [
           {
            "colorbar": {
             "outlinewidth": 0,
             "ticks": ""
            },
            "colorscale": [
             [
              0,
              "#0d0887"
             ],
             [
              0.1111111111111111,
              "#46039f"
             ],
             [
              0.2222222222222222,
              "#7201a8"
             ],
             [
              0.3333333333333333,
              "#9c179e"
             ],
             [
              0.4444444444444444,
              "#bd3786"
             ],
             [
              0.5555555555555556,
              "#d8576b"
             ],
             [
              0.6666666666666666,
              "#ed7953"
             ],
             [
              0.7777777777777778,
              "#fb9f3a"
             ],
             [
              0.8888888888888888,
              "#fdca26"
             ],
             [
              1,
              "#f0f921"
             ]
            ],
            "type": "contour"
           }
          ],
          "contourcarpet": [
           {
            "colorbar": {
             "outlinewidth": 0,
             "ticks": ""
            },
            "type": "contourcarpet"
           }
          ],
          "heatmap": [
           {
            "colorbar": {
             "outlinewidth": 0,
             "ticks": ""
            },
            "colorscale": [
             [
              0,
              "#0d0887"
             ],
             [
              0.1111111111111111,
              "#46039f"
             ],
             [
              0.2222222222222222,
              "#7201a8"
             ],
             [
              0.3333333333333333,
              "#9c179e"
             ],
             [
              0.4444444444444444,
              "#bd3786"
             ],
             [
              0.5555555555555556,
              "#d8576b"
             ],
             [
              0.6666666666666666,
              "#ed7953"
             ],
             [
              0.7777777777777778,
              "#fb9f3a"
             ],
             [
              0.8888888888888888,
              "#fdca26"
             ],
             [
              1,
              "#f0f921"
             ]
            ],
            "type": "heatmap"
           }
          ],
          "heatmapgl": [
           {
            "colorbar": {
             "outlinewidth": 0,
             "ticks": ""
            },
            "colorscale": [
             [
              0,
              "#0d0887"
             ],
             [
              0.1111111111111111,
              "#46039f"
             ],
             [
              0.2222222222222222,
              "#7201a8"
             ],
             [
              0.3333333333333333,
              "#9c179e"
             ],
             [
              0.4444444444444444,
              "#bd3786"
             ],
             [
              0.5555555555555556,
              "#d8576b"
             ],
             [
              0.6666666666666666,
              "#ed7953"
             ],
             [
              0.7777777777777778,
              "#fb9f3a"
             ],
             [
              0.8888888888888888,
              "#fdca26"
             ],
             [
              1,
              "#f0f921"
             ]
            ],
            "type": "heatmapgl"
           }
          ],
          "histogram": [
           {
            "marker": {
             "colorbar": {
              "outlinewidth": 0,
              "ticks": ""
             }
            },
            "type": "histogram"
           }
          ],
          "histogram2d": [
           {
            "colorbar": {
             "outlinewidth": 0,
             "ticks": ""
            },
            "colorscale": [
             [
              0,
              "#0d0887"
             ],
             [
              0.1111111111111111,
              "#46039f"
             ],
             [
              0.2222222222222222,
              "#7201a8"
             ],
             [
              0.3333333333333333,
              "#9c179e"
             ],
             [
              0.4444444444444444,
              "#bd3786"
             ],
             [
              0.5555555555555556,
              "#d8576b"
             ],
             [
              0.6666666666666666,
              "#ed7953"
             ],
             [
              0.7777777777777778,
              "#fb9f3a"
             ],
             [
              0.8888888888888888,
              "#fdca26"
             ],
             [
              1,
              "#f0f921"
             ]
            ],
            "type": "histogram2d"
           }
          ],
          "histogram2dcontour": [
           {
            "colorbar": {
             "outlinewidth": 0,
             "ticks": ""
            },
            "colorscale": [
             [
              0,
              "#0d0887"
             ],
             [
              0.1111111111111111,
              "#46039f"
             ],
             [
              0.2222222222222222,
              "#7201a8"
             ],
             [
              0.3333333333333333,
              "#9c179e"
             ],
             [
              0.4444444444444444,
              "#bd3786"
             ],
             [
              0.5555555555555556,
              "#d8576b"
             ],
             [
              0.6666666666666666,
              "#ed7953"
             ],
             [
              0.7777777777777778,
              "#fb9f3a"
             ],
             [
              0.8888888888888888,
              "#fdca26"
             ],
             [
              1,
              "#f0f921"
             ]
            ],
            "type": "histogram2dcontour"
           }
          ],
          "mesh3d": [
           {
            "colorbar": {
             "outlinewidth": 0,
             "ticks": ""
            },
            "type": "mesh3d"
           }
          ],
          "parcoords": [
           {
            "line": {
             "colorbar": {
              "outlinewidth": 0,
              "ticks": ""
             }
            },
            "type": "parcoords"
           }
          ],
          "pie": [
           {
            "automargin": true,
            "type": "pie"
           }
          ],
          "scatter": [
           {
            "marker": {
             "colorbar": {
              "outlinewidth": 0,
              "ticks": ""
             }
            },
            "type": "scatter"
           }
          ],
          "scatter3d": [
           {
            "line": {
             "colorbar": {
              "outlinewidth": 0,
              "ticks": ""
             }
            },
            "marker": {
             "colorbar": {
              "outlinewidth": 0,
              "ticks": ""
             }
            },
            "type": "scatter3d"
           }
          ],
          "scattercarpet": [
           {
            "marker": {
             "colorbar": {
              "outlinewidth": 0,
              "ticks": ""
             }
            },
            "type": "scattercarpet"
           }
          ],
          "scattergeo": [
           {
            "marker": {
             "colorbar": {
              "outlinewidth": 0,
              "ticks": ""
             }
            },
            "type": "scattergeo"
           }
          ],
          "scattergl": [
           {
            "marker": {
             "colorbar": {
              "outlinewidth": 0,
              "ticks": ""
             }
            },
            "type": "scattergl"
           }
          ],
          "scattermapbox": [
           {
            "marker": {
             "colorbar": {
              "outlinewidth": 0,
              "ticks": ""
             }
            },
            "type": "scattermapbox"
           }
          ],
          "scatterpolar": [
           {
            "marker": {
             "colorbar": {
              "outlinewidth": 0,
              "ticks": ""
             }
            },
            "type": "scatterpolar"
           }
          ],
          "scatterpolargl": [
           {
            "marker": {
             "colorbar": {
              "outlinewidth": 0,
              "ticks": ""
             }
            },
            "type": "scatterpolargl"
           }
          ],
          "scatterternary": [
           {
            "marker": {
             "colorbar": {
              "outlinewidth": 0,
              "ticks": ""
             }
            },
            "type": "scatterternary"
           }
          ],
          "surface": [
           {
            "colorbar": {
             "outlinewidth": 0,
             "ticks": ""
            },
            "colorscale": [
             [
              0,
              "#0d0887"
             ],
             [
              0.1111111111111111,
              "#46039f"
             ],
             [
              0.2222222222222222,
              "#7201a8"
             ],
             [
              0.3333333333333333,
              "#9c179e"
             ],
             [
              0.4444444444444444,
              "#bd3786"
             ],
             [
              0.5555555555555556,
              "#d8576b"
             ],
             [
              0.6666666666666666,
              "#ed7953"
             ],
             [
              0.7777777777777778,
              "#fb9f3a"
             ],
             [
              0.8888888888888888,
              "#fdca26"
             ],
             [
              1,
              "#f0f921"
             ]
            ],
            "type": "surface"
           }
          ],
          "table": [
           {
            "cells": {
             "fill": {
              "color": "#EBF0F8"
             },
             "line": {
              "color": "white"
             }
            },
            "header": {
             "fill": {
              "color": "#C8D4E3"
             },
             "line": {
              "color": "white"
             }
            },
            "type": "table"
           }
          ]
         },
         "layout": {
          "annotationdefaults": {
           "arrowcolor": "#2a3f5f",
           "arrowhead": 0,
           "arrowwidth": 1
          },
          "coloraxis": {
           "colorbar": {
            "outlinewidth": 0,
            "ticks": ""
           }
          },
          "colorscale": {
           "diverging": [
            [
             0,
             "#8e0152"
            ],
            [
             0.1,
             "#c51b7d"
            ],
            [
             0.2,
             "#de77ae"
            ],
            [
             0.3,
             "#f1b6da"
            ],
            [
             0.4,
             "#fde0ef"
            ],
            [
             0.5,
             "#f7f7f7"
            ],
            [
             0.6,
             "#e6f5d0"
            ],
            [
             0.7,
             "#b8e186"
            ],
            [
             0.8,
             "#7fbc41"
            ],
            [
             0.9,
             "#4d9221"
            ],
            [
             1,
             "#276419"
            ]
           ],
           "sequential": [
            [
             0,
             "#0d0887"
            ],
            [
             0.1111111111111111,
             "#46039f"
            ],
            [
             0.2222222222222222,
             "#7201a8"
            ],
            [
             0.3333333333333333,
             "#9c179e"
            ],
            [
             0.4444444444444444,
             "#bd3786"
            ],
            [
             0.5555555555555556,
             "#d8576b"
            ],
            [
             0.6666666666666666,
             "#ed7953"
            ],
            [
             0.7777777777777778,
             "#fb9f3a"
            ],
            [
             0.8888888888888888,
             "#fdca26"
            ],
            [
             1,
             "#f0f921"
            ]
           ],
           "sequentialminus": [
            [
             0,
             "#0d0887"
            ],
            [
             0.1111111111111111,
             "#46039f"
            ],
            [
             0.2222222222222222,
             "#7201a8"
            ],
            [
             0.3333333333333333,
             "#9c179e"
            ],
            [
             0.4444444444444444,
             "#bd3786"
            ],
            [
             0.5555555555555556,
             "#d8576b"
            ],
            [
             0.6666666666666666,
             "#ed7953"
            ],
            [
             0.7777777777777778,
             "#fb9f3a"
            ],
            [
             0.8888888888888888,
             "#fdca26"
            ],
            [
             1,
             "#f0f921"
            ]
           ]
          },
          "colorway": [
           "#636efa",
           "#EF553B",
           "#00cc96",
           "#ab63fa",
           "#FFA15A",
           "#19d3f3",
           "#FF6692",
           "#B6E880",
           "#FF97FF",
           "#FECB52"
          ],
          "font": {
           "color": "#2a3f5f"
          },
          "geo": {
           "bgcolor": "white",
           "lakecolor": "white",
           "landcolor": "#E5ECF6",
           "showlakes": true,
           "showland": true,
           "subunitcolor": "white"
          },
          "hoverlabel": {
           "align": "left"
          },
          "hovermode": "closest",
          "mapbox": {
           "style": "light"
          },
          "paper_bgcolor": "white",
          "plot_bgcolor": "#E5ECF6",
          "polar": {
           "angularaxis": {
            "gridcolor": "white",
            "linecolor": "white",
            "ticks": ""
           },
           "bgcolor": "#E5ECF6",
           "radialaxis": {
            "gridcolor": "white",
            "linecolor": "white",
            "ticks": ""
           }
          },
          "scene": {
           "xaxis": {
            "backgroundcolor": "#E5ECF6",
            "gridcolor": "white",
            "gridwidth": 2,
            "linecolor": "white",
            "showbackground": true,
            "ticks": "",
            "zerolinecolor": "white"
           },
           "yaxis": {
            "backgroundcolor": "#E5ECF6",
            "gridcolor": "white",
            "gridwidth": 2,
            "linecolor": "white",
            "showbackground": true,
            "ticks": "",
            "zerolinecolor": "white"
           },
           "zaxis": {
            "backgroundcolor": "#E5ECF6",
            "gridcolor": "white",
            "gridwidth": 2,
            "linecolor": "white",
            "showbackground": true,
            "ticks": "",
            "zerolinecolor": "white"
           }
          },
          "shapedefaults": {
           "line": {
            "color": "#2a3f5f"
           }
          },
          "ternary": {
           "aaxis": {
            "gridcolor": "white",
            "linecolor": "white",
            "ticks": ""
           },
           "baxis": {
            "gridcolor": "white",
            "linecolor": "white",
            "ticks": ""
           },
           "bgcolor": "#E5ECF6",
           "caxis": {
            "gridcolor": "white",
            "linecolor": "white",
            "ticks": ""
           }
          },
          "title": {
           "x": 0.05
          },
          "xaxis": {
           "automargin": true,
           "gridcolor": "white",
           "linecolor": "white",
           "ticks": "",
           "title": {
            "standoff": 15
           },
           "zerolinecolor": "white",
           "zerolinewidth": 2
          },
          "yaxis": {
           "automargin": true,
           "gridcolor": "white",
           "linecolor": "white",
           "ticks": "",
           "title": {
            "standoff": 15
           },
           "zerolinecolor": "white",
           "zerolinewidth": 2
          }
         }
        },
        "title": {
         "text": "Prime-age employment rate by race and disability status, April 2020"
        },
        "xaxis": {
         "anchor": "y",
         "categoryorder": "total descending",
         "domain": [
          0,
          1
         ],
         "title": {
          "text": ""
         }
        },
        "yaxis": {
         "anchor": "x",
         "domain": [
          0,
          1
         ],
         "ticksuffix": "%",
         "title": {
          "text": "Employment rate of civilians aged 25 to 54"
         }
        }
       }
      },
      "text/html": [
       "<div>\n",
       "        \n",
       "        \n",
       "            <div id=\"5426d718-4074-4790-bace-b648aae1c1dd\" class=\"plotly-graph-div\" style=\"height:525px; width:100%;\"></div>\n",
       "            <script type=\"text/javascript\">\n",
       "                require([\"plotly\"], function(Plotly) {\n",
       "                    window.PLOTLYENV=window.PLOTLYENV || {};\n",
       "                    \n",
       "                if (document.getElementById(\"5426d718-4074-4790-bace-b648aae1c1dd\")) {\n",
       "                    Plotly.newPlot(\n",
       "                        '5426d718-4074-4790-bace-b648aae1c1dd',\n",
       "                        [{\"alignmentgroup\": \"True\", \"hovertemplate\": \"label=%{x}<br>emp_rate=%{y}<extra></extra>\", \"legendgroup\": \"\", \"marker\": {\"color\": \"#636efa\"}, \"name\": \"\", \"offsetgroup\": \"\", \"orientation\": \"v\", \"showlegend\": false, \"textposition\": \"auto\", \"type\": \"bar\", \"x\": [\"Not Black, No disability\", \"Not Black, Has disability\", \"Black, No disability\", \"Black, Has disability\"], \"xaxis\": \"x\", \"y\": [74.58412847498052, 34.51249867428785, 68.68704826076437, 23.60406538525181], \"yaxis\": \"y\"}],\n",
       "                        {\"barmode\": \"relative\", \"font\": {\"family\": \"Roboto\"}, \"legend\": {\"title\": {\"text\": \"\"}, \"tracegroupgap\": 0}, \"margin\": {\"t\": 60}, \"template\": {\"data\": {\"bar\": [{\"error_x\": {\"color\": \"#2a3f5f\"}, \"error_y\": {\"color\": \"#2a3f5f\"}, \"marker\": {\"line\": {\"color\": \"#E5ECF6\", \"width\": 0.5}}, \"type\": \"bar\"}], \"barpolar\": [{\"marker\": {\"line\": {\"color\": \"#E5ECF6\", \"width\": 0.5}}, \"type\": \"barpolar\"}], \"carpet\": [{\"aaxis\": {\"endlinecolor\": \"#2a3f5f\", \"gridcolor\": \"white\", \"linecolor\": \"white\", \"minorgridcolor\": \"white\", \"startlinecolor\": \"#2a3f5f\"}, \"baxis\": {\"endlinecolor\": \"#2a3f5f\", \"gridcolor\": \"white\", \"linecolor\": \"white\", \"minorgridcolor\": \"white\", \"startlinecolor\": \"#2a3f5f\"}, \"type\": \"carpet\"}], \"choropleth\": [{\"colorbar\": {\"outlinewidth\": 0, \"ticks\": \"\"}, \"type\": \"choropleth\"}], \"contour\": [{\"colorbar\": {\"outlinewidth\": 0, \"ticks\": \"\"}, \"colorscale\": [[0.0, \"#0d0887\"], [0.1111111111111111, \"#46039f\"], [0.2222222222222222, \"#7201a8\"], [0.3333333333333333, \"#9c179e\"], [0.4444444444444444, \"#bd3786\"], [0.5555555555555556, \"#d8576b\"], [0.6666666666666666, \"#ed7953\"], [0.7777777777777778, \"#fb9f3a\"], [0.8888888888888888, \"#fdca26\"], [1.0, \"#f0f921\"]], \"type\": \"contour\"}], \"contourcarpet\": [{\"colorbar\": {\"outlinewidth\": 0, \"ticks\": \"\"}, \"type\": \"contourcarpet\"}], \"heatmap\": [{\"colorbar\": {\"outlinewidth\": 0, \"ticks\": \"\"}, \"colorscale\": [[0.0, \"#0d0887\"], [0.1111111111111111, \"#46039f\"], [0.2222222222222222, \"#7201a8\"], [0.3333333333333333, \"#9c179e\"], [0.4444444444444444, \"#bd3786\"], [0.5555555555555556, \"#d8576b\"], [0.6666666666666666, \"#ed7953\"], [0.7777777777777778, \"#fb9f3a\"], [0.8888888888888888, \"#fdca26\"], [1.0, \"#f0f921\"]], \"type\": \"heatmap\"}], \"heatmapgl\": [{\"colorbar\": {\"outlinewidth\": 0, \"ticks\": \"\"}, \"colorscale\": [[0.0, \"#0d0887\"], [0.1111111111111111, \"#46039f\"], [0.2222222222222222, \"#7201a8\"], [0.3333333333333333, \"#9c179e\"], [0.4444444444444444, \"#bd3786\"], [0.5555555555555556, \"#d8576b\"], [0.6666666666666666, \"#ed7953\"], [0.7777777777777778, \"#fb9f3a\"], [0.8888888888888888, \"#fdca26\"], [1.0, \"#f0f921\"]], \"type\": \"heatmapgl\"}], \"histogram\": [{\"marker\": {\"colorbar\": {\"outlinewidth\": 0, \"ticks\": \"\"}}, \"type\": \"histogram\"}], \"histogram2d\": [{\"colorbar\": {\"outlinewidth\": 0, \"ticks\": \"\"}, \"colorscale\": [[0.0, \"#0d0887\"], [0.1111111111111111, \"#46039f\"], [0.2222222222222222, \"#7201a8\"], [0.3333333333333333, \"#9c179e\"], [0.4444444444444444, \"#bd3786\"], [0.5555555555555556, \"#d8576b\"], [0.6666666666666666, \"#ed7953\"], [0.7777777777777778, \"#fb9f3a\"], [0.8888888888888888, \"#fdca26\"], [1.0, \"#f0f921\"]], \"type\": \"histogram2d\"}], \"histogram2dcontour\": [{\"colorbar\": {\"outlinewidth\": 0, \"ticks\": \"\"}, \"colorscale\": [[0.0, \"#0d0887\"], [0.1111111111111111, \"#46039f\"], [0.2222222222222222, \"#7201a8\"], [0.3333333333333333, \"#9c179e\"], [0.4444444444444444, \"#bd3786\"], [0.5555555555555556, \"#d8576b\"], [0.6666666666666666, \"#ed7953\"], [0.7777777777777778, \"#fb9f3a\"], [0.8888888888888888, \"#fdca26\"], [1.0, \"#f0f921\"]], \"type\": \"histogram2dcontour\"}], \"mesh3d\": [{\"colorbar\": {\"outlinewidth\": 0, \"ticks\": \"\"}, \"type\": \"mesh3d\"}], \"parcoords\": [{\"line\": {\"colorbar\": {\"outlinewidth\": 0, \"ticks\": \"\"}}, \"type\": \"parcoords\"}], \"pie\": [{\"automargin\": true, \"type\": \"pie\"}], \"scatter\": [{\"marker\": {\"colorbar\": {\"outlinewidth\": 0, \"ticks\": \"\"}}, \"type\": \"scatter\"}], \"scatter3d\": [{\"line\": {\"colorbar\": {\"outlinewidth\": 0, \"ticks\": \"\"}}, \"marker\": {\"colorbar\": {\"outlinewidth\": 0, \"ticks\": \"\"}}, \"type\": \"scatter3d\"}], \"scattercarpet\": [{\"marker\": {\"colorbar\": {\"outlinewidth\": 0, \"ticks\": \"\"}}, \"type\": \"scattercarpet\"}], \"scattergeo\": [{\"marker\": {\"colorbar\": {\"outlinewidth\": 0, \"ticks\": \"\"}}, \"type\": \"scattergeo\"}], \"scattergl\": [{\"marker\": {\"colorbar\": {\"outlinewidth\": 0, \"ticks\": \"\"}}, \"type\": \"scattergl\"}], \"scattermapbox\": [{\"marker\": {\"colorbar\": {\"outlinewidth\": 0, \"ticks\": \"\"}}, \"type\": \"scattermapbox\"}], \"scatterpolar\": [{\"marker\": {\"colorbar\": {\"outlinewidth\": 0, \"ticks\": \"\"}}, \"type\": \"scatterpolar\"}], \"scatterpolargl\": [{\"marker\": {\"colorbar\": {\"outlinewidth\": 0, \"ticks\": \"\"}}, \"type\": \"scatterpolargl\"}], \"scatterternary\": [{\"marker\": {\"colorbar\": {\"outlinewidth\": 0, \"ticks\": \"\"}}, \"type\": \"scatterternary\"}], \"surface\": [{\"colorbar\": {\"outlinewidth\": 0, \"ticks\": \"\"}, \"colorscale\": [[0.0, \"#0d0887\"], [0.1111111111111111, \"#46039f\"], [0.2222222222222222, \"#7201a8\"], [0.3333333333333333, \"#9c179e\"], [0.4444444444444444, \"#bd3786\"], [0.5555555555555556, \"#d8576b\"], [0.6666666666666666, \"#ed7953\"], [0.7777777777777778, \"#fb9f3a\"], [0.8888888888888888, \"#fdca26\"], [1.0, \"#f0f921\"]], \"type\": \"surface\"}], \"table\": [{\"cells\": {\"fill\": {\"color\": \"#EBF0F8\"}, \"line\": {\"color\": \"white\"}}, \"header\": {\"fill\": {\"color\": \"#C8D4E3\"}, \"line\": {\"color\": \"white\"}}, \"type\": \"table\"}]}, \"layout\": {\"annotationdefaults\": {\"arrowcolor\": \"#2a3f5f\", \"arrowhead\": 0, \"arrowwidth\": 1}, \"coloraxis\": {\"colorbar\": {\"outlinewidth\": 0, \"ticks\": \"\"}}, \"colorscale\": {\"diverging\": [[0, \"#8e0152\"], [0.1, \"#c51b7d\"], [0.2, \"#de77ae\"], [0.3, \"#f1b6da\"], [0.4, \"#fde0ef\"], [0.5, \"#f7f7f7\"], [0.6, \"#e6f5d0\"], [0.7, \"#b8e186\"], [0.8, \"#7fbc41\"], [0.9, \"#4d9221\"], [1, \"#276419\"]], \"sequential\": [[0.0, \"#0d0887\"], [0.1111111111111111, \"#46039f\"], [0.2222222222222222, \"#7201a8\"], [0.3333333333333333, \"#9c179e\"], [0.4444444444444444, \"#bd3786\"], [0.5555555555555556, \"#d8576b\"], [0.6666666666666666, \"#ed7953\"], [0.7777777777777778, \"#fb9f3a\"], [0.8888888888888888, \"#fdca26\"], [1.0, \"#f0f921\"]], \"sequentialminus\": [[0.0, \"#0d0887\"], [0.1111111111111111, \"#46039f\"], [0.2222222222222222, \"#7201a8\"], [0.3333333333333333, \"#9c179e\"], [0.4444444444444444, \"#bd3786\"], [0.5555555555555556, \"#d8576b\"], [0.6666666666666666, \"#ed7953\"], [0.7777777777777778, \"#fb9f3a\"], [0.8888888888888888, \"#fdca26\"], [1.0, \"#f0f921\"]]}, \"colorway\": [\"#636efa\", \"#EF553B\", \"#00cc96\", \"#ab63fa\", \"#FFA15A\", \"#19d3f3\", \"#FF6692\", \"#B6E880\", \"#FF97FF\", \"#FECB52\"], \"font\": {\"color\": \"#2a3f5f\"}, \"geo\": {\"bgcolor\": \"white\", \"lakecolor\": \"white\", \"landcolor\": \"#E5ECF6\", \"showlakes\": true, \"showland\": true, \"subunitcolor\": \"white\"}, \"hoverlabel\": {\"align\": \"left\"}, \"hovermode\": \"closest\", \"mapbox\": {\"style\": \"light\"}, \"paper_bgcolor\": \"white\", \"plot_bgcolor\": \"#E5ECF6\", \"polar\": {\"angularaxis\": {\"gridcolor\": \"white\", \"linecolor\": \"white\", \"ticks\": \"\"}, \"bgcolor\": \"#E5ECF6\", \"radialaxis\": {\"gridcolor\": \"white\", \"linecolor\": \"white\", \"ticks\": \"\"}}, \"scene\": {\"xaxis\": {\"backgroundcolor\": \"#E5ECF6\", \"gridcolor\": \"white\", \"gridwidth\": 2, \"linecolor\": \"white\", \"showbackground\": true, \"ticks\": \"\", \"zerolinecolor\": \"white\"}, \"yaxis\": {\"backgroundcolor\": \"#E5ECF6\", \"gridcolor\": \"white\", \"gridwidth\": 2, \"linecolor\": \"white\", \"showbackground\": true, \"ticks\": \"\", \"zerolinecolor\": \"white\"}, \"zaxis\": {\"backgroundcolor\": \"#E5ECF6\", \"gridcolor\": \"white\", \"gridwidth\": 2, \"linecolor\": \"white\", \"showbackground\": true, \"ticks\": \"\", \"zerolinecolor\": \"white\"}}, \"shapedefaults\": {\"line\": {\"color\": \"#2a3f5f\"}}, \"ternary\": {\"aaxis\": {\"gridcolor\": \"white\", \"linecolor\": \"white\", \"ticks\": \"\"}, \"baxis\": {\"gridcolor\": \"white\", \"linecolor\": \"white\", \"ticks\": \"\"}, \"bgcolor\": \"#E5ECF6\", \"caxis\": {\"gridcolor\": \"white\", \"linecolor\": \"white\", \"ticks\": \"\"}}, \"title\": {\"x\": 0.05}, \"xaxis\": {\"automargin\": true, \"gridcolor\": \"white\", \"linecolor\": \"white\", \"ticks\": \"\", \"title\": {\"standoff\": 15}, \"zerolinecolor\": \"white\", \"zerolinewidth\": 2}, \"yaxis\": {\"automargin\": true, \"gridcolor\": \"white\", \"linecolor\": \"white\", \"ticks\": \"\", \"title\": {\"standoff\": 15}, \"zerolinecolor\": \"white\", \"zerolinewidth\": 2}}}, \"title\": {\"text\": \"Prime-age employment rate by race and disability status, April 2020\"}, \"xaxis\": {\"anchor\": \"y\", \"categoryorder\": \"total descending\", \"domain\": [0.0, 1.0], \"title\": {\"text\": \"\"}}, \"yaxis\": {\"anchor\": \"x\", \"domain\": [0.0, 1.0], \"ticksuffix\": \"%\", \"title\": {\"text\": \"Employment rate of civilians aged 25 to 54\"}}},\n",
       "                        {\"responsive\": true}\n",
       "                    ).then(function(){\n",
       "                            \n",
       "var gd = document.getElementById('5426d718-4074-4790-bace-b648aae1c1dd');\n",
       "var x = new MutationObserver(function (mutations, observer) {{\n",
       "        var display = window.getComputedStyle(gd).display;\n",
       "        if (!display || display === 'none') {{\n",
       "            console.log([gd, 'removed!']);\n",
       "            Plotly.purge(gd);\n",
       "            observer.disconnect();\n",
       "        }}\n",
       "}});\n",
       "\n",
       "// Listen for the removal of the full notebook cells\n",
       "var notebookContainer = gd.closest('#notebook-container');\n",
       "if (notebookContainer) {{\n",
       "    x.observe(notebookContainer, {childList: true});\n",
       "}}\n",
       "\n",
       "// Listen for the clearing of the current output cell\n",
       "var outputEl = gd.closest('.output');\n",
       "if (outputEl) {{\n",
       "    x.observe(outputEl, {childList: true});\n",
       "}}\n",
       "\n",
       "                        })\n",
       "                };\n",
       "                });\n",
       "            </script>\n",
       "        </div>"
      ]
     },
     "metadata": {},
     "output_type": "display_data"
    }
   ],
   "source": [
    "race_diffany_emp_latest = race_diffany_emp[race_diffany_emp.date == \n",
    "                                           race_diffany_emp.date.max()]\n",
    "\n",
    "fig = px.bar(race_diffany_emp_latest, x='label', y='emp_rate')\n",
    "fig.update_layout(\n",
    "    title='Prime-age employment rate by race and disability status,' +\n",
    "    ' April 2020',\n",
    "    xaxis_title='',\n",
    "    yaxis_title='Employment rate of civilians aged 25 to 54',\n",
    "    yaxis_ticksuffix='%',\n",
    "    legend_title_text='',\n",
    "    font=dict(family='Roboto'),\n",
    "    xaxis={'categoryorder':'total descending'}\n",
    ")\n",
    "fig.show()"
   ]
  },
  {
   "cell_type": "markdown",
   "metadata": {},
   "source": [
    "How to tease out the effects of being Black vs. having a disability, when they interact and each \n",
    "intersectional subgroup differs in size?\n",
    "Regression, of course!\n",
    "\n",
    "A linear probability regression shows that, in May 2020, being Black had an average employment effect of -6.3 percentage points,\n",
    "while having a disability had an average effect of -41.0 percentage points (about 6.5x the Black effect)."
   ]
  },
  {
   "cell_type": "code",
   "execution_count": 7,
   "metadata": {
    "tags": [
     "hide-input"
    ]
   },
   "outputs": [
    {
     "data": {
      "text/html": [
       "<table style=\"text-align:center\"><tr><td colspan=\"2\" style=\"border-bottom: 1px solid black\"></td></tr><tr><td style=\"text-align:left\"></td><td colspan=\"1\"><em>Dependent variable:emp</em></td></tr><tr><td style=\"text-align:left\"></td><tr><td style=\"text-align:left\"></td><td>(1)</td></tr><tr><td colspan=\"2\" style=\"border-bottom: 1px solid black\"></td></tr><tr><td style=\"text-align:left\">Black</td><td>-0.063<sup>***</sup></td></tr><tr><td style=\"text-align:left\"></td><td>(0.009)</td></tr><tr><td style=\"text-align:left\">Has disability</td><td>-0.410<sup>***</sup></td></tr><tr><td style=\"text-align:left\"></td><td>(0.012)</td></tr><td colspan=\"2\" style=\"border-bottom: 1px solid black\"></td></tr><tr><td style=\"text-align: left\">Observations</td><td>35838</td></tr><tr><td style=\"text-align: left\">R<sup>2</sup></td><td>0.047</td></tr><tr><td style=\"text-align: left\">Adjusted R<sup>2</sup></td><td>0.047</td></tr><tr><td style=\"text-align: left\">Residual Std. Error</td><td>26.150 (df=35835)</td></tr><tr><td style=\"text-align: left\">F Statistic</td><td>598.998<sup>***</sup> (df=2; 35835)</td></tr><tr><td colspan=\"2\" style=\"border-bottom: 1px solid black\"></td></tr><tr><td style=\"text-align: left\">Note:</td>\n",
       " <td colspan=\"1\" style=\"text-align: right\">\n",
       "  <sup>*</sup>p&lt;0.1;\n",
       "  <sup>**</sup>p&lt;0.05;\n",
       "  <sup>***</sup>p&lt;0.01\n",
       " </td></tr></table>"
      ],
      "text/plain": [
       "<stargazer.stargazer.Stargazer at 0x78a31ad2ff10>"
      ]
     },
     "execution_count": 7,
     "metadata": {},
     "output_type": "execute_result"
    }
   ],
   "source": [
    "cps_latest = cps[cps.date == cps.date.max()].drop('date', axis=1)\n",
    "cps_latest = sm.add_constant(cps_latest) * 1\n",
    "\n",
    "m = sm.WLS(cps_latest.emp, cps_latest[['black', 'diffany', 'const']],\n",
    "           cps_latest.w).fit(cov_type='HC1')\n",
    "\n",
    "star = sg.Stargazer([m])\n",
    "star.covariate_order(['black', 'diffany'])\n",
    "star.rename_covariates({'black': 'Black', 'diffany': 'Has disability'})\n",
    "star"
   ]
  },
  {
   "cell_type": "markdown",
   "metadata": {},
   "source": [
    "While people with disabilities represent a small part of the overall racial employment gap,\n",
    "they constitute a particularly acute element of it.\n",
    "As we rethink our approach to work in the age of coronavirus,\n",
    "we will have opportunities to close part of the enormous disability employment gap,\n",
    "which will in turn close part of the racial employment gap."
   ]
  }
 ],
 "metadata": {
  "celltoolbar": "Tags",
  "kernelspec": {
   "display_name": "Python 3",
   "language": "python",
   "name": "python3"
  },
  "language_info": {
   "codemirror_mode": {
    "name": "ipython",
    "version": 3
   },
   "file_extension": ".py",
   "mimetype": "text/x-python",
   "name": "python",
   "nbconvert_exporter": "python",
   "pygments_lexer": "ipython3",
   "version": "3.7.7"
  }
 },
 "nbformat": 4,
 "nbformat_minor": 4
}

{
 "cells": [
  {
   "cell_type": "markdown",
   "metadata": {},
   "source": [
    "Employment trends by race and disability\n",
    "==================================\n",
    "\n",
    "How does *prime-age employment* (the employment rate of civilians aged 25 to 54)\n",
    "vary with race and disability status? How does disability status vary by race?\n",
    "How do race and disability status compare in predicting employment?\n",
    "\n",
    "In this post, I use the Current Population Survey to find out.\n",
    "Overall, I find that the disability employment gap is large---41 percentage points on average in May 2020.\n",
    "The racial employment gap (non-Black minus Black) is 7 points, but since Black people are about 30 percent more likely\n",
    "to have a disability, this gap shrinks to 6.3 points when controlling for disability status.\n",
    "Among people with disabilities, black people have employment rates 11 points lower than\n",
    "non-black people (a 32 percent difference).\n",
    "I also find that the coronavirus recession widened the racial employment gap, primarily\n",
    "among the population without disabilities.\n",
    "\n",
    "## Background\n",
    "\n",
    "The prime-age employment rate (often abbreviated as *PAEPOP*, for Prime Age Employment POPulation ratio)\n",
    "is used as a consistent measure of employment trends by economists who\n",
    "want to avoid relying on whether survey respondents say they're still looking for work.\n",
    "The calculation is simply the share of civilians aged 25 to 54 that reported working in the survey week.\n",
    "\n",
    "[Federal Reserve Economic Data](http://fred.stlouisfed.org/) publishes some related trends,\n",
    "e.g. [PAEPOP by disability and gender](https://fred.stlouisfed.org/series/LNU02376960)\n",
    "and [black employment rate among the aged 16+ population](https://fred.stlouisfed.org/series/LNS12300006),\n",
    "but we need to limit by ages to avoid effects of college education and early retirement,\n",
    "both of which may reflect lower employment without worse labor market outcomes.\n",
    "For the right statistics, we need to go to the CPS microdata instead (I used [IPUMS](http://ipums.org) to extract it).\n",
    "\n",
    "For simplicity, I focus on two binary features identified in the CPS:\n",
    "being Black only (compared to all other races), and\n",
    "reporting [any physical or cognitive difficulty](https://cps.ipums.org/cps-action/variables/DIFFANY#description_section) (which I describe here as having a disability).\n",
    "\n",
    "## Results\n",
    "\n",
    "From 2017 until the coronavirus hit, the employment gap between Black people and non-Black people had been roughly steady at around 4 percentage points.\n",
    "But the pandemic hurt Black people disproportionately: in April, the gap grew to 6 points, \n",
    "and even as both groups recovered in May, it grew further to 7 points."
   ]
  },
  {
   "cell_type": "code",
   "execution_count": 151,
   "metadata": {
    "tags": [
     "hide-input"
    ]
   },
   "outputs": [
    {
     "data": {
      "application/vnd.plotly.v1+json": {
       "config": {
        "plotlyServerURL": "https://plot.ly"
       },
       "data": [
        {
         "legendgroup": "Black",
         "line": {
          "color": "#1976D2",
          "dash": "solid"
         },
         "mode": "markers+lines",
         "name": "Black",
         "orientation": "v",
         "showlegend": true,
         "type": "scatter",
         "x": [
          "2017-01-12T00:00:00",
          "2017-02-12T00:00:00",
          "2017-03-12T00:00:00",
          "2017-04-12T00:00:00",
          "2017-05-12T00:00:00",
          "2017-06-12T00:00:00",
          "2017-07-12T00:00:00",
          "2017-08-12T00:00:00",
          "2017-09-12T00:00:00",
          "2017-10-12T00:00:00",
          "2017-11-12T00:00:00",
          "2017-12-12T00:00:00",
          "2018-01-12T00:00:00",
          "2018-02-12T00:00:00",
          "2018-03-12T00:00:00",
          "2018-04-12T00:00:00",
          "2018-05-12T00:00:00",
          "2018-06-12T00:00:00",
          "2018-07-12T00:00:00",
          "2018-08-12T00:00:00",
          "2018-09-12T00:00:00",
          "2018-10-12T00:00:00",
          "2018-11-12T00:00:00",
          "2018-12-12T00:00:00",
          "2019-01-12T00:00:00",
          "2019-02-12T00:00:00",
          "2019-03-12T00:00:00",
          "2019-04-12T00:00:00",
          "2019-05-12T00:00:00",
          "2019-06-12T00:00:00",
          "2019-07-12T00:00:00",
          "2019-08-12T00:00:00",
          "2019-09-12T00:00:00",
          "2019-10-12T00:00:00",
          "2019-11-12T00:00:00",
          "2019-12-12T00:00:00",
          "2020-01-12T00:00:00",
          "2020-02-12T00:00:00",
          "2020-03-12T00:00:00",
          "2020-04-12T00:00:00",
          "2020-05-12T00:00:00"
         ],
         "xaxis": "x",
         "y": [
          73.6,
          73.4,
          73,
          74.6,
          74.3,
          75,
          75.2,
          74,
          75.7,
          74.4,
          74.9,
          75.6,
          73.4,
          75.1,
          75.3,
          75.5,
          76.4,
          75.8,
          75.6,
          75.8,
          76.8,
          77.4,
          76.6,
          75.7,
          75.6,
          75,
          75.8,
          76.7,
          76.9,
          76,
          75.9,
          76.3,
          77.5,
          78.1,
          77.5,
          77.2,
          75.5,
          75.4,
          74.9,
          64.4,
          65.3
         ],
         "yaxis": "y"
        },
        {
         "legendgroup": "Not Black",
         "line": {
          "color": "#BDBDBD",
          "dash": "solid"
         },
         "mode": "markers+lines",
         "name": "Not Black",
         "orientation": "v",
         "showlegend": true,
         "type": "scatter",
         "x": [
          "2017-01-12T00:00:00",
          "2017-02-12T00:00:00",
          "2017-03-12T00:00:00",
          "2017-04-12T00:00:00",
          "2017-05-12T00:00:00",
          "2017-06-12T00:00:00",
          "2017-07-12T00:00:00",
          "2017-08-12T00:00:00",
          "2017-09-12T00:00:00",
          "2017-10-12T00:00:00",
          "2017-11-12T00:00:00",
          "2017-12-12T00:00:00",
          "2018-01-12T00:00:00",
          "2018-02-12T00:00:00",
          "2018-03-12T00:00:00",
          "2018-04-12T00:00:00",
          "2018-05-12T00:00:00",
          "2018-06-12T00:00:00",
          "2018-07-12T00:00:00",
          "2018-08-12T00:00:00",
          "2018-09-12T00:00:00",
          "2018-10-12T00:00:00",
          "2018-11-12T00:00:00",
          "2018-12-12T00:00:00",
          "2019-01-12T00:00:00",
          "2019-02-12T00:00:00",
          "2019-03-12T00:00:00",
          "2019-04-12T00:00:00",
          "2019-05-12T00:00:00",
          "2019-06-12T00:00:00",
          "2019-07-12T00:00:00",
          "2019-08-12T00:00:00",
          "2019-09-12T00:00:00",
          "2019-10-12T00:00:00",
          "2019-11-12T00:00:00",
          "2019-12-12T00:00:00",
          "2020-01-12T00:00:00",
          "2020-02-12T00:00:00",
          "2020-03-12T00:00:00",
          "2020-04-12T00:00:00",
          "2020-05-12T00:00:00"
         ],
         "xaxis": "x",
         "y": [
          78.4,
          78.9,
          79.2,
          79.6,
          79.5,
          79.1,
          79.1,
          78.8,
          79.8,
          79.8,
          80,
          79.7,
          79.3,
          79.8,
          79.8,
          80.3,
          80.4,
          79.9,
          80,
          79.7,
          80.3,
          80.7,
          81,
          80.7,
          80.2,
          80.5,
          80.3,
          80.4,
          80.6,
          80.2,
          79.7,
          80.4,
          81.2,
          81.4,
          81.6,
          81.6,
          81.1,
          81,
          80,
          70.4,
          72.4
         ],
         "yaxis": "y"
        }
       ],
       "layout": {
        "font": {
         "family": "Roboto"
        },
        "hovermode": "x",
        "legend": {
         "title": {
          "text": ""
         },
         "tracegroupgap": 0
        },
        "margin": {
         "t": 60
        },
        "plot_bgcolor": "white",
        "template": {
         "data": {
          "bar": [
           {
            "error_x": {
             "color": "#2a3f5f"
            },
            "error_y": {
             "color": "#2a3f5f"
            },
            "marker": {
             "line": {
              "color": "#E5ECF6",
              "width": 0.5
             }
            },
            "type": "bar"
           }
          ],
          "barpolar": [
           {
            "marker": {
             "line": {
              "color": "#E5ECF6",
              "width": 0.5
             }
            },
            "type": "barpolar"
           }
          ],
          "carpet": [
           {
            "aaxis": {
             "endlinecolor": "#2a3f5f",
             "gridcolor": "white",
             "linecolor": "white",
             "minorgridcolor": "white",
             "startlinecolor": "#2a3f5f"
            },
            "baxis": {
             "endlinecolor": "#2a3f5f",
             "gridcolor": "white",
             "linecolor": "white",
             "minorgridcolor": "white",
             "startlinecolor": "#2a3f5f"
            },
            "type": "carpet"
           }
          ],
          "choropleth": [
           {
            "colorbar": {
             "outlinewidth": 0,
             "ticks": ""
            },
            "type": "choropleth"
           }
          ],
          "contour": [
           {
            "colorbar": {
             "outlinewidth": 0,
             "ticks": ""
            },
            "colorscale": [
             [
              0,
              "#0d0887"
             ],
             [
              0.1111111111111111,
              "#46039f"
             ],
             [
              0.2222222222222222,
              "#7201a8"
             ],
             [
              0.3333333333333333,
              "#9c179e"
             ],
             [
              0.4444444444444444,
              "#bd3786"
             ],
             [
              0.5555555555555556,
              "#d8576b"
             ],
             [
              0.6666666666666666,
              "#ed7953"
             ],
             [
              0.7777777777777778,
              "#fb9f3a"
             ],
             [
              0.8888888888888888,
              "#fdca26"
             ],
             [
              1,
              "#f0f921"
             ]
            ],
            "type": "contour"
           }
          ],
          "contourcarpet": [
           {
            "colorbar": {
             "outlinewidth": 0,
             "ticks": ""
            },
            "type": "contourcarpet"
           }
          ],
          "heatmap": [
           {
            "colorbar": {
             "outlinewidth": 0,
             "ticks": ""
            },
            "colorscale": [
             [
              0,
              "#0d0887"
             ],
             [
              0.1111111111111111,
              "#46039f"
             ],
             [
              0.2222222222222222,
              "#7201a8"
             ],
             [
              0.3333333333333333,
              "#9c179e"
             ],
             [
              0.4444444444444444,
              "#bd3786"
             ],
             [
              0.5555555555555556,
              "#d8576b"
             ],
             [
              0.6666666666666666,
              "#ed7953"
             ],
             [
              0.7777777777777778,
              "#fb9f3a"
             ],
             [
              0.8888888888888888,
              "#fdca26"
             ],
             [
              1,
              "#f0f921"
             ]
            ],
            "type": "heatmap"
           }
          ],
          "heatmapgl": [
           {
            "colorbar": {
             "outlinewidth": 0,
             "ticks": ""
            },
            "colorscale": [
             [
              0,
              "#0d0887"
             ],
             [
              0.1111111111111111,
              "#46039f"
             ],
             [
              0.2222222222222222,
              "#7201a8"
             ],
             [
              0.3333333333333333,
              "#9c179e"
             ],
             [
              0.4444444444444444,
              "#bd3786"
             ],
             [
              0.5555555555555556,
              "#d8576b"
             ],
             [
              0.6666666666666666,
              "#ed7953"
             ],
             [
              0.7777777777777778,
              "#fb9f3a"
             ],
             [
              0.8888888888888888,
              "#fdca26"
             ],
             [
              1,
              "#f0f921"
             ]
            ],
            "type": "heatmapgl"
           }
          ],
          "histogram": [
           {
            "marker": {
             "colorbar": {
              "outlinewidth": 0,
              "ticks": ""
             }
            },
            "type": "histogram"
           }
          ],
          "histogram2d": [
           {
            "colorbar": {
             "outlinewidth": 0,
             "ticks": ""
            },
            "colorscale": [
             [
              0,
              "#0d0887"
             ],
             [
              0.1111111111111111,
              "#46039f"
             ],
             [
              0.2222222222222222,
              "#7201a8"
             ],
             [
              0.3333333333333333,
              "#9c179e"
             ],
             [
              0.4444444444444444,
              "#bd3786"
             ],
             [
              0.5555555555555556,
              "#d8576b"
             ],
             [
              0.6666666666666666,
              "#ed7953"
             ],
             [
              0.7777777777777778,
              "#fb9f3a"
             ],
             [
              0.8888888888888888,
              "#fdca26"
             ],
             [
              1,
              "#f0f921"
             ]
            ],
            "type": "histogram2d"
           }
          ],
          "histogram2dcontour": [
           {
            "colorbar": {
             "outlinewidth": 0,
             "ticks": ""
            },
            "colorscale": [
             [
              0,
              "#0d0887"
             ],
             [
              0.1111111111111111,
              "#46039f"
             ],
             [
              0.2222222222222222,
              "#7201a8"
             ],
             [
              0.3333333333333333,
              "#9c179e"
             ],
             [
              0.4444444444444444,
              "#bd3786"
             ],
             [
              0.5555555555555556,
              "#d8576b"
             ],
             [
              0.6666666666666666,
              "#ed7953"
             ],
             [
              0.7777777777777778,
              "#fb9f3a"
             ],
             [
              0.8888888888888888,
              "#fdca26"
             ],
             [
              1,
              "#f0f921"
             ]
            ],
            "type": "histogram2dcontour"
           }
          ],
          "mesh3d": [
           {
            "colorbar": {
             "outlinewidth": 0,
             "ticks": ""
            },
            "type": "mesh3d"
           }
          ],
          "parcoords": [
           {
            "line": {
             "colorbar": {
              "outlinewidth": 0,
              "ticks": ""
             }
            },
            "type": "parcoords"
           }
          ],
          "pie": [
           {
            "automargin": true,
            "type": "pie"
           }
          ],
          "scatter": [
           {
            "marker": {
             "colorbar": {
              "outlinewidth": 0,
              "ticks": ""
             }
            },
            "type": "scatter"
           }
          ],
          "scatter3d": [
           {
            "line": {
             "colorbar": {
              "outlinewidth": 0,
              "ticks": ""
             }
            },
            "marker": {
             "colorbar": {
              "outlinewidth": 0,
              "ticks": ""
             }
            },
            "type": "scatter3d"
           }
          ],
          "scattercarpet": [
           {
            "marker": {
             "colorbar": {
              "outlinewidth": 0,
              "ticks": ""
             }
            },
            "type": "scattercarpet"
           }
          ],
          "scattergeo": [
           {
            "marker": {
             "colorbar": {
              "outlinewidth": 0,
              "ticks": ""
             }
            },
            "type": "scattergeo"
           }
          ],
          "scattergl": [
           {
            "marker": {
             "colorbar": {
              "outlinewidth": 0,
              "ticks": ""
             }
            },
            "type": "scattergl"
           }
          ],
          "scattermapbox": [
           {
            "marker": {
             "colorbar": {
              "outlinewidth": 0,
              "ticks": ""
             }
            },
            "type": "scattermapbox"
           }
          ],
          "scatterpolar": [
           {
            "marker": {
             "colorbar": {
              "outlinewidth": 0,
              "ticks": ""
             }
            },
            "type": "scatterpolar"
           }
          ],
          "scatterpolargl": [
           {
            "marker": {
             "colorbar": {
              "outlinewidth": 0,
              "ticks": ""
             }
            },
            "type": "scatterpolargl"
           }
          ],
          "scatterternary": [
           {
            "marker": {
             "colorbar": {
              "outlinewidth": 0,
              "ticks": ""
             }
            },
            "type": "scatterternary"
           }
          ],
          "surface": [
           {
            "colorbar": {
             "outlinewidth": 0,
             "ticks": ""
            },
            "colorscale": [
             [
              0,
              "#0d0887"
             ],
             [
              0.1111111111111111,
              "#46039f"
             ],
             [
              0.2222222222222222,
              "#7201a8"
             ],
             [
              0.3333333333333333,
              "#9c179e"
             ],
             [
              0.4444444444444444,
              "#bd3786"
             ],
             [
              0.5555555555555556,
              "#d8576b"
             ],
             [
              0.6666666666666666,
              "#ed7953"
             ],
             [
              0.7777777777777778,
              "#fb9f3a"
             ],
             [
              0.8888888888888888,
              "#fdca26"
             ],
             [
              1,
              "#f0f921"
             ]
            ],
            "type": "surface"
           }
          ],
          "table": [
           {
            "cells": {
             "fill": {
              "color": "#EBF0F8"
             },
             "line": {
              "color": "white"
             }
            },
            "header": {
             "fill": {
              "color": "#C8D4E3"
             },
             "line": {
              "color": "white"
             }
            },
            "type": "table"
           }
          ]
         },
         "layout": {
          "annotationdefaults": {
           "arrowcolor": "#2a3f5f",
           "arrowhead": 0,
           "arrowwidth": 1
          },
          "coloraxis": {
           "colorbar": {
            "outlinewidth": 0,
            "ticks": ""
           }
          },
          "colorscale": {
           "diverging": [
            [
             0,
             "#8e0152"
            ],
            [
             0.1,
             "#c51b7d"
            ],
            [
             0.2,
             "#de77ae"
            ],
            [
             0.3,
             "#f1b6da"
            ],
            [
             0.4,
             "#fde0ef"
            ],
            [
             0.5,
             "#f7f7f7"
            ],
            [
             0.6,
             "#e6f5d0"
            ],
            [
             0.7,
             "#b8e186"
            ],
            [
             0.8,
             "#7fbc41"
            ],
            [
             0.9,
             "#4d9221"
            ],
            [
             1,
             "#276419"
            ]
           ],
           "sequential": [
            [
             0,
             "#0d0887"
            ],
            [
             0.1111111111111111,
             "#46039f"
            ],
            [
             0.2222222222222222,
             "#7201a8"
            ],
            [
             0.3333333333333333,
             "#9c179e"
            ],
            [
             0.4444444444444444,
             "#bd3786"
            ],
            [
             0.5555555555555556,
             "#d8576b"
            ],
            [
             0.6666666666666666,
             "#ed7953"
            ],
            [
             0.7777777777777778,
             "#fb9f3a"
            ],
            [
             0.8888888888888888,
             "#fdca26"
            ],
            [
             1,
             "#f0f921"
            ]
           ],
           "sequentialminus": [
            [
             0,
             "#0d0887"
            ],
            [
             0.1111111111111111,
             "#46039f"
            ],
            [
             0.2222222222222222,
             "#7201a8"
            ],
            [
             0.3333333333333333,
             "#9c179e"
            ],
            [
             0.4444444444444444,
             "#bd3786"
            ],
            [
             0.5555555555555556,
             "#d8576b"
            ],
            [
             0.6666666666666666,
             "#ed7953"
            ],
            [
             0.7777777777777778,
             "#fb9f3a"
            ],
            [
             0.8888888888888888,
             "#fdca26"
            ],
            [
             1,
             "#f0f921"
            ]
           ]
          },
          "colorway": [
           "#636efa",
           "#EF553B",
           "#00cc96",
           "#ab63fa",
           "#FFA15A",
           "#19d3f3",
           "#FF6692",
           "#B6E880",
           "#FF97FF",
           "#FECB52"
          ],
          "font": {
           "color": "#2a3f5f"
          },
          "geo": {
           "bgcolor": "white",
           "lakecolor": "white",
           "landcolor": "#E5ECF6",
           "showlakes": true,
           "showland": true,
           "subunitcolor": "white"
          },
          "hoverlabel": {
           "align": "left"
          },
          "hovermode": "closest",
          "mapbox": {
           "style": "light"
          },
          "paper_bgcolor": "white",
          "plot_bgcolor": "#E5ECF6",
          "polar": {
           "angularaxis": {
            "gridcolor": "white",
            "linecolor": "white",
            "ticks": ""
           },
           "bgcolor": "#E5ECF6",
           "radialaxis": {
            "gridcolor": "white",
            "linecolor": "white",
            "ticks": ""
           }
          },
          "scene": {
           "xaxis": {
            "backgroundcolor": "#E5ECF6",
            "gridcolor": "white",
            "gridwidth": 2,
            "linecolor": "white",
            "showbackground": true,
            "ticks": "",
            "zerolinecolor": "white"
           },
           "yaxis": {
            "backgroundcolor": "#E5ECF6",
            "gridcolor": "white",
            "gridwidth": 2,
            "linecolor": "white",
            "showbackground": true,
            "ticks": "",
            "zerolinecolor": "white"
           },
           "zaxis": {
            "backgroundcolor": "#E5ECF6",
            "gridcolor": "white",
            "gridwidth": 2,
            "linecolor": "white",
            "showbackground": true,
            "ticks": "",
            "zerolinecolor": "white"
           }
          },
          "shapedefaults": {
           "line": {
            "color": "#2a3f5f"
           }
          },
          "ternary": {
           "aaxis": {
            "gridcolor": "white",
            "linecolor": "white",
            "ticks": ""
           },
           "baxis": {
            "gridcolor": "white",
            "linecolor": "white",
            "ticks": ""
           },
           "bgcolor": "#E5ECF6",
           "caxis": {
            "gridcolor": "white",
            "linecolor": "white",
            "ticks": ""
           }
          },
          "title": {
           "x": 0.05
          },
          "xaxis": {
           "automargin": true,
           "gridcolor": "white",
           "linecolor": "white",
           "ticks": "",
           "title": {
            "standoff": 15
           },
           "zerolinecolor": "white",
           "zerolinewidth": 2
          },
          "yaxis": {
           "automargin": true,
           "gridcolor": "white",
           "linecolor": "white",
           "ticks": "",
           "title": {
            "standoff": 15
           },
           "zerolinecolor": "white",
           "zerolinewidth": 2
          }
         }
        },
        "title": {
         "text": "Prime-age employment rate by race"
        },
        "xaxis": {
         "anchor": "y",
         "domain": [
          0,
          1
         ],
         "title": {
          "text": ""
         }
        },
        "yaxis": {
         "anchor": "x",
         "domain": [
          0,
          1
         ],
         "ticksuffix": "%",
         "title": {
          "text": "Employment rate of civilians aged 25 to 54"
         }
        }
       }
      },
      "text/html": [
       "<div>\n",
       "        \n",
       "        \n",
       "            <div id=\"4b27b565-f56c-4b0b-bb0c-14e58efbdf1b\" class=\"plotly-graph-div\" style=\"height:525px; width:100%;\"></div>\n",
       "            <script type=\"text/javascript\">\n",
       "                require([\"plotly\"], function(Plotly) {\n",
       "                    window.PLOTLYENV=window.PLOTLYENV || {};\n",
       "                    \n",
       "                if (document.getElementById(\"4b27b565-f56c-4b0b-bb0c-14e58efbdf1b\")) {\n",
       "                    Plotly.newPlot(\n",
       "                        '4b27b565-f56c-4b0b-bb0c-14e58efbdf1b',\n",
       "                        [{\"legendgroup\": \"Black\", \"line\": {\"color\": \"#1976D2\", \"dash\": \"solid\"}, \"mode\": \"markers+lines\", \"name\": \"Black\", \"orientation\": \"v\", \"showlegend\": true, \"type\": \"scatter\", \"x\": [\"2017-01-12T00:00:00\", \"2017-02-12T00:00:00\", \"2017-03-12T00:00:00\", \"2017-04-12T00:00:00\", \"2017-05-12T00:00:00\", \"2017-06-12T00:00:00\", \"2017-07-12T00:00:00\", \"2017-08-12T00:00:00\", \"2017-09-12T00:00:00\", \"2017-10-12T00:00:00\", \"2017-11-12T00:00:00\", \"2017-12-12T00:00:00\", \"2018-01-12T00:00:00\", \"2018-02-12T00:00:00\", \"2018-03-12T00:00:00\", \"2018-04-12T00:00:00\", \"2018-05-12T00:00:00\", \"2018-06-12T00:00:00\", \"2018-07-12T00:00:00\", \"2018-08-12T00:00:00\", \"2018-09-12T00:00:00\", \"2018-10-12T00:00:00\", \"2018-11-12T00:00:00\", \"2018-12-12T00:00:00\", \"2019-01-12T00:00:00\", \"2019-02-12T00:00:00\", \"2019-03-12T00:00:00\", \"2019-04-12T00:00:00\", \"2019-05-12T00:00:00\", \"2019-06-12T00:00:00\", \"2019-07-12T00:00:00\", \"2019-08-12T00:00:00\", \"2019-09-12T00:00:00\", \"2019-10-12T00:00:00\", \"2019-11-12T00:00:00\", \"2019-12-12T00:00:00\", \"2020-01-12T00:00:00\", \"2020-02-12T00:00:00\", \"2020-03-12T00:00:00\", \"2020-04-12T00:00:00\", \"2020-05-12T00:00:00\"], \"xaxis\": \"x\", \"y\": [73.6, 73.4, 73.0, 74.6, 74.3, 75.0, 75.2, 74.0, 75.7, 74.4, 74.9, 75.6, 73.4, 75.1, 75.3, 75.5, 76.4, 75.8, 75.6, 75.8, 76.8, 77.4, 76.6, 75.7, 75.6, 75.0, 75.8, 76.7, 76.9, 76.0, 75.9, 76.3, 77.5, 78.1, 77.5, 77.2, 75.5, 75.4, 74.9, 64.4, 65.3], \"yaxis\": \"y\"}, {\"legendgroup\": \"Not Black\", \"line\": {\"color\": \"#BDBDBD\", \"dash\": \"solid\"}, \"mode\": \"markers+lines\", \"name\": \"Not Black\", \"orientation\": \"v\", \"showlegend\": true, \"type\": \"scatter\", \"x\": [\"2017-01-12T00:00:00\", \"2017-02-12T00:00:00\", \"2017-03-12T00:00:00\", \"2017-04-12T00:00:00\", \"2017-05-12T00:00:00\", \"2017-06-12T00:00:00\", \"2017-07-12T00:00:00\", \"2017-08-12T00:00:00\", \"2017-09-12T00:00:00\", \"2017-10-12T00:00:00\", \"2017-11-12T00:00:00\", \"2017-12-12T00:00:00\", \"2018-01-12T00:00:00\", \"2018-02-12T00:00:00\", \"2018-03-12T00:00:00\", \"2018-04-12T00:00:00\", \"2018-05-12T00:00:00\", \"2018-06-12T00:00:00\", \"2018-07-12T00:00:00\", \"2018-08-12T00:00:00\", \"2018-09-12T00:00:00\", \"2018-10-12T00:00:00\", \"2018-11-12T00:00:00\", \"2018-12-12T00:00:00\", \"2019-01-12T00:00:00\", \"2019-02-12T00:00:00\", \"2019-03-12T00:00:00\", \"2019-04-12T00:00:00\", \"2019-05-12T00:00:00\", \"2019-06-12T00:00:00\", \"2019-07-12T00:00:00\", \"2019-08-12T00:00:00\", \"2019-09-12T00:00:00\", \"2019-10-12T00:00:00\", \"2019-11-12T00:00:00\", \"2019-12-12T00:00:00\", \"2020-01-12T00:00:00\", \"2020-02-12T00:00:00\", \"2020-03-12T00:00:00\", \"2020-04-12T00:00:00\", \"2020-05-12T00:00:00\"], \"xaxis\": \"x\", \"y\": [78.4, 78.9, 79.2, 79.6, 79.5, 79.1, 79.1, 78.8, 79.8, 79.8, 80.0, 79.7, 79.3, 79.8, 79.8, 80.3, 80.4, 79.9, 80.0, 79.7, 80.3, 80.7, 81.0, 80.7, 80.2, 80.5, 80.3, 80.4, 80.6, 80.2, 79.7, 80.4, 81.2, 81.4, 81.6, 81.6, 81.1, 81.0, 80.0, 70.4, 72.4], \"yaxis\": \"y\"}],\n",
       "                        {\"font\": {\"family\": \"Roboto\"}, \"hovermode\": \"x\", \"legend\": {\"title\": {\"text\": \"\"}, \"tracegroupgap\": 0}, \"margin\": {\"t\": 60}, \"plot_bgcolor\": \"white\", \"template\": {\"data\": {\"bar\": [{\"error_x\": {\"color\": \"#2a3f5f\"}, \"error_y\": {\"color\": \"#2a3f5f\"}, \"marker\": {\"line\": {\"color\": \"#E5ECF6\", \"width\": 0.5}}, \"type\": \"bar\"}], \"barpolar\": [{\"marker\": {\"line\": {\"color\": \"#E5ECF6\", \"width\": 0.5}}, \"type\": \"barpolar\"}], \"carpet\": [{\"aaxis\": {\"endlinecolor\": \"#2a3f5f\", \"gridcolor\": \"white\", \"linecolor\": \"white\", \"minorgridcolor\": \"white\", \"startlinecolor\": \"#2a3f5f\"}, \"baxis\": {\"endlinecolor\": \"#2a3f5f\", \"gridcolor\": \"white\", \"linecolor\": \"white\", \"minorgridcolor\": \"white\", \"startlinecolor\": \"#2a3f5f\"}, \"type\": \"carpet\"}], \"choropleth\": [{\"colorbar\": {\"outlinewidth\": 0, \"ticks\": \"\"}, \"type\": \"choropleth\"}], \"contour\": [{\"colorbar\": {\"outlinewidth\": 0, \"ticks\": \"\"}, \"colorscale\": [[0.0, \"#0d0887\"], [0.1111111111111111, \"#46039f\"], [0.2222222222222222, \"#7201a8\"], [0.3333333333333333, \"#9c179e\"], [0.4444444444444444, \"#bd3786\"], [0.5555555555555556, \"#d8576b\"], [0.6666666666666666, \"#ed7953\"], [0.7777777777777778, \"#fb9f3a\"], [0.8888888888888888, \"#fdca26\"], [1.0, \"#f0f921\"]], \"type\": \"contour\"}], \"contourcarpet\": [{\"colorbar\": {\"outlinewidth\": 0, \"ticks\": \"\"}, \"type\": \"contourcarpet\"}], \"heatmap\": [{\"colorbar\": {\"outlinewidth\": 0, \"ticks\": \"\"}, \"colorscale\": [[0.0, \"#0d0887\"], [0.1111111111111111, \"#46039f\"], [0.2222222222222222, \"#7201a8\"], [0.3333333333333333, \"#9c179e\"], [0.4444444444444444, \"#bd3786\"], [0.5555555555555556, \"#d8576b\"], [0.6666666666666666, \"#ed7953\"], [0.7777777777777778, \"#fb9f3a\"], [0.8888888888888888, \"#fdca26\"], [1.0, \"#f0f921\"]], \"type\": \"heatmap\"}], \"heatmapgl\": [{\"colorbar\": {\"outlinewidth\": 0, \"ticks\": \"\"}, \"colorscale\": [[0.0, \"#0d0887\"], [0.1111111111111111, \"#46039f\"], [0.2222222222222222, \"#7201a8\"], [0.3333333333333333, \"#9c179e\"], [0.4444444444444444, \"#bd3786\"], [0.5555555555555556, \"#d8576b\"], [0.6666666666666666, \"#ed7953\"], [0.7777777777777778, \"#fb9f3a\"], [0.8888888888888888, \"#fdca26\"], [1.0, \"#f0f921\"]], \"type\": \"heatmapgl\"}], \"histogram\": [{\"marker\": {\"colorbar\": {\"outlinewidth\": 0, \"ticks\": \"\"}}, \"type\": \"histogram\"}], \"histogram2d\": [{\"colorbar\": {\"outlinewidth\": 0, \"ticks\": \"\"}, \"colorscale\": [[0.0, \"#0d0887\"], [0.1111111111111111, \"#46039f\"], [0.2222222222222222, \"#7201a8\"], [0.3333333333333333, \"#9c179e\"], [0.4444444444444444, \"#bd3786\"], [0.5555555555555556, \"#d8576b\"], [0.6666666666666666, \"#ed7953\"], [0.7777777777777778, \"#fb9f3a\"], [0.8888888888888888, \"#fdca26\"], [1.0, \"#f0f921\"]], \"type\": \"histogram2d\"}], \"histogram2dcontour\": [{\"colorbar\": {\"outlinewidth\": 0, \"ticks\": \"\"}, \"colorscale\": [[0.0, \"#0d0887\"], [0.1111111111111111, \"#46039f\"], [0.2222222222222222, \"#7201a8\"], [0.3333333333333333, \"#9c179e\"], [0.4444444444444444, \"#bd3786\"], [0.5555555555555556, \"#d8576b\"], [0.6666666666666666, \"#ed7953\"], [0.7777777777777778, \"#fb9f3a\"], [0.8888888888888888, \"#fdca26\"], [1.0, \"#f0f921\"]], \"type\": \"histogram2dcontour\"}], \"mesh3d\": [{\"colorbar\": {\"outlinewidth\": 0, \"ticks\": \"\"}, \"type\": \"mesh3d\"}], \"parcoords\": [{\"line\": {\"colorbar\": {\"outlinewidth\": 0, \"ticks\": \"\"}}, \"type\": \"parcoords\"}], \"pie\": [{\"automargin\": true, \"type\": \"pie\"}], \"scatter\": [{\"marker\": {\"colorbar\": {\"outlinewidth\": 0, \"ticks\": \"\"}}, \"type\": \"scatter\"}], \"scatter3d\": [{\"line\": {\"colorbar\": {\"outlinewidth\": 0, \"ticks\": \"\"}}, \"marker\": {\"colorbar\": {\"outlinewidth\": 0, \"ticks\": \"\"}}, \"type\": \"scatter3d\"}], \"scattercarpet\": [{\"marker\": {\"colorbar\": {\"outlinewidth\": 0, \"ticks\": \"\"}}, \"type\": \"scattercarpet\"}], \"scattergeo\": [{\"marker\": {\"colorbar\": {\"outlinewidth\": 0, \"ticks\": \"\"}}, \"type\": \"scattergeo\"}], \"scattergl\": [{\"marker\": {\"colorbar\": {\"outlinewidth\": 0, \"ticks\": \"\"}}, \"type\": \"scattergl\"}], \"scattermapbox\": [{\"marker\": {\"colorbar\": {\"outlinewidth\": 0, \"ticks\": \"\"}}, \"type\": \"scattermapbox\"}], \"scatterpolar\": [{\"marker\": {\"colorbar\": {\"outlinewidth\": 0, \"ticks\": \"\"}}, \"type\": \"scatterpolar\"}], \"scatterpolargl\": [{\"marker\": {\"colorbar\": {\"outlinewidth\": 0, \"ticks\": \"\"}}, \"type\": \"scatterpolargl\"}], \"scatterternary\": [{\"marker\": {\"colorbar\": {\"outlinewidth\": 0, \"ticks\": \"\"}}, \"type\": \"scatterternary\"}], \"surface\": [{\"colorbar\": {\"outlinewidth\": 0, \"ticks\": \"\"}, \"colorscale\": [[0.0, \"#0d0887\"], [0.1111111111111111, \"#46039f\"], [0.2222222222222222, \"#7201a8\"], [0.3333333333333333, \"#9c179e\"], [0.4444444444444444, \"#bd3786\"], [0.5555555555555556, \"#d8576b\"], [0.6666666666666666, \"#ed7953\"], [0.7777777777777778, \"#fb9f3a\"], [0.8888888888888888, \"#fdca26\"], [1.0, \"#f0f921\"]], \"type\": \"surface\"}], \"table\": [{\"cells\": {\"fill\": {\"color\": \"#EBF0F8\"}, \"line\": {\"color\": \"white\"}}, \"header\": {\"fill\": {\"color\": \"#C8D4E3\"}, \"line\": {\"color\": \"white\"}}, \"type\": \"table\"}]}, \"layout\": {\"annotationdefaults\": {\"arrowcolor\": \"#2a3f5f\", \"arrowhead\": 0, \"arrowwidth\": 1}, \"coloraxis\": {\"colorbar\": {\"outlinewidth\": 0, \"ticks\": \"\"}}, \"colorscale\": {\"diverging\": [[0, \"#8e0152\"], [0.1, \"#c51b7d\"], [0.2, \"#de77ae\"], [0.3, \"#f1b6da\"], [0.4, \"#fde0ef\"], [0.5, \"#f7f7f7\"], [0.6, \"#e6f5d0\"], [0.7, \"#b8e186\"], [0.8, \"#7fbc41\"], [0.9, \"#4d9221\"], [1, \"#276419\"]], \"sequential\": [[0.0, \"#0d0887\"], [0.1111111111111111, \"#46039f\"], [0.2222222222222222, \"#7201a8\"], [0.3333333333333333, \"#9c179e\"], [0.4444444444444444, \"#bd3786\"], [0.5555555555555556, \"#d8576b\"], [0.6666666666666666, \"#ed7953\"], [0.7777777777777778, \"#fb9f3a\"], [0.8888888888888888, \"#fdca26\"], [1.0, \"#f0f921\"]], \"sequentialminus\": [[0.0, \"#0d0887\"], [0.1111111111111111, \"#46039f\"], [0.2222222222222222, \"#7201a8\"], [0.3333333333333333, \"#9c179e\"], [0.4444444444444444, \"#bd3786\"], [0.5555555555555556, \"#d8576b\"], [0.6666666666666666, \"#ed7953\"], [0.7777777777777778, \"#fb9f3a\"], [0.8888888888888888, \"#fdca26\"], [1.0, \"#f0f921\"]]}, \"colorway\": [\"#636efa\", \"#EF553B\", \"#00cc96\", \"#ab63fa\", \"#FFA15A\", \"#19d3f3\", \"#FF6692\", \"#B6E880\", \"#FF97FF\", \"#FECB52\"], \"font\": {\"color\": \"#2a3f5f\"}, \"geo\": {\"bgcolor\": \"white\", \"lakecolor\": \"white\", \"landcolor\": \"#E5ECF6\", \"showlakes\": true, \"showland\": true, \"subunitcolor\": \"white\"}, \"hoverlabel\": {\"align\": \"left\"}, \"hovermode\": \"closest\", \"mapbox\": {\"style\": \"light\"}, \"paper_bgcolor\": \"white\", \"plot_bgcolor\": \"#E5ECF6\", \"polar\": {\"angularaxis\": {\"gridcolor\": \"white\", \"linecolor\": \"white\", \"ticks\": \"\"}, \"bgcolor\": \"#E5ECF6\", \"radialaxis\": {\"gridcolor\": \"white\", \"linecolor\": \"white\", \"ticks\": \"\"}}, \"scene\": {\"xaxis\": {\"backgroundcolor\": \"#E5ECF6\", \"gridcolor\": \"white\", \"gridwidth\": 2, \"linecolor\": \"white\", \"showbackground\": true, \"ticks\": \"\", \"zerolinecolor\": \"white\"}, \"yaxis\": {\"backgroundcolor\": \"#E5ECF6\", \"gridcolor\": \"white\", \"gridwidth\": 2, \"linecolor\": \"white\", \"showbackground\": true, \"ticks\": \"\", \"zerolinecolor\": \"white\"}, \"zaxis\": {\"backgroundcolor\": \"#E5ECF6\", \"gridcolor\": \"white\", \"gridwidth\": 2, \"linecolor\": \"white\", \"showbackground\": true, \"ticks\": \"\", \"zerolinecolor\": \"white\"}}, \"shapedefaults\": {\"line\": {\"color\": \"#2a3f5f\"}}, \"ternary\": {\"aaxis\": {\"gridcolor\": \"white\", \"linecolor\": \"white\", \"ticks\": \"\"}, \"baxis\": {\"gridcolor\": \"white\", \"linecolor\": \"white\", \"ticks\": \"\"}, \"bgcolor\": \"#E5ECF6\", \"caxis\": {\"gridcolor\": \"white\", \"linecolor\": \"white\", \"ticks\": \"\"}}, \"title\": {\"x\": 0.05}, \"xaxis\": {\"automargin\": true, \"gridcolor\": \"white\", \"linecolor\": \"white\", \"ticks\": \"\", \"title\": {\"standoff\": 15}, \"zerolinecolor\": \"white\", \"zerolinewidth\": 2}, \"yaxis\": {\"automargin\": true, \"gridcolor\": \"white\", \"linecolor\": \"white\", \"ticks\": \"\", \"title\": {\"standoff\": 15}, \"zerolinecolor\": \"white\", \"zerolinewidth\": 2}}}, \"title\": {\"text\": \"Prime-age employment rate by race\"}, \"xaxis\": {\"anchor\": \"y\", \"domain\": [0.0, 1.0], \"title\": {\"text\": \"\"}}, \"yaxis\": {\"anchor\": \"x\", \"domain\": [0.0, 1.0], \"ticksuffix\": \"%\", \"title\": {\"text\": \"Employment rate of civilians aged 25 to 54\"}}},\n",
       "                        {\"responsive\": true}\n",
       "                    ).then(function(){\n",
       "                            \n",
       "var gd = document.getElementById('4b27b565-f56c-4b0b-bb0c-14e58efbdf1b');\n",
       "var x = new MutationObserver(function (mutations, observer) {{\n",
       "        var display = window.getComputedStyle(gd).display;\n",
       "        if (!display || display === 'none') {{\n",
       "            console.log([gd, 'removed!']);\n",
       "            Plotly.purge(gd);\n",
       "            observer.disconnect();\n",
       "        }}\n",
       "}});\n",
       "\n",
       "// Listen for the removal of the full notebook cells\n",
       "var notebookContainer = gd.closest('#notebook-container');\n",
       "if (notebookContainer) {{\n",
       "    x.observe(notebookContainer, {childList: true});\n",
       "}}\n",
       "\n",
       "// Listen for the clearing of the current output cell\n",
       "var outputEl = gd.closest('.output');\n",
       "if (outputEl) {{\n",
       "    x.observe(outputEl, {childList: true});\n",
       "}}\n",
       "\n",
       "                        })\n",
       "                };\n",
       "                });\n",
       "            </script>\n",
       "        </div>"
      ]
     },
     "metadata": {},
     "output_type": "display_data"
    }
   ],
   "source": [
    "### LOAD PACKAGES ###\n",
    "\n",
    "import pandas as pd\n",
    "import numpy as np\n",
    "import microdf as mdf\n",
    "import plotly.express as px\n",
    "import statsmodels.api as sm\n",
    "import stargazer.stargazer as sg\n",
    "\n",
    "\n",
    "### SETTINGS ###\n",
    "\n",
    "# Colors from https://material.io/design/color/the-color-system.html\n",
    "BLUE = '#1976D2'\n",
    "GRAY = '#BDBDBD'\n",
    "RED = '#C62828'\n",
    "PURPLE = '#6A1B9A'\n",
    "LIGHT_BLUE = '#64B5F6'\n",
    "PINK = '#EF9A9A'\n",
    "\n",
    "COLOR_MAP = {\n",
    "    'Black': BLUE,\n",
    "    'Not Black': GRAY,\n",
    "    'Has disability': RED,\n",
    "    'No disability': GRAY,\n",
    "    'Black, Has disability': PURPLE,\n",
    "    'Black, No disability': LIGHT_BLUE,\n",
    "    'Not Black, Has disability': PINK,\n",
    "    'Not Black, No disability': GRAY\n",
    "}\n",
    "\n",
    "\n",
    "### LOAD DATA ###\n",
    "\n",
    "# CPS data extracted from IPUMS.\n",
    "cps_raw = pd.read_csv('cps.csv.gz')\n",
    "\n",
    "### PREPROCESS ###\n",
    "\n",
    "cps = cps_raw.copy(deep=True)\n",
    "cps.columns = cps.columns.str.lower()\n",
    "cps.rename({'wtfinl': 'w'}, axis=1, inplace=True)\n",
    "cps['day'] = 12  # CPS asks about week including 12th of the month.\n",
    "cps['date'] = pd.to_datetime(cps[['year', 'month', 'day']])\n",
    "# Create descriptive bools from codes.\n",
    "cps['female'] = cps.sex == 2\n",
    "cps['emp'] = cps.empstat.isin([10, 12])\n",
    "cps['black'] = np.where(cps.race == 200, 'Black', 'Not Black')\n",
    "# Recode disability into True/False/None.\n",
    "DIFFS = ['diffhear', 'diffeye', 'diffrem', 'diffphys', 'diffmob', 'diffcare']\n",
    "for i in DIFFS + ['diffany']:\n",
    "    cps[i] = np.where(cps[i] == 0, np.nan, cps[i] == 2)\n",
    "    \n",
    "# Limit to prime-age civilians and relevant columns.\n",
    "# COLS = ['emp', 'date', 'w', 'black', 'diffany']\n",
    "cps = cps[(cps.empstat != 1)  # Not in armed forces.\n",
    "          & cps.age.between(25, 54)]\n",
    "assert cps.diffany.isna().sum() == 0\n",
    "cps['disability'] = np.where(cps.diffany == 1, 'Has disability',\n",
    "                             'No disability')\n",
    "\n",
    "### ANALYSIS ###\n",
    "\n",
    "# Create grouped dataframe.\n",
    "grouped = cps.groupby(['date', 'black', 'disability', 'emp'])[['w']].sum()\n",
    "grouped.reset_index(inplace=True)\n",
    "# Add conditional columns for creating rates.\n",
    "mdf.add_weighted_metrics(grouped, ['emp'], 'w')\n",
    "grouped['disability_m'] = np.where(grouped.disability == 'Has disability',\n",
    "                                   grouped.w_m, 0)\n",
    "\n",
    "def add_emp_rate(df):\n",
    "    df['emp_rate'] = 100 * df.emp_m / df.w_m\n",
    "    df['emp_rate_round'] = df.emp_rate.round(1)\n",
    "    df.drop(['emp_m', 'w_m'], axis=1, inplace=True)\n",
    "    df.reset_index(inplace=True)\n",
    "    \n",
    "def add_disability_rate(df):\n",
    "    df['disability_rate'] = 100 * df.disability_m / df.w_m\n",
    "    df['disability_rate_round'] = df.disability_rate.round(1)\n",
    "    df.drop(['disability_m', 'w_m'], axis=1, inplace=True)\n",
    "    df.reset_index(inplace=True)\n",
    "    \n",
    "race_emp = grouped.groupby(['date', 'black'])[['emp_m', 'w_m']].sum()\n",
    "add_emp_rate(race_emp)\n",
    "\n",
    "disability_emp = grouped.groupby(['date', 'disability'])[\n",
    "    ['emp_m', 'w_m']].sum()\n",
    "add_emp_rate(disability_emp)\n",
    "\n",
    "race_disability = grouped.groupby(['date', 'black'])[\n",
    "    ['disability_m', 'w_m']].sum()\n",
    "add_disability_rate(race_disability)\n",
    "\n",
    "race_disability_emp = grouped.groupby(['date', 'black', 'disability'])[\n",
    "    ['emp_m', 'w_m']].sum()\n",
    "add_emp_rate(race_disability_emp)\n",
    "race_disability_emp['label'] = (race_disability_emp.black + ', ' +\n",
    "                                race_disability_emp.disability)\n",
    "\n",
    "def line_graph(df, x, y, color, title, yaxis_title):\n",
    "    fig = px.line(df, x=x, y=y, color=color, color_discrete_map=COLOR_MAP)\n",
    "    fig.update_layout(\n",
    "        title=title,\n",
    "        xaxis_title='',\n",
    "        yaxis_title=yaxis_title,\n",
    "        yaxis_ticksuffix='%',\n",
    "        legend_title_text='',\n",
    "        font=dict(family='Roboto'),\n",
    "        hovermode='x',\n",
    "        plot_bgcolor='white'\n",
    "    )\n",
    "    fig.update_traces(mode='markers+lines', hovertemplate=None)\n",
    "\n",
    "    fig.show()\n",
    "\n",
    "line_graph(df=race_emp, x='date', y='emp_rate_round', color='black',\n",
    "           title='Prime-age employment rate by race',\n",
    "           yaxis_title='Employment rate of civilians aged 25 to 54')"
   ]
  },
  {
   "cell_type": "markdown",
   "metadata": {},
   "source": [
    "Black people are also about 30 percent more likely to have a disability than non-Black people, with rates of about 7.5 percent compared to 5.7 percent, respectively. Small samples make this a noisy signal on a month-to-month basis: only 301 of the 36,000 prime-age civilian respondents in the April 2020 survey reported being Black and having a disability."
   ]
  },
  {
   "cell_type": "code",
   "execution_count": 152,
   "metadata": {
    "tags": [
     "hide-input"
    ]
   },
   "outputs": [
    {
     "data": {
      "application/vnd.plotly.v1+json": {
       "config": {
        "plotlyServerURL": "https://plot.ly"
       },
       "data": [
        {
         "legendgroup": "Black",
         "line": {
          "color": "#1976D2",
          "dash": "solid"
         },
         "mode": "markers+lines",
         "name": "Black",
         "orientation": "v",
         "showlegend": true,
         "type": "scatter",
         "x": [
          "2017-01-12T00:00:00",
          "2017-02-12T00:00:00",
          "2017-03-12T00:00:00",
          "2017-04-12T00:00:00",
          "2017-05-12T00:00:00",
          "2017-06-12T00:00:00",
          "2017-07-12T00:00:00",
          "2017-08-12T00:00:00",
          "2017-09-12T00:00:00",
          "2017-10-12T00:00:00",
          "2017-11-12T00:00:00",
          "2017-12-12T00:00:00",
          "2018-01-12T00:00:00",
          "2018-02-12T00:00:00",
          "2018-03-12T00:00:00",
          "2018-04-12T00:00:00",
          "2018-05-12T00:00:00",
          "2018-06-12T00:00:00",
          "2018-07-12T00:00:00",
          "2018-08-12T00:00:00",
          "2018-09-12T00:00:00",
          "2018-10-12T00:00:00",
          "2018-11-12T00:00:00",
          "2018-12-12T00:00:00",
          "2019-01-12T00:00:00",
          "2019-02-12T00:00:00",
          "2019-03-12T00:00:00",
          "2019-04-12T00:00:00",
          "2019-05-12T00:00:00",
          "2019-06-12T00:00:00",
          "2019-07-12T00:00:00",
          "2019-08-12T00:00:00",
          "2019-09-12T00:00:00",
          "2019-10-12T00:00:00",
          "2019-11-12T00:00:00",
          "2019-12-12T00:00:00",
          "2020-01-12T00:00:00",
          "2020-02-12T00:00:00",
          "2020-03-12T00:00:00",
          "2020-04-12T00:00:00",
          "2020-05-12T00:00:00"
         ],
         "xaxis": "x",
         "y": [
          8.3,
          8.1,
          8.4,
          8.5,
          8.7,
          8.4,
          8,
          8,
          7.9,
          8.2,
          8.2,
          8.1,
          8.3,
          7.5,
          7.9,
          7.7,
          7.5,
          8.2,
          7.8,
          8.1,
          7.7,
          6.9,
          7.5,
          7.4,
          7,
          8.2,
          7.2,
          7.1,
          7.7,
          7.6,
          7.4,
          7.6,
          7.5,
          7,
          7.1,
          7.4,
          6.9,
          7.6,
          7.5,
          6.8,
          7.6
         ],
         "yaxis": "y"
        },
        {
         "legendgroup": "Not Black",
         "line": {
          "color": "#BDBDBD",
          "dash": "solid"
         },
         "mode": "markers+lines",
         "name": "Not Black",
         "orientation": "v",
         "showlegend": true,
         "type": "scatter",
         "x": [
          "2017-01-12T00:00:00",
          "2017-02-12T00:00:00",
          "2017-03-12T00:00:00",
          "2017-04-12T00:00:00",
          "2017-05-12T00:00:00",
          "2017-06-12T00:00:00",
          "2017-07-12T00:00:00",
          "2017-08-12T00:00:00",
          "2017-09-12T00:00:00",
          "2017-10-12T00:00:00",
          "2017-11-12T00:00:00",
          "2017-12-12T00:00:00",
          "2018-01-12T00:00:00",
          "2018-02-12T00:00:00",
          "2018-03-12T00:00:00",
          "2018-04-12T00:00:00",
          "2018-05-12T00:00:00",
          "2018-06-12T00:00:00",
          "2018-07-12T00:00:00",
          "2018-08-12T00:00:00",
          "2018-09-12T00:00:00",
          "2018-10-12T00:00:00",
          "2018-11-12T00:00:00",
          "2018-12-12T00:00:00",
          "2019-01-12T00:00:00",
          "2019-02-12T00:00:00",
          "2019-03-12T00:00:00",
          "2019-04-12T00:00:00",
          "2019-05-12T00:00:00",
          "2019-06-12T00:00:00",
          "2019-07-12T00:00:00",
          "2019-08-12T00:00:00",
          "2019-09-12T00:00:00",
          "2019-10-12T00:00:00",
          "2019-11-12T00:00:00",
          "2019-12-12T00:00:00",
          "2020-01-12T00:00:00",
          "2020-02-12T00:00:00",
          "2020-03-12T00:00:00",
          "2020-04-12T00:00:00",
          "2020-05-12T00:00:00"
         ],
         "xaxis": "x",
         "y": [
          5.8,
          5.9,
          6.1,
          6,
          6.1,
          6,
          6,
          6.1,
          5.9,
          5.8,
          5.7,
          5.7,
          5.6,
          5.7,
          5.9,
          5.7,
          5.7,
          5.6,
          5.7,
          5.7,
          5.7,
          5.7,
          5.6,
          5.7,
          5.6,
          5.7,
          5.8,
          5.8,
          5.9,
          5.9,
          5.7,
          5.7,
          5.6,
          5.5,
          5.7,
          5.7,
          5.7,
          5.8,
          5.6,
          5.6,
          5.4
         ],
         "yaxis": "y"
        }
       ],
       "layout": {
        "font": {
         "family": "Roboto"
        },
        "hovermode": "x",
        "legend": {
         "title": {
          "text": ""
         },
         "tracegroupgap": 0
        },
        "margin": {
         "t": 60
        },
        "plot_bgcolor": "white",
        "template": {
         "data": {
          "bar": [
           {
            "error_x": {
             "color": "#2a3f5f"
            },
            "error_y": {
             "color": "#2a3f5f"
            },
            "marker": {
             "line": {
              "color": "#E5ECF6",
              "width": 0.5
             }
            },
            "type": "bar"
           }
          ],
          "barpolar": [
           {
            "marker": {
             "line": {
              "color": "#E5ECF6",
              "width": 0.5
             }
            },
            "type": "barpolar"
           }
          ],
          "carpet": [
           {
            "aaxis": {
             "endlinecolor": "#2a3f5f",
             "gridcolor": "white",
             "linecolor": "white",
             "minorgridcolor": "white",
             "startlinecolor": "#2a3f5f"
            },
            "baxis": {
             "endlinecolor": "#2a3f5f",
             "gridcolor": "white",
             "linecolor": "white",
             "minorgridcolor": "white",
             "startlinecolor": "#2a3f5f"
            },
            "type": "carpet"
           }
          ],
          "choropleth": [
           {
            "colorbar": {
             "outlinewidth": 0,
             "ticks": ""
            },
            "type": "choropleth"
           }
          ],
          "contour": [
           {
            "colorbar": {
             "outlinewidth": 0,
             "ticks": ""
            },
            "colorscale": [
             [
              0,
              "#0d0887"
             ],
             [
              0.1111111111111111,
              "#46039f"
             ],
             [
              0.2222222222222222,
              "#7201a8"
             ],
             [
              0.3333333333333333,
              "#9c179e"
             ],
             [
              0.4444444444444444,
              "#bd3786"
             ],
             [
              0.5555555555555556,
              "#d8576b"
             ],
             [
              0.6666666666666666,
              "#ed7953"
             ],
             [
              0.7777777777777778,
              "#fb9f3a"
             ],
             [
              0.8888888888888888,
              "#fdca26"
             ],
             [
              1,
              "#f0f921"
             ]
            ],
            "type": "contour"
           }
          ],
          "contourcarpet": [
           {
            "colorbar": {
             "outlinewidth": 0,
             "ticks": ""
            },
            "type": "contourcarpet"
           }
          ],
          "heatmap": [
           {
            "colorbar": {
             "outlinewidth": 0,
             "ticks": ""
            },
            "colorscale": [
             [
              0,
              "#0d0887"
             ],
             [
              0.1111111111111111,
              "#46039f"
             ],
             [
              0.2222222222222222,
              "#7201a8"
             ],
             [
              0.3333333333333333,
              "#9c179e"
             ],
             [
              0.4444444444444444,
              "#bd3786"
             ],
             [
              0.5555555555555556,
              "#d8576b"
             ],
             [
              0.6666666666666666,
              "#ed7953"
             ],
             [
              0.7777777777777778,
              "#fb9f3a"
             ],
             [
              0.8888888888888888,
              "#fdca26"
             ],
             [
              1,
              "#f0f921"
             ]
            ],
            "type": "heatmap"
           }
          ],
          "heatmapgl": [
           {
            "colorbar": {
             "outlinewidth": 0,
             "ticks": ""
            },
            "colorscale": [
             [
              0,
              "#0d0887"
             ],
             [
              0.1111111111111111,
              "#46039f"
             ],
             [
              0.2222222222222222,
              "#7201a8"
             ],
             [
              0.3333333333333333,
              "#9c179e"
             ],
             [
              0.4444444444444444,
              "#bd3786"
             ],
             [
              0.5555555555555556,
              "#d8576b"
             ],
             [
              0.6666666666666666,
              "#ed7953"
             ],
             [
              0.7777777777777778,
              "#fb9f3a"
             ],
             [
              0.8888888888888888,
              "#fdca26"
             ],
             [
              1,
              "#f0f921"
             ]
            ],
            "type": "heatmapgl"
           }
          ],
          "histogram": [
           {
            "marker": {
             "colorbar": {
              "outlinewidth": 0,
              "ticks": ""
             }
            },
            "type": "histogram"
           }
          ],
          "histogram2d": [
           {
            "colorbar": {
             "outlinewidth": 0,
             "ticks": ""
            },
            "colorscale": [
             [
              0,
              "#0d0887"
             ],
             [
              0.1111111111111111,
              "#46039f"
             ],
             [
              0.2222222222222222,
              "#7201a8"
             ],
             [
              0.3333333333333333,
              "#9c179e"
             ],
             [
              0.4444444444444444,
              "#bd3786"
             ],
             [
              0.5555555555555556,
              "#d8576b"
             ],
             [
              0.6666666666666666,
              "#ed7953"
             ],
             [
              0.7777777777777778,
              "#fb9f3a"
             ],
             [
              0.8888888888888888,
              "#fdca26"
             ],
             [
              1,
              "#f0f921"
             ]
            ],
            "type": "histogram2d"
           }
          ],
          "histogram2dcontour": [
           {
            "colorbar": {
             "outlinewidth": 0,
             "ticks": ""
            },
            "colorscale": [
             [
              0,
              "#0d0887"
             ],
             [
              0.1111111111111111,
              "#46039f"
             ],
             [
              0.2222222222222222,
              "#7201a8"
             ],
             [
              0.3333333333333333,
              "#9c179e"
             ],
             [
              0.4444444444444444,
              "#bd3786"
             ],
             [
              0.5555555555555556,
              "#d8576b"
             ],
             [
              0.6666666666666666,
              "#ed7953"
             ],
             [
              0.7777777777777778,
              "#fb9f3a"
             ],
             [
              0.8888888888888888,
              "#fdca26"
             ],
             [
              1,
              "#f0f921"
             ]
            ],
            "type": "histogram2dcontour"
           }
          ],
          "mesh3d": [
           {
            "colorbar": {
             "outlinewidth": 0,
             "ticks": ""
            },
            "type": "mesh3d"
           }
          ],
          "parcoords": [
           {
            "line": {
             "colorbar": {
              "outlinewidth": 0,
              "ticks": ""
             }
            },
            "type": "parcoords"
           }
          ],
          "pie": [
           {
            "automargin": true,
            "type": "pie"
           }
          ],
          "scatter": [
           {
            "marker": {
             "colorbar": {
              "outlinewidth": 0,
              "ticks": ""
             }
            },
            "type": "scatter"
           }
          ],
          "scatter3d": [
           {
            "line": {
             "colorbar": {
              "outlinewidth": 0,
              "ticks": ""
             }
            },
            "marker": {
             "colorbar": {
              "outlinewidth": 0,
              "ticks": ""
             }
            },
            "type": "scatter3d"
           }
          ],
          "scattercarpet": [
           {
            "marker": {
             "colorbar": {
              "outlinewidth": 0,
              "ticks": ""
             }
            },
            "type": "scattercarpet"
           }
          ],
          "scattergeo": [
           {
            "marker": {
             "colorbar": {
              "outlinewidth": 0,
              "ticks": ""
             }
            },
            "type": "scattergeo"
           }
          ],
          "scattergl": [
           {
            "marker": {
             "colorbar": {
              "outlinewidth": 0,
              "ticks": ""
             }
            },
            "type": "scattergl"
           }
          ],
          "scattermapbox": [
           {
            "marker": {
             "colorbar": {
              "outlinewidth": 0,
              "ticks": ""
             }
            },
            "type": "scattermapbox"
           }
          ],
          "scatterpolar": [
           {
            "marker": {
             "colorbar": {
              "outlinewidth": 0,
              "ticks": ""
             }
            },
            "type": "scatterpolar"
           }
          ],
          "scatterpolargl": [
           {
            "marker": {
             "colorbar": {
              "outlinewidth": 0,
              "ticks": ""
             }
            },
            "type": "scatterpolargl"
           }
          ],
          "scatterternary": [
           {
            "marker": {
             "colorbar": {
              "outlinewidth": 0,
              "ticks": ""
             }
            },
            "type": "scatterternary"
           }
          ],
          "surface": [
           {
            "colorbar": {
             "outlinewidth": 0,
             "ticks": ""
            },
            "colorscale": [
             [
              0,
              "#0d0887"
             ],
             [
              0.1111111111111111,
              "#46039f"
             ],
             [
              0.2222222222222222,
              "#7201a8"
             ],
             [
              0.3333333333333333,
              "#9c179e"
             ],
             [
              0.4444444444444444,
              "#bd3786"
             ],
             [
              0.5555555555555556,
              "#d8576b"
             ],
             [
              0.6666666666666666,
              "#ed7953"
             ],
             [
              0.7777777777777778,
              "#fb9f3a"
             ],
             [
              0.8888888888888888,
              "#fdca26"
             ],
             [
              1,
              "#f0f921"
             ]
            ],
            "type": "surface"
           }
          ],
          "table": [
           {
            "cells": {
             "fill": {
              "color": "#EBF0F8"
             },
             "line": {
              "color": "white"
             }
            },
            "header": {
             "fill": {
              "color": "#C8D4E3"
             },
             "line": {
              "color": "white"
             }
            },
            "type": "table"
           }
          ]
         },
         "layout": {
          "annotationdefaults": {
           "arrowcolor": "#2a3f5f",
           "arrowhead": 0,
           "arrowwidth": 1
          },
          "coloraxis": {
           "colorbar": {
            "outlinewidth": 0,
            "ticks": ""
           }
          },
          "colorscale": {
           "diverging": [
            [
             0,
             "#8e0152"
            ],
            [
             0.1,
             "#c51b7d"
            ],
            [
             0.2,
             "#de77ae"
            ],
            [
             0.3,
             "#f1b6da"
            ],
            [
             0.4,
             "#fde0ef"
            ],
            [
             0.5,
             "#f7f7f7"
            ],
            [
             0.6,
             "#e6f5d0"
            ],
            [
             0.7,
             "#b8e186"
            ],
            [
             0.8,
             "#7fbc41"
            ],
            [
             0.9,
             "#4d9221"
            ],
            [
             1,
             "#276419"
            ]
           ],
           "sequential": [
            [
             0,
             "#0d0887"
            ],
            [
             0.1111111111111111,
             "#46039f"
            ],
            [
             0.2222222222222222,
             "#7201a8"
            ],
            [
             0.3333333333333333,
             "#9c179e"
            ],
            [
             0.4444444444444444,
             "#bd3786"
            ],
            [
             0.5555555555555556,
             "#d8576b"
            ],
            [
             0.6666666666666666,
             "#ed7953"
            ],
            [
             0.7777777777777778,
             "#fb9f3a"
            ],
            [
             0.8888888888888888,
             "#fdca26"
            ],
            [
             1,
             "#f0f921"
            ]
           ],
           "sequentialminus": [
            [
             0,
             "#0d0887"
            ],
            [
             0.1111111111111111,
             "#46039f"
            ],
            [
             0.2222222222222222,
             "#7201a8"
            ],
            [
             0.3333333333333333,
             "#9c179e"
            ],
            [
             0.4444444444444444,
             "#bd3786"
            ],
            [
             0.5555555555555556,
             "#d8576b"
            ],
            [
             0.6666666666666666,
             "#ed7953"
            ],
            [
             0.7777777777777778,
             "#fb9f3a"
            ],
            [
             0.8888888888888888,
             "#fdca26"
            ],
            [
             1,
             "#f0f921"
            ]
           ]
          },
          "colorway": [
           "#636efa",
           "#EF553B",
           "#00cc96",
           "#ab63fa",
           "#FFA15A",
           "#19d3f3",
           "#FF6692",
           "#B6E880",
           "#FF97FF",
           "#FECB52"
          ],
          "font": {
           "color": "#2a3f5f"
          },
          "geo": {
           "bgcolor": "white",
           "lakecolor": "white",
           "landcolor": "#E5ECF6",
           "showlakes": true,
           "showland": true,
           "subunitcolor": "white"
          },
          "hoverlabel": {
           "align": "left"
          },
          "hovermode": "closest",
          "mapbox": {
           "style": "light"
          },
          "paper_bgcolor": "white",
          "plot_bgcolor": "#E5ECF6",
          "polar": {
           "angularaxis": {
            "gridcolor": "white",
            "linecolor": "white",
            "ticks": ""
           },
           "bgcolor": "#E5ECF6",
           "radialaxis": {
            "gridcolor": "white",
            "linecolor": "white",
            "ticks": ""
           }
          },
          "scene": {
           "xaxis": {
            "backgroundcolor": "#E5ECF6",
            "gridcolor": "white",
            "gridwidth": 2,
            "linecolor": "white",
            "showbackground": true,
            "ticks": "",
            "zerolinecolor": "white"
           },
           "yaxis": {
            "backgroundcolor": "#E5ECF6",
            "gridcolor": "white",
            "gridwidth": 2,
            "linecolor": "white",
            "showbackground": true,
            "ticks": "",
            "zerolinecolor": "white"
           },
           "zaxis": {
            "backgroundcolor": "#E5ECF6",
            "gridcolor": "white",
            "gridwidth": 2,
            "linecolor": "white",
            "showbackground": true,
            "ticks": "",
            "zerolinecolor": "white"
           }
          },
          "shapedefaults": {
           "line": {
            "color": "#2a3f5f"
           }
          },
          "ternary": {
           "aaxis": {
            "gridcolor": "white",
            "linecolor": "white",
            "ticks": ""
           },
           "baxis": {
            "gridcolor": "white",
            "linecolor": "white",
            "ticks": ""
           },
           "bgcolor": "#E5ECF6",
           "caxis": {
            "gridcolor": "white",
            "linecolor": "white",
            "ticks": ""
           }
          },
          "title": {
           "x": 0.05
          },
          "xaxis": {
           "automargin": true,
           "gridcolor": "white",
           "linecolor": "white",
           "ticks": "",
           "title": {
            "standoff": 15
           },
           "zerolinecolor": "white",
           "zerolinewidth": 2
          },
          "yaxis": {
           "automargin": true,
           "gridcolor": "white",
           "linecolor": "white",
           "ticks": "",
           "title": {
            "standoff": 15
           },
           "zerolinecolor": "white",
           "zerolinewidth": 2
          }
         }
        },
        "title": {
         "text": "Disability rate by race, civilians aged 25 to 54"
        },
        "xaxis": {
         "anchor": "y",
         "domain": [
          0,
          1
         ],
         "title": {
          "text": ""
         }
        },
        "yaxis": {
         "anchor": "x",
         "domain": [
          0,
          1
         ],
         "ticksuffix": "%",
         "title": {
          "text": "Share of civilians aged 25 to 54 who report any difficulty"
         }
        }
       }
      },
      "text/html": [
       "<div>\n",
       "        \n",
       "        \n",
       "            <div id=\"c382fcc9-8bc9-4f15-9ae7-4ecc8a6d6c3f\" class=\"plotly-graph-div\" style=\"height:525px; width:100%;\"></div>\n",
       "            <script type=\"text/javascript\">\n",
       "                require([\"plotly\"], function(Plotly) {\n",
       "                    window.PLOTLYENV=window.PLOTLYENV || {};\n",
       "                    \n",
       "                if (document.getElementById(\"c382fcc9-8bc9-4f15-9ae7-4ecc8a6d6c3f\")) {\n",
       "                    Plotly.newPlot(\n",
       "                        'c382fcc9-8bc9-4f15-9ae7-4ecc8a6d6c3f',\n",
       "                        [{\"legendgroup\": \"Black\", \"line\": {\"color\": \"#1976D2\", \"dash\": \"solid\"}, \"mode\": \"markers+lines\", \"name\": \"Black\", \"orientation\": \"v\", \"showlegend\": true, \"type\": \"scatter\", \"x\": [\"2017-01-12T00:00:00\", \"2017-02-12T00:00:00\", \"2017-03-12T00:00:00\", \"2017-04-12T00:00:00\", \"2017-05-12T00:00:00\", \"2017-06-12T00:00:00\", \"2017-07-12T00:00:00\", \"2017-08-12T00:00:00\", \"2017-09-12T00:00:00\", \"2017-10-12T00:00:00\", \"2017-11-12T00:00:00\", \"2017-12-12T00:00:00\", \"2018-01-12T00:00:00\", \"2018-02-12T00:00:00\", \"2018-03-12T00:00:00\", \"2018-04-12T00:00:00\", \"2018-05-12T00:00:00\", \"2018-06-12T00:00:00\", \"2018-07-12T00:00:00\", \"2018-08-12T00:00:00\", \"2018-09-12T00:00:00\", \"2018-10-12T00:00:00\", \"2018-11-12T00:00:00\", \"2018-12-12T00:00:00\", \"2019-01-12T00:00:00\", \"2019-02-12T00:00:00\", \"2019-03-12T00:00:00\", \"2019-04-12T00:00:00\", \"2019-05-12T00:00:00\", \"2019-06-12T00:00:00\", \"2019-07-12T00:00:00\", \"2019-08-12T00:00:00\", \"2019-09-12T00:00:00\", \"2019-10-12T00:00:00\", \"2019-11-12T00:00:00\", \"2019-12-12T00:00:00\", \"2020-01-12T00:00:00\", \"2020-02-12T00:00:00\", \"2020-03-12T00:00:00\", \"2020-04-12T00:00:00\", \"2020-05-12T00:00:00\"], \"xaxis\": \"x\", \"y\": [8.3, 8.1, 8.4, 8.5, 8.7, 8.4, 8.0, 8.0, 7.9, 8.2, 8.2, 8.1, 8.3, 7.5, 7.9, 7.7, 7.5, 8.2, 7.8, 8.1, 7.7, 6.9, 7.5, 7.4, 7.0, 8.2, 7.2, 7.1, 7.7, 7.6, 7.4, 7.6, 7.5, 7.0, 7.1, 7.4, 6.9, 7.6, 7.5, 6.8, 7.6], \"yaxis\": \"y\"}, {\"legendgroup\": \"Not Black\", \"line\": {\"color\": \"#BDBDBD\", \"dash\": \"solid\"}, \"mode\": \"markers+lines\", \"name\": \"Not Black\", \"orientation\": \"v\", \"showlegend\": true, \"type\": \"scatter\", \"x\": [\"2017-01-12T00:00:00\", \"2017-02-12T00:00:00\", \"2017-03-12T00:00:00\", \"2017-04-12T00:00:00\", \"2017-05-12T00:00:00\", \"2017-06-12T00:00:00\", \"2017-07-12T00:00:00\", \"2017-08-12T00:00:00\", \"2017-09-12T00:00:00\", \"2017-10-12T00:00:00\", \"2017-11-12T00:00:00\", \"2017-12-12T00:00:00\", \"2018-01-12T00:00:00\", \"2018-02-12T00:00:00\", \"2018-03-12T00:00:00\", \"2018-04-12T00:00:00\", \"2018-05-12T00:00:00\", \"2018-06-12T00:00:00\", \"2018-07-12T00:00:00\", \"2018-08-12T00:00:00\", \"2018-09-12T00:00:00\", \"2018-10-12T00:00:00\", \"2018-11-12T00:00:00\", \"2018-12-12T00:00:00\", \"2019-01-12T00:00:00\", \"2019-02-12T00:00:00\", \"2019-03-12T00:00:00\", \"2019-04-12T00:00:00\", \"2019-05-12T00:00:00\", \"2019-06-12T00:00:00\", \"2019-07-12T00:00:00\", \"2019-08-12T00:00:00\", \"2019-09-12T00:00:00\", \"2019-10-12T00:00:00\", \"2019-11-12T00:00:00\", \"2019-12-12T00:00:00\", \"2020-01-12T00:00:00\", \"2020-02-12T00:00:00\", \"2020-03-12T00:00:00\", \"2020-04-12T00:00:00\", \"2020-05-12T00:00:00\"], \"xaxis\": \"x\", \"y\": [5.8, 5.9, 6.1, 6.0, 6.1, 6.0, 6.0, 6.1, 5.9, 5.8, 5.7, 5.7, 5.6, 5.7, 5.9, 5.7, 5.7, 5.6, 5.7, 5.7, 5.7, 5.7, 5.6, 5.7, 5.6, 5.7, 5.8, 5.8, 5.9, 5.9, 5.7, 5.7, 5.6, 5.5, 5.7, 5.7, 5.7, 5.8, 5.6, 5.6, 5.4], \"yaxis\": \"y\"}],\n",
       "                        {\"font\": {\"family\": \"Roboto\"}, \"hovermode\": \"x\", \"legend\": {\"title\": {\"text\": \"\"}, \"tracegroupgap\": 0}, \"margin\": {\"t\": 60}, \"plot_bgcolor\": \"white\", \"template\": {\"data\": {\"bar\": [{\"error_x\": {\"color\": \"#2a3f5f\"}, \"error_y\": {\"color\": \"#2a3f5f\"}, \"marker\": {\"line\": {\"color\": \"#E5ECF6\", \"width\": 0.5}}, \"type\": \"bar\"}], \"barpolar\": [{\"marker\": {\"line\": {\"color\": \"#E5ECF6\", \"width\": 0.5}}, \"type\": \"barpolar\"}], \"carpet\": [{\"aaxis\": {\"endlinecolor\": \"#2a3f5f\", \"gridcolor\": \"white\", \"linecolor\": \"white\", \"minorgridcolor\": \"white\", \"startlinecolor\": \"#2a3f5f\"}, \"baxis\": {\"endlinecolor\": \"#2a3f5f\", \"gridcolor\": \"white\", \"linecolor\": \"white\", \"minorgridcolor\": \"white\", \"startlinecolor\": \"#2a3f5f\"}, \"type\": \"carpet\"}], \"choropleth\": [{\"colorbar\": {\"outlinewidth\": 0, \"ticks\": \"\"}, \"type\": \"choropleth\"}], \"contour\": [{\"colorbar\": {\"outlinewidth\": 0, \"ticks\": \"\"}, \"colorscale\": [[0.0, \"#0d0887\"], [0.1111111111111111, \"#46039f\"], [0.2222222222222222, \"#7201a8\"], [0.3333333333333333, \"#9c179e\"], [0.4444444444444444, \"#bd3786\"], [0.5555555555555556, \"#d8576b\"], [0.6666666666666666, \"#ed7953\"], [0.7777777777777778, \"#fb9f3a\"], [0.8888888888888888, \"#fdca26\"], [1.0, \"#f0f921\"]], \"type\": \"contour\"}], \"contourcarpet\": [{\"colorbar\": {\"outlinewidth\": 0, \"ticks\": \"\"}, \"type\": \"contourcarpet\"}], \"heatmap\": [{\"colorbar\": {\"outlinewidth\": 0, \"ticks\": \"\"}, \"colorscale\": [[0.0, \"#0d0887\"], [0.1111111111111111, \"#46039f\"], [0.2222222222222222, \"#7201a8\"], [0.3333333333333333, \"#9c179e\"], [0.4444444444444444, \"#bd3786\"], [0.5555555555555556, \"#d8576b\"], [0.6666666666666666, \"#ed7953\"], [0.7777777777777778, \"#fb9f3a\"], [0.8888888888888888, \"#fdca26\"], [1.0, \"#f0f921\"]], \"type\": \"heatmap\"}], \"heatmapgl\": [{\"colorbar\": {\"outlinewidth\": 0, \"ticks\": \"\"}, \"colorscale\": [[0.0, \"#0d0887\"], [0.1111111111111111, \"#46039f\"], [0.2222222222222222, \"#7201a8\"], [0.3333333333333333, \"#9c179e\"], [0.4444444444444444, \"#bd3786\"], [0.5555555555555556, \"#d8576b\"], [0.6666666666666666, \"#ed7953\"], [0.7777777777777778, \"#fb9f3a\"], [0.8888888888888888, \"#fdca26\"], [1.0, \"#f0f921\"]], \"type\": \"heatmapgl\"}], \"histogram\": [{\"marker\": {\"colorbar\": {\"outlinewidth\": 0, \"ticks\": \"\"}}, \"type\": \"histogram\"}], \"histogram2d\": [{\"colorbar\": {\"outlinewidth\": 0, \"ticks\": \"\"}, \"colorscale\": [[0.0, \"#0d0887\"], [0.1111111111111111, \"#46039f\"], [0.2222222222222222, \"#7201a8\"], [0.3333333333333333, \"#9c179e\"], [0.4444444444444444, \"#bd3786\"], [0.5555555555555556, \"#d8576b\"], [0.6666666666666666, \"#ed7953\"], [0.7777777777777778, \"#fb9f3a\"], [0.8888888888888888, \"#fdca26\"], [1.0, \"#f0f921\"]], \"type\": \"histogram2d\"}], \"histogram2dcontour\": [{\"colorbar\": {\"outlinewidth\": 0, \"ticks\": \"\"}, \"colorscale\": [[0.0, \"#0d0887\"], [0.1111111111111111, \"#46039f\"], [0.2222222222222222, \"#7201a8\"], [0.3333333333333333, \"#9c179e\"], [0.4444444444444444, \"#bd3786\"], [0.5555555555555556, \"#d8576b\"], [0.6666666666666666, \"#ed7953\"], [0.7777777777777778, \"#fb9f3a\"], [0.8888888888888888, \"#fdca26\"], [1.0, \"#f0f921\"]], \"type\": \"histogram2dcontour\"}], \"mesh3d\": [{\"colorbar\": {\"outlinewidth\": 0, \"ticks\": \"\"}, \"type\": \"mesh3d\"}], \"parcoords\": [{\"line\": {\"colorbar\": {\"outlinewidth\": 0, \"ticks\": \"\"}}, \"type\": \"parcoords\"}], \"pie\": [{\"automargin\": true, \"type\": \"pie\"}], \"scatter\": [{\"marker\": {\"colorbar\": {\"outlinewidth\": 0, \"ticks\": \"\"}}, \"type\": \"scatter\"}], \"scatter3d\": [{\"line\": {\"colorbar\": {\"outlinewidth\": 0, \"ticks\": \"\"}}, \"marker\": {\"colorbar\": {\"outlinewidth\": 0, \"ticks\": \"\"}}, \"type\": \"scatter3d\"}], \"scattercarpet\": [{\"marker\": {\"colorbar\": {\"outlinewidth\": 0, \"ticks\": \"\"}}, \"type\": \"scattercarpet\"}], \"scattergeo\": [{\"marker\": {\"colorbar\": {\"outlinewidth\": 0, \"ticks\": \"\"}}, \"type\": \"scattergeo\"}], \"scattergl\": [{\"marker\": {\"colorbar\": {\"outlinewidth\": 0, \"ticks\": \"\"}}, \"type\": \"scattergl\"}], \"scattermapbox\": [{\"marker\": {\"colorbar\": {\"outlinewidth\": 0, \"ticks\": \"\"}}, \"type\": \"scattermapbox\"}], \"scatterpolar\": [{\"marker\": {\"colorbar\": {\"outlinewidth\": 0, \"ticks\": \"\"}}, \"type\": \"scatterpolar\"}], \"scatterpolargl\": [{\"marker\": {\"colorbar\": {\"outlinewidth\": 0, \"ticks\": \"\"}}, \"type\": \"scatterpolargl\"}], \"scatterternary\": [{\"marker\": {\"colorbar\": {\"outlinewidth\": 0, \"ticks\": \"\"}}, \"type\": \"scatterternary\"}], \"surface\": [{\"colorbar\": {\"outlinewidth\": 0, \"ticks\": \"\"}, \"colorscale\": [[0.0, \"#0d0887\"], [0.1111111111111111, \"#46039f\"], [0.2222222222222222, \"#7201a8\"], [0.3333333333333333, \"#9c179e\"], [0.4444444444444444, \"#bd3786\"], [0.5555555555555556, \"#d8576b\"], [0.6666666666666666, \"#ed7953\"], [0.7777777777777778, \"#fb9f3a\"], [0.8888888888888888, \"#fdca26\"], [1.0, \"#f0f921\"]], \"type\": \"surface\"}], \"table\": [{\"cells\": {\"fill\": {\"color\": \"#EBF0F8\"}, \"line\": {\"color\": \"white\"}}, \"header\": {\"fill\": {\"color\": \"#C8D4E3\"}, \"line\": {\"color\": \"white\"}}, \"type\": \"table\"}]}, \"layout\": {\"annotationdefaults\": {\"arrowcolor\": \"#2a3f5f\", \"arrowhead\": 0, \"arrowwidth\": 1}, \"coloraxis\": {\"colorbar\": {\"outlinewidth\": 0, \"ticks\": \"\"}}, \"colorscale\": {\"diverging\": [[0, \"#8e0152\"], [0.1, \"#c51b7d\"], [0.2, \"#de77ae\"], [0.3, \"#f1b6da\"], [0.4, \"#fde0ef\"], [0.5, \"#f7f7f7\"], [0.6, \"#e6f5d0\"], [0.7, \"#b8e186\"], [0.8, \"#7fbc41\"], [0.9, \"#4d9221\"], [1, \"#276419\"]], \"sequential\": [[0.0, \"#0d0887\"], [0.1111111111111111, \"#46039f\"], [0.2222222222222222, \"#7201a8\"], [0.3333333333333333, \"#9c179e\"], [0.4444444444444444, \"#bd3786\"], [0.5555555555555556, \"#d8576b\"], [0.6666666666666666, \"#ed7953\"], [0.7777777777777778, \"#fb9f3a\"], [0.8888888888888888, \"#fdca26\"], [1.0, \"#f0f921\"]], \"sequentialminus\": [[0.0, \"#0d0887\"], [0.1111111111111111, \"#46039f\"], [0.2222222222222222, \"#7201a8\"], [0.3333333333333333, \"#9c179e\"], [0.4444444444444444, \"#bd3786\"], [0.5555555555555556, \"#d8576b\"], [0.6666666666666666, \"#ed7953\"], [0.7777777777777778, \"#fb9f3a\"], [0.8888888888888888, \"#fdca26\"], [1.0, \"#f0f921\"]]}, \"colorway\": [\"#636efa\", \"#EF553B\", \"#00cc96\", \"#ab63fa\", \"#FFA15A\", \"#19d3f3\", \"#FF6692\", \"#B6E880\", \"#FF97FF\", \"#FECB52\"], \"font\": {\"color\": \"#2a3f5f\"}, \"geo\": {\"bgcolor\": \"white\", \"lakecolor\": \"white\", \"landcolor\": \"#E5ECF6\", \"showlakes\": true, \"showland\": true, \"subunitcolor\": \"white\"}, \"hoverlabel\": {\"align\": \"left\"}, \"hovermode\": \"closest\", \"mapbox\": {\"style\": \"light\"}, \"paper_bgcolor\": \"white\", \"plot_bgcolor\": \"#E5ECF6\", \"polar\": {\"angularaxis\": {\"gridcolor\": \"white\", \"linecolor\": \"white\", \"ticks\": \"\"}, \"bgcolor\": \"#E5ECF6\", \"radialaxis\": {\"gridcolor\": \"white\", \"linecolor\": \"white\", \"ticks\": \"\"}}, \"scene\": {\"xaxis\": {\"backgroundcolor\": \"#E5ECF6\", \"gridcolor\": \"white\", \"gridwidth\": 2, \"linecolor\": \"white\", \"showbackground\": true, \"ticks\": \"\", \"zerolinecolor\": \"white\"}, \"yaxis\": {\"backgroundcolor\": \"#E5ECF6\", \"gridcolor\": \"white\", \"gridwidth\": 2, \"linecolor\": \"white\", \"showbackground\": true, \"ticks\": \"\", \"zerolinecolor\": \"white\"}, \"zaxis\": {\"backgroundcolor\": \"#E5ECF6\", \"gridcolor\": \"white\", \"gridwidth\": 2, \"linecolor\": \"white\", \"showbackground\": true, \"ticks\": \"\", \"zerolinecolor\": \"white\"}}, \"shapedefaults\": {\"line\": {\"color\": \"#2a3f5f\"}}, \"ternary\": {\"aaxis\": {\"gridcolor\": \"white\", \"linecolor\": \"white\", \"ticks\": \"\"}, \"baxis\": {\"gridcolor\": \"white\", \"linecolor\": \"white\", \"ticks\": \"\"}, \"bgcolor\": \"#E5ECF6\", \"caxis\": {\"gridcolor\": \"white\", \"linecolor\": \"white\", \"ticks\": \"\"}}, \"title\": {\"x\": 0.05}, \"xaxis\": {\"automargin\": true, \"gridcolor\": \"white\", \"linecolor\": \"white\", \"ticks\": \"\", \"title\": {\"standoff\": 15}, \"zerolinecolor\": \"white\", \"zerolinewidth\": 2}, \"yaxis\": {\"automargin\": true, \"gridcolor\": \"white\", \"linecolor\": \"white\", \"ticks\": \"\", \"title\": {\"standoff\": 15}, \"zerolinecolor\": \"white\", \"zerolinewidth\": 2}}}, \"title\": {\"text\": \"Disability rate by race, civilians aged 25 to 54\"}, \"xaxis\": {\"anchor\": \"y\", \"domain\": [0.0, 1.0], \"title\": {\"text\": \"\"}}, \"yaxis\": {\"anchor\": \"x\", \"domain\": [0.0, 1.0], \"ticksuffix\": \"%\", \"title\": {\"text\": \"Share of civilians aged 25 to 54 who report any difficulty\"}}},\n",
       "                        {\"responsive\": true}\n",
       "                    ).then(function(){\n",
       "                            \n",
       "var gd = document.getElementById('c382fcc9-8bc9-4f15-9ae7-4ecc8a6d6c3f');\n",
       "var x = new MutationObserver(function (mutations, observer) {{\n",
       "        var display = window.getComputedStyle(gd).display;\n",
       "        if (!display || display === 'none') {{\n",
       "            console.log([gd, 'removed!']);\n",
       "            Plotly.purge(gd);\n",
       "            observer.disconnect();\n",
       "        }}\n",
       "}});\n",
       "\n",
       "// Listen for the removal of the full notebook cells\n",
       "var notebookContainer = gd.closest('#notebook-container');\n",
       "if (notebookContainer) {{\n",
       "    x.observe(notebookContainer, {childList: true});\n",
       "}}\n",
       "\n",
       "// Listen for the clearing of the current output cell\n",
       "var outputEl = gd.closest('.output');\n",
       "if (outputEl) {{\n",
       "    x.observe(outputEl, {childList: true});\n",
       "}}\n",
       "\n",
       "                        })\n",
       "                };\n",
       "                });\n",
       "            </script>\n",
       "        </div>"
      ]
     },
     "metadata": {},
     "output_type": "display_data"
    }
   ],
   "source": [
    "line_graph(race_disability, x='date', y='disability_rate_round', color='black',\n",
    "           title='Disability rate by race, civilians aged 25 to 54',\n",
    "           yaxis_title=\n",
    "           'Share of civilians aged 25 to 54 who report any difficulty')"
   ]
  },
  {
   "cell_type": "markdown",
   "metadata": {},
   "source": [
    "The disability employment gap is very large, but it has shrunk over time.\n",
    "From January 2017 to January 2020, it fell from 50 percentage points\n",
    "(30 percent among people with disabilities and 80 percent among people without disabilities)\n",
    "to 46 points (37 percent and 83 percent).\n",
    "Coronavirus has actually shrunk the gap further: since January, employment of people with disabilities\n",
    "has fallen 5 points, compared to 9 points among people without disabilities."
   ]
  },
  {
   "cell_type": "code",
   "execution_count": 153,
   "metadata": {
    "tags": [
     "hide-input"
    ]
   },
   "outputs": [
    {
     "data": {
      "application/vnd.plotly.v1+json": {
       "config": {
        "plotlyServerURL": "https://plot.ly"
       },
       "data": [
        {
         "legendgroup": "Has disability",
         "line": {
          "color": "#C62828",
          "dash": "solid"
         },
         "mode": "markers+lines",
         "name": "Has disability",
         "orientation": "v",
         "showlegend": true,
         "type": "scatter",
         "x": [
          "2017-01-12T00:00:00",
          "2017-02-12T00:00:00",
          "2017-03-12T00:00:00",
          "2017-04-12T00:00:00",
          "2017-05-12T00:00:00",
          "2017-06-12T00:00:00",
          "2017-07-12T00:00:00",
          "2017-08-12T00:00:00",
          "2017-09-12T00:00:00",
          "2017-10-12T00:00:00",
          "2017-11-12T00:00:00",
          "2017-12-12T00:00:00",
          "2018-01-12T00:00:00",
          "2018-02-12T00:00:00",
          "2018-03-12T00:00:00",
          "2018-04-12T00:00:00",
          "2018-05-12T00:00:00",
          "2018-06-12T00:00:00",
          "2018-07-12T00:00:00",
          "2018-08-12T00:00:00",
          "2018-09-12T00:00:00",
          "2018-10-12T00:00:00",
          "2018-11-12T00:00:00",
          "2018-12-12T00:00:00",
          "2019-01-12T00:00:00",
          "2019-02-12T00:00:00",
          "2019-03-12T00:00:00",
          "2019-04-12T00:00:00",
          "2019-05-12T00:00:00",
          "2019-06-12T00:00:00",
          "2019-07-12T00:00:00",
          "2019-08-12T00:00:00",
          "2019-09-12T00:00:00",
          "2019-10-12T00:00:00",
          "2019-11-12T00:00:00",
          "2019-12-12T00:00:00",
          "2020-01-12T00:00:00",
          "2020-02-12T00:00:00",
          "2020-03-12T00:00:00",
          "2020-04-12T00:00:00",
          "2020-05-12T00:00:00"
         ],
         "xaxis": "x",
         "y": [
          30.5,
          31.6,
          32.5,
          32.1,
          34.6,
          34.7,
          34.8,
          33.8,
          35.1,
          34.9,
          34.5,
          35.7,
          34.2,
          36.4,
          37.2,
          37.3,
          36.7,
          35.5,
          34.9,
          35.7,
          36.8,
          37.8,
          37.7,
          37.2,
          36,
          36.1,
          37.5,
          36.6,
          37,
          35.9,
          36.1,
          38.6,
          37.8,
          36.7,
          38.2,
          37.2,
          38.3,
          37.4,
          37.6,
          31.5,
          32.5
         ],
         "yaxis": "y"
        },
        {
         "legendgroup": "No disability",
         "line": {
          "color": "#BDBDBD",
          "dash": "solid"
         },
         "mode": "markers+lines",
         "name": "No disability",
         "orientation": "v",
         "showlegend": true,
         "type": "scatter",
         "x": [
          "2017-01-12T00:00:00",
          "2017-02-12T00:00:00",
          "2017-03-12T00:00:00",
          "2017-04-12T00:00:00",
          "2017-05-12T00:00:00",
          "2017-06-12T00:00:00",
          "2017-07-12T00:00:00",
          "2017-08-12T00:00:00",
          "2017-09-12T00:00:00",
          "2017-10-12T00:00:00",
          "2017-11-12T00:00:00",
          "2017-12-12T00:00:00",
          "2018-01-12T00:00:00",
          "2018-02-12T00:00:00",
          "2018-03-12T00:00:00",
          "2018-04-12T00:00:00",
          "2018-05-12T00:00:00",
          "2018-06-12T00:00:00",
          "2018-07-12T00:00:00",
          "2018-08-12T00:00:00",
          "2018-09-12T00:00:00",
          "2018-10-12T00:00:00",
          "2018-11-12T00:00:00",
          "2018-12-12T00:00:00",
          "2019-01-12T00:00:00",
          "2019-02-12T00:00:00",
          "2019-03-12T00:00:00",
          "2019-04-12T00:00:00",
          "2019-05-12T00:00:00",
          "2019-06-12T00:00:00",
          "2019-07-12T00:00:00",
          "2019-08-12T00:00:00",
          "2019-09-12T00:00:00",
          "2019-10-12T00:00:00",
          "2019-11-12T00:00:00",
          "2019-12-12T00:00:00",
          "2020-01-12T00:00:00",
          "2020-02-12T00:00:00",
          "2020-03-12T00:00:00",
          "2020-04-12T00:00:00",
          "2020-05-12T00:00:00"
         ],
         "xaxis": "x",
         "y": [
          80.8,
          81.2,
          81.5,
          82.1,
          81.9,
          81.5,
          81.5,
          81.1,
          82.2,
          82,
          82.2,
          81.9,
          81.3,
          81.9,
          82,
          82.3,
          82.6,
          82.2,
          82.2,
          82,
          82.6,
          82.9,
          83,
          82.7,
          82.3,
          82.6,
          82.4,
          82.6,
          82.9,
          82.5,
          81.9,
          82.5,
          83.3,
          83.6,
          83.8,
          83.7,
          83,
          83,
          81.9,
          71.9,
          73.8
         ],
         "yaxis": "y"
        }
       ],
       "layout": {
        "font": {
         "family": "Roboto"
        },
        "hovermode": "x",
        "legend": {
         "title": {
          "text": ""
         },
         "tracegroupgap": 0
        },
        "margin": {
         "t": 60
        },
        "plot_bgcolor": "white",
        "template": {
         "data": {
          "bar": [
           {
            "error_x": {
             "color": "#2a3f5f"
            },
            "error_y": {
             "color": "#2a3f5f"
            },
            "marker": {
             "line": {
              "color": "#E5ECF6",
              "width": 0.5
             }
            },
            "type": "bar"
           }
          ],
          "barpolar": [
           {
            "marker": {
             "line": {
              "color": "#E5ECF6",
              "width": 0.5
             }
            },
            "type": "barpolar"
           }
          ],
          "carpet": [
           {
            "aaxis": {
             "endlinecolor": "#2a3f5f",
             "gridcolor": "white",
             "linecolor": "white",
             "minorgridcolor": "white",
             "startlinecolor": "#2a3f5f"
            },
            "baxis": {
             "endlinecolor": "#2a3f5f",
             "gridcolor": "white",
             "linecolor": "white",
             "minorgridcolor": "white",
             "startlinecolor": "#2a3f5f"
            },
            "type": "carpet"
           }
          ],
          "choropleth": [
           {
            "colorbar": {
             "outlinewidth": 0,
             "ticks": ""
            },
            "type": "choropleth"
           }
          ],
          "contour": [
           {
            "colorbar": {
             "outlinewidth": 0,
             "ticks": ""
            },
            "colorscale": [
             [
              0,
              "#0d0887"
             ],
             [
              0.1111111111111111,
              "#46039f"
             ],
             [
              0.2222222222222222,
              "#7201a8"
             ],
             [
              0.3333333333333333,
              "#9c179e"
             ],
             [
              0.4444444444444444,
              "#bd3786"
             ],
             [
              0.5555555555555556,
              "#d8576b"
             ],
             [
              0.6666666666666666,
              "#ed7953"
             ],
             [
              0.7777777777777778,
              "#fb9f3a"
             ],
             [
              0.8888888888888888,
              "#fdca26"
             ],
             [
              1,
              "#f0f921"
             ]
            ],
            "type": "contour"
           }
          ],
          "contourcarpet": [
           {
            "colorbar": {
             "outlinewidth": 0,
             "ticks": ""
            },
            "type": "contourcarpet"
           }
          ],
          "heatmap": [
           {
            "colorbar": {
             "outlinewidth": 0,
             "ticks": ""
            },
            "colorscale": [
             [
              0,
              "#0d0887"
             ],
             [
              0.1111111111111111,
              "#46039f"
             ],
             [
              0.2222222222222222,
              "#7201a8"
             ],
             [
              0.3333333333333333,
              "#9c179e"
             ],
             [
              0.4444444444444444,
              "#bd3786"
             ],
             [
              0.5555555555555556,
              "#d8576b"
             ],
             [
              0.6666666666666666,
              "#ed7953"
             ],
             [
              0.7777777777777778,
              "#fb9f3a"
             ],
             [
              0.8888888888888888,
              "#fdca26"
             ],
             [
              1,
              "#f0f921"
             ]
            ],
            "type": "heatmap"
           }
          ],
          "heatmapgl": [
           {
            "colorbar": {
             "outlinewidth": 0,
             "ticks": ""
            },
            "colorscale": [
             [
              0,
              "#0d0887"
             ],
             [
              0.1111111111111111,
              "#46039f"
             ],
             [
              0.2222222222222222,
              "#7201a8"
             ],
             [
              0.3333333333333333,
              "#9c179e"
             ],
             [
              0.4444444444444444,
              "#bd3786"
             ],
             [
              0.5555555555555556,
              "#d8576b"
             ],
             [
              0.6666666666666666,
              "#ed7953"
             ],
             [
              0.7777777777777778,
              "#fb9f3a"
             ],
             [
              0.8888888888888888,
              "#fdca26"
             ],
             [
              1,
              "#f0f921"
             ]
            ],
            "type": "heatmapgl"
           }
          ],
          "histogram": [
           {
            "marker": {
             "colorbar": {
              "outlinewidth": 0,
              "ticks": ""
             }
            },
            "type": "histogram"
           }
          ],
          "histogram2d": [
           {
            "colorbar": {
             "outlinewidth": 0,
             "ticks": ""
            },
            "colorscale": [
             [
              0,
              "#0d0887"
             ],
             [
              0.1111111111111111,
              "#46039f"
             ],
             [
              0.2222222222222222,
              "#7201a8"
             ],
             [
              0.3333333333333333,
              "#9c179e"
             ],
             [
              0.4444444444444444,
              "#bd3786"
             ],
             [
              0.5555555555555556,
              "#d8576b"
             ],
             [
              0.6666666666666666,
              "#ed7953"
             ],
             [
              0.7777777777777778,
              "#fb9f3a"
             ],
             [
              0.8888888888888888,
              "#fdca26"
             ],
             [
              1,
              "#f0f921"
             ]
            ],
            "type": "histogram2d"
           }
          ],
          "histogram2dcontour": [
           {
            "colorbar": {
             "outlinewidth": 0,
             "ticks": ""
            },
            "colorscale": [
             [
              0,
              "#0d0887"
             ],
             [
              0.1111111111111111,
              "#46039f"
             ],
             [
              0.2222222222222222,
              "#7201a8"
             ],
             [
              0.3333333333333333,
              "#9c179e"
             ],
             [
              0.4444444444444444,
              "#bd3786"
             ],
             [
              0.5555555555555556,
              "#d8576b"
             ],
             [
              0.6666666666666666,
              "#ed7953"
             ],
             [
              0.7777777777777778,
              "#fb9f3a"
             ],
             [
              0.8888888888888888,
              "#fdca26"
             ],
             [
              1,
              "#f0f921"
             ]
            ],
            "type": "histogram2dcontour"
           }
          ],
          "mesh3d": [
           {
            "colorbar": {
             "outlinewidth": 0,
             "ticks": ""
            },
            "type": "mesh3d"
           }
          ],
          "parcoords": [
           {
            "line": {
             "colorbar": {
              "outlinewidth": 0,
              "ticks": ""
             }
            },
            "type": "parcoords"
           }
          ],
          "pie": [
           {
            "automargin": true,
            "type": "pie"
           }
          ],
          "scatter": [
           {
            "marker": {
             "colorbar": {
              "outlinewidth": 0,
              "ticks": ""
             }
            },
            "type": "scatter"
           }
          ],
          "scatter3d": [
           {
            "line": {
             "colorbar": {
              "outlinewidth": 0,
              "ticks": ""
             }
            },
            "marker": {
             "colorbar": {
              "outlinewidth": 0,
              "ticks": ""
             }
            },
            "type": "scatter3d"
           }
          ],
          "scattercarpet": [
           {
            "marker": {
             "colorbar": {
              "outlinewidth": 0,
              "ticks": ""
             }
            },
            "type": "scattercarpet"
           }
          ],
          "scattergeo": [
           {
            "marker": {
             "colorbar": {
              "outlinewidth": 0,
              "ticks": ""
             }
            },
            "type": "scattergeo"
           }
          ],
          "scattergl": [
           {
            "marker": {
             "colorbar": {
              "outlinewidth": 0,
              "ticks": ""
             }
            },
            "type": "scattergl"
           }
          ],
          "scattermapbox": [
           {
            "marker": {
             "colorbar": {
              "outlinewidth": 0,
              "ticks": ""
             }
            },
            "type": "scattermapbox"
           }
          ],
          "scatterpolar": [
           {
            "marker": {
             "colorbar": {
              "outlinewidth": 0,
              "ticks": ""
             }
            },
            "type": "scatterpolar"
           }
          ],
          "scatterpolargl": [
           {
            "marker": {
             "colorbar": {
              "outlinewidth": 0,
              "ticks": ""
             }
            },
            "type": "scatterpolargl"
           }
          ],
          "scatterternary": [
           {
            "marker": {
             "colorbar": {
              "outlinewidth": 0,
              "ticks": ""
             }
            },
            "type": "scatterternary"
           }
          ],
          "surface": [
           {
            "colorbar": {
             "outlinewidth": 0,
             "ticks": ""
            },
            "colorscale": [
             [
              0,
              "#0d0887"
             ],
             [
              0.1111111111111111,
              "#46039f"
             ],
             [
              0.2222222222222222,
              "#7201a8"
             ],
             [
              0.3333333333333333,
              "#9c179e"
             ],
             [
              0.4444444444444444,
              "#bd3786"
             ],
             [
              0.5555555555555556,
              "#d8576b"
             ],
             [
              0.6666666666666666,
              "#ed7953"
             ],
             [
              0.7777777777777778,
              "#fb9f3a"
             ],
             [
              0.8888888888888888,
              "#fdca26"
             ],
             [
              1,
              "#f0f921"
             ]
            ],
            "type": "surface"
           }
          ],
          "table": [
           {
            "cells": {
             "fill": {
              "color": "#EBF0F8"
             },
             "line": {
              "color": "white"
             }
            },
            "header": {
             "fill": {
              "color": "#C8D4E3"
             },
             "line": {
              "color": "white"
             }
            },
            "type": "table"
           }
          ]
         },
         "layout": {
          "annotationdefaults": {
           "arrowcolor": "#2a3f5f",
           "arrowhead": 0,
           "arrowwidth": 1
          },
          "coloraxis": {
           "colorbar": {
            "outlinewidth": 0,
            "ticks": ""
           }
          },
          "colorscale": {
           "diverging": [
            [
             0,
             "#8e0152"
            ],
            [
             0.1,
             "#c51b7d"
            ],
            [
             0.2,
             "#de77ae"
            ],
            [
             0.3,
             "#f1b6da"
            ],
            [
             0.4,
             "#fde0ef"
            ],
            [
             0.5,
             "#f7f7f7"
            ],
            [
             0.6,
             "#e6f5d0"
            ],
            [
             0.7,
             "#b8e186"
            ],
            [
             0.8,
             "#7fbc41"
            ],
            [
             0.9,
             "#4d9221"
            ],
            [
             1,
             "#276419"
            ]
           ],
           "sequential": [
            [
             0,
             "#0d0887"
            ],
            [
             0.1111111111111111,
             "#46039f"
            ],
            [
             0.2222222222222222,
             "#7201a8"
            ],
            [
             0.3333333333333333,
             "#9c179e"
            ],
            [
             0.4444444444444444,
             "#bd3786"
            ],
            [
             0.5555555555555556,
             "#d8576b"
            ],
            [
             0.6666666666666666,
             "#ed7953"
            ],
            [
             0.7777777777777778,
             "#fb9f3a"
            ],
            [
             0.8888888888888888,
             "#fdca26"
            ],
            [
             1,
             "#f0f921"
            ]
           ],
           "sequentialminus": [
            [
             0,
             "#0d0887"
            ],
            [
             0.1111111111111111,
             "#46039f"
            ],
            [
             0.2222222222222222,
             "#7201a8"
            ],
            [
             0.3333333333333333,
             "#9c179e"
            ],
            [
             0.4444444444444444,
             "#bd3786"
            ],
            [
             0.5555555555555556,
             "#d8576b"
            ],
            [
             0.6666666666666666,
             "#ed7953"
            ],
            [
             0.7777777777777778,
             "#fb9f3a"
            ],
            [
             0.8888888888888888,
             "#fdca26"
            ],
            [
             1,
             "#f0f921"
            ]
           ]
          },
          "colorway": [
           "#636efa",
           "#EF553B",
           "#00cc96",
           "#ab63fa",
           "#FFA15A",
           "#19d3f3",
           "#FF6692",
           "#B6E880",
           "#FF97FF",
           "#FECB52"
          ],
          "font": {
           "color": "#2a3f5f"
          },
          "geo": {
           "bgcolor": "white",
           "lakecolor": "white",
           "landcolor": "#E5ECF6",
           "showlakes": true,
           "showland": true,
           "subunitcolor": "white"
          },
          "hoverlabel": {
           "align": "left"
          },
          "hovermode": "closest",
          "mapbox": {
           "style": "light"
          },
          "paper_bgcolor": "white",
          "plot_bgcolor": "#E5ECF6",
          "polar": {
           "angularaxis": {
            "gridcolor": "white",
            "linecolor": "white",
            "ticks": ""
           },
           "bgcolor": "#E5ECF6",
           "radialaxis": {
            "gridcolor": "white",
            "linecolor": "white",
            "ticks": ""
           }
          },
          "scene": {
           "xaxis": {
            "backgroundcolor": "#E5ECF6",
            "gridcolor": "white",
            "gridwidth": 2,
            "linecolor": "white",
            "showbackground": true,
            "ticks": "",
            "zerolinecolor": "white"
           },
           "yaxis": {
            "backgroundcolor": "#E5ECF6",
            "gridcolor": "white",
            "gridwidth": 2,
            "linecolor": "white",
            "showbackground": true,
            "ticks": "",
            "zerolinecolor": "white"
           },
           "zaxis": {
            "backgroundcolor": "#E5ECF6",
            "gridcolor": "white",
            "gridwidth": 2,
            "linecolor": "white",
            "showbackground": true,
            "ticks": "",
            "zerolinecolor": "white"
           }
          },
          "shapedefaults": {
           "line": {
            "color": "#2a3f5f"
           }
          },
          "ternary": {
           "aaxis": {
            "gridcolor": "white",
            "linecolor": "white",
            "ticks": ""
           },
           "baxis": {
            "gridcolor": "white",
            "linecolor": "white",
            "ticks": ""
           },
           "bgcolor": "#E5ECF6",
           "caxis": {
            "gridcolor": "white",
            "linecolor": "white",
            "ticks": ""
           }
          },
          "title": {
           "x": 0.05
          },
          "xaxis": {
           "automargin": true,
           "gridcolor": "white",
           "linecolor": "white",
           "ticks": "",
           "title": {
            "standoff": 15
           },
           "zerolinecolor": "white",
           "zerolinewidth": 2
          },
          "yaxis": {
           "automargin": true,
           "gridcolor": "white",
           "linecolor": "white",
           "ticks": "",
           "title": {
            "standoff": 15
           },
           "zerolinecolor": "white",
           "zerolinewidth": 2
          }
         }
        },
        "title": {
         "text": "Prime-age employment rate by disability status"
        },
        "xaxis": {
         "anchor": "y",
         "domain": [
          0,
          1
         ],
         "title": {
          "text": ""
         }
        },
        "yaxis": {
         "anchor": "x",
         "domain": [
          0,
          1
         ],
         "ticksuffix": "%",
         "title": {
          "text": "Employment rate of civilians aged 25 to 54"
         }
        }
       }
      },
      "text/html": [
       "<div>\n",
       "        \n",
       "        \n",
       "            <div id=\"0d33ccd2-260a-49ee-a587-4c0e4879ee1d\" class=\"plotly-graph-div\" style=\"height:525px; width:100%;\"></div>\n",
       "            <script type=\"text/javascript\">\n",
       "                require([\"plotly\"], function(Plotly) {\n",
       "                    window.PLOTLYENV=window.PLOTLYENV || {};\n",
       "                    \n",
       "                if (document.getElementById(\"0d33ccd2-260a-49ee-a587-4c0e4879ee1d\")) {\n",
       "                    Plotly.newPlot(\n",
       "                        '0d33ccd2-260a-49ee-a587-4c0e4879ee1d',\n",
       "                        [{\"legendgroup\": \"Has disability\", \"line\": {\"color\": \"#C62828\", \"dash\": \"solid\"}, \"mode\": \"markers+lines\", \"name\": \"Has disability\", \"orientation\": \"v\", \"showlegend\": true, \"type\": \"scatter\", \"x\": [\"2017-01-12T00:00:00\", \"2017-02-12T00:00:00\", \"2017-03-12T00:00:00\", \"2017-04-12T00:00:00\", \"2017-05-12T00:00:00\", \"2017-06-12T00:00:00\", \"2017-07-12T00:00:00\", \"2017-08-12T00:00:00\", \"2017-09-12T00:00:00\", \"2017-10-12T00:00:00\", \"2017-11-12T00:00:00\", \"2017-12-12T00:00:00\", \"2018-01-12T00:00:00\", \"2018-02-12T00:00:00\", \"2018-03-12T00:00:00\", \"2018-04-12T00:00:00\", \"2018-05-12T00:00:00\", \"2018-06-12T00:00:00\", \"2018-07-12T00:00:00\", \"2018-08-12T00:00:00\", \"2018-09-12T00:00:00\", \"2018-10-12T00:00:00\", \"2018-11-12T00:00:00\", \"2018-12-12T00:00:00\", \"2019-01-12T00:00:00\", \"2019-02-12T00:00:00\", \"2019-03-12T00:00:00\", \"2019-04-12T00:00:00\", \"2019-05-12T00:00:00\", \"2019-06-12T00:00:00\", \"2019-07-12T00:00:00\", \"2019-08-12T00:00:00\", \"2019-09-12T00:00:00\", \"2019-10-12T00:00:00\", \"2019-11-12T00:00:00\", \"2019-12-12T00:00:00\", \"2020-01-12T00:00:00\", \"2020-02-12T00:00:00\", \"2020-03-12T00:00:00\", \"2020-04-12T00:00:00\", \"2020-05-12T00:00:00\"], \"xaxis\": \"x\", \"y\": [30.5, 31.6, 32.5, 32.1, 34.6, 34.7, 34.8, 33.8, 35.1, 34.9, 34.5, 35.7, 34.2, 36.4, 37.2, 37.3, 36.7, 35.5, 34.9, 35.7, 36.8, 37.8, 37.7, 37.2, 36.0, 36.1, 37.5, 36.6, 37.0, 35.9, 36.1, 38.6, 37.8, 36.7, 38.2, 37.2, 38.3, 37.4, 37.6, 31.5, 32.5], \"yaxis\": \"y\"}, {\"legendgroup\": \"No disability\", \"line\": {\"color\": \"#BDBDBD\", \"dash\": \"solid\"}, \"mode\": \"markers+lines\", \"name\": \"No disability\", \"orientation\": \"v\", \"showlegend\": true, \"type\": \"scatter\", \"x\": [\"2017-01-12T00:00:00\", \"2017-02-12T00:00:00\", \"2017-03-12T00:00:00\", \"2017-04-12T00:00:00\", \"2017-05-12T00:00:00\", \"2017-06-12T00:00:00\", \"2017-07-12T00:00:00\", \"2017-08-12T00:00:00\", \"2017-09-12T00:00:00\", \"2017-10-12T00:00:00\", \"2017-11-12T00:00:00\", \"2017-12-12T00:00:00\", \"2018-01-12T00:00:00\", \"2018-02-12T00:00:00\", \"2018-03-12T00:00:00\", \"2018-04-12T00:00:00\", \"2018-05-12T00:00:00\", \"2018-06-12T00:00:00\", \"2018-07-12T00:00:00\", \"2018-08-12T00:00:00\", \"2018-09-12T00:00:00\", \"2018-10-12T00:00:00\", \"2018-11-12T00:00:00\", \"2018-12-12T00:00:00\", \"2019-01-12T00:00:00\", \"2019-02-12T00:00:00\", \"2019-03-12T00:00:00\", \"2019-04-12T00:00:00\", \"2019-05-12T00:00:00\", \"2019-06-12T00:00:00\", \"2019-07-12T00:00:00\", \"2019-08-12T00:00:00\", \"2019-09-12T00:00:00\", \"2019-10-12T00:00:00\", \"2019-11-12T00:00:00\", \"2019-12-12T00:00:00\", \"2020-01-12T00:00:00\", \"2020-02-12T00:00:00\", \"2020-03-12T00:00:00\", \"2020-04-12T00:00:00\", \"2020-05-12T00:00:00\"], \"xaxis\": \"x\", \"y\": [80.8, 81.2, 81.5, 82.1, 81.9, 81.5, 81.5, 81.1, 82.2, 82.0, 82.2, 81.9, 81.3, 81.9, 82.0, 82.3, 82.6, 82.2, 82.2, 82.0, 82.6, 82.9, 83.0, 82.7, 82.3, 82.6, 82.4, 82.6, 82.9, 82.5, 81.9, 82.5, 83.3, 83.6, 83.8, 83.7, 83.0, 83.0, 81.9, 71.9, 73.8], \"yaxis\": \"y\"}],\n",
       "                        {\"font\": {\"family\": \"Roboto\"}, \"hovermode\": \"x\", \"legend\": {\"title\": {\"text\": \"\"}, \"tracegroupgap\": 0}, \"margin\": {\"t\": 60}, \"plot_bgcolor\": \"white\", \"template\": {\"data\": {\"bar\": [{\"error_x\": {\"color\": \"#2a3f5f\"}, \"error_y\": {\"color\": \"#2a3f5f\"}, \"marker\": {\"line\": {\"color\": \"#E5ECF6\", \"width\": 0.5}}, \"type\": \"bar\"}], \"barpolar\": [{\"marker\": {\"line\": {\"color\": \"#E5ECF6\", \"width\": 0.5}}, \"type\": \"barpolar\"}], \"carpet\": [{\"aaxis\": {\"endlinecolor\": \"#2a3f5f\", \"gridcolor\": \"white\", \"linecolor\": \"white\", \"minorgridcolor\": \"white\", \"startlinecolor\": \"#2a3f5f\"}, \"baxis\": {\"endlinecolor\": \"#2a3f5f\", \"gridcolor\": \"white\", \"linecolor\": \"white\", \"minorgridcolor\": \"white\", \"startlinecolor\": \"#2a3f5f\"}, \"type\": \"carpet\"}], \"choropleth\": [{\"colorbar\": {\"outlinewidth\": 0, \"ticks\": \"\"}, \"type\": \"choropleth\"}], \"contour\": [{\"colorbar\": {\"outlinewidth\": 0, \"ticks\": \"\"}, \"colorscale\": [[0.0, \"#0d0887\"], [0.1111111111111111, \"#46039f\"], [0.2222222222222222, \"#7201a8\"], [0.3333333333333333, \"#9c179e\"], [0.4444444444444444, \"#bd3786\"], [0.5555555555555556, \"#d8576b\"], [0.6666666666666666, \"#ed7953\"], [0.7777777777777778, \"#fb9f3a\"], [0.8888888888888888, \"#fdca26\"], [1.0, \"#f0f921\"]], \"type\": \"contour\"}], \"contourcarpet\": [{\"colorbar\": {\"outlinewidth\": 0, \"ticks\": \"\"}, \"type\": \"contourcarpet\"}], \"heatmap\": [{\"colorbar\": {\"outlinewidth\": 0, \"ticks\": \"\"}, \"colorscale\": [[0.0, \"#0d0887\"], [0.1111111111111111, \"#46039f\"], [0.2222222222222222, \"#7201a8\"], [0.3333333333333333, \"#9c179e\"], [0.4444444444444444, \"#bd3786\"], [0.5555555555555556, \"#d8576b\"], [0.6666666666666666, \"#ed7953\"], [0.7777777777777778, \"#fb9f3a\"], [0.8888888888888888, \"#fdca26\"], [1.0, \"#f0f921\"]], \"type\": \"heatmap\"}], \"heatmapgl\": [{\"colorbar\": {\"outlinewidth\": 0, \"ticks\": \"\"}, \"colorscale\": [[0.0, \"#0d0887\"], [0.1111111111111111, \"#46039f\"], [0.2222222222222222, \"#7201a8\"], [0.3333333333333333, \"#9c179e\"], [0.4444444444444444, \"#bd3786\"], [0.5555555555555556, \"#d8576b\"], [0.6666666666666666, \"#ed7953\"], [0.7777777777777778, \"#fb9f3a\"], [0.8888888888888888, \"#fdca26\"], [1.0, \"#f0f921\"]], \"type\": \"heatmapgl\"}], \"histogram\": [{\"marker\": {\"colorbar\": {\"outlinewidth\": 0, \"ticks\": \"\"}}, \"type\": \"histogram\"}], \"histogram2d\": [{\"colorbar\": {\"outlinewidth\": 0, \"ticks\": \"\"}, \"colorscale\": [[0.0, \"#0d0887\"], [0.1111111111111111, \"#46039f\"], [0.2222222222222222, \"#7201a8\"], [0.3333333333333333, \"#9c179e\"], [0.4444444444444444, \"#bd3786\"], [0.5555555555555556, \"#d8576b\"], [0.6666666666666666, \"#ed7953\"], [0.7777777777777778, \"#fb9f3a\"], [0.8888888888888888, \"#fdca26\"], [1.0, \"#f0f921\"]], \"type\": \"histogram2d\"}], \"histogram2dcontour\": [{\"colorbar\": {\"outlinewidth\": 0, \"ticks\": \"\"}, \"colorscale\": [[0.0, \"#0d0887\"], [0.1111111111111111, \"#46039f\"], [0.2222222222222222, \"#7201a8\"], [0.3333333333333333, \"#9c179e\"], [0.4444444444444444, \"#bd3786\"], [0.5555555555555556, \"#d8576b\"], [0.6666666666666666, \"#ed7953\"], [0.7777777777777778, \"#fb9f3a\"], [0.8888888888888888, \"#fdca26\"], [1.0, \"#f0f921\"]], \"type\": \"histogram2dcontour\"}], \"mesh3d\": [{\"colorbar\": {\"outlinewidth\": 0, \"ticks\": \"\"}, \"type\": \"mesh3d\"}], \"parcoords\": [{\"line\": {\"colorbar\": {\"outlinewidth\": 0, \"ticks\": \"\"}}, \"type\": \"parcoords\"}], \"pie\": [{\"automargin\": true, \"type\": \"pie\"}], \"scatter\": [{\"marker\": {\"colorbar\": {\"outlinewidth\": 0, \"ticks\": \"\"}}, \"type\": \"scatter\"}], \"scatter3d\": [{\"line\": {\"colorbar\": {\"outlinewidth\": 0, \"ticks\": \"\"}}, \"marker\": {\"colorbar\": {\"outlinewidth\": 0, \"ticks\": \"\"}}, \"type\": \"scatter3d\"}], \"scattercarpet\": [{\"marker\": {\"colorbar\": {\"outlinewidth\": 0, \"ticks\": \"\"}}, \"type\": \"scattercarpet\"}], \"scattergeo\": [{\"marker\": {\"colorbar\": {\"outlinewidth\": 0, \"ticks\": \"\"}}, \"type\": \"scattergeo\"}], \"scattergl\": [{\"marker\": {\"colorbar\": {\"outlinewidth\": 0, \"ticks\": \"\"}}, \"type\": \"scattergl\"}], \"scattermapbox\": [{\"marker\": {\"colorbar\": {\"outlinewidth\": 0, \"ticks\": \"\"}}, \"type\": \"scattermapbox\"}], \"scatterpolar\": [{\"marker\": {\"colorbar\": {\"outlinewidth\": 0, \"ticks\": \"\"}}, \"type\": \"scatterpolar\"}], \"scatterpolargl\": [{\"marker\": {\"colorbar\": {\"outlinewidth\": 0, \"ticks\": \"\"}}, \"type\": \"scatterpolargl\"}], \"scatterternary\": [{\"marker\": {\"colorbar\": {\"outlinewidth\": 0, \"ticks\": \"\"}}, \"type\": \"scatterternary\"}], \"surface\": [{\"colorbar\": {\"outlinewidth\": 0, \"ticks\": \"\"}, \"colorscale\": [[0.0, \"#0d0887\"], [0.1111111111111111, \"#46039f\"], [0.2222222222222222, \"#7201a8\"], [0.3333333333333333, \"#9c179e\"], [0.4444444444444444, \"#bd3786\"], [0.5555555555555556, \"#d8576b\"], [0.6666666666666666, \"#ed7953\"], [0.7777777777777778, \"#fb9f3a\"], [0.8888888888888888, \"#fdca26\"], [1.0, \"#f0f921\"]], \"type\": \"surface\"}], \"table\": [{\"cells\": {\"fill\": {\"color\": \"#EBF0F8\"}, \"line\": {\"color\": \"white\"}}, \"header\": {\"fill\": {\"color\": \"#C8D4E3\"}, \"line\": {\"color\": \"white\"}}, \"type\": \"table\"}]}, \"layout\": {\"annotationdefaults\": {\"arrowcolor\": \"#2a3f5f\", \"arrowhead\": 0, \"arrowwidth\": 1}, \"coloraxis\": {\"colorbar\": {\"outlinewidth\": 0, \"ticks\": \"\"}}, \"colorscale\": {\"diverging\": [[0, \"#8e0152\"], [0.1, \"#c51b7d\"], [0.2, \"#de77ae\"], [0.3, \"#f1b6da\"], [0.4, \"#fde0ef\"], [0.5, \"#f7f7f7\"], [0.6, \"#e6f5d0\"], [0.7, \"#b8e186\"], [0.8, \"#7fbc41\"], [0.9, \"#4d9221\"], [1, \"#276419\"]], \"sequential\": [[0.0, \"#0d0887\"], [0.1111111111111111, \"#46039f\"], [0.2222222222222222, \"#7201a8\"], [0.3333333333333333, \"#9c179e\"], [0.4444444444444444, \"#bd3786\"], [0.5555555555555556, \"#d8576b\"], [0.6666666666666666, \"#ed7953\"], [0.7777777777777778, \"#fb9f3a\"], [0.8888888888888888, \"#fdca26\"], [1.0, \"#f0f921\"]], \"sequentialminus\": [[0.0, \"#0d0887\"], [0.1111111111111111, \"#46039f\"], [0.2222222222222222, \"#7201a8\"], [0.3333333333333333, \"#9c179e\"], [0.4444444444444444, \"#bd3786\"], [0.5555555555555556, \"#d8576b\"], [0.6666666666666666, \"#ed7953\"], [0.7777777777777778, \"#fb9f3a\"], [0.8888888888888888, \"#fdca26\"], [1.0, \"#f0f921\"]]}, \"colorway\": [\"#636efa\", \"#EF553B\", \"#00cc96\", \"#ab63fa\", \"#FFA15A\", \"#19d3f3\", \"#FF6692\", \"#B6E880\", \"#FF97FF\", \"#FECB52\"], \"font\": {\"color\": \"#2a3f5f\"}, \"geo\": {\"bgcolor\": \"white\", \"lakecolor\": \"white\", \"landcolor\": \"#E5ECF6\", \"showlakes\": true, \"showland\": true, \"subunitcolor\": \"white\"}, \"hoverlabel\": {\"align\": \"left\"}, \"hovermode\": \"closest\", \"mapbox\": {\"style\": \"light\"}, \"paper_bgcolor\": \"white\", \"plot_bgcolor\": \"#E5ECF6\", \"polar\": {\"angularaxis\": {\"gridcolor\": \"white\", \"linecolor\": \"white\", \"ticks\": \"\"}, \"bgcolor\": \"#E5ECF6\", \"radialaxis\": {\"gridcolor\": \"white\", \"linecolor\": \"white\", \"ticks\": \"\"}}, \"scene\": {\"xaxis\": {\"backgroundcolor\": \"#E5ECF6\", \"gridcolor\": \"white\", \"gridwidth\": 2, \"linecolor\": \"white\", \"showbackground\": true, \"ticks\": \"\", \"zerolinecolor\": \"white\"}, \"yaxis\": {\"backgroundcolor\": \"#E5ECF6\", \"gridcolor\": \"white\", \"gridwidth\": 2, \"linecolor\": \"white\", \"showbackground\": true, \"ticks\": \"\", \"zerolinecolor\": \"white\"}, \"zaxis\": {\"backgroundcolor\": \"#E5ECF6\", \"gridcolor\": \"white\", \"gridwidth\": 2, \"linecolor\": \"white\", \"showbackground\": true, \"ticks\": \"\", \"zerolinecolor\": \"white\"}}, \"shapedefaults\": {\"line\": {\"color\": \"#2a3f5f\"}}, \"ternary\": {\"aaxis\": {\"gridcolor\": \"white\", \"linecolor\": \"white\", \"ticks\": \"\"}, \"baxis\": {\"gridcolor\": \"white\", \"linecolor\": \"white\", \"ticks\": \"\"}, \"bgcolor\": \"#E5ECF6\", \"caxis\": {\"gridcolor\": \"white\", \"linecolor\": \"white\", \"ticks\": \"\"}}, \"title\": {\"x\": 0.05}, \"xaxis\": {\"automargin\": true, \"gridcolor\": \"white\", \"linecolor\": \"white\", \"ticks\": \"\", \"title\": {\"standoff\": 15}, \"zerolinecolor\": \"white\", \"zerolinewidth\": 2}, \"yaxis\": {\"automargin\": true, \"gridcolor\": \"white\", \"linecolor\": \"white\", \"ticks\": \"\", \"title\": {\"standoff\": 15}, \"zerolinecolor\": \"white\", \"zerolinewidth\": 2}}}, \"title\": {\"text\": \"Prime-age employment rate by disability status\"}, \"xaxis\": {\"anchor\": \"y\", \"domain\": [0.0, 1.0], \"title\": {\"text\": \"\"}}, \"yaxis\": {\"anchor\": \"x\", \"domain\": [0.0, 1.0], \"ticksuffix\": \"%\", \"title\": {\"text\": \"Employment rate of civilians aged 25 to 54\"}}},\n",
       "                        {\"responsive\": true}\n",
       "                    ).then(function(){\n",
       "                            \n",
       "var gd = document.getElementById('0d33ccd2-260a-49ee-a587-4c0e4879ee1d');\n",
       "var x = new MutationObserver(function (mutations, observer) {{\n",
       "        var display = window.getComputedStyle(gd).display;\n",
       "        if (!display || display === 'none') {{\n",
       "            console.log([gd, 'removed!']);\n",
       "            Plotly.purge(gd);\n",
       "            observer.disconnect();\n",
       "        }}\n",
       "}});\n",
       "\n",
       "// Listen for the removal of the full notebook cells\n",
       "var notebookContainer = gd.closest('#notebook-container');\n",
       "if (notebookContainer) {{\n",
       "    x.observe(notebookContainer, {childList: true});\n",
       "}}\n",
       "\n",
       "// Listen for the clearing of the current output cell\n",
       "var outputEl = gd.closest('.output');\n",
       "if (outputEl) {{\n",
       "    x.observe(outputEl, {childList: true});\n",
       "}}\n",
       "\n",
       "                        })\n",
       "                };\n",
       "                });\n",
       "            </script>\n",
       "        </div>"
      ]
     },
     "metadata": {},
     "output_type": "display_data"
    }
   ],
   "source": [
    "line_graph(disability_emp, x='date', y='emp_rate_round', color='disability',\n",
    "           title='Prime-age employment rate by disability status',\n",
    "           yaxis_title='Employment rate of civilians aged 25 to 54')"
   ]
  },
  {
   "cell_type": "markdown",
   "metadata": {},
   "source": [
    "Breaking out the trends by both race and disability status reveals that\n",
    "the racial employment gap among people without disabilities has been steady around 3 percentage points since 2017, but\n",
    "has roughly doubled since coronavirus.\n",
    "The racial employment gap among people with disabilities has been noisy at around 10 points,\n",
    "and does not appear to have changed significantly as a result of coronavirus."
   ]
  },
  {
   "cell_type": "code",
   "execution_count": 154,
   "metadata": {
    "tags": [
     "hide-input"
    ]
   },
   "outputs": [
    {
     "data": {
      "application/vnd.plotly.v1+json": {
       "config": {
        "plotlyServerURL": "https://plot.ly"
       },
       "data": [
        {
         "legendgroup": "Black, Has disability",
         "line": {
          "color": "#6A1B9A",
          "dash": "solid"
         },
         "mode": "markers+lines",
         "name": "Black, Has disability",
         "orientation": "v",
         "showlegend": true,
         "type": "scatter",
         "x": [
          "2017-01-12T00:00:00",
          "2017-02-12T00:00:00",
          "2017-03-12T00:00:00",
          "2017-04-12T00:00:00",
          "2017-05-12T00:00:00",
          "2017-06-12T00:00:00",
          "2017-07-12T00:00:00",
          "2017-08-12T00:00:00",
          "2017-09-12T00:00:00",
          "2017-10-12T00:00:00",
          "2017-11-12T00:00:00",
          "2017-12-12T00:00:00",
          "2018-01-12T00:00:00",
          "2018-02-12T00:00:00",
          "2018-03-12T00:00:00",
          "2018-04-12T00:00:00",
          "2018-05-12T00:00:00",
          "2018-06-12T00:00:00",
          "2018-07-12T00:00:00",
          "2018-08-12T00:00:00",
          "2018-09-12T00:00:00",
          "2018-10-12T00:00:00",
          "2018-11-12T00:00:00",
          "2018-12-12T00:00:00",
          "2019-01-12T00:00:00",
          "2019-02-12T00:00:00",
          "2019-03-12T00:00:00",
          "2019-04-12T00:00:00",
          "2019-05-12T00:00:00",
          "2019-06-12T00:00:00",
          "2019-07-12T00:00:00",
          "2019-08-12T00:00:00",
          "2019-09-12T00:00:00",
          "2019-10-12T00:00:00",
          "2019-11-12T00:00:00",
          "2019-12-12T00:00:00",
          "2020-01-12T00:00:00",
          "2020-02-12T00:00:00",
          "2020-03-12T00:00:00",
          "2020-04-12T00:00:00",
          "2020-05-12T00:00:00"
         ],
         "xaxis": "x",
         "y": [
          23.8,
          23.4,
          23.5,
          23.4,
          26.9,
          26.4,
          29.1,
          28.3,
          27.5,
          26.3,
          21.8,
          22,
          22.3,
          23.8,
          28.2,
          29.4,
          29.4,
          30.5,
          30.5,
          33.8,
          37.9,
          35.6,
          32.3,
          29,
          26.4,
          24.9,
          27.7,
          26.5,
          24.4,
          24.9,
          28.8,
          32.5,
          32.7,
          30,
          31.4,
          25.8,
          27.2,
          27.1,
          28.9,
          22,
          23.6
         ],
         "yaxis": "y"
        },
        {
         "legendgroup": "Black, No disability",
         "line": {
          "color": "#64B5F6",
          "dash": "solid"
         },
         "mode": "markers+lines",
         "name": "Black, No disability",
         "orientation": "v",
         "showlegend": true,
         "type": "scatter",
         "x": [
          "2017-01-12T00:00:00",
          "2017-02-12T00:00:00",
          "2017-03-12T00:00:00",
          "2017-04-12T00:00:00",
          "2017-05-12T00:00:00",
          "2017-06-12T00:00:00",
          "2017-07-12T00:00:00",
          "2017-08-12T00:00:00",
          "2017-09-12T00:00:00",
          "2017-10-12T00:00:00",
          "2017-11-12T00:00:00",
          "2017-12-12T00:00:00",
          "2018-01-12T00:00:00",
          "2018-02-12T00:00:00",
          "2018-03-12T00:00:00",
          "2018-04-12T00:00:00",
          "2018-05-12T00:00:00",
          "2018-06-12T00:00:00",
          "2018-07-12T00:00:00",
          "2018-08-12T00:00:00",
          "2018-09-12T00:00:00",
          "2018-10-12T00:00:00",
          "2018-11-12T00:00:00",
          "2018-12-12T00:00:00",
          "2019-01-12T00:00:00",
          "2019-02-12T00:00:00",
          "2019-03-12T00:00:00",
          "2019-04-12T00:00:00",
          "2019-05-12T00:00:00",
          "2019-06-12T00:00:00",
          "2019-07-12T00:00:00",
          "2019-08-12T00:00:00",
          "2019-09-12T00:00:00",
          "2019-10-12T00:00:00",
          "2019-11-12T00:00:00",
          "2019-12-12T00:00:00",
          "2020-01-12T00:00:00",
          "2020-02-12T00:00:00",
          "2020-03-12T00:00:00",
          "2020-04-12T00:00:00",
          "2020-05-12T00:00:00"
         ],
         "xaxis": "x",
         "y": [
          78.1,
          77.8,
          77.6,
          79.4,
          78.8,
          79.4,
          79.2,
          77.9,
          79.8,
          78.7,
          79.6,
          80.3,
          78,
          79.3,
          79.3,
          79.3,
          80.2,
          79.9,
          79.4,
          79.5,
          80.1,
          80.5,
          80.2,
          79.4,
          79.3,
          79.5,
          79.5,
          80.5,
          81.3,
          80.1,
          79.7,
          79.9,
          81.2,
          81.7,
          81,
          81.3,
          79,
          79.3,
          78.7,
          67.5,
          68.7
         ],
         "yaxis": "y"
        },
        {
         "legendgroup": "Not Black, Has disability",
         "line": {
          "color": "#EF9A9A",
          "dash": "solid"
         },
         "mode": "markers+lines",
         "name": "Not Black, Has disability",
         "orientation": "v",
         "showlegend": true,
         "type": "scatter",
         "x": [
          "2017-01-12T00:00:00",
          "2017-02-12T00:00:00",
          "2017-03-12T00:00:00",
          "2017-04-12T00:00:00",
          "2017-05-12T00:00:00",
          "2017-06-12T00:00:00",
          "2017-07-12T00:00:00",
          "2017-08-12T00:00:00",
          "2017-09-12T00:00:00",
          "2017-10-12T00:00:00",
          "2017-11-12T00:00:00",
          "2017-12-12T00:00:00",
          "2018-01-12T00:00:00",
          "2018-02-12T00:00:00",
          "2018-03-12T00:00:00",
          "2018-04-12T00:00:00",
          "2018-05-12T00:00:00",
          "2018-06-12T00:00:00",
          "2018-07-12T00:00:00",
          "2018-08-12T00:00:00",
          "2018-09-12T00:00:00",
          "2018-10-12T00:00:00",
          "2018-11-12T00:00:00",
          "2018-12-12T00:00:00",
          "2019-01-12T00:00:00",
          "2019-02-12T00:00:00",
          "2019-03-12T00:00:00",
          "2019-04-12T00:00:00",
          "2019-05-12T00:00:00",
          "2019-06-12T00:00:00",
          "2019-07-12T00:00:00",
          "2019-08-12T00:00:00",
          "2019-09-12T00:00:00",
          "2019-10-12T00:00:00",
          "2019-11-12T00:00:00",
          "2019-12-12T00:00:00",
          "2020-01-12T00:00:00",
          "2020-02-12T00:00:00",
          "2020-03-12T00:00:00",
          "2020-04-12T00:00:00",
          "2020-05-12T00:00:00"
         ],
         "xaxis": "x",
         "y": [
          31.9,
          33.3,
          34.4,
          34,
          36.3,
          36.5,
          36,
          34.9,
          36.7,
          36.8,
          37.4,
          38.8,
          37,
          39,
          39.1,
          39,
          38.2,
          36.7,
          35.9,
          36.2,
          36.6,
          38.2,
          38.9,
          38.9,
          37.9,
          38.6,
          39.4,
          38.6,
          39.6,
          38.2,
          37.6,
          39.9,
          38.9,
          38.1,
          39.6,
          39.6,
          40.5,
          39.5,
          39.5,
          33.4,
          34.5
         ],
         "yaxis": "y"
        },
        {
         "legendgroup": "Not Black, No disability",
         "line": {
          "color": "#BDBDBD",
          "dash": "solid"
         },
         "mode": "markers+lines",
         "name": "Not Black, No disability",
         "orientation": "v",
         "showlegend": true,
         "type": "scatter",
         "x": [
          "2017-01-12T00:00:00",
          "2017-02-12T00:00:00",
          "2017-03-12T00:00:00",
          "2017-04-12T00:00:00",
          "2017-05-12T00:00:00",
          "2017-06-12T00:00:00",
          "2017-07-12T00:00:00",
          "2017-08-12T00:00:00",
          "2017-09-12T00:00:00",
          "2017-10-12T00:00:00",
          "2017-11-12T00:00:00",
          "2017-12-12T00:00:00",
          "2018-01-12T00:00:00",
          "2018-02-12T00:00:00",
          "2018-03-12T00:00:00",
          "2018-04-12T00:00:00",
          "2018-05-12T00:00:00",
          "2018-06-12T00:00:00",
          "2018-07-12T00:00:00",
          "2018-08-12T00:00:00",
          "2018-09-12T00:00:00",
          "2018-10-12T00:00:00",
          "2018-11-12T00:00:00",
          "2018-12-12T00:00:00",
          "2019-01-12T00:00:00",
          "2019-02-12T00:00:00",
          "2019-03-12T00:00:00",
          "2019-04-12T00:00:00",
          "2019-05-12T00:00:00",
          "2019-06-12T00:00:00",
          "2019-07-12T00:00:00",
          "2019-08-12T00:00:00",
          "2019-09-12T00:00:00",
          "2019-10-12T00:00:00",
          "2019-11-12T00:00:00",
          "2019-12-12T00:00:00",
          "2020-01-12T00:00:00",
          "2020-02-12T00:00:00",
          "2020-03-12T00:00:00",
          "2020-04-12T00:00:00",
          "2020-05-12T00:00:00"
         ],
         "xaxis": "x",
         "y": [
          81.2,
          81.7,
          82.1,
          82.6,
          82.4,
          81.9,
          81.9,
          81.6,
          82.5,
          82.5,
          82.6,
          82.1,
          81.8,
          82.3,
          82.4,
          82.8,
          82.9,
          82.5,
          82.6,
          82.3,
          83,
          83.3,
          83.5,
          83.2,
          82.7,
          83.1,
          82.8,
          83,
          83.2,
          82.8,
          82.3,
          82.9,
          83.7,
          83.9,
          84.2,
          84.1,
          83.6,
          83.6,
          82.5,
          72.6,
          74.6
         ],
         "yaxis": "y"
        }
       ],
       "layout": {
        "font": {
         "family": "Roboto"
        },
        "hovermode": "x",
        "legend": {
         "title": {
          "text": ""
         },
         "tracegroupgap": 0
        },
        "margin": {
         "t": 60
        },
        "plot_bgcolor": "white",
        "template": {
         "data": {
          "bar": [
           {
            "error_x": {
             "color": "#2a3f5f"
            },
            "error_y": {
             "color": "#2a3f5f"
            },
            "marker": {
             "line": {
              "color": "#E5ECF6",
              "width": 0.5
             }
            },
            "type": "bar"
           }
          ],
          "barpolar": [
           {
            "marker": {
             "line": {
              "color": "#E5ECF6",
              "width": 0.5
             }
            },
            "type": "barpolar"
           }
          ],
          "carpet": [
           {
            "aaxis": {
             "endlinecolor": "#2a3f5f",
             "gridcolor": "white",
             "linecolor": "white",
             "minorgridcolor": "white",
             "startlinecolor": "#2a3f5f"
            },
            "baxis": {
             "endlinecolor": "#2a3f5f",
             "gridcolor": "white",
             "linecolor": "white",
             "minorgridcolor": "white",
             "startlinecolor": "#2a3f5f"
            },
            "type": "carpet"
           }
          ],
          "choropleth": [
           {
            "colorbar": {
             "outlinewidth": 0,
             "ticks": ""
            },
            "type": "choropleth"
           }
          ],
          "contour": [
           {
            "colorbar": {
             "outlinewidth": 0,
             "ticks": ""
            },
            "colorscale": [
             [
              0,
              "#0d0887"
             ],
             [
              0.1111111111111111,
              "#46039f"
             ],
             [
              0.2222222222222222,
              "#7201a8"
             ],
             [
              0.3333333333333333,
              "#9c179e"
             ],
             [
              0.4444444444444444,
              "#bd3786"
             ],
             [
              0.5555555555555556,
              "#d8576b"
             ],
             [
              0.6666666666666666,
              "#ed7953"
             ],
             [
              0.7777777777777778,
              "#fb9f3a"
             ],
             [
              0.8888888888888888,
              "#fdca26"
             ],
             [
              1,
              "#f0f921"
             ]
            ],
            "type": "contour"
           }
          ],
          "contourcarpet": [
           {
            "colorbar": {
             "outlinewidth": 0,
             "ticks": ""
            },
            "type": "contourcarpet"
           }
          ],
          "heatmap": [
           {
            "colorbar": {
             "outlinewidth": 0,
             "ticks": ""
            },
            "colorscale": [
             [
              0,
              "#0d0887"
             ],
             [
              0.1111111111111111,
              "#46039f"
             ],
             [
              0.2222222222222222,
              "#7201a8"
             ],
             [
              0.3333333333333333,
              "#9c179e"
             ],
             [
              0.4444444444444444,
              "#bd3786"
             ],
             [
              0.5555555555555556,
              "#d8576b"
             ],
             [
              0.6666666666666666,
              "#ed7953"
             ],
             [
              0.7777777777777778,
              "#fb9f3a"
             ],
             [
              0.8888888888888888,
              "#fdca26"
             ],
             [
              1,
              "#f0f921"
             ]
            ],
            "type": "heatmap"
           }
          ],
          "heatmapgl": [
           {
            "colorbar": {
             "outlinewidth": 0,
             "ticks": ""
            },
            "colorscale": [
             [
              0,
              "#0d0887"
             ],
             [
              0.1111111111111111,
              "#46039f"
             ],
             [
              0.2222222222222222,
              "#7201a8"
             ],
             [
              0.3333333333333333,
              "#9c179e"
             ],
             [
              0.4444444444444444,
              "#bd3786"
             ],
             [
              0.5555555555555556,
              "#d8576b"
             ],
             [
              0.6666666666666666,
              "#ed7953"
             ],
             [
              0.7777777777777778,
              "#fb9f3a"
             ],
             [
              0.8888888888888888,
              "#fdca26"
             ],
             [
              1,
              "#f0f921"
             ]
            ],
            "type": "heatmapgl"
           }
          ],
          "histogram": [
           {
            "marker": {
             "colorbar": {
              "outlinewidth": 0,
              "ticks": ""
             }
            },
            "type": "histogram"
           }
          ],
          "histogram2d": [
           {
            "colorbar": {
             "outlinewidth": 0,
             "ticks": ""
            },
            "colorscale": [
             [
              0,
              "#0d0887"
             ],
             [
              0.1111111111111111,
              "#46039f"
             ],
             [
              0.2222222222222222,
              "#7201a8"
             ],
             [
              0.3333333333333333,
              "#9c179e"
             ],
             [
              0.4444444444444444,
              "#bd3786"
             ],
             [
              0.5555555555555556,
              "#d8576b"
             ],
             [
              0.6666666666666666,
              "#ed7953"
             ],
             [
              0.7777777777777778,
              "#fb9f3a"
             ],
             [
              0.8888888888888888,
              "#fdca26"
             ],
             [
              1,
              "#f0f921"
             ]
            ],
            "type": "histogram2d"
           }
          ],
          "histogram2dcontour": [
           {
            "colorbar": {
             "outlinewidth": 0,
             "ticks": ""
            },
            "colorscale": [
             [
              0,
              "#0d0887"
             ],
             [
              0.1111111111111111,
              "#46039f"
             ],
             [
              0.2222222222222222,
              "#7201a8"
             ],
             [
              0.3333333333333333,
              "#9c179e"
             ],
             [
              0.4444444444444444,
              "#bd3786"
             ],
             [
              0.5555555555555556,
              "#d8576b"
             ],
             [
              0.6666666666666666,
              "#ed7953"
             ],
             [
              0.7777777777777778,
              "#fb9f3a"
             ],
             [
              0.8888888888888888,
              "#fdca26"
             ],
             [
              1,
              "#f0f921"
             ]
            ],
            "type": "histogram2dcontour"
           }
          ],
          "mesh3d": [
           {
            "colorbar": {
             "outlinewidth": 0,
             "ticks": ""
            },
            "type": "mesh3d"
           }
          ],
          "parcoords": [
           {
            "line": {
             "colorbar": {
              "outlinewidth": 0,
              "ticks": ""
             }
            },
            "type": "parcoords"
           }
          ],
          "pie": [
           {
            "automargin": true,
            "type": "pie"
           }
          ],
          "scatter": [
           {
            "marker": {
             "colorbar": {
              "outlinewidth": 0,
              "ticks": ""
             }
            },
            "type": "scatter"
           }
          ],
          "scatter3d": [
           {
            "line": {
             "colorbar": {
              "outlinewidth": 0,
              "ticks": ""
             }
            },
            "marker": {
             "colorbar": {
              "outlinewidth": 0,
              "ticks": ""
             }
            },
            "type": "scatter3d"
           }
          ],
          "scattercarpet": [
           {
            "marker": {
             "colorbar": {
              "outlinewidth": 0,
              "ticks": ""
             }
            },
            "type": "scattercarpet"
           }
          ],
          "scattergeo": [
           {
            "marker": {
             "colorbar": {
              "outlinewidth": 0,
              "ticks": ""
             }
            },
            "type": "scattergeo"
           }
          ],
          "scattergl": [
           {
            "marker": {
             "colorbar": {
              "outlinewidth": 0,
              "ticks": ""
             }
            },
            "type": "scattergl"
           }
          ],
          "scattermapbox": [
           {
            "marker": {
             "colorbar": {
              "outlinewidth": 0,
              "ticks": ""
             }
            },
            "type": "scattermapbox"
           }
          ],
          "scatterpolar": [
           {
            "marker": {
             "colorbar": {
              "outlinewidth": 0,
              "ticks": ""
             }
            },
            "type": "scatterpolar"
           }
          ],
          "scatterpolargl": [
           {
            "marker": {
             "colorbar": {
              "outlinewidth": 0,
              "ticks": ""
             }
            },
            "type": "scatterpolargl"
           }
          ],
          "scatterternary": [
           {
            "marker": {
             "colorbar": {
              "outlinewidth": 0,
              "ticks": ""
             }
            },
            "type": "scatterternary"
           }
          ],
          "surface": [
           {
            "colorbar": {
             "outlinewidth": 0,
             "ticks": ""
            },
            "colorscale": [
             [
              0,
              "#0d0887"
             ],
             [
              0.1111111111111111,
              "#46039f"
             ],
             [
              0.2222222222222222,
              "#7201a8"
             ],
             [
              0.3333333333333333,
              "#9c179e"
             ],
             [
              0.4444444444444444,
              "#bd3786"
             ],
             [
              0.5555555555555556,
              "#d8576b"
             ],
             [
              0.6666666666666666,
              "#ed7953"
             ],
             [
              0.7777777777777778,
              "#fb9f3a"
             ],
             [
              0.8888888888888888,
              "#fdca26"
             ],
             [
              1,
              "#f0f921"
             ]
            ],
            "type": "surface"
           }
          ],
          "table": [
           {
            "cells": {
             "fill": {
              "color": "#EBF0F8"
             },
             "line": {
              "color": "white"
             }
            },
            "header": {
             "fill": {
              "color": "#C8D4E3"
             },
             "line": {
              "color": "white"
             }
            },
            "type": "table"
           }
          ]
         },
         "layout": {
          "annotationdefaults": {
           "arrowcolor": "#2a3f5f",
           "arrowhead": 0,
           "arrowwidth": 1
          },
          "coloraxis": {
           "colorbar": {
            "outlinewidth": 0,
            "ticks": ""
           }
          },
          "colorscale": {
           "diverging": [
            [
             0,
             "#8e0152"
            ],
            [
             0.1,
             "#c51b7d"
            ],
            [
             0.2,
             "#de77ae"
            ],
            [
             0.3,
             "#f1b6da"
            ],
            [
             0.4,
             "#fde0ef"
            ],
            [
             0.5,
             "#f7f7f7"
            ],
            [
             0.6,
             "#e6f5d0"
            ],
            [
             0.7,
             "#b8e186"
            ],
            [
             0.8,
             "#7fbc41"
            ],
            [
             0.9,
             "#4d9221"
            ],
            [
             1,
             "#276419"
            ]
           ],
           "sequential": [
            [
             0,
             "#0d0887"
            ],
            [
             0.1111111111111111,
             "#46039f"
            ],
            [
             0.2222222222222222,
             "#7201a8"
            ],
            [
             0.3333333333333333,
             "#9c179e"
            ],
            [
             0.4444444444444444,
             "#bd3786"
            ],
            [
             0.5555555555555556,
             "#d8576b"
            ],
            [
             0.6666666666666666,
             "#ed7953"
            ],
            [
             0.7777777777777778,
             "#fb9f3a"
            ],
            [
             0.8888888888888888,
             "#fdca26"
            ],
            [
             1,
             "#f0f921"
            ]
           ],
           "sequentialminus": [
            [
             0,
             "#0d0887"
            ],
            [
             0.1111111111111111,
             "#46039f"
            ],
            [
             0.2222222222222222,
             "#7201a8"
            ],
            [
             0.3333333333333333,
             "#9c179e"
            ],
            [
             0.4444444444444444,
             "#bd3786"
            ],
            [
             0.5555555555555556,
             "#d8576b"
            ],
            [
             0.6666666666666666,
             "#ed7953"
            ],
            [
             0.7777777777777778,
             "#fb9f3a"
            ],
            [
             0.8888888888888888,
             "#fdca26"
            ],
            [
             1,
             "#f0f921"
            ]
           ]
          },
          "colorway": [
           "#636efa",
           "#EF553B",
           "#00cc96",
           "#ab63fa",
           "#FFA15A",
           "#19d3f3",
           "#FF6692",
           "#B6E880",
           "#FF97FF",
           "#FECB52"
          ],
          "font": {
           "color": "#2a3f5f"
          },
          "geo": {
           "bgcolor": "white",
           "lakecolor": "white",
           "landcolor": "#E5ECF6",
           "showlakes": true,
           "showland": true,
           "subunitcolor": "white"
          },
          "hoverlabel": {
           "align": "left"
          },
          "hovermode": "closest",
          "mapbox": {
           "style": "light"
          },
          "paper_bgcolor": "white",
          "plot_bgcolor": "#E5ECF6",
          "polar": {
           "angularaxis": {
            "gridcolor": "white",
            "linecolor": "white",
            "ticks": ""
           },
           "bgcolor": "#E5ECF6",
           "radialaxis": {
            "gridcolor": "white",
            "linecolor": "white",
            "ticks": ""
           }
          },
          "scene": {
           "xaxis": {
            "backgroundcolor": "#E5ECF6",
            "gridcolor": "white",
            "gridwidth": 2,
            "linecolor": "white",
            "showbackground": true,
            "ticks": "",
            "zerolinecolor": "white"
           },
           "yaxis": {
            "backgroundcolor": "#E5ECF6",
            "gridcolor": "white",
            "gridwidth": 2,
            "linecolor": "white",
            "showbackground": true,
            "ticks": "",
            "zerolinecolor": "white"
           },
           "zaxis": {
            "backgroundcolor": "#E5ECF6",
            "gridcolor": "white",
            "gridwidth": 2,
            "linecolor": "white",
            "showbackground": true,
            "ticks": "",
            "zerolinecolor": "white"
           }
          },
          "shapedefaults": {
           "line": {
            "color": "#2a3f5f"
           }
          },
          "ternary": {
           "aaxis": {
            "gridcolor": "white",
            "linecolor": "white",
            "ticks": ""
           },
           "baxis": {
            "gridcolor": "white",
            "linecolor": "white",
            "ticks": ""
           },
           "bgcolor": "#E5ECF6",
           "caxis": {
            "gridcolor": "white",
            "linecolor": "white",
            "ticks": ""
           }
          },
          "title": {
           "x": 0.05
          },
          "xaxis": {
           "automargin": true,
           "gridcolor": "white",
           "linecolor": "white",
           "ticks": "",
           "title": {
            "standoff": 15
           },
           "zerolinecolor": "white",
           "zerolinewidth": 2
          },
          "yaxis": {
           "automargin": true,
           "gridcolor": "white",
           "linecolor": "white",
           "ticks": "",
           "title": {
            "standoff": 15
           },
           "zerolinecolor": "white",
           "zerolinewidth": 2
          }
         }
        },
        "title": {
         "text": "Prime-age employment rate by race and disability status"
        },
        "xaxis": {
         "anchor": "y",
         "domain": [
          0,
          1
         ],
         "title": {
          "text": ""
         }
        },
        "yaxis": {
         "anchor": "x",
         "domain": [
          0,
          1
         ],
         "ticksuffix": "%",
         "title": {
          "text": "Employment rate of civilians aged 25 to 54"
         }
        }
       }
      },
      "text/html": [
       "<div>\n",
       "        \n",
       "        \n",
       "            <div id=\"681b6f5a-6654-492a-a8c4-268ec3b343c4\" class=\"plotly-graph-div\" style=\"height:525px; width:100%;\"></div>\n",
       "            <script type=\"text/javascript\">\n",
       "                require([\"plotly\"], function(Plotly) {\n",
       "                    window.PLOTLYENV=window.PLOTLYENV || {};\n",
       "                    \n",
       "                if (document.getElementById(\"681b6f5a-6654-492a-a8c4-268ec3b343c4\")) {\n",
       "                    Plotly.newPlot(\n",
       "                        '681b6f5a-6654-492a-a8c4-268ec3b343c4',\n",
       "                        [{\"legendgroup\": \"Black, Has disability\", \"line\": {\"color\": \"#6A1B9A\", \"dash\": \"solid\"}, \"mode\": \"markers+lines\", \"name\": \"Black, Has disability\", \"orientation\": \"v\", \"showlegend\": true, \"type\": \"scatter\", \"x\": [\"2017-01-12T00:00:00\", \"2017-02-12T00:00:00\", \"2017-03-12T00:00:00\", \"2017-04-12T00:00:00\", \"2017-05-12T00:00:00\", \"2017-06-12T00:00:00\", \"2017-07-12T00:00:00\", \"2017-08-12T00:00:00\", \"2017-09-12T00:00:00\", \"2017-10-12T00:00:00\", \"2017-11-12T00:00:00\", \"2017-12-12T00:00:00\", \"2018-01-12T00:00:00\", \"2018-02-12T00:00:00\", \"2018-03-12T00:00:00\", \"2018-04-12T00:00:00\", \"2018-05-12T00:00:00\", \"2018-06-12T00:00:00\", \"2018-07-12T00:00:00\", \"2018-08-12T00:00:00\", \"2018-09-12T00:00:00\", \"2018-10-12T00:00:00\", \"2018-11-12T00:00:00\", \"2018-12-12T00:00:00\", \"2019-01-12T00:00:00\", \"2019-02-12T00:00:00\", \"2019-03-12T00:00:00\", \"2019-04-12T00:00:00\", \"2019-05-12T00:00:00\", \"2019-06-12T00:00:00\", \"2019-07-12T00:00:00\", \"2019-08-12T00:00:00\", \"2019-09-12T00:00:00\", \"2019-10-12T00:00:00\", \"2019-11-12T00:00:00\", \"2019-12-12T00:00:00\", \"2020-01-12T00:00:00\", \"2020-02-12T00:00:00\", \"2020-03-12T00:00:00\", \"2020-04-12T00:00:00\", \"2020-05-12T00:00:00\"], \"xaxis\": \"x\", \"y\": [23.8, 23.4, 23.5, 23.4, 26.9, 26.4, 29.1, 28.3, 27.5, 26.3, 21.8, 22.0, 22.3, 23.8, 28.2, 29.4, 29.4, 30.5, 30.5, 33.8, 37.9, 35.6, 32.3, 29.0, 26.4, 24.9, 27.7, 26.5, 24.4, 24.9, 28.8, 32.5, 32.7, 30.0, 31.4, 25.8, 27.2, 27.1, 28.9, 22.0, 23.6], \"yaxis\": \"y\"}, {\"legendgroup\": \"Black, No disability\", \"line\": {\"color\": \"#64B5F6\", \"dash\": \"solid\"}, \"mode\": \"markers+lines\", \"name\": \"Black, No disability\", \"orientation\": \"v\", \"showlegend\": true, \"type\": \"scatter\", \"x\": [\"2017-01-12T00:00:00\", \"2017-02-12T00:00:00\", \"2017-03-12T00:00:00\", \"2017-04-12T00:00:00\", \"2017-05-12T00:00:00\", \"2017-06-12T00:00:00\", \"2017-07-12T00:00:00\", \"2017-08-12T00:00:00\", \"2017-09-12T00:00:00\", \"2017-10-12T00:00:00\", \"2017-11-12T00:00:00\", \"2017-12-12T00:00:00\", \"2018-01-12T00:00:00\", \"2018-02-12T00:00:00\", \"2018-03-12T00:00:00\", \"2018-04-12T00:00:00\", \"2018-05-12T00:00:00\", \"2018-06-12T00:00:00\", \"2018-07-12T00:00:00\", \"2018-08-12T00:00:00\", \"2018-09-12T00:00:00\", \"2018-10-12T00:00:00\", \"2018-11-12T00:00:00\", \"2018-12-12T00:00:00\", \"2019-01-12T00:00:00\", \"2019-02-12T00:00:00\", \"2019-03-12T00:00:00\", \"2019-04-12T00:00:00\", \"2019-05-12T00:00:00\", \"2019-06-12T00:00:00\", \"2019-07-12T00:00:00\", \"2019-08-12T00:00:00\", \"2019-09-12T00:00:00\", \"2019-10-12T00:00:00\", \"2019-11-12T00:00:00\", \"2019-12-12T00:00:00\", \"2020-01-12T00:00:00\", \"2020-02-12T00:00:00\", \"2020-03-12T00:00:00\", \"2020-04-12T00:00:00\", \"2020-05-12T00:00:00\"], \"xaxis\": \"x\", \"y\": [78.1, 77.8, 77.6, 79.4, 78.8, 79.4, 79.2, 77.9, 79.8, 78.7, 79.6, 80.3, 78.0, 79.3, 79.3, 79.3, 80.2, 79.9, 79.4, 79.5, 80.1, 80.5, 80.2, 79.4, 79.3, 79.5, 79.5, 80.5, 81.3, 80.1, 79.7, 79.9, 81.2, 81.7, 81.0, 81.3, 79.0, 79.3, 78.7, 67.5, 68.7], \"yaxis\": \"y\"}, {\"legendgroup\": \"Not Black, Has disability\", \"line\": {\"color\": \"#EF9A9A\", \"dash\": \"solid\"}, \"mode\": \"markers+lines\", \"name\": \"Not Black, Has disability\", \"orientation\": \"v\", \"showlegend\": true, \"type\": \"scatter\", \"x\": [\"2017-01-12T00:00:00\", \"2017-02-12T00:00:00\", \"2017-03-12T00:00:00\", \"2017-04-12T00:00:00\", \"2017-05-12T00:00:00\", \"2017-06-12T00:00:00\", \"2017-07-12T00:00:00\", \"2017-08-12T00:00:00\", \"2017-09-12T00:00:00\", \"2017-10-12T00:00:00\", \"2017-11-12T00:00:00\", \"2017-12-12T00:00:00\", \"2018-01-12T00:00:00\", \"2018-02-12T00:00:00\", \"2018-03-12T00:00:00\", \"2018-04-12T00:00:00\", \"2018-05-12T00:00:00\", \"2018-06-12T00:00:00\", \"2018-07-12T00:00:00\", \"2018-08-12T00:00:00\", \"2018-09-12T00:00:00\", \"2018-10-12T00:00:00\", \"2018-11-12T00:00:00\", \"2018-12-12T00:00:00\", \"2019-01-12T00:00:00\", \"2019-02-12T00:00:00\", \"2019-03-12T00:00:00\", \"2019-04-12T00:00:00\", \"2019-05-12T00:00:00\", \"2019-06-12T00:00:00\", \"2019-07-12T00:00:00\", \"2019-08-12T00:00:00\", \"2019-09-12T00:00:00\", \"2019-10-12T00:00:00\", \"2019-11-12T00:00:00\", \"2019-12-12T00:00:00\", \"2020-01-12T00:00:00\", \"2020-02-12T00:00:00\", \"2020-03-12T00:00:00\", \"2020-04-12T00:00:00\", \"2020-05-12T00:00:00\"], \"xaxis\": \"x\", \"y\": [31.9, 33.3, 34.4, 34.0, 36.3, 36.5, 36.0, 34.9, 36.7, 36.8, 37.4, 38.8, 37.0, 39.0, 39.1, 39.0, 38.2, 36.7, 35.9, 36.2, 36.6, 38.2, 38.9, 38.9, 37.9, 38.6, 39.4, 38.6, 39.6, 38.2, 37.6, 39.9, 38.9, 38.1, 39.6, 39.6, 40.5, 39.5, 39.5, 33.4, 34.5], \"yaxis\": \"y\"}, {\"legendgroup\": \"Not Black, No disability\", \"line\": {\"color\": \"#BDBDBD\", \"dash\": \"solid\"}, \"mode\": \"markers+lines\", \"name\": \"Not Black, No disability\", \"orientation\": \"v\", \"showlegend\": true, \"type\": \"scatter\", \"x\": [\"2017-01-12T00:00:00\", \"2017-02-12T00:00:00\", \"2017-03-12T00:00:00\", \"2017-04-12T00:00:00\", \"2017-05-12T00:00:00\", \"2017-06-12T00:00:00\", \"2017-07-12T00:00:00\", \"2017-08-12T00:00:00\", \"2017-09-12T00:00:00\", \"2017-10-12T00:00:00\", \"2017-11-12T00:00:00\", \"2017-12-12T00:00:00\", \"2018-01-12T00:00:00\", \"2018-02-12T00:00:00\", \"2018-03-12T00:00:00\", \"2018-04-12T00:00:00\", \"2018-05-12T00:00:00\", \"2018-06-12T00:00:00\", \"2018-07-12T00:00:00\", \"2018-08-12T00:00:00\", \"2018-09-12T00:00:00\", \"2018-10-12T00:00:00\", \"2018-11-12T00:00:00\", \"2018-12-12T00:00:00\", \"2019-01-12T00:00:00\", \"2019-02-12T00:00:00\", \"2019-03-12T00:00:00\", \"2019-04-12T00:00:00\", \"2019-05-12T00:00:00\", \"2019-06-12T00:00:00\", \"2019-07-12T00:00:00\", \"2019-08-12T00:00:00\", \"2019-09-12T00:00:00\", \"2019-10-12T00:00:00\", \"2019-11-12T00:00:00\", \"2019-12-12T00:00:00\", \"2020-01-12T00:00:00\", \"2020-02-12T00:00:00\", \"2020-03-12T00:00:00\", \"2020-04-12T00:00:00\", \"2020-05-12T00:00:00\"], \"xaxis\": \"x\", \"y\": [81.2, 81.7, 82.1, 82.6, 82.4, 81.9, 81.9, 81.6, 82.5, 82.5, 82.6, 82.1, 81.8, 82.3, 82.4, 82.8, 82.9, 82.5, 82.6, 82.3, 83.0, 83.3, 83.5, 83.2, 82.7, 83.1, 82.8, 83.0, 83.2, 82.8, 82.3, 82.9, 83.7, 83.9, 84.2, 84.1, 83.6, 83.6, 82.5, 72.6, 74.6], \"yaxis\": \"y\"}],\n",
       "                        {\"font\": {\"family\": \"Roboto\"}, \"hovermode\": \"x\", \"legend\": {\"title\": {\"text\": \"\"}, \"tracegroupgap\": 0}, \"margin\": {\"t\": 60}, \"plot_bgcolor\": \"white\", \"template\": {\"data\": {\"bar\": [{\"error_x\": {\"color\": \"#2a3f5f\"}, \"error_y\": {\"color\": \"#2a3f5f\"}, \"marker\": {\"line\": {\"color\": \"#E5ECF6\", \"width\": 0.5}}, \"type\": \"bar\"}], \"barpolar\": [{\"marker\": {\"line\": {\"color\": \"#E5ECF6\", \"width\": 0.5}}, \"type\": \"barpolar\"}], \"carpet\": [{\"aaxis\": {\"endlinecolor\": \"#2a3f5f\", \"gridcolor\": \"white\", \"linecolor\": \"white\", \"minorgridcolor\": \"white\", \"startlinecolor\": \"#2a3f5f\"}, \"baxis\": {\"endlinecolor\": \"#2a3f5f\", \"gridcolor\": \"white\", \"linecolor\": \"white\", \"minorgridcolor\": \"white\", \"startlinecolor\": \"#2a3f5f\"}, \"type\": \"carpet\"}], \"choropleth\": [{\"colorbar\": {\"outlinewidth\": 0, \"ticks\": \"\"}, \"type\": \"choropleth\"}], \"contour\": [{\"colorbar\": {\"outlinewidth\": 0, \"ticks\": \"\"}, \"colorscale\": [[0.0, \"#0d0887\"], [0.1111111111111111, \"#46039f\"], [0.2222222222222222, \"#7201a8\"], [0.3333333333333333, \"#9c179e\"], [0.4444444444444444, \"#bd3786\"], [0.5555555555555556, \"#d8576b\"], [0.6666666666666666, \"#ed7953\"], [0.7777777777777778, \"#fb9f3a\"], [0.8888888888888888, \"#fdca26\"], [1.0, \"#f0f921\"]], \"type\": \"contour\"}], \"contourcarpet\": [{\"colorbar\": {\"outlinewidth\": 0, \"ticks\": \"\"}, \"type\": \"contourcarpet\"}], \"heatmap\": [{\"colorbar\": {\"outlinewidth\": 0, \"ticks\": \"\"}, \"colorscale\": [[0.0, \"#0d0887\"], [0.1111111111111111, \"#46039f\"], [0.2222222222222222, \"#7201a8\"], [0.3333333333333333, \"#9c179e\"], [0.4444444444444444, \"#bd3786\"], [0.5555555555555556, \"#d8576b\"], [0.6666666666666666, \"#ed7953\"], [0.7777777777777778, \"#fb9f3a\"], [0.8888888888888888, \"#fdca26\"], [1.0, \"#f0f921\"]], \"type\": \"heatmap\"}], \"heatmapgl\": [{\"colorbar\": {\"outlinewidth\": 0, \"ticks\": \"\"}, \"colorscale\": [[0.0, \"#0d0887\"], [0.1111111111111111, \"#46039f\"], [0.2222222222222222, \"#7201a8\"], [0.3333333333333333, \"#9c179e\"], [0.4444444444444444, \"#bd3786\"], [0.5555555555555556, \"#d8576b\"], [0.6666666666666666, \"#ed7953\"], [0.7777777777777778, \"#fb9f3a\"], [0.8888888888888888, \"#fdca26\"], [1.0, \"#f0f921\"]], \"type\": \"heatmapgl\"}], \"histogram\": [{\"marker\": {\"colorbar\": {\"outlinewidth\": 0, \"ticks\": \"\"}}, \"type\": \"histogram\"}], \"histogram2d\": [{\"colorbar\": {\"outlinewidth\": 0, \"ticks\": \"\"}, \"colorscale\": [[0.0, \"#0d0887\"], [0.1111111111111111, \"#46039f\"], [0.2222222222222222, \"#7201a8\"], [0.3333333333333333, \"#9c179e\"], [0.4444444444444444, \"#bd3786\"], [0.5555555555555556, \"#d8576b\"], [0.6666666666666666, \"#ed7953\"], [0.7777777777777778, \"#fb9f3a\"], [0.8888888888888888, \"#fdca26\"], [1.0, \"#f0f921\"]], \"type\": \"histogram2d\"}], \"histogram2dcontour\": [{\"colorbar\": {\"outlinewidth\": 0, \"ticks\": \"\"}, \"colorscale\": [[0.0, \"#0d0887\"], [0.1111111111111111, \"#46039f\"], [0.2222222222222222, \"#7201a8\"], [0.3333333333333333, \"#9c179e\"], [0.4444444444444444, \"#bd3786\"], [0.5555555555555556, \"#d8576b\"], [0.6666666666666666, \"#ed7953\"], [0.7777777777777778, \"#fb9f3a\"], [0.8888888888888888, \"#fdca26\"], [1.0, \"#f0f921\"]], \"type\": \"histogram2dcontour\"}], \"mesh3d\": [{\"colorbar\": {\"outlinewidth\": 0, \"ticks\": \"\"}, \"type\": \"mesh3d\"}], \"parcoords\": [{\"line\": {\"colorbar\": {\"outlinewidth\": 0, \"ticks\": \"\"}}, \"type\": \"parcoords\"}], \"pie\": [{\"automargin\": true, \"type\": \"pie\"}], \"scatter\": [{\"marker\": {\"colorbar\": {\"outlinewidth\": 0, \"ticks\": \"\"}}, \"type\": \"scatter\"}], \"scatter3d\": [{\"line\": {\"colorbar\": {\"outlinewidth\": 0, \"ticks\": \"\"}}, \"marker\": {\"colorbar\": {\"outlinewidth\": 0, \"ticks\": \"\"}}, \"type\": \"scatter3d\"}], \"scattercarpet\": [{\"marker\": {\"colorbar\": {\"outlinewidth\": 0, \"ticks\": \"\"}}, \"type\": \"scattercarpet\"}], \"scattergeo\": [{\"marker\": {\"colorbar\": {\"outlinewidth\": 0, \"ticks\": \"\"}}, \"type\": \"scattergeo\"}], \"scattergl\": [{\"marker\": {\"colorbar\": {\"outlinewidth\": 0, \"ticks\": \"\"}}, \"type\": \"scattergl\"}], \"scattermapbox\": [{\"marker\": {\"colorbar\": {\"outlinewidth\": 0, \"ticks\": \"\"}}, \"type\": \"scattermapbox\"}], \"scatterpolar\": [{\"marker\": {\"colorbar\": {\"outlinewidth\": 0, \"ticks\": \"\"}}, \"type\": \"scatterpolar\"}], \"scatterpolargl\": [{\"marker\": {\"colorbar\": {\"outlinewidth\": 0, \"ticks\": \"\"}}, \"type\": \"scatterpolargl\"}], \"scatterternary\": [{\"marker\": {\"colorbar\": {\"outlinewidth\": 0, \"ticks\": \"\"}}, \"type\": \"scatterternary\"}], \"surface\": [{\"colorbar\": {\"outlinewidth\": 0, \"ticks\": \"\"}, \"colorscale\": [[0.0, \"#0d0887\"], [0.1111111111111111, \"#46039f\"], [0.2222222222222222, \"#7201a8\"], [0.3333333333333333, \"#9c179e\"], [0.4444444444444444, \"#bd3786\"], [0.5555555555555556, \"#d8576b\"], [0.6666666666666666, \"#ed7953\"], [0.7777777777777778, \"#fb9f3a\"], [0.8888888888888888, \"#fdca26\"], [1.0, \"#f0f921\"]], \"type\": \"surface\"}], \"table\": [{\"cells\": {\"fill\": {\"color\": \"#EBF0F8\"}, \"line\": {\"color\": \"white\"}}, \"header\": {\"fill\": {\"color\": \"#C8D4E3\"}, \"line\": {\"color\": \"white\"}}, \"type\": \"table\"}]}, \"layout\": {\"annotationdefaults\": {\"arrowcolor\": \"#2a3f5f\", \"arrowhead\": 0, \"arrowwidth\": 1}, \"coloraxis\": {\"colorbar\": {\"outlinewidth\": 0, \"ticks\": \"\"}}, \"colorscale\": {\"diverging\": [[0, \"#8e0152\"], [0.1, \"#c51b7d\"], [0.2, \"#de77ae\"], [0.3, \"#f1b6da\"], [0.4, \"#fde0ef\"], [0.5, \"#f7f7f7\"], [0.6, \"#e6f5d0\"], [0.7, \"#b8e186\"], [0.8, \"#7fbc41\"], [0.9, \"#4d9221\"], [1, \"#276419\"]], \"sequential\": [[0.0, \"#0d0887\"], [0.1111111111111111, \"#46039f\"], [0.2222222222222222, \"#7201a8\"], [0.3333333333333333, \"#9c179e\"], [0.4444444444444444, \"#bd3786\"], [0.5555555555555556, \"#d8576b\"], [0.6666666666666666, \"#ed7953\"], [0.7777777777777778, \"#fb9f3a\"], [0.8888888888888888, \"#fdca26\"], [1.0, \"#f0f921\"]], \"sequentialminus\": [[0.0, \"#0d0887\"], [0.1111111111111111, \"#46039f\"], [0.2222222222222222, \"#7201a8\"], [0.3333333333333333, \"#9c179e\"], [0.4444444444444444, \"#bd3786\"], [0.5555555555555556, \"#d8576b\"], [0.6666666666666666, \"#ed7953\"], [0.7777777777777778, \"#fb9f3a\"], [0.8888888888888888, \"#fdca26\"], [1.0, \"#f0f921\"]]}, \"colorway\": [\"#636efa\", \"#EF553B\", \"#00cc96\", \"#ab63fa\", \"#FFA15A\", \"#19d3f3\", \"#FF6692\", \"#B6E880\", \"#FF97FF\", \"#FECB52\"], \"font\": {\"color\": \"#2a3f5f\"}, \"geo\": {\"bgcolor\": \"white\", \"lakecolor\": \"white\", \"landcolor\": \"#E5ECF6\", \"showlakes\": true, \"showland\": true, \"subunitcolor\": \"white\"}, \"hoverlabel\": {\"align\": \"left\"}, \"hovermode\": \"closest\", \"mapbox\": {\"style\": \"light\"}, \"paper_bgcolor\": \"white\", \"plot_bgcolor\": \"#E5ECF6\", \"polar\": {\"angularaxis\": {\"gridcolor\": \"white\", \"linecolor\": \"white\", \"ticks\": \"\"}, \"bgcolor\": \"#E5ECF6\", \"radialaxis\": {\"gridcolor\": \"white\", \"linecolor\": \"white\", \"ticks\": \"\"}}, \"scene\": {\"xaxis\": {\"backgroundcolor\": \"#E5ECF6\", \"gridcolor\": \"white\", \"gridwidth\": 2, \"linecolor\": \"white\", \"showbackground\": true, \"ticks\": \"\", \"zerolinecolor\": \"white\"}, \"yaxis\": {\"backgroundcolor\": \"#E5ECF6\", \"gridcolor\": \"white\", \"gridwidth\": 2, \"linecolor\": \"white\", \"showbackground\": true, \"ticks\": \"\", \"zerolinecolor\": \"white\"}, \"zaxis\": {\"backgroundcolor\": \"#E5ECF6\", \"gridcolor\": \"white\", \"gridwidth\": 2, \"linecolor\": \"white\", \"showbackground\": true, \"ticks\": \"\", \"zerolinecolor\": \"white\"}}, \"shapedefaults\": {\"line\": {\"color\": \"#2a3f5f\"}}, \"ternary\": {\"aaxis\": {\"gridcolor\": \"white\", \"linecolor\": \"white\", \"ticks\": \"\"}, \"baxis\": {\"gridcolor\": \"white\", \"linecolor\": \"white\", \"ticks\": \"\"}, \"bgcolor\": \"#E5ECF6\", \"caxis\": {\"gridcolor\": \"white\", \"linecolor\": \"white\", \"ticks\": \"\"}}, \"title\": {\"x\": 0.05}, \"xaxis\": {\"automargin\": true, \"gridcolor\": \"white\", \"linecolor\": \"white\", \"ticks\": \"\", \"title\": {\"standoff\": 15}, \"zerolinecolor\": \"white\", \"zerolinewidth\": 2}, \"yaxis\": {\"automargin\": true, \"gridcolor\": \"white\", \"linecolor\": \"white\", \"ticks\": \"\", \"title\": {\"standoff\": 15}, \"zerolinecolor\": \"white\", \"zerolinewidth\": 2}}}, \"title\": {\"text\": \"Prime-age employment rate by race and disability status\"}, \"xaxis\": {\"anchor\": \"y\", \"domain\": [0.0, 1.0], \"title\": {\"text\": \"\"}}, \"yaxis\": {\"anchor\": \"x\", \"domain\": [0.0, 1.0], \"ticksuffix\": \"%\", \"title\": {\"text\": \"Employment rate of civilians aged 25 to 54\"}}},\n",
       "                        {\"responsive\": true}\n",
       "                    ).then(function(){\n",
       "                            \n",
       "var gd = document.getElementById('681b6f5a-6654-492a-a8c4-268ec3b343c4');\n",
       "var x = new MutationObserver(function (mutations, observer) {{\n",
       "        var display = window.getComputedStyle(gd).display;\n",
       "        if (!display || display === 'none') {{\n",
       "            console.log([gd, 'removed!']);\n",
       "            Plotly.purge(gd);\n",
       "            observer.disconnect();\n",
       "        }}\n",
       "}});\n",
       "\n",
       "// Listen for the removal of the full notebook cells\n",
       "var notebookContainer = gd.closest('#notebook-container');\n",
       "if (notebookContainer) {{\n",
       "    x.observe(notebookContainer, {childList: true});\n",
       "}}\n",
       "\n",
       "// Listen for the clearing of the current output cell\n",
       "var outputEl = gd.closest('.output');\n",
       "if (outputEl) {{\n",
       "    x.observe(outputEl, {childList: true});\n",
       "}}\n",
       "\n",
       "                        })\n",
       "                };\n",
       "                });\n",
       "            </script>\n",
       "        </div>"
      ]
     },
     "metadata": {},
     "output_type": "display_data"
    }
   ],
   "source": [
    "line_graph(race_disability_emp, x='date', y='emp_rate_round', color='label',\n",
    "           title='Prime-age employment rate by race and disability status',\n",
    "           yaxis_title='Employment rate of civilians aged 25 to 54')"
   ]
  },
  {
   "cell_type": "markdown",
   "metadata": {},
   "source": [
    "Honing in on the latest month of data (May 2020) emphasizes the 50-percent-larger racial employment gap\n",
    "among people with disabilities.\n",
    "Put another way: among people without disabilities, Black people are 8 percent less likely to be\n",
    "employed than non-Black people, while they're 32 percent less likely to be employed among people *with* disabilities."
   ]
  },
  {
   "cell_type": "code",
   "execution_count": 155,
   "metadata": {
    "tags": [
     "hide-input"
    ]
   },
   "outputs": [
    {
     "data": {
      "application/vnd.plotly.v1+json": {
       "config": {
        "plotlyServerURL": "https://plot.ly"
       },
       "data": [
        {
         "alignmentgroup": "True",
         "legendgroup": "Not Black",
         "marker": {
          "color": "#BDBDBD"
         },
         "name": "Not Black",
         "offsetgroup": "Not Black",
         "orientation": "v",
         "showlegend": true,
         "textposition": "auto",
         "type": "bar",
         "x": [
          "Has disability",
          "No disability"
         ],
         "xaxis": "x",
         "y": [
          34.5,
          74.6
         ],
         "yaxis": "y"
        },
        {
         "alignmentgroup": "True",
         "legendgroup": "Black",
         "marker": {
          "color": "#1976D2"
         },
         "name": "Black",
         "offsetgroup": "Black",
         "orientation": "v",
         "showlegend": true,
         "textposition": "auto",
         "type": "bar",
         "x": [
          "Has disability",
          "No disability"
         ],
         "xaxis": "x",
         "y": [
          23.6,
          68.7
         ],
         "yaxis": "y"
        }
       ],
       "layout": {
        "barmode": "group",
        "font": {
         "family": "Roboto"
        },
        "legend": {
         "title": {
          "text": ""
         },
         "tracegroupgap": 0
        },
        "margin": {
         "t": 60
        },
        "plot_bgcolor": "white",
        "template": {
         "data": {
          "bar": [
           {
            "error_x": {
             "color": "#2a3f5f"
            },
            "error_y": {
             "color": "#2a3f5f"
            },
            "marker": {
             "line": {
              "color": "#E5ECF6",
              "width": 0.5
             }
            },
            "type": "bar"
           }
          ],
          "barpolar": [
           {
            "marker": {
             "line": {
              "color": "#E5ECF6",
              "width": 0.5
             }
            },
            "type": "barpolar"
           }
          ],
          "carpet": [
           {
            "aaxis": {
             "endlinecolor": "#2a3f5f",
             "gridcolor": "white",
             "linecolor": "white",
             "minorgridcolor": "white",
             "startlinecolor": "#2a3f5f"
            },
            "baxis": {
             "endlinecolor": "#2a3f5f",
             "gridcolor": "white",
             "linecolor": "white",
             "minorgridcolor": "white",
             "startlinecolor": "#2a3f5f"
            },
            "type": "carpet"
           }
          ],
          "choropleth": [
           {
            "colorbar": {
             "outlinewidth": 0,
             "ticks": ""
            },
            "type": "choropleth"
           }
          ],
          "contour": [
           {
            "colorbar": {
             "outlinewidth": 0,
             "ticks": ""
            },
            "colorscale": [
             [
              0,
              "#0d0887"
             ],
             [
              0.1111111111111111,
              "#46039f"
             ],
             [
              0.2222222222222222,
              "#7201a8"
             ],
             [
              0.3333333333333333,
              "#9c179e"
             ],
             [
              0.4444444444444444,
              "#bd3786"
             ],
             [
              0.5555555555555556,
              "#d8576b"
             ],
             [
              0.6666666666666666,
              "#ed7953"
             ],
             [
              0.7777777777777778,
              "#fb9f3a"
             ],
             [
              0.8888888888888888,
              "#fdca26"
             ],
             [
              1,
              "#f0f921"
             ]
            ],
            "type": "contour"
           }
          ],
          "contourcarpet": [
           {
            "colorbar": {
             "outlinewidth": 0,
             "ticks": ""
            },
            "type": "contourcarpet"
           }
          ],
          "heatmap": [
           {
            "colorbar": {
             "outlinewidth": 0,
             "ticks": ""
            },
            "colorscale": [
             [
              0,
              "#0d0887"
             ],
             [
              0.1111111111111111,
              "#46039f"
             ],
             [
              0.2222222222222222,
              "#7201a8"
             ],
             [
              0.3333333333333333,
              "#9c179e"
             ],
             [
              0.4444444444444444,
              "#bd3786"
             ],
             [
              0.5555555555555556,
              "#d8576b"
             ],
             [
              0.6666666666666666,
              "#ed7953"
             ],
             [
              0.7777777777777778,
              "#fb9f3a"
             ],
             [
              0.8888888888888888,
              "#fdca26"
             ],
             [
              1,
              "#f0f921"
             ]
            ],
            "type": "heatmap"
           }
          ],
          "heatmapgl": [
           {
            "colorbar": {
             "outlinewidth": 0,
             "ticks": ""
            },
            "colorscale": [
             [
              0,
              "#0d0887"
             ],
             [
              0.1111111111111111,
              "#46039f"
             ],
             [
              0.2222222222222222,
              "#7201a8"
             ],
             [
              0.3333333333333333,
              "#9c179e"
             ],
             [
              0.4444444444444444,
              "#bd3786"
             ],
             [
              0.5555555555555556,
              "#d8576b"
             ],
             [
              0.6666666666666666,
              "#ed7953"
             ],
             [
              0.7777777777777778,
              "#fb9f3a"
             ],
             [
              0.8888888888888888,
              "#fdca26"
             ],
             [
              1,
              "#f0f921"
             ]
            ],
            "type": "heatmapgl"
           }
          ],
          "histogram": [
           {
            "marker": {
             "colorbar": {
              "outlinewidth": 0,
              "ticks": ""
             }
            },
            "type": "histogram"
           }
          ],
          "histogram2d": [
           {
            "colorbar": {
             "outlinewidth": 0,
             "ticks": ""
            },
            "colorscale": [
             [
              0,
              "#0d0887"
             ],
             [
              0.1111111111111111,
              "#46039f"
             ],
             [
              0.2222222222222222,
              "#7201a8"
             ],
             [
              0.3333333333333333,
              "#9c179e"
             ],
             [
              0.4444444444444444,
              "#bd3786"
             ],
             [
              0.5555555555555556,
              "#d8576b"
             ],
             [
              0.6666666666666666,
              "#ed7953"
             ],
             [
              0.7777777777777778,
              "#fb9f3a"
             ],
             [
              0.8888888888888888,
              "#fdca26"
             ],
             [
              1,
              "#f0f921"
             ]
            ],
            "type": "histogram2d"
           }
          ],
          "histogram2dcontour": [
           {
            "colorbar": {
             "outlinewidth": 0,
             "ticks": ""
            },
            "colorscale": [
             [
              0,
              "#0d0887"
             ],
             [
              0.1111111111111111,
              "#46039f"
             ],
             [
              0.2222222222222222,
              "#7201a8"
             ],
             [
              0.3333333333333333,
              "#9c179e"
             ],
             [
              0.4444444444444444,
              "#bd3786"
             ],
             [
              0.5555555555555556,
              "#d8576b"
             ],
             [
              0.6666666666666666,
              "#ed7953"
             ],
             [
              0.7777777777777778,
              "#fb9f3a"
             ],
             [
              0.8888888888888888,
              "#fdca26"
             ],
             [
              1,
              "#f0f921"
             ]
            ],
            "type": "histogram2dcontour"
           }
          ],
          "mesh3d": [
           {
            "colorbar": {
             "outlinewidth": 0,
             "ticks": ""
            },
            "type": "mesh3d"
           }
          ],
          "parcoords": [
           {
            "line": {
             "colorbar": {
              "outlinewidth": 0,
              "ticks": ""
             }
            },
            "type": "parcoords"
           }
          ],
          "pie": [
           {
            "automargin": true,
            "type": "pie"
           }
          ],
          "scatter": [
           {
            "marker": {
             "colorbar": {
              "outlinewidth": 0,
              "ticks": ""
             }
            },
            "type": "scatter"
           }
          ],
          "scatter3d": [
           {
            "line": {
             "colorbar": {
              "outlinewidth": 0,
              "ticks": ""
             }
            },
            "marker": {
             "colorbar": {
              "outlinewidth": 0,
              "ticks": ""
             }
            },
            "type": "scatter3d"
           }
          ],
          "scattercarpet": [
           {
            "marker": {
             "colorbar": {
              "outlinewidth": 0,
              "ticks": ""
             }
            },
            "type": "scattercarpet"
           }
          ],
          "scattergeo": [
           {
            "marker": {
             "colorbar": {
              "outlinewidth": 0,
              "ticks": ""
             }
            },
            "type": "scattergeo"
           }
          ],
          "scattergl": [
           {
            "marker": {
             "colorbar": {
              "outlinewidth": 0,
              "ticks": ""
             }
            },
            "type": "scattergl"
           }
          ],
          "scattermapbox": [
           {
            "marker": {
             "colorbar": {
              "outlinewidth": 0,
              "ticks": ""
             }
            },
            "type": "scattermapbox"
           }
          ],
          "scatterpolar": [
           {
            "marker": {
             "colorbar": {
              "outlinewidth": 0,
              "ticks": ""
             }
            },
            "type": "scatterpolar"
           }
          ],
          "scatterpolargl": [
           {
            "marker": {
             "colorbar": {
              "outlinewidth": 0,
              "ticks": ""
             }
            },
            "type": "scatterpolargl"
           }
          ],
          "scatterternary": [
           {
            "marker": {
             "colorbar": {
              "outlinewidth": 0,
              "ticks": ""
             }
            },
            "type": "scatterternary"
           }
          ],
          "surface": [
           {
            "colorbar": {
             "outlinewidth": 0,
             "ticks": ""
            },
            "colorscale": [
             [
              0,
              "#0d0887"
             ],
             [
              0.1111111111111111,
              "#46039f"
             ],
             [
              0.2222222222222222,
              "#7201a8"
             ],
             [
              0.3333333333333333,
              "#9c179e"
             ],
             [
              0.4444444444444444,
              "#bd3786"
             ],
             [
              0.5555555555555556,
              "#d8576b"
             ],
             [
              0.6666666666666666,
              "#ed7953"
             ],
             [
              0.7777777777777778,
              "#fb9f3a"
             ],
             [
              0.8888888888888888,
              "#fdca26"
             ],
             [
              1,
              "#f0f921"
             ]
            ],
            "type": "surface"
           }
          ],
          "table": [
           {
            "cells": {
             "fill": {
              "color": "#EBF0F8"
             },
             "line": {
              "color": "white"
             }
            },
            "header": {
             "fill": {
              "color": "#C8D4E3"
             },
             "line": {
              "color": "white"
             }
            },
            "type": "table"
           }
          ]
         },
         "layout": {
          "annotationdefaults": {
           "arrowcolor": "#2a3f5f",
           "arrowhead": 0,
           "arrowwidth": 1
          },
          "coloraxis": {
           "colorbar": {
            "outlinewidth": 0,
            "ticks": ""
           }
          },
          "colorscale": {
           "diverging": [
            [
             0,
             "#8e0152"
            ],
            [
             0.1,
             "#c51b7d"
            ],
            [
             0.2,
             "#de77ae"
            ],
            [
             0.3,
             "#f1b6da"
            ],
            [
             0.4,
             "#fde0ef"
            ],
            [
             0.5,
             "#f7f7f7"
            ],
            [
             0.6,
             "#e6f5d0"
            ],
            [
             0.7,
             "#b8e186"
            ],
            [
             0.8,
             "#7fbc41"
            ],
            [
             0.9,
             "#4d9221"
            ],
            [
             1,
             "#276419"
            ]
           ],
           "sequential": [
            [
             0,
             "#0d0887"
            ],
            [
             0.1111111111111111,
             "#46039f"
            ],
            [
             0.2222222222222222,
             "#7201a8"
            ],
            [
             0.3333333333333333,
             "#9c179e"
            ],
            [
             0.4444444444444444,
             "#bd3786"
            ],
            [
             0.5555555555555556,
             "#d8576b"
            ],
            [
             0.6666666666666666,
             "#ed7953"
            ],
            [
             0.7777777777777778,
             "#fb9f3a"
            ],
            [
             0.8888888888888888,
             "#fdca26"
            ],
            [
             1,
             "#f0f921"
            ]
           ],
           "sequentialminus": [
            [
             0,
             "#0d0887"
            ],
            [
             0.1111111111111111,
             "#46039f"
            ],
            [
             0.2222222222222222,
             "#7201a8"
            ],
            [
             0.3333333333333333,
             "#9c179e"
            ],
            [
             0.4444444444444444,
             "#bd3786"
            ],
            [
             0.5555555555555556,
             "#d8576b"
            ],
            [
             0.6666666666666666,
             "#ed7953"
            ],
            [
             0.7777777777777778,
             "#fb9f3a"
            ],
            [
             0.8888888888888888,
             "#fdca26"
            ],
            [
             1,
             "#f0f921"
            ]
           ]
          },
          "colorway": [
           "#636efa",
           "#EF553B",
           "#00cc96",
           "#ab63fa",
           "#FFA15A",
           "#19d3f3",
           "#FF6692",
           "#B6E880",
           "#FF97FF",
           "#FECB52"
          ],
          "font": {
           "color": "#2a3f5f"
          },
          "geo": {
           "bgcolor": "white",
           "lakecolor": "white",
           "landcolor": "#E5ECF6",
           "showlakes": true,
           "showland": true,
           "subunitcolor": "white"
          },
          "hoverlabel": {
           "align": "left"
          },
          "hovermode": "closest",
          "mapbox": {
           "style": "light"
          },
          "paper_bgcolor": "white",
          "plot_bgcolor": "#E5ECF6",
          "polar": {
           "angularaxis": {
            "gridcolor": "white",
            "linecolor": "white",
            "ticks": ""
           },
           "bgcolor": "#E5ECF6",
           "radialaxis": {
            "gridcolor": "white",
            "linecolor": "white",
            "ticks": ""
           }
          },
          "scene": {
           "xaxis": {
            "backgroundcolor": "#E5ECF6",
            "gridcolor": "white",
            "gridwidth": 2,
            "linecolor": "white",
            "showbackground": true,
            "ticks": "",
            "zerolinecolor": "white"
           },
           "yaxis": {
            "backgroundcolor": "#E5ECF6",
            "gridcolor": "white",
            "gridwidth": 2,
            "linecolor": "white",
            "showbackground": true,
            "ticks": "",
            "zerolinecolor": "white"
           },
           "zaxis": {
            "backgroundcolor": "#E5ECF6",
            "gridcolor": "white",
            "gridwidth": 2,
            "linecolor": "white",
            "showbackground": true,
            "ticks": "",
            "zerolinecolor": "white"
           }
          },
          "shapedefaults": {
           "line": {
            "color": "#2a3f5f"
           }
          },
          "ternary": {
           "aaxis": {
            "gridcolor": "white",
            "linecolor": "white",
            "ticks": ""
           },
           "baxis": {
            "gridcolor": "white",
            "linecolor": "white",
            "ticks": ""
           },
           "bgcolor": "#E5ECF6",
           "caxis": {
            "gridcolor": "white",
            "linecolor": "white",
            "ticks": ""
           }
          },
          "title": {
           "x": 0.05
          },
          "xaxis": {
           "automargin": true,
           "gridcolor": "white",
           "linecolor": "white",
           "ticks": "",
           "title": {
            "standoff": 15
           },
           "zerolinecolor": "white",
           "zerolinewidth": 2
          },
          "yaxis": {
           "automargin": true,
           "gridcolor": "white",
           "linecolor": "white",
           "ticks": "",
           "title": {
            "standoff": 15
           },
           "zerolinecolor": "white",
           "zerolinewidth": 2
          }
         }
        },
        "title": {
         "text": "Prime-age employment rate by race and disability status, May 2020"
        },
        "xaxis": {
         "anchor": "y",
         "categoryorder": "total descending",
         "domain": [
          0,
          1
         ],
         "title": {
          "text": ""
         }
        },
        "yaxis": {
         "anchor": "x",
         "domain": [
          0,
          1
         ],
         "ticksuffix": "%",
         "title": {
          "text": "Employment rate of civilians aged 25 to 54"
         }
        }
       }
      },
      "text/html": [
       "<div>\n",
       "        \n",
       "        \n",
       "            <div id=\"48abd07a-0799-476c-a74b-c8e17679ed04\" class=\"plotly-graph-div\" style=\"height:525px; width:100%;\"></div>\n",
       "            <script type=\"text/javascript\">\n",
       "                require([\"plotly\"], function(Plotly) {\n",
       "                    window.PLOTLYENV=window.PLOTLYENV || {};\n",
       "                    \n",
       "                if (document.getElementById(\"48abd07a-0799-476c-a74b-c8e17679ed04\")) {\n",
       "                    Plotly.newPlot(\n",
       "                        '48abd07a-0799-476c-a74b-c8e17679ed04',\n",
       "                        [{\"alignmentgroup\": \"True\", \"legendgroup\": \"Not Black\", \"marker\": {\"color\": \"#BDBDBD\"}, \"name\": \"Not Black\", \"offsetgroup\": \"Not Black\", \"orientation\": \"v\", \"showlegend\": true, \"textposition\": \"auto\", \"type\": \"bar\", \"x\": [\"Has disability\", \"No disability\"], \"xaxis\": \"x\", \"y\": [34.5, 74.6], \"yaxis\": \"y\"}, {\"alignmentgroup\": \"True\", \"legendgroup\": \"Black\", \"marker\": {\"color\": \"#1976D2\"}, \"name\": \"Black\", \"offsetgroup\": \"Black\", \"orientation\": \"v\", \"showlegend\": true, \"textposition\": \"auto\", \"type\": \"bar\", \"x\": [\"Has disability\", \"No disability\"], \"xaxis\": \"x\", \"y\": [23.6, 68.7], \"yaxis\": \"y\"}],\n",
       "                        {\"barmode\": \"group\", \"font\": {\"family\": \"Roboto\"}, \"legend\": {\"title\": {\"text\": \"\"}, \"tracegroupgap\": 0}, \"margin\": {\"t\": 60}, \"plot_bgcolor\": \"white\", \"template\": {\"data\": {\"bar\": [{\"error_x\": {\"color\": \"#2a3f5f\"}, \"error_y\": {\"color\": \"#2a3f5f\"}, \"marker\": {\"line\": {\"color\": \"#E5ECF6\", \"width\": 0.5}}, \"type\": \"bar\"}], \"barpolar\": [{\"marker\": {\"line\": {\"color\": \"#E5ECF6\", \"width\": 0.5}}, \"type\": \"barpolar\"}], \"carpet\": [{\"aaxis\": {\"endlinecolor\": \"#2a3f5f\", \"gridcolor\": \"white\", \"linecolor\": \"white\", \"minorgridcolor\": \"white\", \"startlinecolor\": \"#2a3f5f\"}, \"baxis\": {\"endlinecolor\": \"#2a3f5f\", \"gridcolor\": \"white\", \"linecolor\": \"white\", \"minorgridcolor\": \"white\", \"startlinecolor\": \"#2a3f5f\"}, \"type\": \"carpet\"}], \"choropleth\": [{\"colorbar\": {\"outlinewidth\": 0, \"ticks\": \"\"}, \"type\": \"choropleth\"}], \"contour\": [{\"colorbar\": {\"outlinewidth\": 0, \"ticks\": \"\"}, \"colorscale\": [[0.0, \"#0d0887\"], [0.1111111111111111, \"#46039f\"], [0.2222222222222222, \"#7201a8\"], [0.3333333333333333, \"#9c179e\"], [0.4444444444444444, \"#bd3786\"], [0.5555555555555556, \"#d8576b\"], [0.6666666666666666, \"#ed7953\"], [0.7777777777777778, \"#fb9f3a\"], [0.8888888888888888, \"#fdca26\"], [1.0, \"#f0f921\"]], \"type\": \"contour\"}], \"contourcarpet\": [{\"colorbar\": {\"outlinewidth\": 0, \"ticks\": \"\"}, \"type\": \"contourcarpet\"}], \"heatmap\": [{\"colorbar\": {\"outlinewidth\": 0, \"ticks\": \"\"}, \"colorscale\": [[0.0, \"#0d0887\"], [0.1111111111111111, \"#46039f\"], [0.2222222222222222, \"#7201a8\"], [0.3333333333333333, \"#9c179e\"], [0.4444444444444444, \"#bd3786\"], [0.5555555555555556, \"#d8576b\"], [0.6666666666666666, \"#ed7953\"], [0.7777777777777778, \"#fb9f3a\"], [0.8888888888888888, \"#fdca26\"], [1.0, \"#f0f921\"]], \"type\": \"heatmap\"}], \"heatmapgl\": [{\"colorbar\": {\"outlinewidth\": 0, \"ticks\": \"\"}, \"colorscale\": [[0.0, \"#0d0887\"], [0.1111111111111111, \"#46039f\"], [0.2222222222222222, \"#7201a8\"], [0.3333333333333333, \"#9c179e\"], [0.4444444444444444, \"#bd3786\"], [0.5555555555555556, \"#d8576b\"], [0.6666666666666666, \"#ed7953\"], [0.7777777777777778, \"#fb9f3a\"], [0.8888888888888888, \"#fdca26\"], [1.0, \"#f0f921\"]], \"type\": \"heatmapgl\"}], \"histogram\": [{\"marker\": {\"colorbar\": {\"outlinewidth\": 0, \"ticks\": \"\"}}, \"type\": \"histogram\"}], \"histogram2d\": [{\"colorbar\": {\"outlinewidth\": 0, \"ticks\": \"\"}, \"colorscale\": [[0.0, \"#0d0887\"], [0.1111111111111111, \"#46039f\"], [0.2222222222222222, \"#7201a8\"], [0.3333333333333333, \"#9c179e\"], [0.4444444444444444, \"#bd3786\"], [0.5555555555555556, \"#d8576b\"], [0.6666666666666666, \"#ed7953\"], [0.7777777777777778, \"#fb9f3a\"], [0.8888888888888888, \"#fdca26\"], [1.0, \"#f0f921\"]], \"type\": \"histogram2d\"}], \"histogram2dcontour\": [{\"colorbar\": {\"outlinewidth\": 0, \"ticks\": \"\"}, \"colorscale\": [[0.0, \"#0d0887\"], [0.1111111111111111, \"#46039f\"], [0.2222222222222222, \"#7201a8\"], [0.3333333333333333, \"#9c179e\"], [0.4444444444444444, \"#bd3786\"], [0.5555555555555556, \"#d8576b\"], [0.6666666666666666, \"#ed7953\"], [0.7777777777777778, \"#fb9f3a\"], [0.8888888888888888, \"#fdca26\"], [1.0, \"#f0f921\"]], \"type\": \"histogram2dcontour\"}], \"mesh3d\": [{\"colorbar\": {\"outlinewidth\": 0, \"ticks\": \"\"}, \"type\": \"mesh3d\"}], \"parcoords\": [{\"line\": {\"colorbar\": {\"outlinewidth\": 0, \"ticks\": \"\"}}, \"type\": \"parcoords\"}], \"pie\": [{\"automargin\": true, \"type\": \"pie\"}], \"scatter\": [{\"marker\": {\"colorbar\": {\"outlinewidth\": 0, \"ticks\": \"\"}}, \"type\": \"scatter\"}], \"scatter3d\": [{\"line\": {\"colorbar\": {\"outlinewidth\": 0, \"ticks\": \"\"}}, \"marker\": {\"colorbar\": {\"outlinewidth\": 0, \"ticks\": \"\"}}, \"type\": \"scatter3d\"}], \"scattercarpet\": [{\"marker\": {\"colorbar\": {\"outlinewidth\": 0, \"ticks\": \"\"}}, \"type\": \"scattercarpet\"}], \"scattergeo\": [{\"marker\": {\"colorbar\": {\"outlinewidth\": 0, \"ticks\": \"\"}}, \"type\": \"scattergeo\"}], \"scattergl\": [{\"marker\": {\"colorbar\": {\"outlinewidth\": 0, \"ticks\": \"\"}}, \"type\": \"scattergl\"}], \"scattermapbox\": [{\"marker\": {\"colorbar\": {\"outlinewidth\": 0, \"ticks\": \"\"}}, \"type\": \"scattermapbox\"}], \"scatterpolar\": [{\"marker\": {\"colorbar\": {\"outlinewidth\": 0, \"ticks\": \"\"}}, \"type\": \"scatterpolar\"}], \"scatterpolargl\": [{\"marker\": {\"colorbar\": {\"outlinewidth\": 0, \"ticks\": \"\"}}, \"type\": \"scatterpolargl\"}], \"scatterternary\": [{\"marker\": {\"colorbar\": {\"outlinewidth\": 0, \"ticks\": \"\"}}, \"type\": \"scatterternary\"}], \"surface\": [{\"colorbar\": {\"outlinewidth\": 0, \"ticks\": \"\"}, \"colorscale\": [[0.0, \"#0d0887\"], [0.1111111111111111, \"#46039f\"], [0.2222222222222222, \"#7201a8\"], [0.3333333333333333, \"#9c179e\"], [0.4444444444444444, \"#bd3786\"], [0.5555555555555556, \"#d8576b\"], [0.6666666666666666, \"#ed7953\"], [0.7777777777777778, \"#fb9f3a\"], [0.8888888888888888, \"#fdca26\"], [1.0, \"#f0f921\"]], \"type\": \"surface\"}], \"table\": [{\"cells\": {\"fill\": {\"color\": \"#EBF0F8\"}, \"line\": {\"color\": \"white\"}}, \"header\": {\"fill\": {\"color\": \"#C8D4E3\"}, \"line\": {\"color\": \"white\"}}, \"type\": \"table\"}]}, \"layout\": {\"annotationdefaults\": {\"arrowcolor\": \"#2a3f5f\", \"arrowhead\": 0, \"arrowwidth\": 1}, \"coloraxis\": {\"colorbar\": {\"outlinewidth\": 0, \"ticks\": \"\"}}, \"colorscale\": {\"diverging\": [[0, \"#8e0152\"], [0.1, \"#c51b7d\"], [0.2, \"#de77ae\"], [0.3, \"#f1b6da\"], [0.4, \"#fde0ef\"], [0.5, \"#f7f7f7\"], [0.6, \"#e6f5d0\"], [0.7, \"#b8e186\"], [0.8, \"#7fbc41\"], [0.9, \"#4d9221\"], [1, \"#276419\"]], \"sequential\": [[0.0, \"#0d0887\"], [0.1111111111111111, \"#46039f\"], [0.2222222222222222, \"#7201a8\"], [0.3333333333333333, \"#9c179e\"], [0.4444444444444444, \"#bd3786\"], [0.5555555555555556, \"#d8576b\"], [0.6666666666666666, \"#ed7953\"], [0.7777777777777778, \"#fb9f3a\"], [0.8888888888888888, \"#fdca26\"], [1.0, \"#f0f921\"]], \"sequentialminus\": [[0.0, \"#0d0887\"], [0.1111111111111111, \"#46039f\"], [0.2222222222222222, \"#7201a8\"], [0.3333333333333333, \"#9c179e\"], [0.4444444444444444, \"#bd3786\"], [0.5555555555555556, \"#d8576b\"], [0.6666666666666666, \"#ed7953\"], [0.7777777777777778, \"#fb9f3a\"], [0.8888888888888888, \"#fdca26\"], [1.0, \"#f0f921\"]]}, \"colorway\": [\"#636efa\", \"#EF553B\", \"#00cc96\", \"#ab63fa\", \"#FFA15A\", \"#19d3f3\", \"#FF6692\", \"#B6E880\", \"#FF97FF\", \"#FECB52\"], \"font\": {\"color\": \"#2a3f5f\"}, \"geo\": {\"bgcolor\": \"white\", \"lakecolor\": \"white\", \"landcolor\": \"#E5ECF6\", \"showlakes\": true, \"showland\": true, \"subunitcolor\": \"white\"}, \"hoverlabel\": {\"align\": \"left\"}, \"hovermode\": \"closest\", \"mapbox\": {\"style\": \"light\"}, \"paper_bgcolor\": \"white\", \"plot_bgcolor\": \"#E5ECF6\", \"polar\": {\"angularaxis\": {\"gridcolor\": \"white\", \"linecolor\": \"white\", \"ticks\": \"\"}, \"bgcolor\": \"#E5ECF6\", \"radialaxis\": {\"gridcolor\": \"white\", \"linecolor\": \"white\", \"ticks\": \"\"}}, \"scene\": {\"xaxis\": {\"backgroundcolor\": \"#E5ECF6\", \"gridcolor\": \"white\", \"gridwidth\": 2, \"linecolor\": \"white\", \"showbackground\": true, \"ticks\": \"\", \"zerolinecolor\": \"white\"}, \"yaxis\": {\"backgroundcolor\": \"#E5ECF6\", \"gridcolor\": \"white\", \"gridwidth\": 2, \"linecolor\": \"white\", \"showbackground\": true, \"ticks\": \"\", \"zerolinecolor\": \"white\"}, \"zaxis\": {\"backgroundcolor\": \"#E5ECF6\", \"gridcolor\": \"white\", \"gridwidth\": 2, \"linecolor\": \"white\", \"showbackground\": true, \"ticks\": \"\", \"zerolinecolor\": \"white\"}}, \"shapedefaults\": {\"line\": {\"color\": \"#2a3f5f\"}}, \"ternary\": {\"aaxis\": {\"gridcolor\": \"white\", \"linecolor\": \"white\", \"ticks\": \"\"}, \"baxis\": {\"gridcolor\": \"white\", \"linecolor\": \"white\", \"ticks\": \"\"}, \"bgcolor\": \"#E5ECF6\", \"caxis\": {\"gridcolor\": \"white\", \"linecolor\": \"white\", \"ticks\": \"\"}}, \"title\": {\"x\": 0.05}, \"xaxis\": {\"automargin\": true, \"gridcolor\": \"white\", \"linecolor\": \"white\", \"ticks\": \"\", \"title\": {\"standoff\": 15}, \"zerolinecolor\": \"white\", \"zerolinewidth\": 2}, \"yaxis\": {\"automargin\": true, \"gridcolor\": \"white\", \"linecolor\": \"white\", \"ticks\": \"\", \"title\": {\"standoff\": 15}, \"zerolinecolor\": \"white\", \"zerolinewidth\": 2}}}, \"title\": {\"text\": \"Prime-age employment rate by race and disability status, May 2020\"}, \"xaxis\": {\"anchor\": \"y\", \"categoryorder\": \"total descending\", \"domain\": [0.0, 1.0], \"title\": {\"text\": \"\"}}, \"yaxis\": {\"anchor\": \"x\", \"domain\": [0.0, 1.0], \"ticksuffix\": \"%\", \"title\": {\"text\": \"Employment rate of civilians aged 25 to 54\"}}},\n",
       "                        {\"responsive\": true}\n",
       "                    ).then(function(){\n",
       "                            \n",
       "var gd = document.getElementById('48abd07a-0799-476c-a74b-c8e17679ed04');\n",
       "var x = new MutationObserver(function (mutations, observer) {{\n",
       "        var display = window.getComputedStyle(gd).display;\n",
       "        if (!display || display === 'none') {{\n",
       "            console.log([gd, 'removed!']);\n",
       "            Plotly.purge(gd);\n",
       "            observer.disconnect();\n",
       "        }}\n",
       "}});\n",
       "\n",
       "// Listen for the removal of the full notebook cells\n",
       "var notebookContainer = gd.closest('#notebook-container');\n",
       "if (notebookContainer) {{\n",
       "    x.observe(notebookContainer, {childList: true});\n",
       "}}\n",
       "\n",
       "// Listen for the clearing of the current output cell\n",
       "var outputEl = gd.closest('.output');\n",
       "if (outputEl) {{\n",
       "    x.observe(outputEl, {childList: true});\n",
       "}}\n",
       "\n",
       "                        })\n",
       "                };\n",
       "                });\n",
       "            </script>\n",
       "        </div>"
      ]
     },
     "metadata": {},
     "output_type": "display_data"
    }
   ],
   "source": [
    "race_disability_emp_latest = race_disability_emp[\n",
    "    race_disability_emp.date == race_disability_emp.date.max()].copy(deep=True)\n",
    "race_disability_emp_latest.sort_values('black', ascending=False, inplace=True)\n",
    "\n",
    "fig = px.bar(race_disability_emp_latest, x='disability', y='emp_rate_round',\n",
    "             color='black', barmode='group',\n",
    "             color_discrete_map=COLOR_MAP)\n",
    "fig.update_layout(\n",
    "    title='Prime-age employment rate by race and disability status,' +\n",
    "    ' May 2020',\n",
    "    xaxis_title='',\n",
    "    yaxis_title='Employment rate of civilians aged 25 to 54',\n",
    "    yaxis_ticksuffix='%',\n",
    "    legend_title_text='',\n",
    "    plot_bgcolor='white',\n",
    "    font=dict(family='Roboto'),\n",
    "    xaxis={'categoryorder':'total descending'}\n",
    ")\n",
    "fig.update_traces(hovertemplate=None)\n",
    "fig.show()"
   ]
  },
  {
   "cell_type": "markdown",
   "metadata": {},
   "source": [
    "How to tease out the effects of being Black vs. having a disability, when they interact and each \n",
    "intersectional subgroup differs in size?\n",
    "Regression, of course!\n",
    "\n",
    "A linear probability regression shows that, in May 2020, being Black had an average employment effect of -6.3 percentage points,\n",
    "while having a disability had an average effect of -41.0 percentage points (about 6.5x the Black effect)."
   ]
  },
  {
   "cell_type": "code",
   "execution_count": 156,
   "metadata": {},
   "outputs": [
    {
     "data": {
      "text/plain": [
       "Index(['year', 'month', 'w', 'age', 'sex', 'race', 'empstat', 'diffhear',\n",
       "       'diffeye', 'diffrem', 'diffphys', 'diffmob', 'diffcare', 'diffany',\n",
       "       'day', 'date', 'female', 'emp', 'black', 'disability'],\n",
       "      dtype='object')"
      ]
     },
     "execution_count": 156,
     "metadata": {},
     "output_type": "execute_result"
    }
   ],
   "source": [
    "cps.columns"
   ]
  },
  {
   "cell_type": "code",
   "execution_count": 157,
   "metadata": {},
   "outputs": [
    {
     "data": {
      "text/html": [
       "<table style=\"text-align:center\"><tr><td colspan=\"4\" style=\"border-bottom: 1px solid black\"></td></tr><tr><td style=\"text-align:left\"></td><td colspan=\"3\"><em>Dependent variable:emp</em></td></tr><tr><td style=\"text-align:left\"></td><tr><td style=\"text-align:left\"></td><td>(1)</td><td>(2)</td><td>(3)</td></tr><tr><td colspan=\"4\" style=\"border-bottom: 1px solid black\"></td></tr><tr><td style=\"text-align:left\">Black</td><td>-0.035<sup>***</sup></td><td>-0.030<sup>***</sup></td><td>-0.030<sup>***</sup></td></tr><tr><td style=\"text-align:left\"></td><td>(0.002)</td><td>(0.002)</td><td>(0.002)</td></tr><tr><td style=\"text-align:left\">Has disability</td><td>-0.435<sup>***</sup></td><td>-0.436<sup>***</sup></td><td>-0.255<sup>***</sup></td></tr><tr><td style=\"text-align:left\"></td><td>(0.003)</td><td>(0.003)</td><td>(0.006)</td></tr><tr><td style=\"text-align:left\">Black * Has disability</td><td>-0.068<sup>***</sup></td><td>-0.069<sup>***</sup></td><td>-0.026<sup>***</sup></td></tr><tr><td style=\"text-align:left\"></td><td>(0.009)</td><td>(0.009)</td><td>(0.009)</td></tr><td colspan=\"4\" style=\"border-bottom: 1px solid black\"></td></tr><tr><td style=\"text-align: left\">Observations</td><td>509,585</td><td>509,585</td><td>509,585</td></tr><tr><td style=\"text-align: left\">R<sup>2</sup></td><td>0.075</td><td>0.098</td><td>0.111</td></tr><tr><td colspan=\"4\" style=\"border-bottom: 1px solid black\"></td></tr><tr><td style=\"text-align: left\">Note:</td>\n",
       " <td colspan=\"3\" style=\"text-align: right\">\n",
       "  <sup>*</sup>p&lt;0.1;\n",
       "  <sup>**</sup>p&lt;0.05;\n",
       "  <sup>***</sup>p&lt;0.01\n",
       " </td></tr></table>"
      ],
      "text/plain": [
       "<stargazer.stargazer.Stargazer at 0x7b08a9059410>"
      ]
     },
     "execution_count": 157,
     "metadata": {},
     "output_type": "execute_result"
    }
   ],
   "source": [
    "cps_ly = cps[cps.date > '2019-05-30'].copy(deep=True)\n",
    "# cps2020 = cps[cps.date.dt.year == 2020].copy(deep=True)\n",
    "cps_ly['covid'] = cps_ly.date.dt.month > 3\n",
    "\n",
    "# Switch text columns to bools (and later ints).\n",
    "cps_ly['black'] = cps_ly.black == 'Black'\n",
    "cps_ly['disability'] = cps_ly.disability == 'Has disability'\n",
    "# Create interactions.\n",
    "cps_ly['black_disability'] = cps_ly.black & cps_ly.disability\n",
    "cps_ly['black_covid'] = cps_ly.black & cps_ly.covid\n",
    "cps_ly['disability_covid'] = cps_ly.disability & cps_ly.covid\n",
    "cps_ly['black_disability_covid'] = cps_ly.black_disability & cps_ly.covid\n",
    "\n",
    "# Add fixed effects for each month.\n",
    "for i in cps_ly.date.dt.month.unique():\n",
    "    cps_ly['month' + str(i)] = cps_ly.date.dt.month == i\n",
    "\n",
    "# No longer need date.\n",
    "cps_ly.drop('date', axis=1, inplace=True)\n",
    "\n",
    "# Add other controls.\n",
    "cps_ly['age2'] = np.power(cps_ly.age, 2)\n",
    "\n",
    "# Add a constant and change to ints\n",
    "cps_ly['const'] = 1\n",
    "cps_ly *= 1\n",
    "\n",
    "DD_COLS = ['black', 'disability', 'black_disability']\n",
    "MONTH_FES = ['month' + str(i) for i in np.arange(1, 6)]\n",
    "CONTROLS = ['age', 'age2', 'female']\n",
    "\n",
    "def emp_model(xcols, data=cps_ly):\n",
    "    return sm.WLS(data.emp,\n",
    "                  data[xcols + ['const']],\n",
    "                  data.w).fit(cov_type='HC1')\n",
    "\n",
    "\n",
    "# Run model without triple-diff first.\n",
    "m = emp_model(DD_COLS + MONTH_FES)\n",
    "\n",
    "m_controls = emp_model(DD_COLS + MONTH_FES + CONTROLS)\n",
    "\n",
    "m_controls_diffs = emp_model(DD_COLS + MONTH_FES + CONTROLS + DIFFS)\n",
    "\n",
    "COVARIATE_NAMES = {\n",
    "    'black': 'Black',\n",
    "    'disability': 'Has disability',\n",
    "    'black_disability': 'Black * Has disability',\n",
    "    # Name difficulties following IPUMS labels.\n",
    "    'diffhear': 'Hearing difficulty',\n",
    "    'diffeye': 'Vision difficulty',\n",
    "    'diffrem': 'Difficulty remembering',\n",
    "    'diffphys': 'Physical difficulty', \n",
    "    'diffmob': 'Mobility limitation',\n",
    "    'diffcare': 'Personal care difficulty',\n",
    "    'diffhear_black': 'Hearing difficulty * Black',\n",
    "    'diffeye_black': 'Vision difficulty * Black',\n",
    "    'diffrem_black': 'Difficulty remembering * Black',\n",
    "    'diffphys_black': 'Physical difficulty * Black', \n",
    "    'diffmob_black': 'Mobility limitation * Black',\n",
    "    'diffcare_black': 'Personal care difficulty * Black',\n",
    "}\n",
    "\n",
    "def starg(models, covariate_order):\n",
    "    \"\"\" Creates formatted Stargazer object.\n",
    "    \"\"\"\n",
    "    star = sg.Stargazer(models)\n",
    "    star.covariate_order(covariate_order)\n",
    "    star.rename_covariates(COVARIATE_NAMES)\n",
    "    # These aren't currently merged, see\n",
    "    # https://github.com/mwburke/stargazer/pull/58.\n",
    "    star.hide_adj_r2()\n",
    "    star.hide_residual_std_err()\n",
    "    star.hide_f_statistic()\n",
    "    return star\n",
    "\n",
    "\n",
    "starg([m, m_controls, m_controls_diffs],\n",
    "      ['black', 'disability', 'black_disability'])"
   ]
  },
  {
   "cell_type": "markdown",
   "metadata": {},
   "source": [
    "Which disabilities are Black people more likely to have?\n",
    "\n",
    "Black Americans are [30 percent more likely](https://minorityhealth.hhs.gov/omh/browse.aspx?lvl=4&lvlid=25) to be obese."
   ]
  },
  {
   "cell_type": "code",
   "execution_count": 158,
   "metadata": {},
   "outputs": [
    {
     "data": {
      "text/plain": [
       "['diffhear', 'diffeye', 'diffrem', 'diffphys', 'diffmob', 'diffcare']"
      ]
     },
     "execution_count": 158,
     "metadata": {},
     "output_type": "execute_result"
    }
   ],
   "source": [
    "DIFFS"
   ]
  },
  {
   "cell_type": "code",
   "execution_count": 159,
   "metadata": {},
   "outputs": [
    {
     "data": {
      "text/plain": [
       "black\n",
       "0    1.698733\n",
       "1    1.829746\n",
       "Name: num_diffs, dtype: float64"
      ]
     },
     "execution_count": 159,
     "metadata": {},
     "output_type": "execute_result"
    }
   ],
   "source": [
    "cps_ly['num_diffs'] = cps_ly[DIFFS].sum(axis=1)\n",
    "mdf.add_weighted_metrics(cps_ly, 'num_diffs', 'w')\n",
    "# Needs to be weighted.\n",
    "num_diffs = cps_ly[cps_ly.disability == 1].groupby('black')[\n",
    "    ['num_diffs_m', 'w_m']].sum()\n",
    "num_diffs['num_diffs'] = num_diffs.num_diffs_m / num_diffs.w_m\n",
    "num_diffs.num_diffs"
   ]
  },
  {
   "cell_type": "code",
   "execution_count": 160,
   "metadata": {},
   "outputs": [],
   "source": [
    "def share_w_disability(disability, black):\n",
    "    num = cps_ly[(cps_ly.black == black) & (cps_ly[disability] == 1)].w.sum()\n",
    "    denom = cps_ly[(cps_ly.black == black) & (cps_ly.disability)].w.sum()\n",
    "    return num / denom\n",
    "\n",
    "diffs_black = mdf.cartesian_product({'disability': DIFFS,\n",
    "                                     'black': [True, False]})\n",
    "diffs_black['share'] = diffs_black.apply(\n",
    "    lambda row: share_w_disability(row.disability, row.black), axis=1)\n",
    "diffs_black.share *= 100\n",
    "diffs_black['share_round'] = diffs_black.share.round(1)\n",
    "diffs_black.black = np.where(diffs_black.black, 'Black', 'Not Black')\n",
    "diffs_black.replace(DIFFS,\n",
    "                    ['Hearing', 'Vision', 'Remembering', 'Physical',\n",
    "                     'Mobility', 'Self-care'],\n",
    "                    inplace=True)\n",
    "# Sort by black for within-group ordering.\n",
    "diffs_black.sort_values('black', ascending=False, inplace=True)"
   ]
  },
  {
   "cell_type": "code",
   "execution_count": 161,
   "metadata": {},
   "outputs": [
    {
     "data": {
      "application/vnd.plotly.v1+json": {
       "config": {
        "plotlyServerURL": "https://plot.ly"
       },
       "data": [
        {
         "alignmentgroup": "True",
         "legendgroup": "Not Black",
         "marker": {
          "color": "#BDBDBD"
         },
         "name": "Not Black",
         "offsetgroup": "Not Black",
         "orientation": "h",
         "showlegend": true,
         "textposition": "auto",
         "type": "bar",
         "x": [
          19.4,
          13.2,
          46.2,
          42.6,
          34.2,
          14.3
         ],
         "xaxis": "x",
         "y": [
          "Hearing",
          "Vision",
          "Remembering",
          "Physical",
          "Mobility",
          "Self-care"
         ],
         "yaxis": "y"
        },
        {
         "alignmentgroup": "True",
         "legendgroup": "Black",
         "marker": {
          "color": "#1976D2"
         },
         "name": "Black",
         "offsetgroup": "Black",
         "orientation": "h",
         "showlegend": true,
         "textposition": "auto",
         "type": "bar",
         "x": [
          9.4,
          17.1,
          46.5,
          50,
          40.7,
          19.3
         ],
         "xaxis": "x",
         "y": [
          "Hearing",
          "Vision",
          "Remembering",
          "Physical",
          "Mobility",
          "Self-care"
         ],
         "yaxis": "y"
        }
       ],
       "layout": {
        "barmode": "group",
        "font": {
         "family": "Roboto"
        },
        "legend": {
         "title": {
          "text": ""
         },
         "tracegroupgap": 0,
         "traceorder": "reversed"
        },
        "margin": {
         "t": 60
        },
        "plot_bgcolor": "white",
        "template": {
         "data": {
          "bar": [
           {
            "error_x": {
             "color": "#2a3f5f"
            },
            "error_y": {
             "color": "#2a3f5f"
            },
            "marker": {
             "line": {
              "color": "#E5ECF6",
              "width": 0.5
             }
            },
            "type": "bar"
           }
          ],
          "barpolar": [
           {
            "marker": {
             "line": {
              "color": "#E5ECF6",
              "width": 0.5
             }
            },
            "type": "barpolar"
           }
          ],
          "carpet": [
           {
            "aaxis": {
             "endlinecolor": "#2a3f5f",
             "gridcolor": "white",
             "linecolor": "white",
             "minorgridcolor": "white",
             "startlinecolor": "#2a3f5f"
            },
            "baxis": {
             "endlinecolor": "#2a3f5f",
             "gridcolor": "white",
             "linecolor": "white",
             "minorgridcolor": "white",
             "startlinecolor": "#2a3f5f"
            },
            "type": "carpet"
           }
          ],
          "choropleth": [
           {
            "colorbar": {
             "outlinewidth": 0,
             "ticks": ""
            },
            "type": "choropleth"
           }
          ],
          "contour": [
           {
            "colorbar": {
             "outlinewidth": 0,
             "ticks": ""
            },
            "colorscale": [
             [
              0,
              "#0d0887"
             ],
             [
              0.1111111111111111,
              "#46039f"
             ],
             [
              0.2222222222222222,
              "#7201a8"
             ],
             [
              0.3333333333333333,
              "#9c179e"
             ],
             [
              0.4444444444444444,
              "#bd3786"
             ],
             [
              0.5555555555555556,
              "#d8576b"
             ],
             [
              0.6666666666666666,
              "#ed7953"
             ],
             [
              0.7777777777777778,
              "#fb9f3a"
             ],
             [
              0.8888888888888888,
              "#fdca26"
             ],
             [
              1,
              "#f0f921"
             ]
            ],
            "type": "contour"
           }
          ],
          "contourcarpet": [
           {
            "colorbar": {
             "outlinewidth": 0,
             "ticks": ""
            },
            "type": "contourcarpet"
           }
          ],
          "heatmap": [
           {
            "colorbar": {
             "outlinewidth": 0,
             "ticks": ""
            },
            "colorscale": [
             [
              0,
              "#0d0887"
             ],
             [
              0.1111111111111111,
              "#46039f"
             ],
             [
              0.2222222222222222,
              "#7201a8"
             ],
             [
              0.3333333333333333,
              "#9c179e"
             ],
             [
              0.4444444444444444,
              "#bd3786"
             ],
             [
              0.5555555555555556,
              "#d8576b"
             ],
             [
              0.6666666666666666,
              "#ed7953"
             ],
             [
              0.7777777777777778,
              "#fb9f3a"
             ],
             [
              0.8888888888888888,
              "#fdca26"
             ],
             [
              1,
              "#f0f921"
             ]
            ],
            "type": "heatmap"
           }
          ],
          "heatmapgl": [
           {
            "colorbar": {
             "outlinewidth": 0,
             "ticks": ""
            },
            "colorscale": [
             [
              0,
              "#0d0887"
             ],
             [
              0.1111111111111111,
              "#46039f"
             ],
             [
              0.2222222222222222,
              "#7201a8"
             ],
             [
              0.3333333333333333,
              "#9c179e"
             ],
             [
              0.4444444444444444,
              "#bd3786"
             ],
             [
              0.5555555555555556,
              "#d8576b"
             ],
             [
              0.6666666666666666,
              "#ed7953"
             ],
             [
              0.7777777777777778,
              "#fb9f3a"
             ],
             [
              0.8888888888888888,
              "#fdca26"
             ],
             [
              1,
              "#f0f921"
             ]
            ],
            "type": "heatmapgl"
           }
          ],
          "histogram": [
           {
            "marker": {
             "colorbar": {
              "outlinewidth": 0,
              "ticks": ""
             }
            },
            "type": "histogram"
           }
          ],
          "histogram2d": [
           {
            "colorbar": {
             "outlinewidth": 0,
             "ticks": ""
            },
            "colorscale": [
             [
              0,
              "#0d0887"
             ],
             [
              0.1111111111111111,
              "#46039f"
             ],
             [
              0.2222222222222222,
              "#7201a8"
             ],
             [
              0.3333333333333333,
              "#9c179e"
             ],
             [
              0.4444444444444444,
              "#bd3786"
             ],
             [
              0.5555555555555556,
              "#d8576b"
             ],
             [
              0.6666666666666666,
              "#ed7953"
             ],
             [
              0.7777777777777778,
              "#fb9f3a"
             ],
             [
              0.8888888888888888,
              "#fdca26"
             ],
             [
              1,
              "#f0f921"
             ]
            ],
            "type": "histogram2d"
           }
          ],
          "histogram2dcontour": [
           {
            "colorbar": {
             "outlinewidth": 0,
             "ticks": ""
            },
            "colorscale": [
             [
              0,
              "#0d0887"
             ],
             [
              0.1111111111111111,
              "#46039f"
             ],
             [
              0.2222222222222222,
              "#7201a8"
             ],
             [
              0.3333333333333333,
              "#9c179e"
             ],
             [
              0.4444444444444444,
              "#bd3786"
             ],
             [
              0.5555555555555556,
              "#d8576b"
             ],
             [
              0.6666666666666666,
              "#ed7953"
             ],
             [
              0.7777777777777778,
              "#fb9f3a"
             ],
             [
              0.8888888888888888,
              "#fdca26"
             ],
             [
              1,
              "#f0f921"
             ]
            ],
            "type": "histogram2dcontour"
           }
          ],
          "mesh3d": [
           {
            "colorbar": {
             "outlinewidth": 0,
             "ticks": ""
            },
            "type": "mesh3d"
           }
          ],
          "parcoords": [
           {
            "line": {
             "colorbar": {
              "outlinewidth": 0,
              "ticks": ""
             }
            },
            "type": "parcoords"
           }
          ],
          "pie": [
           {
            "automargin": true,
            "type": "pie"
           }
          ],
          "scatter": [
           {
            "marker": {
             "colorbar": {
              "outlinewidth": 0,
              "ticks": ""
             }
            },
            "type": "scatter"
           }
          ],
          "scatter3d": [
           {
            "line": {
             "colorbar": {
              "outlinewidth": 0,
              "ticks": ""
             }
            },
            "marker": {
             "colorbar": {
              "outlinewidth": 0,
              "ticks": ""
             }
            },
            "type": "scatter3d"
           }
          ],
          "scattercarpet": [
           {
            "marker": {
             "colorbar": {
              "outlinewidth": 0,
              "ticks": ""
             }
            },
            "type": "scattercarpet"
           }
          ],
          "scattergeo": [
           {
            "marker": {
             "colorbar": {
              "outlinewidth": 0,
              "ticks": ""
             }
            },
            "type": "scattergeo"
           }
          ],
          "scattergl": [
           {
            "marker": {
             "colorbar": {
              "outlinewidth": 0,
              "ticks": ""
             }
            },
            "type": "scattergl"
           }
          ],
          "scattermapbox": [
           {
            "marker": {
             "colorbar": {
              "outlinewidth": 0,
              "ticks": ""
             }
            },
            "type": "scattermapbox"
           }
          ],
          "scatterpolar": [
           {
            "marker": {
             "colorbar": {
              "outlinewidth": 0,
              "ticks": ""
             }
            },
            "type": "scatterpolar"
           }
          ],
          "scatterpolargl": [
           {
            "marker": {
             "colorbar": {
              "outlinewidth": 0,
              "ticks": ""
             }
            },
            "type": "scatterpolargl"
           }
          ],
          "scatterternary": [
           {
            "marker": {
             "colorbar": {
              "outlinewidth": 0,
              "ticks": ""
             }
            },
            "type": "scatterternary"
           }
          ],
          "surface": [
           {
            "colorbar": {
             "outlinewidth": 0,
             "ticks": ""
            },
            "colorscale": [
             [
              0,
              "#0d0887"
             ],
             [
              0.1111111111111111,
              "#46039f"
             ],
             [
              0.2222222222222222,
              "#7201a8"
             ],
             [
              0.3333333333333333,
              "#9c179e"
             ],
             [
              0.4444444444444444,
              "#bd3786"
             ],
             [
              0.5555555555555556,
              "#d8576b"
             ],
             [
              0.6666666666666666,
              "#ed7953"
             ],
             [
              0.7777777777777778,
              "#fb9f3a"
             ],
             [
              0.8888888888888888,
              "#fdca26"
             ],
             [
              1,
              "#f0f921"
             ]
            ],
            "type": "surface"
           }
          ],
          "table": [
           {
            "cells": {
             "fill": {
              "color": "#EBF0F8"
             },
             "line": {
              "color": "white"
             }
            },
            "header": {
             "fill": {
              "color": "#C8D4E3"
             },
             "line": {
              "color": "white"
             }
            },
            "type": "table"
           }
          ]
         },
         "layout": {
          "annotationdefaults": {
           "arrowcolor": "#2a3f5f",
           "arrowhead": 0,
           "arrowwidth": 1
          },
          "coloraxis": {
           "colorbar": {
            "outlinewidth": 0,
            "ticks": ""
           }
          },
          "colorscale": {
           "diverging": [
            [
             0,
             "#8e0152"
            ],
            [
             0.1,
             "#c51b7d"
            ],
            [
             0.2,
             "#de77ae"
            ],
            [
             0.3,
             "#f1b6da"
            ],
            [
             0.4,
             "#fde0ef"
            ],
            [
             0.5,
             "#f7f7f7"
            ],
            [
             0.6,
             "#e6f5d0"
            ],
            [
             0.7,
             "#b8e186"
            ],
            [
             0.8,
             "#7fbc41"
            ],
            [
             0.9,
             "#4d9221"
            ],
            [
             1,
             "#276419"
            ]
           ],
           "sequential": [
            [
             0,
             "#0d0887"
            ],
            [
             0.1111111111111111,
             "#46039f"
            ],
            [
             0.2222222222222222,
             "#7201a8"
            ],
            [
             0.3333333333333333,
             "#9c179e"
            ],
            [
             0.4444444444444444,
             "#bd3786"
            ],
            [
             0.5555555555555556,
             "#d8576b"
            ],
            [
             0.6666666666666666,
             "#ed7953"
            ],
            [
             0.7777777777777778,
             "#fb9f3a"
            ],
            [
             0.8888888888888888,
             "#fdca26"
            ],
            [
             1,
             "#f0f921"
            ]
           ],
           "sequentialminus": [
            [
             0,
             "#0d0887"
            ],
            [
             0.1111111111111111,
             "#46039f"
            ],
            [
             0.2222222222222222,
             "#7201a8"
            ],
            [
             0.3333333333333333,
             "#9c179e"
            ],
            [
             0.4444444444444444,
             "#bd3786"
            ],
            [
             0.5555555555555556,
             "#d8576b"
            ],
            [
             0.6666666666666666,
             "#ed7953"
            ],
            [
             0.7777777777777778,
             "#fb9f3a"
            ],
            [
             0.8888888888888888,
             "#fdca26"
            ],
            [
             1,
             "#f0f921"
            ]
           ]
          },
          "colorway": [
           "#636efa",
           "#EF553B",
           "#00cc96",
           "#ab63fa",
           "#FFA15A",
           "#19d3f3",
           "#FF6692",
           "#B6E880",
           "#FF97FF",
           "#FECB52"
          ],
          "font": {
           "color": "#2a3f5f"
          },
          "geo": {
           "bgcolor": "white",
           "lakecolor": "white",
           "landcolor": "#E5ECF6",
           "showlakes": true,
           "showland": true,
           "subunitcolor": "white"
          },
          "hoverlabel": {
           "align": "left"
          },
          "hovermode": "closest",
          "mapbox": {
           "style": "light"
          },
          "paper_bgcolor": "white",
          "plot_bgcolor": "#E5ECF6",
          "polar": {
           "angularaxis": {
            "gridcolor": "white",
            "linecolor": "white",
            "ticks": ""
           },
           "bgcolor": "#E5ECF6",
           "radialaxis": {
            "gridcolor": "white",
            "linecolor": "white",
            "ticks": ""
           }
          },
          "scene": {
           "xaxis": {
            "backgroundcolor": "#E5ECF6",
            "gridcolor": "white",
            "gridwidth": 2,
            "linecolor": "white",
            "showbackground": true,
            "ticks": "",
            "zerolinecolor": "white"
           },
           "yaxis": {
            "backgroundcolor": "#E5ECF6",
            "gridcolor": "white",
            "gridwidth": 2,
            "linecolor": "white",
            "showbackground": true,
            "ticks": "",
            "zerolinecolor": "white"
           },
           "zaxis": {
            "backgroundcolor": "#E5ECF6",
            "gridcolor": "white",
            "gridwidth": 2,
            "linecolor": "white",
            "showbackground": true,
            "ticks": "",
            "zerolinecolor": "white"
           }
          },
          "shapedefaults": {
           "line": {
            "color": "#2a3f5f"
           }
          },
          "ternary": {
           "aaxis": {
            "gridcolor": "white",
            "linecolor": "white",
            "ticks": ""
           },
           "baxis": {
            "gridcolor": "white",
            "linecolor": "white",
            "ticks": ""
           },
           "bgcolor": "#E5ECF6",
           "caxis": {
            "gridcolor": "white",
            "linecolor": "white",
            "ticks": ""
           }
          },
          "title": {
           "x": 0.05
          },
          "xaxis": {
           "automargin": true,
           "gridcolor": "white",
           "linecolor": "white",
           "ticks": "",
           "title": {
            "standoff": 15
           },
           "zerolinecolor": "white",
           "zerolinewidth": 2
          },
          "yaxis": {
           "automargin": true,
           "gridcolor": "white",
           "linecolor": "white",
           "ticks": "",
           "title": {
            "standoff": 15
           },
           "zerolinecolor": "white",
           "zerolinewidth": 2
          }
         }
        },
        "title": {
         "text": "Prevalence of each CPS difficulty by race, June 2019 to May 2020"
        },
        "xaxis": {
         "anchor": "y",
         "domain": [
          0,
          1
         ],
         "ticksuffix": "%",
         "title": {
          "text": "Share among people who report any difficulty"
         }
        },
        "yaxis": {
         "anchor": "x",
         "categoryarray": [
          "Hearing",
          "Vision",
          "Self-care",
          "Mobility",
          "Remembering",
          "Physical"
         ],
         "categoryorder": "array",
         "domain": [
          0,
          1
         ],
         "title": {
          "text": "Difficulty"
         }
        }
       }
      },
      "text/html": [
       "<div>\n",
       "        \n",
       "        \n",
       "            <div id=\"e7364d93-715b-4f22-9bba-5ea2885a8fa3\" class=\"plotly-graph-div\" style=\"height:525px; width:100%;\"></div>\n",
       "            <script type=\"text/javascript\">\n",
       "                require([\"plotly\"], function(Plotly) {\n",
       "                    window.PLOTLYENV=window.PLOTLYENV || {};\n",
       "                    \n",
       "                if (document.getElementById(\"e7364d93-715b-4f22-9bba-5ea2885a8fa3\")) {\n",
       "                    Plotly.newPlot(\n",
       "                        'e7364d93-715b-4f22-9bba-5ea2885a8fa3',\n",
       "                        [{\"alignmentgroup\": \"True\", \"legendgroup\": \"Not Black\", \"marker\": {\"color\": \"#BDBDBD\"}, \"name\": \"Not Black\", \"offsetgroup\": \"Not Black\", \"orientation\": \"h\", \"showlegend\": true, \"textposition\": \"auto\", \"type\": \"bar\", \"x\": [19.4, 13.2, 46.2, 42.6, 34.2, 14.3], \"xaxis\": \"x\", \"y\": [\"Hearing\", \"Vision\", \"Remembering\", \"Physical\", \"Mobility\", \"Self-care\"], \"yaxis\": \"y\"}, {\"alignmentgroup\": \"True\", \"legendgroup\": \"Black\", \"marker\": {\"color\": \"#1976D2\"}, \"name\": \"Black\", \"offsetgroup\": \"Black\", \"orientation\": \"h\", \"showlegend\": true, \"textposition\": \"auto\", \"type\": \"bar\", \"x\": [9.4, 17.1, 46.5, 50.0, 40.7, 19.3], \"xaxis\": \"x\", \"y\": [\"Hearing\", \"Vision\", \"Remembering\", \"Physical\", \"Mobility\", \"Self-care\"], \"yaxis\": \"y\"}],\n",
       "                        {\"barmode\": \"group\", \"font\": {\"family\": \"Roboto\"}, \"legend\": {\"title\": {\"text\": \"\"}, \"tracegroupgap\": 0, \"traceorder\": \"reversed\"}, \"margin\": {\"t\": 60}, \"plot_bgcolor\": \"white\", \"template\": {\"data\": {\"bar\": [{\"error_x\": {\"color\": \"#2a3f5f\"}, \"error_y\": {\"color\": \"#2a3f5f\"}, \"marker\": {\"line\": {\"color\": \"#E5ECF6\", \"width\": 0.5}}, \"type\": \"bar\"}], \"barpolar\": [{\"marker\": {\"line\": {\"color\": \"#E5ECF6\", \"width\": 0.5}}, \"type\": \"barpolar\"}], \"carpet\": [{\"aaxis\": {\"endlinecolor\": \"#2a3f5f\", \"gridcolor\": \"white\", \"linecolor\": \"white\", \"minorgridcolor\": \"white\", \"startlinecolor\": \"#2a3f5f\"}, \"baxis\": {\"endlinecolor\": \"#2a3f5f\", \"gridcolor\": \"white\", \"linecolor\": \"white\", \"minorgridcolor\": \"white\", \"startlinecolor\": \"#2a3f5f\"}, \"type\": \"carpet\"}], \"choropleth\": [{\"colorbar\": {\"outlinewidth\": 0, \"ticks\": \"\"}, \"type\": \"choropleth\"}], \"contour\": [{\"colorbar\": {\"outlinewidth\": 0, \"ticks\": \"\"}, \"colorscale\": [[0.0, \"#0d0887\"], [0.1111111111111111, \"#46039f\"], [0.2222222222222222, \"#7201a8\"], [0.3333333333333333, \"#9c179e\"], [0.4444444444444444, \"#bd3786\"], [0.5555555555555556, \"#d8576b\"], [0.6666666666666666, \"#ed7953\"], [0.7777777777777778, \"#fb9f3a\"], [0.8888888888888888, \"#fdca26\"], [1.0, \"#f0f921\"]], \"type\": \"contour\"}], \"contourcarpet\": [{\"colorbar\": {\"outlinewidth\": 0, \"ticks\": \"\"}, \"type\": \"contourcarpet\"}], \"heatmap\": [{\"colorbar\": {\"outlinewidth\": 0, \"ticks\": \"\"}, \"colorscale\": [[0.0, \"#0d0887\"], [0.1111111111111111, \"#46039f\"], [0.2222222222222222, \"#7201a8\"], [0.3333333333333333, \"#9c179e\"], [0.4444444444444444, \"#bd3786\"], [0.5555555555555556, \"#d8576b\"], [0.6666666666666666, \"#ed7953\"], [0.7777777777777778, \"#fb9f3a\"], [0.8888888888888888, \"#fdca26\"], [1.0, \"#f0f921\"]], \"type\": \"heatmap\"}], \"heatmapgl\": [{\"colorbar\": {\"outlinewidth\": 0, \"ticks\": \"\"}, \"colorscale\": [[0.0, \"#0d0887\"], [0.1111111111111111, \"#46039f\"], [0.2222222222222222, \"#7201a8\"], [0.3333333333333333, \"#9c179e\"], [0.4444444444444444, \"#bd3786\"], [0.5555555555555556, \"#d8576b\"], [0.6666666666666666, \"#ed7953\"], [0.7777777777777778, \"#fb9f3a\"], [0.8888888888888888, \"#fdca26\"], [1.0, \"#f0f921\"]], \"type\": \"heatmapgl\"}], \"histogram\": [{\"marker\": {\"colorbar\": {\"outlinewidth\": 0, \"ticks\": \"\"}}, \"type\": \"histogram\"}], \"histogram2d\": [{\"colorbar\": {\"outlinewidth\": 0, \"ticks\": \"\"}, \"colorscale\": [[0.0, \"#0d0887\"], [0.1111111111111111, \"#46039f\"], [0.2222222222222222, \"#7201a8\"], [0.3333333333333333, \"#9c179e\"], [0.4444444444444444, \"#bd3786\"], [0.5555555555555556, \"#d8576b\"], [0.6666666666666666, \"#ed7953\"], [0.7777777777777778, \"#fb9f3a\"], [0.8888888888888888, \"#fdca26\"], [1.0, \"#f0f921\"]], \"type\": \"histogram2d\"}], \"histogram2dcontour\": [{\"colorbar\": {\"outlinewidth\": 0, \"ticks\": \"\"}, \"colorscale\": [[0.0, \"#0d0887\"], [0.1111111111111111, \"#46039f\"], [0.2222222222222222, \"#7201a8\"], [0.3333333333333333, \"#9c179e\"], [0.4444444444444444, \"#bd3786\"], [0.5555555555555556, \"#d8576b\"], [0.6666666666666666, \"#ed7953\"], [0.7777777777777778, \"#fb9f3a\"], [0.8888888888888888, \"#fdca26\"], [1.0, \"#f0f921\"]], \"type\": \"histogram2dcontour\"}], \"mesh3d\": [{\"colorbar\": {\"outlinewidth\": 0, \"ticks\": \"\"}, \"type\": \"mesh3d\"}], \"parcoords\": [{\"line\": {\"colorbar\": {\"outlinewidth\": 0, \"ticks\": \"\"}}, \"type\": \"parcoords\"}], \"pie\": [{\"automargin\": true, \"type\": \"pie\"}], \"scatter\": [{\"marker\": {\"colorbar\": {\"outlinewidth\": 0, \"ticks\": \"\"}}, \"type\": \"scatter\"}], \"scatter3d\": [{\"line\": {\"colorbar\": {\"outlinewidth\": 0, \"ticks\": \"\"}}, \"marker\": {\"colorbar\": {\"outlinewidth\": 0, \"ticks\": \"\"}}, \"type\": \"scatter3d\"}], \"scattercarpet\": [{\"marker\": {\"colorbar\": {\"outlinewidth\": 0, \"ticks\": \"\"}}, \"type\": \"scattercarpet\"}], \"scattergeo\": [{\"marker\": {\"colorbar\": {\"outlinewidth\": 0, \"ticks\": \"\"}}, \"type\": \"scattergeo\"}], \"scattergl\": [{\"marker\": {\"colorbar\": {\"outlinewidth\": 0, \"ticks\": \"\"}}, \"type\": \"scattergl\"}], \"scattermapbox\": [{\"marker\": {\"colorbar\": {\"outlinewidth\": 0, \"ticks\": \"\"}}, \"type\": \"scattermapbox\"}], \"scatterpolar\": [{\"marker\": {\"colorbar\": {\"outlinewidth\": 0, \"ticks\": \"\"}}, \"type\": \"scatterpolar\"}], \"scatterpolargl\": [{\"marker\": {\"colorbar\": {\"outlinewidth\": 0, \"ticks\": \"\"}}, \"type\": \"scatterpolargl\"}], \"scatterternary\": [{\"marker\": {\"colorbar\": {\"outlinewidth\": 0, \"ticks\": \"\"}}, \"type\": \"scatterternary\"}], \"surface\": [{\"colorbar\": {\"outlinewidth\": 0, \"ticks\": \"\"}, \"colorscale\": [[0.0, \"#0d0887\"], [0.1111111111111111, \"#46039f\"], [0.2222222222222222, \"#7201a8\"], [0.3333333333333333, \"#9c179e\"], [0.4444444444444444, \"#bd3786\"], [0.5555555555555556, \"#d8576b\"], [0.6666666666666666, \"#ed7953\"], [0.7777777777777778, \"#fb9f3a\"], [0.8888888888888888, \"#fdca26\"], [1.0, \"#f0f921\"]], \"type\": \"surface\"}], \"table\": [{\"cells\": {\"fill\": {\"color\": \"#EBF0F8\"}, \"line\": {\"color\": \"white\"}}, \"header\": {\"fill\": {\"color\": \"#C8D4E3\"}, \"line\": {\"color\": \"white\"}}, \"type\": \"table\"}]}, \"layout\": {\"annotationdefaults\": {\"arrowcolor\": \"#2a3f5f\", \"arrowhead\": 0, \"arrowwidth\": 1}, \"coloraxis\": {\"colorbar\": {\"outlinewidth\": 0, \"ticks\": \"\"}}, \"colorscale\": {\"diverging\": [[0, \"#8e0152\"], [0.1, \"#c51b7d\"], [0.2, \"#de77ae\"], [0.3, \"#f1b6da\"], [0.4, \"#fde0ef\"], [0.5, \"#f7f7f7\"], [0.6, \"#e6f5d0\"], [0.7, \"#b8e186\"], [0.8, \"#7fbc41\"], [0.9, \"#4d9221\"], [1, \"#276419\"]], \"sequential\": [[0.0, \"#0d0887\"], [0.1111111111111111, \"#46039f\"], [0.2222222222222222, \"#7201a8\"], [0.3333333333333333, \"#9c179e\"], [0.4444444444444444, \"#bd3786\"], [0.5555555555555556, \"#d8576b\"], [0.6666666666666666, \"#ed7953\"], [0.7777777777777778, \"#fb9f3a\"], [0.8888888888888888, \"#fdca26\"], [1.0, \"#f0f921\"]], \"sequentialminus\": [[0.0, \"#0d0887\"], [0.1111111111111111, \"#46039f\"], [0.2222222222222222, \"#7201a8\"], [0.3333333333333333, \"#9c179e\"], [0.4444444444444444, \"#bd3786\"], [0.5555555555555556, \"#d8576b\"], [0.6666666666666666, \"#ed7953\"], [0.7777777777777778, \"#fb9f3a\"], [0.8888888888888888, \"#fdca26\"], [1.0, \"#f0f921\"]]}, \"colorway\": [\"#636efa\", \"#EF553B\", \"#00cc96\", \"#ab63fa\", \"#FFA15A\", \"#19d3f3\", \"#FF6692\", \"#B6E880\", \"#FF97FF\", \"#FECB52\"], \"font\": {\"color\": \"#2a3f5f\"}, \"geo\": {\"bgcolor\": \"white\", \"lakecolor\": \"white\", \"landcolor\": \"#E5ECF6\", \"showlakes\": true, \"showland\": true, \"subunitcolor\": \"white\"}, \"hoverlabel\": {\"align\": \"left\"}, \"hovermode\": \"closest\", \"mapbox\": {\"style\": \"light\"}, \"paper_bgcolor\": \"white\", \"plot_bgcolor\": \"#E5ECF6\", \"polar\": {\"angularaxis\": {\"gridcolor\": \"white\", \"linecolor\": \"white\", \"ticks\": \"\"}, \"bgcolor\": \"#E5ECF6\", \"radialaxis\": {\"gridcolor\": \"white\", \"linecolor\": \"white\", \"ticks\": \"\"}}, \"scene\": {\"xaxis\": {\"backgroundcolor\": \"#E5ECF6\", \"gridcolor\": \"white\", \"gridwidth\": 2, \"linecolor\": \"white\", \"showbackground\": true, \"ticks\": \"\", \"zerolinecolor\": \"white\"}, \"yaxis\": {\"backgroundcolor\": \"#E5ECF6\", \"gridcolor\": \"white\", \"gridwidth\": 2, \"linecolor\": \"white\", \"showbackground\": true, \"ticks\": \"\", \"zerolinecolor\": \"white\"}, \"zaxis\": {\"backgroundcolor\": \"#E5ECF6\", \"gridcolor\": \"white\", \"gridwidth\": 2, \"linecolor\": \"white\", \"showbackground\": true, \"ticks\": \"\", \"zerolinecolor\": \"white\"}}, \"shapedefaults\": {\"line\": {\"color\": \"#2a3f5f\"}}, \"ternary\": {\"aaxis\": {\"gridcolor\": \"white\", \"linecolor\": \"white\", \"ticks\": \"\"}, \"baxis\": {\"gridcolor\": \"white\", \"linecolor\": \"white\", \"ticks\": \"\"}, \"bgcolor\": \"#E5ECF6\", \"caxis\": {\"gridcolor\": \"white\", \"linecolor\": \"white\", \"ticks\": \"\"}}, \"title\": {\"x\": 0.05}, \"xaxis\": {\"automargin\": true, \"gridcolor\": \"white\", \"linecolor\": \"white\", \"ticks\": \"\", \"title\": {\"standoff\": 15}, \"zerolinecolor\": \"white\", \"zerolinewidth\": 2}, \"yaxis\": {\"automargin\": true, \"gridcolor\": \"white\", \"linecolor\": \"white\", \"ticks\": \"\", \"title\": {\"standoff\": 15}, \"zerolinecolor\": \"white\", \"zerolinewidth\": 2}}}, \"title\": {\"text\": \"Prevalence of each CPS difficulty by race, June 2019 to May 2020\"}, \"xaxis\": {\"anchor\": \"y\", \"domain\": [0.0, 1.0], \"ticksuffix\": \"%\", \"title\": {\"text\": \"Share among people who report any difficulty\"}}, \"yaxis\": {\"anchor\": \"x\", \"categoryarray\": [\"Hearing\", \"Vision\", \"Self-care\", \"Mobility\", \"Remembering\", \"Physical\"], \"categoryorder\": \"array\", \"domain\": [0.0, 1.0], \"title\": {\"text\": \"Difficulty\"}}},\n",
       "                        {\"responsive\": true}\n",
       "                    ).then(function(){\n",
       "                            \n",
       "var gd = document.getElementById('e7364d93-715b-4f22-9bba-5ea2885a8fa3');\n",
       "var x = new MutationObserver(function (mutations, observer) {{\n",
       "        var display = window.getComputedStyle(gd).display;\n",
       "        if (!display || display === 'none') {{\n",
       "            console.log([gd, 'removed!']);\n",
       "            Plotly.purge(gd);\n",
       "            observer.disconnect();\n",
       "        }}\n",
       "}});\n",
       "\n",
       "// Listen for the removal of the full notebook cells\n",
       "var notebookContainer = gd.closest('#notebook-container');\n",
       "if (notebookContainer) {{\n",
       "    x.observe(notebookContainer, {childList: true});\n",
       "}}\n",
       "\n",
       "// Listen for the clearing of the current output cell\n",
       "var outputEl = gd.closest('.output');\n",
       "if (outputEl) {{\n",
       "    x.observe(outputEl, {childList: true});\n",
       "}}\n",
       "\n",
       "                        })\n",
       "                };\n",
       "                });\n",
       "            </script>\n",
       "        </div>"
      ]
     },
     "metadata": {},
     "output_type": "display_data"
    }
   ],
   "source": [
    "# Order chart by prevalence among Black people.\n",
    "diff_order = diffs_black[diffs_black.black == 'Black'].sort_values(\n",
    "    'share').disability\n",
    "\n",
    "fig = px.bar(diffs_black, y='disability', x='share_round', color='black',\n",
    "             barmode='group', orientation='h',\n",
    "             color_discrete_map=COLOR_MAP)\n",
    "fig.update_layout(\n",
    "    title='Prevalence of each CPS difficulty by race, June 2019 to May 2020',\n",
    "    yaxis_title='Difficulty',\n",
    "    xaxis_title='Share among people who report any difficulty',\n",
    "    xaxis_ticksuffix='%',\n",
    "    legend_title_text='',\n",
    "    font=dict(family='Roboto'),\n",
    "    yaxis={'categoryorder': 'array',\n",
    "           'categoryarray': diff_order},\n",
    "    plot_bgcolor='white',\n",
    "    legend={'traceorder': 'reversed'}\n",
    ")\n",
    "fig.update_traces(hovertemplate=None)\n",
    "fig.show()"
   ]
  },
  {
   "cell_type": "code",
   "execution_count": 162,
   "metadata": {},
   "outputs": [
    {
     "data": {
      "text/plain": [
       "0         Hearing\n",
       "2          Vision\n",
       "10      Self-care\n",
       "8        Mobility\n",
       "4     Remembering\n",
       "6        Physical\n",
       "Name: disability, dtype: object"
      ]
     },
     "execution_count": 162,
     "metadata": {},
     "output_type": "execute_result"
    }
   ],
   "source": [
    "diff_order"
   ]
  },
  {
   "cell_type": "markdown",
   "metadata": {},
   "source": [
    "How do the effects of each disability compare between Black and non-Black people?"
   ]
  },
  {
   "cell_type": "code",
   "execution_count": 163,
   "metadata": {},
   "outputs": [
    {
     "data": {
      "text/html": [
       "<div>\n",
       "<style scoped>\n",
       "    .dataframe tbody tr th:only-of-type {\n",
       "        vertical-align: middle;\n",
       "    }\n",
       "\n",
       "    .dataframe tbody tr th {\n",
       "        vertical-align: top;\n",
       "    }\n",
       "\n",
       "    .dataframe thead th {\n",
       "        text-align: right;\n",
       "    }\n",
       "</style>\n",
       "<table border=\"1\" class=\"dataframe\">\n",
       "  <thead>\n",
       "    <tr style=\"text-align: right;\">\n",
       "      <th></th>\n",
       "      <th>year</th>\n",
       "      <th>month</th>\n",
       "      <th>w</th>\n",
       "      <th>age</th>\n",
       "      <th>sex</th>\n",
       "      <th>race</th>\n",
       "      <th>empstat</th>\n",
       "      <th>diffhear</th>\n",
       "      <th>diffeye</th>\n",
       "      <th>diffrem</th>\n",
       "      <th>...</th>\n",
       "      <th>month1</th>\n",
       "      <th>month2</th>\n",
       "      <th>month3</th>\n",
       "      <th>month4</th>\n",
       "      <th>month5</th>\n",
       "      <th>age2</th>\n",
       "      <th>const</th>\n",
       "      <th>num_diffs</th>\n",
       "      <th>w_m</th>\n",
       "      <th>num_diffs_m</th>\n",
       "    </tr>\n",
       "  </thead>\n",
       "  <tbody>\n",
       "    <tr>\n",
       "      <th>3606573</th>\n",
       "      <td>2019</td>\n",
       "      <td>6</td>\n",
       "      <td>2356.8863</td>\n",
       "      <td>25</td>\n",
       "      <td>1</td>\n",
       "      <td>100</td>\n",
       "      <td>10</td>\n",
       "      <td>0.0</td>\n",
       "      <td>0.0</td>\n",
       "      <td>0.0</td>\n",
       "      <td>...</td>\n",
       "      <td>0</td>\n",
       "      <td>0</td>\n",
       "      <td>0</td>\n",
       "      <td>0</td>\n",
       "      <td>0</td>\n",
       "      <td>625</td>\n",
       "      <td>1</td>\n",
       "      <td>0.0</td>\n",
       "      <td>0.002357</td>\n",
       "      <td>0.000000</td>\n",
       "    </tr>\n",
       "    <tr>\n",
       "      <th>3606574</th>\n",
       "      <td>2019</td>\n",
       "      <td>6</td>\n",
       "      <td>1815.7853</td>\n",
       "      <td>51</td>\n",
       "      <td>2</td>\n",
       "      <td>100</td>\n",
       "      <td>10</td>\n",
       "      <td>0.0</td>\n",
       "      <td>0.0</td>\n",
       "      <td>0.0</td>\n",
       "      <td>...</td>\n",
       "      <td>0</td>\n",
       "      <td>0</td>\n",
       "      <td>0</td>\n",
       "      <td>0</td>\n",
       "      <td>0</td>\n",
       "      <td>2601</td>\n",
       "      <td>1</td>\n",
       "      <td>0.0</td>\n",
       "      <td>0.001816</td>\n",
       "      <td>0.000000</td>\n",
       "    </tr>\n",
       "    <tr>\n",
       "      <th>3606575</th>\n",
       "      <td>2019</td>\n",
       "      <td>6</td>\n",
       "      <td>1823.4531</td>\n",
       "      <td>51</td>\n",
       "      <td>1</td>\n",
       "      <td>100</td>\n",
       "      <td>10</td>\n",
       "      <td>0.0</td>\n",
       "      <td>0.0</td>\n",
       "      <td>0.0</td>\n",
       "      <td>...</td>\n",
       "      <td>0</td>\n",
       "      <td>0</td>\n",
       "      <td>0</td>\n",
       "      <td>0</td>\n",
       "      <td>0</td>\n",
       "      <td>2601</td>\n",
       "      <td>1</td>\n",
       "      <td>0.0</td>\n",
       "      <td>0.001823</td>\n",
       "      <td>0.000000</td>\n",
       "    </tr>\n",
       "    <tr>\n",
       "      <th>3606578</th>\n",
       "      <td>2019</td>\n",
       "      <td>6</td>\n",
       "      <td>2439.2458</td>\n",
       "      <td>49</td>\n",
       "      <td>1</td>\n",
       "      <td>200</td>\n",
       "      <td>10</td>\n",
       "      <td>0.0</td>\n",
       "      <td>0.0</td>\n",
       "      <td>0.0</td>\n",
       "      <td>...</td>\n",
       "      <td>0</td>\n",
       "      <td>0</td>\n",
       "      <td>0</td>\n",
       "      <td>0</td>\n",
       "      <td>0</td>\n",
       "      <td>2401</td>\n",
       "      <td>1</td>\n",
       "      <td>0.0</td>\n",
       "      <td>0.002439</td>\n",
       "      <td>0.000000</td>\n",
       "    </tr>\n",
       "    <tr>\n",
       "      <th>3606585</th>\n",
       "      <td>2019</td>\n",
       "      <td>6</td>\n",
       "      <td>2342.9010</td>\n",
       "      <td>31</td>\n",
       "      <td>1</td>\n",
       "      <td>200</td>\n",
       "      <td>21</td>\n",
       "      <td>0.0</td>\n",
       "      <td>0.0</td>\n",
       "      <td>0.0</td>\n",
       "      <td>...</td>\n",
       "      <td>0</td>\n",
       "      <td>0</td>\n",
       "      <td>0</td>\n",
       "      <td>0</td>\n",
       "      <td>0</td>\n",
       "      <td>961</td>\n",
       "      <td>1</td>\n",
       "      <td>0.0</td>\n",
       "      <td>0.002343</td>\n",
       "      <td>0.000000</td>\n",
       "    </tr>\n",
       "    <tr>\n",
       "      <th>...</th>\n",
       "      <td>...</td>\n",
       "      <td>...</td>\n",
       "      <td>...</td>\n",
       "      <td>...</td>\n",
       "      <td>...</td>\n",
       "      <td>...</td>\n",
       "      <td>...</td>\n",
       "      <td>...</td>\n",
       "      <td>...</td>\n",
       "      <td>...</td>\n",
       "      <td>...</td>\n",
       "      <td>...</td>\n",
       "      <td>...</td>\n",
       "      <td>...</td>\n",
       "      <td>...</td>\n",
       "      <td>...</td>\n",
       "      <td>...</td>\n",
       "      <td>...</td>\n",
       "      <td>...</td>\n",
       "      <td>...</td>\n",
       "      <td>...</td>\n",
       "    </tr>\n",
       "    <tr>\n",
       "      <th>4973768</th>\n",
       "      <td>2020</td>\n",
       "      <td>5</td>\n",
       "      <td>348.9306</td>\n",
       "      <td>45</td>\n",
       "      <td>2</td>\n",
       "      <td>100</td>\n",
       "      <td>10</td>\n",
       "      <td>0.0</td>\n",
       "      <td>0.0</td>\n",
       "      <td>0.0</td>\n",
       "      <td>...</td>\n",
       "      <td>0</td>\n",
       "      <td>0</td>\n",
       "      <td>0</td>\n",
       "      <td>0</td>\n",
       "      <td>1</td>\n",
       "      <td>2025</td>\n",
       "      <td>1</td>\n",
       "      <td>0.0</td>\n",
       "      <td>0.000349</td>\n",
       "      <td>0.000000</td>\n",
       "    </tr>\n",
       "    <tr>\n",
       "      <th>4973772</th>\n",
       "      <td>2020</td>\n",
       "      <td>5</td>\n",
       "      <td>433.3859</td>\n",
       "      <td>41</td>\n",
       "      <td>1</td>\n",
       "      <td>100</td>\n",
       "      <td>10</td>\n",
       "      <td>0.0</td>\n",
       "      <td>0.0</td>\n",
       "      <td>0.0</td>\n",
       "      <td>...</td>\n",
       "      <td>0</td>\n",
       "      <td>0</td>\n",
       "      <td>0</td>\n",
       "      <td>0</td>\n",
       "      <td>1</td>\n",
       "      <td>1681</td>\n",
       "      <td>1</td>\n",
       "      <td>0.0</td>\n",
       "      <td>0.000433</td>\n",
       "      <td>0.000000</td>\n",
       "    </tr>\n",
       "    <tr>\n",
       "      <th>4973773</th>\n",
       "      <td>2020</td>\n",
       "      <td>5</td>\n",
       "      <td>400.0569</td>\n",
       "      <td>40</td>\n",
       "      <td>2</td>\n",
       "      <td>100</td>\n",
       "      <td>10</td>\n",
       "      <td>0.0</td>\n",
       "      <td>0.0</td>\n",
       "      <td>0.0</td>\n",
       "      <td>...</td>\n",
       "      <td>0</td>\n",
       "      <td>0</td>\n",
       "      <td>0</td>\n",
       "      <td>0</td>\n",
       "      <td>1</td>\n",
       "      <td>1600</td>\n",
       "      <td>1</td>\n",
       "      <td>0.0</td>\n",
       "      <td>0.000400</td>\n",
       "      <td>0.000000</td>\n",
       "    </tr>\n",
       "    <tr>\n",
       "      <th>4973780</th>\n",
       "      <td>2020</td>\n",
       "      <td>5</td>\n",
       "      <td>454.0825</td>\n",
       "      <td>41</td>\n",
       "      <td>2</td>\n",
       "      <td>100</td>\n",
       "      <td>10</td>\n",
       "      <td>0.0</td>\n",
       "      <td>0.0</td>\n",
       "      <td>0.0</td>\n",
       "      <td>...</td>\n",
       "      <td>0</td>\n",
       "      <td>0</td>\n",
       "      <td>0</td>\n",
       "      <td>0</td>\n",
       "      <td>1</td>\n",
       "      <td>1681</td>\n",
       "      <td>1</td>\n",
       "      <td>0.0</td>\n",
       "      <td>0.000454</td>\n",
       "      <td>0.000000</td>\n",
       "    </tr>\n",
       "    <tr>\n",
       "      <th>4973783</th>\n",
       "      <td>2020</td>\n",
       "      <td>5</td>\n",
       "      <td>355.4878</td>\n",
       "      <td>40</td>\n",
       "      <td>1</td>\n",
       "      <td>100</td>\n",
       "      <td>10</td>\n",
       "      <td>0.0</td>\n",
       "      <td>0.0</td>\n",
       "      <td>0.0</td>\n",
       "      <td>...</td>\n",
       "      <td>0</td>\n",
       "      <td>0</td>\n",
       "      <td>0</td>\n",
       "      <td>0</td>\n",
       "      <td>1</td>\n",
       "      <td>1600</td>\n",
       "      <td>1</td>\n",
       "      <td>1.0</td>\n",
       "      <td>0.000355</td>\n",
       "      <td>0.000355</td>\n",
       "    </tr>\n",
       "  </tbody>\n",
       "</table>\n",
       "<p>509585 rows × 41 columns</p>\n",
       "</div>"
      ],
      "text/plain": [
       "         year  month          w  age  sex  race  empstat  diffhear  diffeye  \\\n",
       "3606573  2019      6  2356.8863   25    1   100       10       0.0      0.0   \n",
       "3606574  2019      6  1815.7853   51    2   100       10       0.0      0.0   \n",
       "3606575  2019      6  1823.4531   51    1   100       10       0.0      0.0   \n",
       "3606578  2019      6  2439.2458   49    1   200       10       0.0      0.0   \n",
       "3606585  2019      6  2342.9010   31    1   200       21       0.0      0.0   \n",
       "...       ...    ...        ...  ...  ...   ...      ...       ...      ...   \n",
       "4973768  2020      5   348.9306   45    2   100       10       0.0      0.0   \n",
       "4973772  2020      5   433.3859   41    1   100       10       0.0      0.0   \n",
       "4973773  2020      5   400.0569   40    2   100       10       0.0      0.0   \n",
       "4973780  2020      5   454.0825   41    2   100       10       0.0      0.0   \n",
       "4973783  2020      5   355.4878   40    1   100       10       0.0      0.0   \n",
       "\n",
       "         diffrem  ...  month1  month2  month3  month4  month5  age2  const  \\\n",
       "3606573      0.0  ...       0       0       0       0       0   625      1   \n",
       "3606574      0.0  ...       0       0       0       0       0  2601      1   \n",
       "3606575      0.0  ...       0       0       0       0       0  2601      1   \n",
       "3606578      0.0  ...       0       0       0       0       0  2401      1   \n",
       "3606585      0.0  ...       0       0       0       0       0   961      1   \n",
       "...          ...  ...     ...     ...     ...     ...     ...   ...    ...   \n",
       "4973768      0.0  ...       0       0       0       0       1  2025      1   \n",
       "4973772      0.0  ...       0       0       0       0       1  1681      1   \n",
       "4973773      0.0  ...       0       0       0       0       1  1600      1   \n",
       "4973780      0.0  ...       0       0       0       0       1  1681      1   \n",
       "4973783      0.0  ...       0       0       0       0       1  1600      1   \n",
       "\n",
       "         num_diffs       w_m  num_diffs_m  \n",
       "3606573        0.0  0.002357     0.000000  \n",
       "3606574        0.0  0.001816     0.000000  \n",
       "3606575        0.0  0.001823     0.000000  \n",
       "3606578        0.0  0.002439     0.000000  \n",
       "3606585        0.0  0.002343     0.000000  \n",
       "...            ...       ...          ...  \n",
       "4973768        0.0  0.000349     0.000000  \n",
       "4973772        0.0  0.000433     0.000000  \n",
       "4973773        0.0  0.000400     0.000000  \n",
       "4973780        0.0  0.000454     0.000000  \n",
       "4973783        1.0  0.000355     0.000355  \n",
       "\n",
       "[509585 rows x 41 columns]"
      ]
     },
     "execution_count": 163,
     "metadata": {},
     "output_type": "execute_result"
    }
   ],
   "source": [
    "cps_ly"
   ]
  },
  {
   "cell_type": "code",
   "execution_count": 164,
   "metadata": {},
   "outputs": [
    {
     "data": {
      "text/html": [
       "<table style=\"text-align:center\"><tr><td colspan=\"3\" style=\"border-bottom: 1px solid black\"></td></tr><tr><td style=\"text-align:left\"></td><td colspan=\"2\"><em>Dependent variable:emp</em></td></tr><tr><td style=\"text-align:left\"></td><tr><td style=\"text-align:left\"></td><td>(1)</td><td>(2)</td></tr><tr><td colspan=\"3\" style=\"border-bottom: 1px solid black\"></td></tr><tr><td style=\"text-align:left\">Black</td><td>-0.033<sup>***</sup></td><td>-0.032<sup>***</sup></td></tr><tr><td style=\"text-align:left\"></td><td>(0.002)</td><td>(0.002)</td></tr><tr><td style=\"text-align:left\">Hearing difficulty</td><td>-0.024<sup>***</sup></td><td>-0.019<sup>***</sup></td></tr><tr><td style=\"text-align:left\"></td><td>(0.007)</td><td>(0.007)</td></tr><tr><td style=\"text-align:left\">Hearing difficulty * Black</td><td></td><td>-0.062<sup>*</sup></td></tr><tr><td style=\"text-align:left\"></td><td></td><td>(0.032)</td></tr><tr><td style=\"text-align:left\">Vision difficulty</td><td>-0.068<sup>***</sup></td><td>-0.073<sup>***</sup></td></tr><tr><td style=\"text-align:left\"></td><td>(0.008)</td><td>(0.009)</td></tr><tr><td style=\"text-align:left\">Vision difficulty * Black</td><td></td><td>0.025<sup></sup></td></tr><tr><td style=\"text-align:left\"></td><td></td><td>(0.021)</td></tr><tr><td style=\"text-align:left\">Difficulty remembering</td><td>-0.261<sup>***</sup></td><td>-0.253<sup>***</sup></td></tr><tr><td style=\"text-align:left\"></td><td>(0.005)</td><td>(0.006)</td></tr><tr><td style=\"text-align:left\">Difficulty remembering * Black</td><td></td><td>-0.049<sup>***</sup></td></tr><tr><td style=\"text-align:left\"></td><td></td><td>(0.015)</td></tr><tr><td style=\"text-align:left\">Physical difficulty</td><td>-0.347<sup>***</sup></td><td>-0.354<sup>***</sup></td></tr><tr><td style=\"text-align:left\"></td><td>(0.006)</td><td>(0.006)</td></tr><tr><td style=\"text-align:left\">Physical difficulty * Black</td><td></td><td>0.040<sup>**</sup></td></tr><tr><td style=\"text-align:left\"></td><td></td><td>(0.016)</td></tr><tr><td style=\"text-align:left\">Mobility limitation</td><td>-0.304<sup>***</sup></td><td>-0.301<sup>***</sup></td></tr><tr><td style=\"text-align:left\"></td><td>(0.006)</td><td>(0.007)</td></tr><tr><td style=\"text-align:left\">Mobility limitation * Black</td><td></td><td>-0.014<sup></sup></td></tr><tr><td style=\"text-align:left\"></td><td></td><td>(0.017)</td></tr><tr><td style=\"text-align:left\">Personal care difficulty</td><td>-0.004<sup></sup></td><td>-0.006<sup></sup></td></tr><tr><td style=\"text-align:left\"></td><td>(0.009)</td><td>(0.010)</td></tr><tr><td style=\"text-align:left\">Personal care difficulty * Black</td><td></td><td>0.006<sup></sup></td></tr><tr><td style=\"text-align:left\"></td><td></td><td>(0.022)</td></tr><td colspan=\"3\" style=\"border-bottom: 1px solid black\"></td></tr><tr><td style=\"text-align: left\">Observations</td><td>509,585</td><td>509,585</td></tr><tr><td style=\"text-align: left\">R<sup>2</sup></td><td>0.106</td><td>0.107</td></tr><tr><td colspan=\"3\" style=\"border-bottom: 1px solid black\"></td></tr><tr><td style=\"text-align: left\">Note:</td>\n",
       " <td colspan=\"2\" style=\"text-align: right\">\n",
       "  <sup>*</sup>p&lt;0.1;\n",
       "  <sup>**</sup>p&lt;0.05;\n",
       "  <sup>***</sup>p&lt;0.01\n",
       " </td></tr></table>"
      ],
      "text/plain": [
       "<stargazer.stargazer.Stargazer at 0x7b08a905df50>"
      ]
     },
     "execution_count": 164,
     "metadata": {},
     "output_type": "execute_result"
    }
   ],
   "source": [
    "for i in DIFFS:\n",
    "    cps_ly[i + '_black'] = cps_ly[i] * cps_ly.black\n",
    "    \n",
    "m_diffs = emp_model(['black'] + MONTH_FES + CONTROLS + DIFFS)\n",
    "black_diffs = [i + '_black' for i in DIFFS]\n",
    "m_diffs_black = emp_model(['black'] + MONTH_FES + CONTROLS + DIFFS + \n",
    "                          black_diffs)\n",
    "\n",
    "starg([m_diffs, m_diffs_black],\n",
    "      ['black'] + list(mdf.flatten([[i] + [i + '_black'] for i in DIFFS])))"
   ]
  },
  {
   "cell_type": "code",
   "execution_count": 165,
   "metadata": {},
   "outputs": [
    {
     "data": {
      "text/plain": [
       "['diffhear',\n",
       " 'diffhear_black',\n",
       " 'diffeye',\n",
       " 'diffeye_black',\n",
       " 'diffrem',\n",
       " 'diffrem_black',\n",
       " 'diffphys',\n",
       " 'diffphys_black',\n",
       " 'diffmob',\n",
       " 'diffmob_black',\n",
       " 'diffcare',\n",
       " 'diffcare_black']"
      ]
     },
     "execution_count": 165,
     "metadata": {},
     "output_type": "execute_result"
    }
   ],
   "source": [
    "list(mdf.flatten([[i] + [i + '_black'] for i in DIFFS]))"
   ]
  },
  {
   "cell_type": "code",
   "execution_count": 166,
   "metadata": {
    "tags": [
     "hide-input"
    ]
   },
   "outputs": [
    {
     "ename": "KeyError",
     "evalue": "\"['const'] not in index\"",
     "output_type": "error",
     "traceback": [
      "\u001b[0;31m---------------------------------------------------------------------------\u001b[0m",
      "\u001b[0;31mKeyError\u001b[0m                                  Traceback (most recent call last)",
      "\u001b[0;32m<ipython-input-166-18c9f26b7ebf>\u001b[0m in \u001b[0;36m<module>\u001b[0;34m\u001b[0m\n\u001b[1;32m     12\u001b[0m m = sm.WLS(cps_latest.emp,\n\u001b[1;32m     13\u001b[0m            cps_latest[['is_black', 'has_disability',\n\u001b[0;32m---> 14\u001b[0;31m                        'is_black_has_disability', 'const']],\n\u001b[0m\u001b[1;32m     15\u001b[0m            cps_latest.w).fit(cov_type='HC1')\n\u001b[1;32m     16\u001b[0m \u001b[0;34m\u001b[0m\u001b[0m\n",
      "\u001b[0;32m~/anaconda3/lib/python3.7/site-packages/pandas/core/frame.py\u001b[0m in \u001b[0;36m__getitem__\u001b[0;34m(self, key)\u001b[0m\n\u001b[1;32m   2804\u001b[0m             \u001b[0;32mif\u001b[0m \u001b[0mis_iterator\u001b[0m\u001b[0;34m(\u001b[0m\u001b[0mkey\u001b[0m\u001b[0;34m)\u001b[0m\u001b[0;34m:\u001b[0m\u001b[0;34m\u001b[0m\u001b[0;34m\u001b[0m\u001b[0m\n\u001b[1;32m   2805\u001b[0m                 \u001b[0mkey\u001b[0m \u001b[0;34m=\u001b[0m \u001b[0mlist\u001b[0m\u001b[0;34m(\u001b[0m\u001b[0mkey\u001b[0m\u001b[0;34m)\u001b[0m\u001b[0;34m\u001b[0m\u001b[0;34m\u001b[0m\u001b[0m\n\u001b[0;32m-> 2806\u001b[0;31m             \u001b[0mindexer\u001b[0m \u001b[0;34m=\u001b[0m \u001b[0mself\u001b[0m\u001b[0;34m.\u001b[0m\u001b[0mloc\u001b[0m\u001b[0;34m.\u001b[0m\u001b[0m_get_listlike_indexer\u001b[0m\u001b[0;34m(\u001b[0m\u001b[0mkey\u001b[0m\u001b[0;34m,\u001b[0m \u001b[0maxis\u001b[0m\u001b[0;34m=\u001b[0m\u001b[0;36m1\u001b[0m\u001b[0;34m,\u001b[0m \u001b[0mraise_missing\u001b[0m\u001b[0;34m=\u001b[0m\u001b[0;32mTrue\u001b[0m\u001b[0;34m)\u001b[0m\u001b[0;34m[\u001b[0m\u001b[0;36m1\u001b[0m\u001b[0;34m]\u001b[0m\u001b[0;34m\u001b[0m\u001b[0;34m\u001b[0m\u001b[0m\n\u001b[0m\u001b[1;32m   2807\u001b[0m \u001b[0;34m\u001b[0m\u001b[0m\n\u001b[1;32m   2808\u001b[0m         \u001b[0;31m# take() does not accept boolean indexers\u001b[0m\u001b[0;34m\u001b[0m\u001b[0;34m\u001b[0m\u001b[0;34m\u001b[0m\u001b[0m\n",
      "\u001b[0;32m~/anaconda3/lib/python3.7/site-packages/pandas/core/indexing.py\u001b[0m in \u001b[0;36m_get_listlike_indexer\u001b[0;34m(self, key, axis, raise_missing)\u001b[0m\n\u001b[1;32m   1551\u001b[0m \u001b[0;34m\u001b[0m\u001b[0m\n\u001b[1;32m   1552\u001b[0m         self._validate_read_indexer(\n\u001b[0;32m-> 1553\u001b[0;31m             \u001b[0mkeyarr\u001b[0m\u001b[0;34m,\u001b[0m \u001b[0mindexer\u001b[0m\u001b[0;34m,\u001b[0m \u001b[0mo\u001b[0m\u001b[0;34m.\u001b[0m\u001b[0m_get_axis_number\u001b[0m\u001b[0;34m(\u001b[0m\u001b[0maxis\u001b[0m\u001b[0;34m)\u001b[0m\u001b[0;34m,\u001b[0m \u001b[0mraise_missing\u001b[0m\u001b[0;34m=\u001b[0m\u001b[0mraise_missing\u001b[0m\u001b[0;34m\u001b[0m\u001b[0;34m\u001b[0m\u001b[0m\n\u001b[0m\u001b[1;32m   1554\u001b[0m         )\n\u001b[1;32m   1555\u001b[0m         \u001b[0;32mreturn\u001b[0m \u001b[0mkeyarr\u001b[0m\u001b[0;34m,\u001b[0m \u001b[0mindexer\u001b[0m\u001b[0;34m\u001b[0m\u001b[0;34m\u001b[0m\u001b[0m\n",
      "\u001b[0;32m~/anaconda3/lib/python3.7/site-packages/pandas/core/indexing.py\u001b[0m in \u001b[0;36m_validate_read_indexer\u001b[0;34m(self, key, indexer, axis, raise_missing)\u001b[0m\n\u001b[1;32m   1644\u001b[0m             \u001b[0;32mif\u001b[0m \u001b[0;32mnot\u001b[0m \u001b[0;34m(\u001b[0m\u001b[0mself\u001b[0m\u001b[0;34m.\u001b[0m\u001b[0mname\u001b[0m \u001b[0;34m==\u001b[0m \u001b[0;34m\"loc\"\u001b[0m \u001b[0;32mand\u001b[0m \u001b[0;32mnot\u001b[0m \u001b[0mraise_missing\u001b[0m\u001b[0;34m)\u001b[0m\u001b[0;34m:\u001b[0m\u001b[0;34m\u001b[0m\u001b[0;34m\u001b[0m\u001b[0m\n\u001b[1;32m   1645\u001b[0m                 \u001b[0mnot_found\u001b[0m \u001b[0;34m=\u001b[0m \u001b[0mlist\u001b[0m\u001b[0;34m(\u001b[0m\u001b[0mset\u001b[0m\u001b[0;34m(\u001b[0m\u001b[0mkey\u001b[0m\u001b[0;34m)\u001b[0m \u001b[0;34m-\u001b[0m \u001b[0mset\u001b[0m\u001b[0;34m(\u001b[0m\u001b[0max\u001b[0m\u001b[0;34m)\u001b[0m\u001b[0;34m)\u001b[0m\u001b[0;34m\u001b[0m\u001b[0;34m\u001b[0m\u001b[0m\n\u001b[0;32m-> 1646\u001b[0;31m                 \u001b[0;32mraise\u001b[0m \u001b[0mKeyError\u001b[0m\u001b[0;34m(\u001b[0m\u001b[0;34mf\"{not_found} not in index\"\u001b[0m\u001b[0;34m)\u001b[0m\u001b[0;34m\u001b[0m\u001b[0;34m\u001b[0m\u001b[0m\n\u001b[0m\u001b[1;32m   1647\u001b[0m \u001b[0;34m\u001b[0m\u001b[0m\n\u001b[1;32m   1648\u001b[0m             \u001b[0;31m# we skip the warning on Categorical/Interval\u001b[0m\u001b[0;34m\u001b[0m\u001b[0;34m\u001b[0m\u001b[0;34m\u001b[0m\u001b[0m\n",
      "\u001b[0;31mKeyError\u001b[0m: \"['const'] not in index\""
     ]
    }
   ],
   "source": [
    "cps_latest = cps[cps.date == cps.date.max()].copy(deep=True)\n",
    "cps_latest.drop('date', axis=1, inplace=True)\n",
    "\n",
    "cps_latest['is_black'] = cps_latest.black == 'Black'\n",
    "cps_latest['has_disability'] = cps_latest.disability == 'Has disability'\n",
    "cps_latest['is_black_has_disability'] = (\n",
    "    cps_latest.is_black & cps_latest.has_disability)\n",
    "cps_latest.drop(['black', 'disability'], axis=1, inplace=True)\n",
    "\n",
    "cps_latest = sm.add_constant(cps_latest) * 1\n",
    "\n",
    "m = sm.WLS(cps_latest.emp,\n",
    "           cps_latest[['is_black', 'has_disability',\n",
    "                       'is_black_has_disability', 'const']],\n",
    "           cps_latest.w).fit(cov_type='HC1')\n",
    "\n",
    "star = sg.Stargazer([m])\n",
    "star.covariate_order(['is_black', 'has_disability', 'is_black_has_disability'])\n",
    "star.rename_covariates({'is_black': 'Black',\n",
    "                        'has_disability': 'Has disability',\n",
    "                        'is_black_has_disability': 'Black * Has disability'})\n",
    "star"
   ]
  },
  {
   "cell_type": "markdown",
   "metadata": {},
   "source": [
    "While people with disabilities represent a small part of the overall racial employment gap,\n",
    "they constitute a particularly acute element of it.\n",
    "As we rethink our approach to work in the age of coronavirus,\n",
    "we will have opportunities to close part of the enormous disability employment gap,\n",
    "which will in turn close part of the racial employment gap."
   ]
  }
 ],
 "metadata": {
  "kernelspec": {
   "display_name": "Python 3",
   "language": "python",
   "name": "python3"
  },
  "language_info": {
   "codemirror_mode": {
    "name": "ipython",
    "version": 3
   },
   "file_extension": ".py",
   "mimetype": "text/x-python",
   "name": "python",
   "nbconvert_exporter": "python",
   "pygments_lexer": "ipython3",
   "version": "3.7.7"
  }
 },
 "nbformat": 4,
 "nbformat_minor": 4
}

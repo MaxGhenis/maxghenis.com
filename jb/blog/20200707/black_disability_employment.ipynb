{
 "cells": [
  {
   "cell_type": "markdown",
   "metadata": {},
   "source": [
    "How disabilities affect Black employment\n",
    "==================================\n",
    "\n",
    "How does prime-age employment (the employment rate of civilians aged 25 to 54)\n",
    "vary with race and disability status? How does disability status vary by race?\n",
    "How do race and disability status compare in predicting employment? In this post, I use the monthly Current Population Survey from January 2018 to May 2020 to find out.\n",
    "\n",
    "I find that the disability employment gap is 45 percentage points, with and without controlling for factors like age.\n",
    "The racial employment gap (non-Black minus Black) is about 4 points, but since Black people are more likely\n",
    "to have a disability---specifically physical and mobility limitations that most severely reduce employment---this gap shrinks to 2.9 points when controlling for disabilities.\n",
    "While most individual disabilities do not have a differential impact on Blacks, having *any* disability reduces Black employment 3 points more than non-Black employment.\n",
    "\n",
    "## Background\n",
    "\n",
    "The prime-age employment rate (often abbreviated as *PAEPOP*, for Prime Age Employment POPulation ratio)\n",
    "is used as a consistent measure of employment trends by economists who\n",
    "want to avoid relying on whether survey respondents say they're still looking for work.\n",
    "The calculation is simply the share of civilians aged 25 to 54 that reported working in the survey week.\n",
    "\n",
    "[Federal Reserve Economic Data](http://fred.stlouisfed.org/) publishes some related trends,\n",
    "e.g. [PAEPOP by disability and gender](https://fred.stlouisfed.org/series/LNU02376960)\n",
    "and [black employment rate among the aged 16+ population](https://fred.stlouisfed.org/series/LNS12300006),\n",
    "but we need to limit by ages to avoid effects of college education and early retirement,\n",
    "both of which may reflect lower employment without worse labor market outcomes.\n",
    "For the right statistics, we need to go to the CPS microdata instead (I used [IPUMS](http://ipums.org) to extract it).\n",
    "\n",
    "For simplicity, I focus on two binary features identified in the CPS:\n",
    "being Black only (compared to all other races), and\n",
    "reporting [any physical or cognitive difficulty](https://cps.ipums.org/cps-action/variables/DIFFANY#description_section) (which I describe here as having a disability).\n",
    "\n",
    "## Employment trends\n",
    "\n",
    "The employment gap between people with and without disabilities has been roughly 45 percentage points since 2018."
   ]
  },
  {
   "cell_type": "code",
   "execution_count": null,
   "metadata": {
    "tags": [
     "hide-input"
    ]
   },
   "outputs": [],
   "source": [
    "### LOAD PACKAGES ###\n",
    "\n",
    "import pandas as pd\n",
    "import numpy as np\n",
    "import microdf as mdf\n",
    "import plotly.express as px\n",
    "import statsmodels.api as sm\n",
    "import stargazer.stargazer as sg\n",
    "\n",
    "\n",
    "### SETTINGS ###\n",
    "\n",
    "# Colors from https://material.io/design/color/the-color-system.html\n",
    "BLUE = '#1976D2'\n",
    "GRAY = '#BDBDBD'\n",
    "RED = '#C62828'\n",
    "PURPLE = '#6A1B9A'\n",
    "LIGHT_BLUE = '#64B5F6'\n",
    "PINK = '#EF9A9A'\n",
    "\n",
    "COLOR_MAP = {\n",
    "    'Black': BLUE,\n",
    "    'Not Black': GRAY,\n",
    "    'Has disability': RED,\n",
    "    'No disability': GRAY,\n",
    "    'Black, Has disability': PURPLE,\n",
    "    'Black, No disability': LIGHT_BLUE,\n",
    "    'Not Black, Has disability': PINK,\n",
    "    'Not Black, No disability': GRAY\n",
    "}\n",
    "\n",
    "\n",
    "### LOAD DATA ###\n",
    "\n",
    "# CPS data extracted from IPUMS.\n",
    "cps = pd.read_csv('cps.csv.gz')\n",
    "\n",
    "### PREPROCESS ###\n",
    "\n",
    "# cps = cps_raw.copy(deep=True)\n",
    "cps.columns = cps.columns.str.lower()\n",
    "cps.rename({'wtfinl': 'w'}, axis=1, inplace=True)\n",
    "cps['day'] = 12  # CPS asks about week including 12th of the month.\n",
    "cps['date'] = pd.to_datetime(cps[['year', 'month', 'day']])\n",
    "# May be unnecessary.\n",
    "cps = cps[cps.date > pd.to_datetime('2017-12-31')]\n",
    "# Create descriptive bools from codes.\n",
    "cps['female'] = np.where(cps.sex == 2, 1, 0)\n",
    "# Multiply by 100 for charts and easier regression interpretation.\n",
    "cps['emp'] = 100 * cps.empstat.isin([10, 12])\n",
    "cps['black'] = np.where(cps.race == 200, 'Black', 'Not Black')\n",
    "# Recode disability into True/False/None.\n",
    "DIFFS = ['diffhear', 'diffeye', 'diffrem', 'diffphys', 'diffmob', 'diffcare']\n",
    "for i in DIFFS + ['diffany']:\n",
    "    cps[i] = np.where(cps[i] == 0, np.nan, cps[i] == 2)\n",
    "    \n",
    "# Limit to prime-age civilians and relevant columns.\n",
    "cps = cps[(cps.empstat != 1)  # Not in armed forces.\n",
    "          & cps.age.between(25, 54)]\n",
    "assert cps.diffany.isna().sum() == 0\n",
    "cps['disability'] = np.where(cps.diffany == 1, 'Has disability',\n",
    "                             'No disability')\n",
    "\n",
    "# Add time fixed effects for regression.\n",
    "cps['month_fe'] = ('t' + cps.year.astype(str) +\n",
    "                   cps.month.astype(str).str.zfill(2))\n",
    "cps = pd.concat([cps, pd.get_dummies(cps.month_fe, drop_first=True)], axis=1)\n",
    "# Get list of month FEs for regressions later.\n",
    "month_fes = cps.month_fe.unique()[1:].tolist()\n",
    "# No longer need other time columns.\n",
    "cps.drop(['year', 'month', 'day', 'month_fe'], axis=1, inplace=True)\n",
    "# Dummy for Covid-19, which came into full effects in the April 2020 survey.\n",
    "cps['covid'] = np.where(cps.date > '2020-04-01', 1, 0)\n",
    "# Add other features for regression.\n",
    "cps['age2'] = np.power(cps.age, 2)\n",
    "cps['const'] = 1\n",
    "# Count difficulties.\n",
    "cps['num_diffs'] = cps[DIFFS].sum(axis=1)\n",
    "\n",
    "# Group-specific time trends, in days.\n",
    "def time_trend(condition):\n",
    "    return np.where(condition,\n",
    "                    (cps.date - pd.to_datetime('2000-01-01')).dt.days, 0)\n",
    "\n",
    "cps['date_black'] = time_trend(cps.black == 'Black')\n",
    "cps['date_disability'] = time_trend(cps.disability == 'Has disability')\n",
    "cps['date_black_disability'] = time_trend(\n",
    "    (cps.black == 'Black') & (cps.disability == 'Has disability'))\n",
    "\n",
    "### ANALYSIS ###\n",
    "\n",
    "# Create grouped dataframe.\n",
    "grouped = cps.groupby(['date', 'black', 'disability', 'emp'])[['w']].sum()\n",
    "grouped.reset_index(inplace=True)\n",
    "# Add conditional columns for creating rates.\n",
    "mdf.add_weighted_metrics(grouped, ['emp'], 'w')\n",
    "grouped['disability_m'] = np.where(grouped.disability == 'Has disability',\n",
    "                                   grouped.w_m, 0)\n",
    "\n",
    "def add_emp_rate(df):\n",
    "    df['emp'] = df.emp_m / df.w_m\n",
    "    df['emp_round'] = df.emp.round(1)\n",
    "    df.drop(['emp_m', 'w_m'], axis=1, inplace=True)\n",
    "    df.reset_index(inplace=True)\n",
    "    \n",
    "def add_disability_rate(df):\n",
    "    df['disability_rate'] = 100 * df.disability_m / df.w_m\n",
    "    df['disability_rate_round'] = df.disability_rate.round(1)\n",
    "    df.drop(['disability_m', 'w_m'], axis=1, inplace=True)\n",
    "    df.reset_index(inplace=True)\n",
    "    \n",
    "race_emp = grouped.groupby(['date', 'black'])[['emp_m', 'w_m']].sum()\n",
    "add_emp_rate(race_emp)\n",
    "\n",
    "disability_emp = grouped.groupby(['date', 'disability'])[\n",
    "    ['emp_m', 'w_m']].sum()\n",
    "add_emp_rate(disability_emp)\n",
    "\n",
    "race_disability = grouped.groupby(['date', 'black'])[\n",
    "    ['disability_m', 'w_m']].sum()\n",
    "add_disability_rate(race_disability)\n",
    "\n",
    "race_disability_emp = grouped.groupby(['date', 'black', 'disability'])[\n",
    "    ['emp_m', 'w_m']].sum()\n",
    "add_emp_rate(race_disability_emp)\n",
    "race_disability_emp['label'] = (race_disability_emp.black + ', ' +\n",
    "                                race_disability_emp.disability)\n",
    "\n",
    "### VISUALIZATION ###\n",
    "\n",
    "def line_graph(df, x, y, color, title, yaxis_title):\n",
    "    fig = px.line(df, x=x, y=y, color=color, color_discrete_map=COLOR_MAP)\n",
    "    fig.update_layout(\n",
    "        title=title,\n",
    "        xaxis_title='',\n",
    "        yaxis_title=yaxis_title,\n",
    "        yaxis_ticksuffix='%',\n",
    "        legend_title_text='',\n",
    "        font=dict(family='Roboto'),\n",
    "        hovermode='x',\n",
    "        plot_bgcolor='white'\n",
    "    )\n",
    "    fig.update_traces(mode='markers+lines', hovertemplate=None)\n",
    "\n",
    "    fig.show()\n",
    "\n",
    "\n",
    "# Plot by disability status.\n",
    "line_graph(disability_emp, x='date', y='emp_round', color='disability',\n",
    "           title='Prime-age employment rate by disability status',\n",
    "           yaxis_title='Employment rate of civilians aged 25 to 54')"
   ]
  },
  {
   "cell_type": "markdown",
   "metadata": {},
   "source": [
    "Black people are about 30 percent more likely to have a disability than non-Black people, with rates of about 7.5 percent compared to 5.7 percent, respectively. Small samples make this a noisy signal on a month-to-month basis: only 301 of the 36,000 prime-age civilian respondents in the April 2020 survey reported being Black and having a disability."
   ]
  },
  {
   "cell_type": "code",
   "execution_count": null,
   "metadata": {
    "tags": [
     "hide-input"
    ]
   },
   "outputs": [],
   "source": [
    "line_graph(race_disability, x='date', y='disability_rate_round', color='black',\n",
    "           title='Disability rate by race, civilians aged 25 to 54',\n",
    "           yaxis_title=\n",
    "           'Share of civilians aged 25 to 54 who report any difficulty')"
   ]
  },
  {
   "cell_type": "markdown",
   "metadata": {},
   "source": [
    "The higher disability rate among Black people contributes to the racial employment gap, which has been roughly stable at about 4.5 percentage points."
   ]
  },
  {
   "cell_type": "code",
   "execution_count": null,
   "metadata": {
    "tags": [
     "hide-input"
    ]
   },
   "outputs": [],
   "source": [
    "line_graph(df=race_emp, x='date', y='emp_round', color='black',\n",
    "           title='Prime-age employment rate by race',\n",
    "           yaxis_title='Employment rate of civilians aged 25 to 54')"
   ]
  },
  {
   "cell_type": "markdown",
   "metadata": {},
   "source": [
    "Breaking out the trends by both race and disability status reveals that\n",
    "the racial employment gap among people without disabilities has been steady around 3 percentage points since 2017, but\n",
    "has roughly doubled since coronavirus.\n",
    "The racial employment gap among people with disabilities has been noisy at around 10 points,\n",
    "and does not appear to have changed significantly as a result of coronavirus."
   ]
  },
  {
   "cell_type": "code",
   "execution_count": null,
   "metadata": {
    "tags": [
     "hide-input"
    ]
   },
   "outputs": [],
   "source": [
    "line_graph(race_disability_emp, x='date', y='emp_round', color='label',\n",
    "           title='Prime-age employment rate by race and disability status',\n",
    "           yaxis_title='Employment rate of civilians aged 25 to 54')"
   ]
  },
  {
   "cell_type": "markdown",
   "metadata": {},
   "source": [
    "Honing in on the latest month of data (May 2020) emphasizes the 50-percent-larger racial employment gap\n",
    "among people with disabilities.\n",
    "Put another way: among people without disabilities, Black people are 8 percent less likely to be\n",
    "employed than non-Black people, while they're 32 percent less likely to be employed among people *with* disabilities."
   ]
  },
  {
   "cell_type": "code",
   "execution_count": null,
   "metadata": {
    "tags": [
     "hide-input"
    ]
   },
   "outputs": [],
   "source": [
    "race_disability_emp_latest = race_disability_emp[\n",
    "    race_disability_emp.date == race_disability_emp.date.max()].copy(\n",
    "    deep=True)\n",
    "race_disability_emp_latest.sort_values('black', ascending=True, inplace=True)\n",
    "\n",
    "fig = px.bar(race_disability_emp_latest, x='disability', y='emp_round',\n",
    "             color='black', barmode='group',\n",
    "             color_discrete_map=COLOR_MAP)\n",
    "fig.update_layout(\n",
    "    title='Prime-age employment rate by race and disability status,' +\n",
    "    ' May 2020',\n",
    "    xaxis_title='',\n",
    "    yaxis_title='Employment rate of civilians aged 25 to 54',\n",
    "    yaxis_ticksuffix='%',\n",
    "    legend_title_text='',\n",
    "    plot_bgcolor='white',\n",
    "    font=dict(family='Roboto'),\n",
    "    xaxis={'categoryorder':'total descending'}\n",
    ")\n",
    "fig.update_traces(hovertemplate=None)\n",
    "fig.show()"
   ]
  },
  {
   "cell_type": "markdown",
   "metadata": {},
   "source": [
    "## Statistical analysis\n",
    "\n",
    "Regression analysis reveals the following:\n",
    "* The 45-percentage-point disability employment is robust to controls like age, sex, and time.\n",
    "* The 4.5-point racial employment gap shrinks to 4 points after controlling for age, sex, and time, and shrinks further to 2.9 points when controlling for disability status (including disability types).\n",
    "* Controlling for disability types, Black people have a 3-point larger effect of disability than non-Blacks."
   ]
  },
  {
   "cell_type": "code",
   "execution_count": null,
   "metadata": {
    "tags": [
     "hide-cell"
    ]
   },
   "outputs": [],
   "source": [
    "DIFFS_PLUS_NUM = DIFFS + ['num_diffs']\n",
    "\n",
    "DD_COLS = ['black_int', 'disability_int', 'black_disability']\n",
    "CONTROLS = ['age', 'age2', 'female']\n",
    "\n",
    "# Switch text columns to bools (and later ints).\n",
    "cps['black_int'] = np.where(cps.black == 'Black', 1, 0)\n",
    "cps['disability_int'] = np.where(cps.disability == 'Has disability', 1, 0)\n",
    "# Create interactions.\n",
    "cps['black_disability'] = cps.black_int * cps.disability_int\n",
    "cps['black_covid'] = cps.black_int * cps.covid\n",
    "cps['disability_covid'] = cps.disability_int * cps.covid\n",
    "cps['black_disability_covid'] = cps.black_disability * cps.covid\n",
    "# Make all signals ints for regression.\n",
    "# cps *= 1\n",
    "for i in DIFFS:\n",
    "    cps[i + '_black'] = cps[i] * cps.black_int\n",
    "\n",
    "\n",
    "def emp_model(xcols, data=cps):\n",
    "    return sm.WLS(data.emp,\n",
    "                  data[xcols + ['const']],\n",
    "                  data.w).fit(cov_type='HC1')\n",
    "\n",
    "\n",
    "# Run model without triple-diff first.\n",
    "m_disability = emp_model(['disability_int'])\n",
    "m_disability_controls = emp_model(['disability_int'] + month_fes + CONTROLS)\n",
    "m_black = emp_model(['black_int'])\n",
    "m_black_controls = emp_model(['black_int'] + month_fes + CONTROLS)\n",
    "m_black_disability = emp_model(['black_int', 'disability_int'] + month_fes +\n",
    "                               CONTROLS + DIFFS_PLUS_NUM)\n",
    "m_dd = emp_model(DD_COLS + month_fes + CONTROLS)\n",
    "m_dd_diffs = emp_model(DD_COLS + month_fes + CONTROLS + DIFFS_PLUS_NUM)\n",
    "\n",
    "COVARIATE_NAMES = {\n",
    "    'black_int': 'Black',\n",
    "    'disability_int': 'Has disability',\n",
    "    'black_disability': 'Black * Has disability',\n",
    "    # Name difficulties following IPUMS labels, except diffrem.\n",
    "    'diffhear': 'Hearing difficulty',\n",
    "    'diffeye': 'Vision difficulty',\n",
    "    'diffrem': 'Cognitive difficulty',\n",
    "    'diffphys': 'Physical difficulty', \n",
    "    'diffmob': 'Mobility limitation',\n",
    "    'diffcare': 'Personal care difficulty',\n",
    "    'diffhear_black': 'Hearing difficulty * Black',\n",
    "    'diffeye_black': 'Vision difficulty * Black',\n",
    "    'diffrem_black': 'Cognitive difficulty * Black',\n",
    "    'diffphys_black': 'Physical difficulty * Black', \n",
    "    'diffmob_black': 'Mobility limitation * Black',\n",
    "    'diffcare_black': 'Personal care difficulty * Black',\n",
    "    'num_diffs': 'Number of difficulties reported'\n",
    "}\n",
    "\n",
    "def starg(models, covariate_order=None):\n",
    "    \"\"\" Creates formatted Stargazer object.\n",
    "    \"\"\"\n",
    "    star = sg.Stargazer(models)\n",
    "    if covariate_order is not None:\n",
    "        star.covariate_order(covariate_order)\n",
    "    star.rename_covariates(COVARIATE_NAMES)\n",
    "    star.show_adj_r2 = False\n",
    "    star.show_residual_std_err = False\n",
    "    star.show_f_statistic = False\n",
    "    return star\n",
    "\n",
    "\n",
    "star = starg([m_disability, m_disability_controls,\n",
    "              m_black, m_black_controls, m_black_disability,\n",
    "              m_dd, m_dd_diffs],\n",
    "              ['disability_int', 'black_int', 'black_disability'])\n",
    "star.add_line('Controls', ['No', 'Yes', 'No', 'Yes', 'Yes', 'Yes', 'Yes'])\n",
    "star.add_line('Individual difficulties',\n",
    "              ['No', 'No', 'No', 'No', 'Yes', 'No', 'Yes'])\n",
    "star.add_custom_notes(['Controls include year-month fixed effects, '\n",
    "                       'sex, age and age-squared'])\n",
    "star.title('Disability, race, and prime-age employment, Jan 2018 to May 2020')"
   ]
  },
  {
   "cell_type": "code",
   "execution_count": null,
   "metadata": {
    "tags": [
     "hide-input"
    ]
   },
   "outputs": [],
   "source": [
    "star"
   ]
  },
  {
   "cell_type": "code",
   "execution_count": null,
   "metadata": {
    "tags": [
     "hide-cell"
    ]
   },
   "outputs": [],
   "source": [
    "mdf.add_weighted_metrics(cps, 'num_diffs', 'w')\n",
    "# Needs to be weighted.\n",
    "num_diffs = cps[cps.disability_int == 1].groupby('black')[\n",
    "    ['num_diffs_m', 'w_m']].sum()\n",
    "num_diffs['num_diffs'] = num_diffs.num_diffs_m / num_diffs.w_m\n",
    "num_diffs.num_diffs.round(2)"
   ]
  },
  {
   "cell_type": "markdown",
   "metadata": {},
   "source": [
    "Black people are especially likely to report [physical](https://cps.ipums.org/cps-action/variables/DIFFPHYS#description_section) (\"serious difficulty walking or climbing stairs\") and [mobility](https://cps.ipums.org/cps-action/variables/DIFFMOB#description_section) (persistent inability \"to perform basic activities outside the home alone\") difficulties, which are two of the three most commonly reported difficulties."
   ]
  },
  {
   "cell_type": "code",
   "execution_count": null,
   "metadata": {
    "tags": [
     "hide-input"
    ]
   },
   "outputs": [],
   "source": [
    "def share_w_disability(disability, black):\n",
    "    num = cps[(cps.black == black) & (cps[disability] == 1)].w.sum()\n",
    "    denom = cps[(cps.black == black) &\n",
    "                (cps.disability == 'Has disability')].w.sum()\n",
    "    return num / denom\n",
    "\n",
    "diffs_black = mdf.cartesian_product({'disability': DIFFS,\n",
    "                                     'black': ['Black', 'Not Black']})\n",
    "diffs_black['share'] = diffs_black.apply(\n",
    "    lambda row: share_w_disability(row.disability, row.black), axis=1)\n",
    "diffs_black.share *= 100\n",
    "diffs_black['share_round'] = diffs_black.share.round(1)\n",
    "diffs_black.replace(DIFFS,\n",
    "                    ['Hearing', 'Vision', 'Cognitive', 'Physical',\n",
    "                     'Mobility', 'Self-care'],\n",
    "                    inplace=True)\n",
    "# Sort by black for within-group ordering.\n",
    "diffs_black.sort_values('black', ascending=False, inplace=True)\n",
    "# Order chart by prevalence among Black people.\n",
    "# TODO: Separate regressions for each difficulty, plotting black coefficient.\n",
    "diff_order = diffs_black[diffs_black.black == 'Black'].sort_values(\n",
    "    'share').disability\n",
    "\n",
    "fig = px.bar(diffs_black, y='disability', x='share_round', color='black',\n",
    "             barmode='group', orientation='h',\n",
    "             color_discrete_map=COLOR_MAP)\n",
    "fig.update_layout(\n",
    "    title='Prevalence of each difficulty by race',\n",
    "    yaxis_title='Difficulty',\n",
    "    xaxis_title='Share among people who report any difficulty',\n",
    "    xaxis_ticksuffix='%',\n",
    "    legend_title_text='',\n",
    "    font=dict(family='Roboto'),\n",
    "    yaxis={'categoryorder': 'array',\n",
    "           'categoryarray': diff_order},\n",
    "    plot_bgcolor='white',\n",
    "    legend={'traceorder': 'reversed'}\n",
    ")\n",
    "fig.update_traces(hovertemplate=None)\n",
    "fig.show()"
   ]
  },
  {
   "cell_type": "markdown",
   "metadata": {},
   "source": [
    "Focusing on the disabilities themselves shows that physical and mobility difficulties\n",
    "have the strongest effects on employment, reducing it by 34 and 30 points, respectively.\n",
    "While Black people report these disabilities at higher rates, even among people who report any disability,\n",
    "the effect of these disabilities is not significantly stronger or weaker than it is on non-Blacks."
   ]
  },
  {
   "cell_type": "code",
   "execution_count": null,
   "metadata": {
    "tags": [
     "hide-input"
    ]
   },
   "outputs": [],
   "source": [
    "m_diffs = emp_model(['black_int'] + month_fes + CONTROLS + DIFFS)\n",
    "black_diffs = [i + '_black' for i in DIFFS]\n",
    "m_diffs_black = emp_model(['black_int'] + month_fes + CONTROLS + DIFFS + \n",
    "                          black_diffs)\n",
    "\n",
    "star = starg([m_diffs, m_diffs_black],\n",
    "             ['black_int'] +\n",
    "             list(mdf.flatten([[i] + [i + '_black'] for i in DIFFS])))\n",
    "star.title('Employment by race and specific disability')\n",
    "star.add_custom_notes(['All models controls for year-month fixed effects, '\n",
    "                       'sex, age and age-squared'])\n",
    "star"
   ]
  },
  {
   "cell_type": "markdown",
   "metadata": {},
   "source": [
    "While people with disabilities represent a small part of the overall racial employment gap,\n",
    "they constitute a particularly acute element of it.\n",
    "As we rethink our approach to work in the age of coronavirus,\n",
    "we will have opportunities to close part of the enormous disability employment gap,\n",
    "which will in turn close part of the racial employment gap."
   ]
  }
 ],
 "metadata": {
  "jupytext": {
   "formats": "md,ipynb",
   "text_representation": {
    "extension": ".md",
    "format_name": "myst",
    "format_version": "0.8",
    "jupytext_version": "1.5.0"
   }
  },
  "kernelspec": {
   "display_name": "Python 3",
   "language": "python",
   "name": "python3"
  },
  "language_info": {
   "codemirror_mode": {
    "name": "ipython",
    "version": 3
   },
   "file_extension": ".py",
   "mimetype": "text/x-python",
   "name": "python",
   "nbconvert_exporter": "python",
   "pygments_lexer": "ipython3",
   "version": "3.7.7"
  }
 },
 "nbformat": 4,
 "nbformat_minor": 4
}
